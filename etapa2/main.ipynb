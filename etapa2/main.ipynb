{
 "cells": [
  {
   "cell_type": "markdown",
   "metadata": {},
   "source": [
    "# Etapa 1 - Projeto Desenvolvedor 🚀"
   ]
  },
  {
   "cell_type": "markdown",
   "metadata": {},
   "source": [
    "### Introdução\n",
    "**Integrantes do projeto**: Aline Santos, Luana Tavares, Gustavo Luca e Marcus Eduardo Resende. \n",
    "\n",
    "O objetivo deste trabalho é proporcionar aos participantes a vivência de diversos desafios enfrentados por cientistas de dados em sua atuação profissional.Para isso, estão disponíveis dois conjuntos de dados: **dados de criminalidade do estado de São Paulo (SPSafe) e dados demográficos dos municípios brasileiros (BrStats)**.\n",
    "\n",
    "Cada conjunto de dados é acompanhado por um artigo que descreve detalhadamente o processo de geração e organização das informações. A leitura atenta desses artigos é essencial para o bom desenvolvimento do projeto e deve ser realizada por todos os membros do grupo. \n",
    "\n",
    "A escolha do conjunto de dados a ser utilizado está  vinculada à turma prática no qual o grupo está matriculado. Como pertecemos à **turma prática P1**, utilizaremos o conjunto de dados **BrStats**.\n",
    "\n",
    "O artigo de referência para esse conjunto de dados pode ser acessado por meio do seguinte link: https://sol.sbc.org.br/index.php/dsw/article/view/25506"
   ]
  },
  {
   "cell_type": "markdown",
   "metadata": {},
   "source": [
    "### Descrição Etapa 1\n",
    "Nesta etapa, o grupo irá fazer uma primeira análise dos dados, para identificar os atributos existentes, e elaborar uma lista com pelo menos 10 perguntas que pretende responder com o trabalho. Também devem ser feitos tratamentos dos dados em termos de formatação, enriquecimento com novos atributos externos, tratamento de ausências, dentre outros. Essa etapa envolve entender os atributos e objetos dos dados, o tipo e o domínio de cada atributo, verificar e identificar possíveis ruídos ou informações ausentes, criar novos atributos se necessário, formatar valores, juntar conjuntos de dados, dentre outras atividades."
   ]
  },
  {
   "cell_type": "markdown",
   "metadata": {},
   "source": [
    "### Divisão de Tarefas\n",
    "O trabalho foi dividido entre os quatro integrantes do grupo, com as seguintes responsabilidades:   \n",
    "- Retirada de 7 colunas da tabela: **Aline e Marcus** foram responsáveis por essa tarefa.   \n",
    "- Conversão de moedas: **Luana e Aline** ficou encarregada dessa etapa.   \n",
    "- Conversão de unidades nas colunas: **Gustavo** foi o responsável por realizar as conversões de unidades.   \n",
    "- Retirada das linhas da tabela: **Marcus** do grupo contribuíram com ideias e conhecimentos para essa parte do trabalho.   \n",
    "- As perguntas de pesquisa foram decididas e discutidas em uma reunião pelo Google Meet, onde todos os integrantes participaram ativamente. O tratamento dos dados também foi    discutido e definido durante essa reunião.O relatório de participação da reunião no Google Meet pode ser acessado através deste link:   \n",
    " https://docs.google.com/spreadsheets/d/1nYTdsyvY9Kk3X73YN4Af45I4sEfED_4RbvQ6LWWLkZQ/edit?usp=sharing   \n",
    "- Todos os integrantes leram os artigos relacionados ao projeto e analisaram os dados disponíveis para garantir uma abordagem comum e fundamentada. A comunicação entre os  integrantes foi realizada por meio de um grupo criado no WhatsApp, onde discutimos o andamento das tarefas e tiramos dúvidas em tempo real.\n",
    "-As aulas em laboratório foram fundamentais para o andamento da primeira etapa do projeto. Os integrantes puderam compartilhar ideias, conhecimentos e opiniões para melhor análise dos dados do DataSet. \n",
    "A documentação em Markdown foi realizada à medida que os integrantes completavam suas respectivas tarefas. Para os itens que não faziam parte da tarefa de um integrante específico, a **Aline** ficou responsável pela elaboração.\n",
    "\n",
    "* Em relação ao GitHub, optamos por organizar o repositório em duas branches:   \n",
    "dev: utilizada para armazenar versões intermediárias, ainda em desenvolvimento, das etapas.   \n",
    "main: destinada a armazenar as versões finais de cada etapa, sendo a versão atual a da Etapa 1.  \n"
   ]
  },
  {
   "cell_type": "markdown",
   "metadata": {},
   "source": [
    "### 🛠️ Preparação do Ambiente\n",
    "Nesta seção, serão apresentados os comandos necessários para preparar o ambiente de análise. Isso inclui a importação das bibliotecas utilizadas, o carregamento do conjunto de dados e sua visualização inicial.\n"
   ]
  },
  {
   "cell_type": "markdown",
   "metadata": {},
   "source": [
    "#### 📚 Bibliotecas Necessárias"
   ]
  },
  {
   "cell_type": "code",
   "execution_count": 1,
   "metadata": {},
   "outputs": [],
   "source": [
    "import pandas as pd\n",
    "import numpy as np\n",
    "import os"
   ]
  },
  {
   "cell_type": "markdown",
   "metadata": {},
   "source": [
    "#### 📥 Importação dos Dados\n",
    "Utilizamos o seguinte comando para carregar a tabela de dados localizada no mesmo diretório do projeto.O parâmetro sep=\";\" é utilizado para informar que os dados no arquivo estão separados por ponto e vírgula (;).Dessa forma, o pandas consegue interpretar corretamente as colunas e montar a tabela (DataFrame) com os dados organizados."
   ]
  },
  {
   "cell_type": "code",
   "execution_count": 2,
   "metadata": {},
   "outputs": [
    {
     "name": "stderr",
     "output_type": "stream",
     "text": [
      "C:\\Users\\aline\\AppData\\Local\\Temp\\ipykernel_13720\\3974038098.py:3: DtypeWarning: Columns (2,3,4,5,13,14,15) have mixed types. Specify dtype option on import or set low_memory=False.\n",
      "  df = pd.read_csv(\"dataFrame/BrStats.csv\", sep = \";\")\n"
     ]
    }
   ],
   "source": [
    "# Cria a pasta \"Pibs\" se ela ainda não existir\n",
    "os.makedirs('dataFrame', exist_ok=True)\n",
    "df = pd.read_csv(\"dataFrame/BrStats.csv\", sep = \";\")"
   ]
  },
  {
   "cell_type": "markdown",
   "metadata": {},
   "source": [
    "#### 👀 Visualização Inicial dos Dados\n",
    "Para confirmar que a base de dados foi importada corretamente, exibimos as 5 primeiras linhas utilizando o comando df.head(), que permite uma visualização rápida e concisa do conteúdo. Caso seja necessário consultar o dataframe completo, ele está disponível na pasta do projeto com o nome \"BrStats.csv\"."
   ]
  },
  {
   "cell_type": "code",
   "execution_count": 12,
   "metadata": {},
   "outputs": [
    {
     "data": {
      "text/html": [
       "<div>\n",
       "<style scoped>\n",
       "    .dataframe tbody tr th:only-of-type {\n",
       "        vertical-align: middle;\n",
       "    }\n",
       "\n",
       "    .dataframe tbody tr th {\n",
       "        vertical-align: top;\n",
       "    }\n",
       "\n",
       "    .dataframe thead th {\n",
       "        text-align: right;\n",
       "    }\n",
       "</style>\n",
       "<table border=\"1\" class=\"dataframe\">\n",
       "  <thead>\n",
       "    <tr style=\"text-align: right;\">\n",
       "      <th></th>\n",
       "      <th>Ano</th>\n",
       "      <th>Populacao</th>\n",
       "      <th>PessoalOcupado</th>\n",
       "      <th>PessoalAssalariado</th>\n",
       "      <th>PIB</th>\n",
       "      <th>QtEmpresas</th>\n",
       "      <th>AreaPlantada_h</th>\n",
       "      <th>VlProducaoAgricola</th>\n",
       "      <th>VlProducaoPecuaria</th>\n",
       "      <th>Area</th>\n",
       "      <th>NrNascimentos</th>\n",
       "      <th>NrObitosInfantis</th>\n",
       "      <th>Densidade</th>\n",
       "      <th>UF</th>\n",
       "      <th>Municipio</th>\n",
       "      <th>Regiao</th>\n",
       "      <th>Exportacoes_R$</th>\n",
       "    </tr>\n",
       "  </thead>\n",
       "  <tbody>\n",
       "    <tr>\n",
       "      <th>0</th>\n",
       "      <td>2016</td>\n",
       "      <td>5932.0</td>\n",
       "      <td>854.0</td>\n",
       "      <td>537.0</td>\n",
       "      <td>111190000.0</td>\n",
       "      <td>252.0</td>\n",
       "      <td>380000.0</td>\n",
       "      <td>86000.0</td>\n",
       "      <td>1000.0</td>\n",
       "      <td>185.0</td>\n",
       "      <td>80.0</td>\n",
       "      <td>0.0</td>\n",
       "      <td>32.06</td>\n",
       "      <td>SP</td>\n",
       "      <td>Campina do Monte Alegre</td>\n",
       "      <td>Sudeste</td>\n",
       "      <td>NaN</td>\n",
       "    </tr>\n",
       "    <tr>\n",
       "      <th>1</th>\n",
       "      <td>2016</td>\n",
       "      <td>27505.0</td>\n",
       "      <td>5680.0</td>\n",
       "      <td>4778.0</td>\n",
       "      <td>554663000.0</td>\n",
       "      <td>671.0</td>\n",
       "      <td>30000.0</td>\n",
       "      <td>649000.0</td>\n",
       "      <td>99000.0</td>\n",
       "      <td>499.5</td>\n",
       "      <td>299.0</td>\n",
       "      <td>3.0</td>\n",
       "      <td>55.06</td>\n",
       "      <td>MG</td>\n",
       "      <td>Elói Mendes</td>\n",
       "      <td>Sudeste</td>\n",
       "      <td>10094814.08</td>\n",
       "    </tr>\n",
       "    <tr>\n",
       "      <th>2</th>\n",
       "      <td>2016</td>\n",
       "      <td>6193.0</td>\n",
       "      <td>668.0</td>\n",
       "      <td>580.0</td>\n",
       "      <td>62441000.0</td>\n",
       "      <td>83.0</td>\n",
       "      <td>0.0</td>\n",
       "      <td>3000.0</td>\n",
       "      <td>57000.0</td>\n",
       "      <td>414.8</td>\n",
       "      <td>59.0</td>\n",
       "      <td>2.0</td>\n",
       "      <td>14.93</td>\n",
       "      <td>SP</td>\n",
       "      <td>Silveiras</td>\n",
       "      <td>Sudeste</td>\n",
       "      <td>NaN</td>\n",
       "    </tr>\n",
       "    <tr>\n",
       "      <th>3</th>\n",
       "      <td>2016</td>\n",
       "      <td>21279.0</td>\n",
       "      <td>3087.0</td>\n",
       "      <td>2669.0</td>\n",
       "      <td>403121000.0</td>\n",
       "      <td>290.0</td>\n",
       "      <td>0.0</td>\n",
       "      <td>4000.0</td>\n",
       "      <td>7000.0</td>\n",
       "      <td>937.5</td>\n",
       "      <td>272.0</td>\n",
       "      <td>2.0</td>\n",
       "      <td>22.70</td>\n",
       "      <td>RJ</td>\n",
       "      <td>Silva Jardim</td>\n",
       "      <td>Sudeste</td>\n",
       "      <td>NaN</td>\n",
       "    </tr>\n",
       "    <tr>\n",
       "      <th>4</th>\n",
       "      <td>2016</td>\n",
       "      <td>4534.0</td>\n",
       "      <td>212.0</td>\n",
       "      <td>183.0</td>\n",
       "      <td>48551000.0</td>\n",
       "      <td>34.0</td>\n",
       "      <td>940000.0</td>\n",
       "      <td>0.0</td>\n",
       "      <td>4000.0</td>\n",
       "      <td>1559.1</td>\n",
       "      <td>43.0</td>\n",
       "      <td>1.0</td>\n",
       "      <td>2.91</td>\n",
       "      <td>TO</td>\n",
       "      <td>Pindorama do Tocantins</td>\n",
       "      <td>Norte</td>\n",
       "      <td>NaN</td>\n",
       "    </tr>\n",
       "  </tbody>\n",
       "</table>\n",
       "</div>"
      ],
      "text/plain": [
       "    Ano  Populacao  PessoalOcupado  PessoalAssalariado          PIB  \\\n",
       "0  2016     5932.0           854.0               537.0  111190000.0   \n",
       "1  2016    27505.0          5680.0              4778.0  554663000.0   \n",
       "2  2016     6193.0           668.0               580.0   62441000.0   \n",
       "3  2016    21279.0          3087.0              2669.0  403121000.0   \n",
       "4  2016     4534.0           212.0               183.0   48551000.0   \n",
       "\n",
       "   QtEmpresas  AreaPlantada_h  VlProducaoAgricola  VlProducaoPecuaria    Area  \\\n",
       "0       252.0        380000.0             86000.0              1000.0   185.0   \n",
       "1       671.0         30000.0            649000.0             99000.0   499.5   \n",
       "2        83.0             0.0              3000.0             57000.0   414.8   \n",
       "3       290.0             0.0              4000.0              7000.0   937.5   \n",
       "4        34.0        940000.0                 0.0              4000.0  1559.1   \n",
       "\n",
       "   NrNascimentos  NrObitosInfantis  Densidade  UF                Municipio  \\\n",
       "0           80.0               0.0      32.06  SP  Campina do Monte Alegre   \n",
       "1          299.0               3.0      55.06  MG              Elói Mendes   \n",
       "2           59.0               2.0      14.93  SP                Silveiras   \n",
       "3          272.0               2.0      22.70  RJ             Silva Jardim   \n",
       "4           43.0               1.0       2.91  TO   Pindorama do Tocantins   \n",
       "\n",
       "    Regiao  Exportacoes_R$  \n",
       "0  Sudeste             NaN  \n",
       "1  Sudeste     10094814.08  \n",
       "2  Sudeste             NaN  \n",
       "3  Sudeste             NaN  \n",
       "4    Norte             NaN  "
      ]
     },
     "execution_count": 12,
     "metadata": {},
     "output_type": "execute_result"
    }
   ],
   "source": [
    "pd.set_option('display.max_colwidth', 50)\n",
    "df.head()"
   ]
  },
  {
   "cell_type": "markdown",
   "metadata": {},
   "source": [
    "### 🧹 Limpeza e Preparação dos Dados\n",
    "A seguir, apresentamos as etapas que escolhemos para o tratamento e organização dos dados da tabela utilizada em nossa análise."
   ]
  },
  {
   "cell_type": "markdown",
   "metadata": {},
   "source": [
    "#### 🗑️Remoção de Colunas\n",
    "Removemos as colunas CDMunicipio, VrSalarios, AreaColhida_h, Importacoes_US, Receitas, Transferencias_correntes e Transferencias_capital após uma análise cuidadosa da equipe. Concluímos que esses atributos não contribuirão de forma significativa para responder às perguntas propostas na pesquisa.\n",
    "\n",
    "Além de não serem úteis para as análises futuras, essas colunas poderiam introduzir ruído nos dados e complicar a construção de insights relevantes, desviando o foco das variáveis realmente importantes para os nossos objetivos. Por isso, optamos por eliminá-las, mantendo o dataset mais limpo, enxuto e direcionado às metas da investigação.\n"
   ]
  },
  {
   "cell_type": "code",
   "execution_count": 4,
   "metadata": {},
   "outputs": [],
   "source": [
    "\n",
    "df = df.drop(columns=[\n",
    "    'CDMunicipio',\n",
    "    'VrSalarios',\n",
    "    'AreaColhida_h',\n",
    "    'Transferencias_correntes_R$',\n",
    "    'Transferencias_capital_R$',\n",
    "    'Receitas_R$',\n",
    "    'Importacoes_US$'\n",
    "])\n",
    "\n"
   ]
  },
  {
   "cell_type": "markdown",
   "metadata": {},
   "source": [
    "#### 🗑️Remoção de Linhas\n",
    "Durante a etapa de tratamento dos dados, identificamos a presença de valores ausentes em diversas linhas e colunas do dataframe. No entanto, sabemos que remover dados sem critério ou embasamento estatístico pode comprometer a integridade da análise.\n",
    "\n",
    "Por isso, estabelecemos um critério objetivo: todas as linhas que possuem mais de 3 valores nulos foram removidas. Acreditamos que a permanência dessas linhas, com grande quantidade de informações faltantes, comprometeria a qualidade das análises futuras, podendo gerar distorções ou interpretações equivocadas.\n",
    "\n",
    "Consideramos esses valores nulos como possíveis erros de coleta ou dados indisponíveis. Abaixo, é possível visualizar a quantidade de linhas que foram excluídas com base nesse critério:"
   ]
  },
  {
   "cell_type": "code",
   "execution_count": 5,
   "metadata": {},
   "outputs": [
    {
     "name": "stdout",
     "output_type": "stream",
     "text": [
      "\total de linhas removidas: 33\n"
     ]
    }
   ],
   "source": [
    "# Lista de colunas que devem ser verificadas \n",
    "colunas_verificar = ['Populacao', 'PIB', 'PessoalOcupado', 'PessoalAssalariado', \n",
    "                    'AreaPlantada_h', 'VlProducaoAgricola', 'VlProducaoPecuaria', \n",
    "                    'Area', 'NrNascimentos', 'NrObitosInfantis', 'povoamento', 'Exportacoes_US$']\n",
    "\n",
    "#Identificar linhas com mais de 3 valores nulos nas colunas selecionadas\n",
    "linhas_remover = df[df[colunas_verificar].isnull().sum(axis=1) > 3]\n",
    "\n",
    "#Mostrar as cidades que serão removidas\n",
    "if not linhas_remover.empty:\n",
    "    \n",
    "    # Remover as linhas problemáticas\n",
    "    qtd_removida = len(linhas_remover)\n",
    "    df = df[df[colunas_verificar].isnull().sum(axis=1) <= 3]\n",
    "    \n",
    "    print(f\"\\total de linhas removidas: {qtd_removida}\")\n",
    "else:\n",
    "    print(\"Nenhuma linha com mais de 3 colunas nulas encontrada\")\n",
    "\n",
    "\n"
   ]
  },
  {
   "cell_type": "markdown",
   "metadata": {},
   "source": [
    "#### 💵Conversão De Moedas e Tipos\n",
    "Outra etapa importante do tratamento de dados foi a conversão dos valores da coluna “Exportações”, originalmente em dólares americanos, para reais. Optamos por essa conversão para padronizar a unidade monetária em todo o dataset, já que as demais informações financeiras presentes estão em reais. Trabalhar com diferentes moedas exigiria ajustes constantes e dificultaria comparações e análises futuras.\n",
    "\n",
    "Além disso, decidimos converter algumas colunas que estavam no tipo object para o tipo float, permitindo o uso correto dessas variáveis em análises estatísticas e cálculos numéricos mais precisos.\n",
    "\n",
    "Com essas conversões, garantimos maior consistência nos dados e facilitamos a interpretação dos resultados, otimizando as etapas futuras da análise."
   ]
  },
  {
   "cell_type": "code",
   "execution_count": 6,
   "metadata": {},
   "outputs": [],
   "source": [
    "df[\"Exportacoes_US$\"] = df[\"Exportacoes_US$\"].astype(str)\n",
    "\n",
    "df[\"Exportacoes_US$\"] = (\n",
    "    df[\"Exportacoes_US$\"]\n",
    "    .str.replace(\".\", \"\", regex=False)  \n",
    "    .str.replace(\",\", \".\")            \n",
    ")\n",
    "\n",
    "\n",
    "df[\"Exportacoes_US$\"] = df[\"Exportacoes_US$\"].astype(float)\n",
    "\n",
    "taxa_cambio = 5.68\n",
    "\n",
    "# Criar a nova coluna em reais\n",
    "df[\"Exportacoes_R$\"] = df[\"Exportacoes_US$\"] * taxa_cambio\n",
    "\n",
    "# Remover a coluna original\n",
    "df = df.drop(columns=[\"Exportacoes_US$\"])\n",
    "\n",
    "\n",
    "df[\"Area\"]=df[\"Area\"].astype(str)\n",
    "df[\"Area\"] = (\n",
    "    df[\"Area\"]\n",
    "    .str.replace(\".\",\"\",regex=False)\n",
    "    .str.replace(\",\",\".\")\n",
    ")\n",
    "df[\"Area\"]=df[\"Area\"].astype(float)\n",
    "\n",
    "df[\"povoamento\"]=df[\"povoamento\"].astype(str)\n",
    "df[\"povoamento\"] = (\n",
    "    df[\"povoamento\"]\n",
    "    .str.replace(\".\",\"\",regex=False)\n",
    "    .str.replace(\",\",\".\")\n",
    ")\n",
    "df[\"povoamento\"]=df[\"povoamento\"].astype(float)\n",
    "\n",
    "df[\"Populacao\"]=df[\"Populacao\"].astype(str)\n",
    "df[\"Populacao\"] = (\n",
    "    df[\"Populacao\"]\n",
    "    .str.replace(\".\",\"\",regex=False)\n",
    "    .str.replace(\",\",\".\")\n",
    ")\n",
    "df[\"Populacao\"]=df[\"Populacao\"].astype(float)\n",
    "\n",
    "df[\"PessoalOcupado\"]=df[\"PessoalOcupado\"].astype(str)\n",
    "df[\"PessoalOcupado\"] = (\n",
    "    df[\"PessoalOcupado\"]\n",
    "    .str.replace(\".\",\"\",regex=False)\n",
    "    .str.replace(\",\",\".\")\n",
    ")\n",
    "df[\"PessoalOcupado\"]=df[\"PessoalOcupado\"].astype(float)\n",
    "\n",
    "df[\"PessoalAssalariado\"]=df[\"PessoalAssalariado\"].astype(str)\n",
    "df[\"PessoalAssalariado\"] = (\n",
    "    df[\"PessoalAssalariado\"]\n",
    "    .str.replace(\".\",\"\",regex=False)\n",
    "    .str.replace(\",\",\".\")\n",
    ")\n",
    "df[\"PessoalAssalariado\"]=df[\"PessoalAssalariado\"].astype(float)\n",
    "\n",
    "\n",
    "\n"
   ]
  },
  {
   "cell_type": "markdown",
   "metadata": {},
   "source": [
    "#### 📏 Ajuste de Unidades dos Dados\n",
    "De acordo com o artigo que acompanha a base de dados, algumas colunas apresentam seus valores em unidades escaladas, o que pode causar interpretações equivocadas caso não seja considerado no momento da análise.\n",
    "\n",
    "Para facilitar a leitura e garantir que os dados reflitam valores reais e interpretáveis diretamente, realizamos os seguintes ajustes:\n",
    "\n",
    "Multiplicamos as colunas PIB, VlProducaoAgricola e VlProducaoPecuaria por 1.000, já que seus valores estavam originalmente representados em milhares (10³).\n",
    "\n",
    "Multiplicamos a coluna AreaPlantada_h por 10.000, pois os dados estavam expressos em dezenas de mil (10⁴).\n",
    "\n",
    "A decisão de realizar essas conversões foi tomada tanto por motivos estéticos quanto práticos: ao apresentar os dados já na unidade correta, evitamos que o usuário precise realizar conversões manuais para interpretar os valores, tornando a análise mais fluida, precisa e acessível.\n"
   ]
  },
  {
   "cell_type": "code",
   "execution_count": 7,
   "metadata": {},
   "outputs": [],
   "source": [
    "df[\"PIB\"] = df[\"PIB\"].str.replace(\".\", \"\", regex=False)\n",
    "df[\"PIB\"] = df[\"PIB\"].astype(float)\n",
    "\n",
    "df[\"PIB\"] *= 1000\n",
    "df[\"VlProducaoAgricola\"] *= 1000\n",
    "df[\"VlProducaoPecuaria\"] *= 1000\n",
    "df[\"AreaPlantada_h\"] *= 10000"
   ]
  },
  {
   "cell_type": "markdown",
   "metadata": {},
   "source": [
    "#### ✏️ Renomeando Coluna \n",
    "De acordo com o artigo científico que acompanha a base de dados, a coluna \"Povoamento\" representa, na prática, a densidade populacional dos municípios.\n",
    "\n",
    "Para garantir que o nome da variável reflita de forma mais precisa seu conteúdo e esteja alinhado com a nomenclatura técnica correta, optamos por renomear a coluna \"Povoamento\" para \"Densidade\". Essa alteração facilita a compreensão e interpretação dos dados, especialmente durante as análises e visualizações futuras."
   ]
  },
  {
   "cell_type": "code",
   "execution_count": 8,
   "metadata": {},
   "outputs": [],
   "source": [
    "df.rename(columns={'povoamento': 'Densidade'}, inplace=True)"
   ]
  },
  {
   "cell_type": "markdown",
   "metadata": {},
   "source": [
    "#### 📊 Criação da Tabela de PIB per Capita\n",
    "Para aprofundar nossa análise econômica, decidimos criar uma tabela auxiliar com o PIB per capita, segmentado por região, estado e município, ao longo dos diferentes anos. Essa métrica é essencial para avaliar o desenvolvimento relativo entre as localidades de forma mais justa e proporcional à sua população.\n",
    "\n",
    "No entanto, como o cálculo depende diretamente das colunas PIB e População, precisamos garantir que os dados utilizados sejam consistentes. Por isso, removemos todas as linhas que apresentavam valores nulos nessas duas colunas, evitando assim resultados incorretos ou distorcidos.\n",
    "\n",
    "O cálculo do PIB per capita foi feito utilizando a fórmula:\n",
    "\n",
    "PIB per capita = PIB/população\n",
    " \n",
    "Em seguida, organizamos a nova tabela com as colunas: Ano,Região,Estado,Município,PIB,População e PIB per capita\n",
    "\n",
    "Essa tabela nos permitirá realizar comparações mais precisas entre diferentes regiões do país, com base em indicadores padronizados."
   ]
  },
  {
   "cell_type": "code",
   "execution_count": 9,
   "metadata": {},
   "outputs": [
    {
     "name": "stderr",
     "output_type": "stream",
     "text": [
      "C:\\Users\\aline\\AppData\\Local\\Temp\\ipykernel_13720\\1411964664.py:4: SettingWithCopyWarning: \n",
      "A value is trying to be set on a copy of a slice from a DataFrame.\n",
      "Try using .loc[row_indexer,col_indexer] = value instead\n",
      "\n",
      "See the caveats in the documentation: https://pandas.pydata.org/pandas-docs/stable/user_guide/indexing.html#returning-a-view-versus-a-copy\n",
      "  df_pib_percapita['PIB_per_capita'] = df_pib_percapita['PIB'] / df_pib_percapita['Populacao']\n"
     ]
    }
   ],
   "source": [
    "# Filtra apenas linhas com valores válidos para PIB e População\n",
    "df_pib_percapita = df.dropna(subset=['PIB', 'Populacao'])\n",
    "# Calcula o PIB per capita\n",
    "df_pib_percapita['PIB_per_capita'] = df_pib_percapita['PIB'] / df_pib_percapita['Populacao']\n",
    "# Seleciona colunas relevantes\n",
    "df_pib_percapita = df_pib_percapita[['Ano', 'Regiao', 'UF', 'Municipio', 'PIB', 'Populacao', 'PIB_per_capita']]\n",
    "# PIB per capita médio por estado\n",
    "df_estado = df_pib_percapita.groupby(['Ano', 'UF'])['PIB_per_capita'].mean().reset_index()\n",
    "# PIB per capita médio por região\n",
    "df_regiao = df_pib_percapita.groupby(['Ano', 'Regiao'])['PIB_per_capita'].mean().reset_index()\n",
    "\n",
    "# Cria a pasta \"Pibs\" se ela ainda não existir\n",
    "os.makedirs('pib_per_capita', exist_ok=True)\n",
    "\n",
    "# Salva os arquivos .csv dentro da pasta\n",
    "df_pib_percapita.to_csv('pib_per_capita/pib_per_capita_municipios.csv', index=False)\n",
    "df_estado.to_csv('pib_per_capita/pib_per_capita_estados.csv', index=False)\n",
    "df_regiao.to_csv('pib_per_capita/pib_per_capita_regioes.csv', index=False)\n"
   ]
  },
  {
   "cell_type": "markdown",
   "metadata": {},
   "source": [
    "#### 👀 Visualização da Tabela Após Tratamentos e Limpeza de Dados\n",
    "Após realizar os tratamentos e ajustes necessários nos dados, conseguimos reduzir a tabela para focar apenas nas informações essenciais para responder às 10 perguntas-chave do nosso projeto. Essa limpeza permitiu que os dados fossem mais objetivos e relevantes para a análise das questões propostas. "
   ]
  },
  {
   "cell_type": "code",
   "execution_count": 11,
   "metadata": {},
   "outputs": [
    {
     "name": "stdout",
     "output_type": "stream",
     "text": [
      "Média salva em 'dataFrame/BrStatsAtualizada.csv'.\n"
     ]
    }
   ],
   "source": [
    "\n",
    "# Arredondar os valores para 2 casas decimais\n",
    "df = df.round(2)\n",
    "\n",
    "# Salvar o arquivo com as médias arredondadas\n",
    "df.to_csv(\"dataFrame/BrStatsAtualizada.csv\", index=False, sep=\";\", decimal=\",\")\n",
    "\n",
    "print(\"Média salva em 'dataFrame/BrStatsAtualizada.csv'.\")"
   ]
  },
  {
   "cell_type": "markdown",
   "metadata": {},
   "source": [
    "#### 🧹 Conclusões com o Tratamento dos Dados\n",
    "Com os ajustes feitos nos dados, conseguimos filtrar  as informações de maneira que os anos de 2016 a 2021 foram tratados, e as colunas e linhas que não eram relevantes para o projeto foram removidas. Isso resultou em uma tabela mais enxuta e focada, o que facilita a análise das questões propostas.\n",
    "\n",
    "O tratamento realizado também garantiu que as unidades das colunas fossem ajustadas corretamente, permitindo que as comparações entre os dados fossem mais precisas.Além disso, realizar a conversão de moedas ajudará com as análises futuras. \n",
    "\n",
    "Agora, com os dados organizados e refinados, estamos prontos para avançar nas análises e começar a responder às questões do projeto de maneira mais eficaz."
   ]
  },
  {
   "cell_type": "markdown",
   "metadata": {},
   "source": [
    "### 📜Referências\n",
    "Pandas Documentation. \"Pandas Documentation\". Disponível em: https://pandas.pydata.org/docs/. Acesso em: 20 mar. 2025.   \n",
    "\n",
    "Pandas 10-Minute Tutorial. \"Pandas 10-Minute Tutorial\". Disponível em: https://pandas.pydata.org/docs/user_guide/10min.html. Acesso em: 20 mar. 2025.   \n",
    "\n",
    "W3Schools. \"Pandas Tutorial\". Disponível em: https://www.w3schools.com/python/pandas/default.asp. Acesso em: 20 mar. 2025\n"
   ]
  }
 ],
 "metadata": {
  "kernelspec": {
   "display_name": "Python 3",
   "language": "python",
   "name": "python3"
  },
  "language_info": {
   "codemirror_mode": {
    "name": "ipython",
    "version": 3
   },
   "file_extension": ".py",
   "mimetype": "text/x-python",
   "name": "python",
   "nbconvert_exporter": "python",
   "pygments_lexer": "ipython3",
   "version": "3.11.9"
  }
 },
 "nbformat": 4,
 "nbformat_minor": 2
}
