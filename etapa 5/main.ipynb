{
 "cells": [
  {
   "cell_type": "markdown",
   "metadata": {},
   "source": [
    "<a id=\"menu\"></a>\n",
    "# 📌 Menu de Navegação\n",
    "\n",
    "Etapas realizadas ao longo do projeto:\n",
    "\n",
    "- [🔹 Etapa 1: Limpeza e Pré-processamento](#etapa1)\n",
    "- [🔹 Etapa 2: Visualizações](#etapa2)\n",
    "- [🔹 Etapa 3: Inferência Estatística e Regras de Associação](#etapa3)\n",
    "- [🔹 Etapa 4: Regressão Linear](#etapa4)\n",
    "- [🔹 Etapa 5: Análise Supervisionada e Não-Supervisionada](#etapa5)\n",
    "\n",
    "Conclusões:\n",
    "- [🔹 Perguntas e Respostas](perguntas.ipynb)  \n"
   ]
  },
  {
   "cell_type": "markdown",
   "metadata": {},
   "source": [
    "<a id=\"etapa1\"></a>\n",
    "\n",
    "# Etapa 1 - Projeto Desenvolvedor 🚀\n"
   ]
  },
  {
   "cell_type": "markdown",
   "metadata": {},
   "source": [
    "### Introdução\n",
    "**Integrantes do projeto**: Aline Santos, Luana Tavares, Gustavo Luca e Marcus Eduardo Resende. \n",
    "\n",
    "O objetivo deste trabalho é proporcionar aos participantes a vivência de diversos desafios enfrentados por cientistas de dados em sua atuação profissional.Para isso, estão disponíveis dois conjuntos de dados: **dados de criminalidade do estado de São Paulo (SPSafe) e dados demográficos dos municípios brasileiros (BrStats)**.\n",
    "\n",
    "Cada conjunto de dados é acompanhado por um artigo que descreve detalhadamente o processo de geração e organização das informações. A leitura atenta desses artigos é essencial para o bom desenvolvimento do projeto e deve ser realizada por todos os membros do grupo. \n",
    "\n",
    "A escolha do conjunto de dados a ser utilizado está  vinculada à turma prática no qual o grupo está matriculado. Como pertecemos à **turma prática P1**, utilizaremos o conjunto de dados **BrStats**.\n",
    "\n",
    "O artigo de referência para esse conjunto de dados pode ser acessado por meio do seguinte link: [BrStates](https://sol.sbc.org.br/index.php/dsw/article/view/25506)"
   ]
  },
  {
   "cell_type": "markdown",
   "metadata": {},
   "source": [
    "### Descrição Etapa 1\n",
    "Nesta etapa, o grupo irá fazer uma primeira análise dos dados, para identificar os atributos existentes, e elaborar uma lista com pelo menos 10 perguntas que pretende responder com o trabalho. Também devem ser feitos tratamentos dos dados em termos de formatação, enriquecimento com novos atributos externos, tratamento de ausências, dentre outros. Essa etapa envolve entender os atributos e objetos dos dados, o tipo e o domínio de cada atributo, verificar e identificar possíveis ruídos ou informações ausentes, criar novos atributos se necessário, formatar valores, juntar conjuntos de dados, dentre outras atividades."
   ]
  },
  {
   "cell_type": "markdown",
   "metadata": {},
   "source": [
    "### Divisão de Tarefas\n",
    "O trabalho foi dividido entre os quatro integrantes do grupo, com as seguintes responsabilidades:\n",
    "\n",
    "- ✂️ **Retirada de 7 colunas da tabela**: **Aline** e **Marcus** foram responsáveis por essa tarefa.  \n",
    "- 💱 **Conversão de moedas**: **Luana** e **Aline** ficaram encarregadas dessa etapa.  \n",
    "- 📏 **Conversão de unidades nas colunas**: **Gustavo** foi o responsável por realizar as conversões de unidades.  \n",
    "- 🧹 **Retirada das linhas da tabela**: **Marcus** contribuiu com ideias e conhecimentos para essa parte do trabalho.\n",
    "\n",
    "🧠 As **perguntas de pesquisa** foram decididas e discutidas em uma reunião pelo **Google Meet**, onde todos os integrantes participaram ativamente. O tratamento dos dados também foi debatido e definido durante essa reunião.\n",
    "\n",
    "📎 O relatório de participação da reunião pode ser acessado neste link:  \n",
    "[Google Sheets - Registro de Reunião](https://docs.google.com/spreadsheets/d/1nYTdsyvY9Kk3X73YN4Af45I4sEfED_4RbvQ6LWWLkZQ/edit?usp=sharing)\n",
    "\n",
    "📘 Todos os integrantes **leram os artigos** relacionados ao projeto e **analisaram os dados disponíveis** para garantir uma abordagem comum e fundamentada.\n",
    "\n",
    "📱 A comunicação do grupo foi feita principalmente por um **grupo no WhatsApp**, que permitiu trocas de ideias e esclarecimento de dúvidas em tempo real.\n",
    "\n",
    "🧪 As **aulas em laboratório** foram fundamentais para o andamento da primeira etapa do projeto. Os integrantes puderam **compartilhar ideias, conhecimentos e opiniões** para melhor análise dos dados do dataset.\n",
    "\n",
    "📝 A documentação em *Markdown* foi construída à medida que cada integrante concluía suas respectivas tarefas. Para os itens que não faziam parte da tarefa de um integrante específico, a **Aline** ficou responsável pela elaboração dos textos explicativos.\n",
    "\n",
    "---\n",
    "\n",
    "**🗂 Organização no GitHub**\n",
    "\n",
    "Para organizar o desenvolvimento do projeto, decidimos dividir o repositório em duas *branches*:\n",
    "\n",
    "- **`dev`**: utilizada para armazenar versões intermediárias, ainda em desenvolvimento, das etapas.  \n",
    "- **`main`**: destinada a armazenar as versões finais de cada etapa, sendo a versão atual a da **Etapa 1**.\n"
   ]
  },
  {
   "cell_type": "markdown",
   "metadata": {},
   "source": [
    "### 🛠️ Preparação do Ambiente\n",
    "Nesta seção, serão apresentados os comandos necessários para preparar o ambiente de análise. Isso inclui a importação das bibliotecas utilizadas, o carregamento do conjunto de dados e sua visualização inicial.\n"
   ]
  },
  {
   "cell_type": "markdown",
   "metadata": {},
   "source": [
    "### ❌ Removeção de warnings"
   ]
  },
  {
   "cell_type": "code",
   "execution_count": 38,
   "metadata": {},
   "outputs": [],
   "source": [
    "import warnings\n",
    "warnings.filterwarnings('ignore')"
   ]
  },
  {
   "cell_type": "markdown",
   "metadata": {},
   "source": [
    "#### 📚 Bibliotecas Necessárias"
   ]
  },
  {
   "cell_type": "code",
   "execution_count": 39,
   "metadata": {},
   "outputs": [],
   "source": [
    "import pandas as pd\n",
    "import numpy as np\n",
    "import os\n",
    "import matplotlib.pyplot as plt\n"
   ]
  },
  {
   "cell_type": "markdown",
   "metadata": {},
   "source": [
    "#### 📥 Importação dos Dados\n",
    "Utilizamos o seguinte comando para carregar a tabela de dados localizada no mesmo diretório do projeto.O parâmetro sep=\";\" é utilizado para informar que os dados no arquivo estão separados por ponto e vírgula (;).Dessa forma, o pandas consegue interpretar corretamente as colunas e montar a tabela (DataFrame) com os dados organizados."
   ]
  },
  {
   "cell_type": "code",
   "execution_count": 40,
   "metadata": {},
   "outputs": [],
   "source": [
    "# Cria a pasta \"Pibs\" se ela ainda não existir\n",
    "os.makedirs('dataFrame', exist_ok=True)\n",
    "df = pd.read_csv(\"dataFrame/BrStats.csv\", sep = \";\")"
   ]
  },
  {
   "cell_type": "markdown",
   "metadata": {},
   "source": [
    "#### 👀 Visualização Inicial dos Dados\n",
    "Para confirmar que a base de dados foi importada corretamente, exibimos as 5 primeiras linhas utilizando o comando df.head(), que permite uma visualização rápida e concisa do conteúdo. Caso seja necessário consultar o dataframe completo, ele está disponível na pasta do projeto com o nome \"BrStats.csv\"."
   ]
  },
  {
   "cell_type": "code",
   "execution_count": 41,
   "metadata": {},
   "outputs": [
    {
     "data": {
      "text/html": [
       "<div>\n",
       "<style scoped>\n",
       "    .dataframe tbody tr th:only-of-type {\n",
       "        vertical-align: middle;\n",
       "    }\n",
       "\n",
       "    .dataframe tbody tr th {\n",
       "        vertical-align: top;\n",
       "    }\n",
       "\n",
       "    .dataframe thead th {\n",
       "        text-align: right;\n",
       "    }\n",
       "</style>\n",
       "<table border=\"1\" class=\"dataframe\">\n",
       "  <thead>\n",
       "    <tr style=\"text-align: right;\">\n",
       "      <th></th>\n",
       "      <th>Ano</th>\n",
       "      <th>CDMunicipio</th>\n",
       "      <th>Populacao</th>\n",
       "      <th>PessoalOcupado</th>\n",
       "      <th>PessoalAssalariado</th>\n",
       "      <th>VrSalarios</th>\n",
       "      <th>PIB</th>\n",
       "      <th>QtEmpresas</th>\n",
       "      <th>AreaPlantada_h</th>\n",
       "      <th>AreaColhida_h</th>\n",
       "      <th>...</th>\n",
       "      <th>Exportacoes_US$</th>\n",
       "      <th>Receitas_R$</th>\n",
       "      <th>Transferencias_correntes_R$</th>\n",
       "      <th>Transferencias_capital_R$</th>\n",
       "      <th>NrNascimentos</th>\n",
       "      <th>NrObitosInfantis</th>\n",
       "      <th>povoamento</th>\n",
       "      <th>UF</th>\n",
       "      <th>Municipio</th>\n",
       "      <th>Regiao</th>\n",
       "    </tr>\n",
       "  </thead>\n",
       "  <tbody>\n",
       "    <tr>\n",
       "      <th>0</th>\n",
       "      <td>2016</td>\n",
       "      <td>3509452</td>\n",
       "      <td>5.932</td>\n",
       "      <td>854</td>\n",
       "      <td>537</td>\n",
       "      <td>13.692</td>\n",
       "      <td>111.190</td>\n",
       "      <td>252.0</td>\n",
       "      <td>38.0</td>\n",
       "      <td>38.0</td>\n",
       "      <td>...</td>\n",
       "      <td>NaN</td>\n",
       "      <td>25.511.889,220</td>\n",
       "      <td>18.911.068,400</td>\n",
       "      <td>1.665.392,540</td>\n",
       "      <td>80.0</td>\n",
       "      <td>0.0</td>\n",
       "      <td>32,065</td>\n",
       "      <td>SP</td>\n",
       "      <td>Campina do Monte Alegre</td>\n",
       "      <td>Sudeste</td>\n",
       "    </tr>\n",
       "    <tr>\n",
       "      <th>1</th>\n",
       "      <td>2016</td>\n",
       "      <td>3123601</td>\n",
       "      <td>27.505</td>\n",
       "      <td>5.680</td>\n",
       "      <td>4.778</td>\n",
       "      <td>104.977</td>\n",
       "      <td>554.663</td>\n",
       "      <td>671.0</td>\n",
       "      <td>3.0</td>\n",
       "      <td>3.0</td>\n",
       "      <td>...</td>\n",
       "      <td>1.777.256,000</td>\n",
       "      <td>63.002.672,933</td>\n",
       "      <td>45.304.154,440</td>\n",
       "      <td>538.882,600</td>\n",
       "      <td>299.0</td>\n",
       "      <td>3.0</td>\n",
       "      <td>55,065</td>\n",
       "      <td>MG</td>\n",
       "      <td>Elói Mendes</td>\n",
       "      <td>Sudeste</td>\n",
       "    </tr>\n",
       "    <tr>\n",
       "      <th>2</th>\n",
       "      <td>2016</td>\n",
       "      <td>3552007</td>\n",
       "      <td>6.193</td>\n",
       "      <td>668</td>\n",
       "      <td>580</td>\n",
       "      <td>12.519</td>\n",
       "      <td>62.441</td>\n",
       "      <td>83.0</td>\n",
       "      <td>0.0</td>\n",
       "      <td>0.0</td>\n",
       "      <td>...</td>\n",
       "      <td>NaN</td>\n",
       "      <td>30.492.825,449</td>\n",
       "      <td>21.861.157,950</td>\n",
       "      <td>1.048.458,040</td>\n",
       "      <td>59.0</td>\n",
       "      <td>2.0</td>\n",
       "      <td>14,930</td>\n",
       "      <td>SP</td>\n",
       "      <td>Silveiras</td>\n",
       "      <td>Sudeste</td>\n",
       "    </tr>\n",
       "    <tr>\n",
       "      <th>3</th>\n",
       "      <td>2016</td>\n",
       "      <td>3305604</td>\n",
       "      <td>21.279</td>\n",
       "      <td>3.087</td>\n",
       "      <td>2.669</td>\n",
       "      <td>80.161</td>\n",
       "      <td>403.121</td>\n",
       "      <td>290.0</td>\n",
       "      <td>0.0</td>\n",
       "      <td>0.0</td>\n",
       "      <td>...</td>\n",
       "      <td>NaN</td>\n",
       "      <td>140.538.926,872</td>\n",
       "      <td>100.508.822,360</td>\n",
       "      <td>871.234,340</td>\n",
       "      <td>272.0</td>\n",
       "      <td>2.0</td>\n",
       "      <td>22,698</td>\n",
       "      <td>RJ</td>\n",
       "      <td>Silva Jardim</td>\n",
       "      <td>Sudeste</td>\n",
       "    </tr>\n",
       "    <tr>\n",
       "      <th>4</th>\n",
       "      <td>2016</td>\n",
       "      <td>1717008</td>\n",
       "      <td>4.534</td>\n",
       "      <td>212</td>\n",
       "      <td>183</td>\n",
       "      <td>5.309</td>\n",
       "      <td>48.551</td>\n",
       "      <td>34.0</td>\n",
       "      <td>94.0</td>\n",
       "      <td>34.0</td>\n",
       "      <td>...</td>\n",
       "      <td>NaN</td>\n",
       "      <td>15.541.375,953</td>\n",
       "      <td>13.178.989,760</td>\n",
       "      <td>8.037,870</td>\n",
       "      <td>43.0</td>\n",
       "      <td>1.0</td>\n",
       "      <td>2,908</td>\n",
       "      <td>TO</td>\n",
       "      <td>Pindorama do Tocantins</td>\n",
       "      <td>Norte</td>\n",
       "    </tr>\n",
       "  </tbody>\n",
       "</table>\n",
       "<p>5 rows × 24 columns</p>\n",
       "</div>"
      ],
      "text/plain": [
       "    Ano  CDMunicipio Populacao PessoalOcupado PessoalAssalariado VrSalarios  \\\n",
       "0  2016      3509452     5.932            854                537     13.692   \n",
       "1  2016      3123601    27.505          5.680              4.778    104.977   \n",
       "2  2016      3552007     6.193            668                580     12.519   \n",
       "3  2016      3305604    21.279          3.087              2.669     80.161   \n",
       "4  2016      1717008     4.534            212                183      5.309   \n",
       "\n",
       "       PIB  QtEmpresas  AreaPlantada_h  AreaColhida_h  ...  Exportacoes_US$  \\\n",
       "0  111.190       252.0            38.0           38.0  ...              NaN   \n",
       "1  554.663       671.0             3.0            3.0  ...    1.777.256,000   \n",
       "2   62.441        83.0             0.0            0.0  ...              NaN   \n",
       "3  403.121       290.0             0.0            0.0  ...              NaN   \n",
       "4   48.551        34.0            94.0           34.0  ...              NaN   \n",
       "\n",
       "       Receitas_R$ Transferencias_correntes_R$ Transferencias_capital_R$  \\\n",
       "0   25.511.889,220              18.911.068,400             1.665.392,540   \n",
       "1   63.002.672,933              45.304.154,440               538.882,600   \n",
       "2   30.492.825,449              21.861.157,950             1.048.458,040   \n",
       "3  140.538.926,872             100.508.822,360               871.234,340   \n",
       "4   15.541.375,953              13.178.989,760                 8.037,870   \n",
       "\n",
       "  NrNascimentos NrObitosInfantis povoamento  UF                Municipio  \\\n",
       "0          80.0              0.0     32,065  SP  Campina do Monte Alegre   \n",
       "1         299.0              3.0     55,065  MG              Elói Mendes   \n",
       "2          59.0              2.0     14,930  SP                Silveiras   \n",
       "3         272.0              2.0     22,698  RJ             Silva Jardim   \n",
       "4          43.0              1.0      2,908  TO   Pindorama do Tocantins   \n",
       "\n",
       "    Regiao  \n",
       "0  Sudeste  \n",
       "1  Sudeste  \n",
       "2  Sudeste  \n",
       "3  Sudeste  \n",
       "4    Norte  \n",
       "\n",
       "[5 rows x 24 columns]"
      ]
     },
     "execution_count": 41,
     "metadata": {},
     "output_type": "execute_result"
    }
   ],
   "source": [
    "pd.set_option('display.max_colwidth', 50)\n",
    "df.head()"
   ]
  },
  {
   "cell_type": "markdown",
   "metadata": {},
   "source": [
    "#### 🛠️ Atualização dos dados de PIB com base no IBGE (2021)\n",
    "Para garantir maior precisão nos dados econômicos, atualizamos os valores de PIB do ano de 2021 no nosso dataset principal, utilizando os dados oficiais do IBGE.Carregamos uma base complementar (PIB dos Municípios - base de dados 2021.csv), que contém os valores atualizados do PIB por município e UF. Para integrar essa informação ao nosso dataset original (BrStats.csv), usamos um processo de merge indireto, criando uma chave única de correspondência (Municipio-UF) entre as duas bases. Após isso, substituímos apenas os valores de PIB de 2021 onde havia correspondência entre os municípios, mantendo todos os demais dados e anos intactos. Esse processo garante que a análise futura utilize valores econômicos confiáveis e atualizados, sem interferir em outras partes da base de dados.\n",
    "Link para acessar o dataFrame do IBGE: [PIB-2021](https://www.ibge.gov.br/estatisticas/economicas/contas-nacionais/9088-produto-interno-bruto-dos-municipios.html?t=downloads&c=1100015)"
   ]
  },
  {
   "cell_type": "code",
   "execution_count": 42,
   "metadata": {},
   "outputs": [],
   "source": [
    "# Passo 1: Carrega os dois datasets\n",
    "df = pd.read_csv('dataFrame/BrStats.csv', sep=';', encoding='utf-8')\n",
    "df[\"PIB\"] = df[\"PIB\"].str.replace(\".\", \"\", regex=False)\n",
    "df[\"PIB\"] = df[\"PIB\"].astype(float)\n",
    "df_ibge_2021 = pd.read_csv('dataFrame/PIB dos Municípios - base de dados 2021.csv', sep=';', encoding='utf-8', low_memory=False)\n",
    "# Passo 2: Renomeia colunas e ajusta nomes\n",
    "df_ibge_2021 = df_ibge_2021.rename(columns={\n",
    "    'Nome do Município': 'Municipio',\n",
    "    'Sigla da Unidade da Federação': 'UF',\n",
    "    'Produto Interno Bruto, \\na preços correntes\\n(R$ 1.000)': 'PIB_2021'\n",
    "})\n",
    "# Passo 3: Converte PIB para float e multiplica por 1000 (para tirar a escala de mil)\n",
    "df_ibge_2021['PIB_2021'] = df_ibge_2021['PIB_2021'].astype(str).str.replace('.', '', regex=False).str.replace(',', '.', regex=False)\n",
    "df_ibge_2021['PIB_2021'] = pd.to_numeric(df_ibge_2021['PIB_2021'], errors='coerce') \n",
    "# Passo 4: Filtra apenas os dados de 2021 no df\n",
    "mask_2021 = df['Ano'] == 2021\n",
    "# Passo 5: Cria uma chave de merge (Municipio + UF) para ambos os DataFrames\n",
    "df['chave'] = df['Municipio'] + '-' + df['UF']\n",
    "df_ibge_2021['chave'] = df_ibge_2021['Municipio'] + '-' + df_ibge_2021['UF']\n",
    "# Passo 6: Cria um dicionário com o PIB do IBGE por chave\n",
    "pib_dict = df_ibge_2021.set_index('chave')['PIB_2021'].to_dict()\n",
    "# Passo 7: Atualiza os valores de PIB de 2021 no DataFrame original, apenas onde existir correspondência\n",
    "df.loc[mask_2021, 'PIB'] = df.loc[mask_2021, 'chave'].map(pib_dict).combine_first(df.loc[mask_2021, 'PIB'])\n",
    "# Remove a coluna auxiliar\n",
    "df = df.drop(columns=['chave'])\n",
    "df.to_csv(\"dataFrame/BrStatsAtualizada.csv\", index=False, sep=\";\", decimal=\",\")"
   ]
  },
  {
   "cell_type": "markdown",
   "metadata": {},
   "source": [
    "### 🧹 Limpeza e Preparação dos Dados\n",
    "A seguir, apresentamos as etapas que escolhemos para o tratamento e organização dos dados da tabela utilizada em nossa análise."
   ]
  },
  {
   "cell_type": "markdown",
   "metadata": {},
   "source": [
    "#### 🗑️Remoção de Colunas\n",
    "Removemos as colunas CDMunicipio, VrSalarios, AreaColhida_h, Importacoes_US, Receitas, Transferencias_correntes e Transferencias_capital após uma análise cuidadosa da equipe. Concluímos que esses atributos não contribuirão de forma significativa para responder às perguntas propostas na pesquisa.\n",
    "\n",
    "Além de não serem úteis para as análises futuras, essas colunas poderiam introduzir ruído nos dados e complicar a construção de insights relevantes, desviando o foco das variáveis realmente importantes para os nossos objetivos. Por isso, optamos por eliminá-las, mantendo o dataset mais limpo, enxuto e direcionado às metas da investigação.\n"
   ]
  },
  {
   "cell_type": "code",
   "execution_count": 43,
   "metadata": {},
   "outputs": [],
   "source": [
    "\n",
    "df = df.drop(columns=[\n",
    "    'CDMunicipio',\n",
    "    'VrSalarios',\n",
    "    'AreaColhida_h',\n",
    "    'Transferencias_correntes_R$',\n",
    "    'Transferencias_capital_R$',\n",
    "    'Receitas_R$',\n",
    "    'Importacoes_US$'\n",
    "])\n",
    "df.to_csv(\"dataFrame/BrStatsAtualizada.csv\", index=False, sep=\";\", decimal=\",\")"
   ]
  },
  {
   "cell_type": "markdown",
   "metadata": {},
   "source": [
    "#### 🗑️Remoção de Linhas\n",
    "Durante a etapa de tratamento dos dados, identificamos a presença de valores ausentes em diversas linhas e colunas do dataframe. No entanto, sabemos que remover dados sem critério ou embasamento estatístico pode comprometer a integridade da análise.\n",
    "\n",
    "Por isso, estabelecemos um critério objetivo: todas as linhas que possuem mais de 3 valores nulos foram removidas. Acreditamos que a permanência dessas linhas, com grande quantidade de informações faltantes, comprometeria a qualidade das análises futuras, podendo gerar distorções ou interpretações equivocadas.\n",
    "\n",
    "Consideramos esses valores nulos como possíveis erros de coleta ou dados indisponíveis. Abaixo, é possível visualizar a quantidade de linhas que foram excluídas com base nesse critério:"
   ]
  },
  {
   "cell_type": "code",
   "execution_count": 44,
   "metadata": {},
   "outputs": [
    {
     "name": "stdout",
     "output_type": "stream",
     "text": [
      "total de linhas removidas: 30\n"
     ]
    }
   ],
   "source": [
    "# Lista de colunas que devem ser verificadas \n",
    "colunas_verificar = ['Populacao', 'PIB', 'PessoalOcupado', 'PessoalAssalariado', \n",
    "                    'AreaPlantada_h', 'VlProducaoAgricola', 'VlProducaoPecuaria', \n",
    "                    'Area', 'NrNascimentos', 'NrObitosInfantis', 'povoamento', 'Exportacoes_US$']\n",
    "\n",
    "#Identificar linhas com mais de 3 valores nulos nas colunas selecionadas\n",
    "linhas_remover = df[df[colunas_verificar].isnull().sum(axis=1) > 3]\n",
    "\n",
    "#Mostrar as cidades que serão removidas\n",
    "if not linhas_remover.empty:\n",
    "    \n",
    "    # Remover as linhas problemáticas\n",
    "    qtd_removida = len(linhas_remover)\n",
    "    df = df[df[colunas_verificar].isnull().sum(axis=1) <= 3]\n",
    "    \n",
    "    print(f\"total de linhas removidas: {qtd_removida}\")\n",
    "else:\n",
    "    print(\"Nenhuma linha com mais de 3 colunas nulas encontrada\")\n",
    "\n",
    "\n",
    "df.to_csv(\"dataFrame/BrStatsAtualizada.csv\", index=False, sep=\";\", decimal=\",\")"
   ]
  },
  {
   "cell_type": "markdown",
   "metadata": {},
   "source": [
    "#### 💵Conversão De Moedas e Tipos\n",
    "Outra etapa importante do tratamento de dados foi a conversão dos valores da coluna “Exportações”, originalmente em dólares americanos, para reais. Optamos por essa conversão para padronizar a unidade monetária em todo o dataset, já que as demais informações financeiras presentes estão em reais. Trabalhar com diferentes moedas exigiria ajustes constantes e dificultaria comparações e análises futuras.\n",
    "\n",
    "Além disso, decidimos converter algumas colunas que estavam no tipo object para o tipo float, permitindo o uso correto dessas variáveis em análises estatísticas e cálculos numéricos mais precisos.\n",
    "\n",
    "Com essas conversões, garantimos maior consistência nos dados e facilitamos a interpretação dos resultados, otimizando as etapas futuras da análise."
   ]
  },
  {
   "cell_type": "code",
   "execution_count": 45,
   "metadata": {},
   "outputs": [],
   "source": [
    "df[\"Exportacoes_US$\"] = df[\"Exportacoes_US$\"].astype(str)\n",
    "\n",
    "df[\"Exportacoes_US$\"] = (\n",
    "    df[\"Exportacoes_US$\"]\n",
    "    .str.replace(\".\", \"\", regex=False)  \n",
    "    .str.replace(\",\", \".\")            \n",
    ")\n",
    "\n",
    "\n",
    "df[\"Exportacoes_US$\"] = df[\"Exportacoes_US$\"].astype(float)\n",
    "\n",
    "taxa_cambio = 5.68\n",
    "\n",
    "# Criar a nova coluna em reais\n",
    "df[\"Exportacoes_R$\"] = df[\"Exportacoes_US$\"] * taxa_cambio\n",
    "\n",
    "# Remover a coluna original\n",
    "df = df.drop(columns=[\"Exportacoes_US$\"])\n",
    "\n",
    "\n",
    "df[\"Area\"]=df[\"Area\"].astype(str)\n",
    "df[\"Area\"] = (\n",
    "    df[\"Area\"]\n",
    "    .str.replace(\".\",\"\",regex=False)\n",
    "    .str.replace(\",\",\".\")\n",
    ")\n",
    "df[\"Area\"]=df[\"Area\"].astype(float)\n",
    "\n",
    "df[\"povoamento\"]=df[\"povoamento\"].astype(str)\n",
    "df[\"povoamento\"] = (\n",
    "    df[\"povoamento\"]\n",
    "    .str.replace(\".\",\"\",regex=False)\n",
    "    .str.replace(\",\",\".\")\n",
    ")\n",
    "df[\"povoamento\"]=df[\"povoamento\"].astype(float)\n",
    "\n",
    "df[\"Populacao\"]=df[\"Populacao\"].astype(str)\n",
    "df[\"Populacao\"] = (\n",
    "    df[\"Populacao\"]\n",
    "    .str.replace(\".\",\"\",regex=False)\n",
    "    .str.replace(\",\",\".\")\n",
    ")\n",
    "df[\"Populacao\"]=df[\"Populacao\"].astype(float)\n",
    "\n",
    "df[\"PessoalOcupado\"]=df[\"PessoalOcupado\"].astype(str)\n",
    "df[\"PessoalOcupado\"] = (\n",
    "    df[\"PessoalOcupado\"]\n",
    "    .str.replace(\".\",\"\",regex=False)\n",
    "    .str.replace(\",\",\".\")\n",
    ")\n",
    "df[\"PessoalOcupado\"]=df[\"PessoalOcupado\"].astype(float)\n",
    "\n",
    "df[\"PessoalAssalariado\"]=df[\"PessoalAssalariado\"].astype(str)\n",
    "df[\"PessoalAssalariado\"] = (\n",
    "    df[\"PessoalAssalariado\"]\n",
    "    .str.replace(\".\",\"\",regex=False)\n",
    "    .str.replace(\",\",\".\")\n",
    ")\n",
    "df[\"PessoalAssalariado\"]=df[\"PessoalAssalariado\"].astype(float)\n",
    "\n",
    "df.to_csv(\"dataFrame/BrStatsAtualizada.csv\", index=False, sep=\";\", decimal=\",\")\n",
    "\n"
   ]
  },
  {
   "cell_type": "markdown",
   "metadata": {},
   "source": [
    "#### 📏 Ajuste de Unidades dos Dados\n",
    "De acordo com o artigo que acompanha a base de dados, algumas colunas apresentam seus valores em unidades escaladas, o que pode causar interpretações equivocadas caso não seja considerado no momento da análise.\n",
    "\n",
    "Para facilitar a leitura e garantir que os dados reflitam valores reais e interpretáveis diretamente, realizamos os seguintes ajustes:\n",
    "\n",
    "Multiplicamos as colunas PIB, VlProducaoAgricola e VlProducaoPecuaria por 1.000, já que seus valores estavam originalmente representados em milhares (10³).\n",
    "\n",
    "Multiplicamos a coluna AreaPlantada_h por 10.000, pois os dados estavam expressos em dezenas de mil (10⁴).\n",
    "\n",
    "A decisão de realizar essas conversões foi tomada tanto por motivos estéticos quanto práticos: ao apresentar os dados já na unidade correta, evitamos que o usuário precise realizar conversões manuais para interpretar os valores, tornando a análise mais fluida, precisa e acessível.\n"
   ]
  },
  {
   "cell_type": "code",
   "execution_count": 46,
   "metadata": {},
   "outputs": [],
   "source": [
    "df[\"PIB\"] *= 1000\n",
    "df[\"VlProducaoAgricola\"] *= 1000\n",
    "df[\"VlProducaoPecuaria\"] *= 1000\n",
    "df[\"AreaPlantada_h\"] *= 10000\n",
    "df.to_csv(\"dataFrame/BrStatsAtualizada.csv\", index=False, sep=\";\", decimal=\",\")"
   ]
  },
  {
   "cell_type": "markdown",
   "metadata": {},
   "source": [
    "#### 📊 Visualização da Tabela Após Tratamentos e Limpeza de Dados\n",
    "Após realizar os tratamentos e ajustes necessários nos dados, conseguimos reduzir a tabela para focar apenas nas informações essenciais para responder às 10 perguntas-chave do nosso projeto. Essa limpeza permitiu que os dados fossem mais objetivos e relevantes para a análise das questões propostas. "
   ]
  },
  {
   "cell_type": "code",
   "execution_count": 47,
   "metadata": {},
   "outputs": [
    {
     "name": "stdout",
     "output_type": "stream",
     "text": [
      "Tabela Atualizada no arquivo 'BrStatsAtualizada.csv'.\n"
     ]
    }
   ],
   "source": [
    "\n",
    "print(\"Tabela Atualizada no arquivo 'BrStatsAtualizada.csv'.\")\n"
   ]
  },
  {
   "cell_type": "markdown",
   "metadata": {},
   "source": [
    "#### 📊 Criação da Tabela de PIB per Capita\n",
    "Para aprofundar nossa análise econômica, decidimos criar uma tabela auxiliar com o PIB per capita, segmentado por região, estado e município, ao longo dos diferentes anos. Essa métrica é essencial para avaliar o desenvolvimento relativo entre as localidades de forma mais justa e proporcional à sua população.\n",
    "\n",
    "No entanto, como o cálculo depende diretamente das colunas PIB e População, precisamos garantir que os dados utilizados sejam consistentes. Por isso, removemos todas as linhas que apresentavam valores nulos nessas duas colunas, evitando assim resultados incorretos ou distorcidos.\n",
    "\n",
    "O cálculo do PIB per capita foi feito utilizando a fórmula:\n",
    "\n",
    "PIB per capita = PIB/população\n",
    "\n",
    "Em seguida, organizamos 2 novas tabela, uma para cada situação de PIB_per_capita.\n"
   ]
  },
  {
   "cell_type": "code",
   "execution_count": 48,
   "metadata": {},
   "outputs": [],
   "source": [
    "\n",
    "\n",
    "# Limpa nomes das colunas\n",
    "df.columns = df.columns.str.strip()\n",
    "\n",
    "\n",
    "df['Ano'] = df['Ano'].astype(str)\n",
    "\n",
    "# Lista de colunas que NÃO devem ser convertidas para número\n",
    "colunas_nao_numericas = ['Municipio', 'UF', 'Regiao','Ano']\n",
    "\n",
    "\n",
    "# Converte todas as outras colunas para float, tratando o formato brasileiro\n",
    "for col in df.columns:\n",
    "    if col not in colunas_nao_numericas:\n",
    "        df[col] = df[col].astype(str).str.replace('.', '', regex=False).str.replace(',', '.', regex=False)\n",
    "        try:\n",
    "            df[col] = df[col].astype(float)\n",
    "        except ValueError:\n",
    "            print(f\"⚠️ Não foi possível converter a coluna '{col}' para float.\")\n",
    "\n",
    "# Filtra linhas com PIB e População válidos\n",
    "df_pib_percapita = df.dropna(subset=['PIB', 'Populacao'])\n",
    "\n",
    "# Calcula o PIB per capita\n",
    "df_pib_percapita['PIB_per_capita'] = df_pib_percapita['PIB'] / df_pib_percapita['Populacao']\n",
    "\n",
    "# Seleciona colunas relevantes\n",
    "df_pib_percapita = df_pib_percapita[['Ano', 'Regiao', 'UF', 'Municipio', 'PIB', 'Populacao', 'PIB_per_capita']]\n",
    "\n",
    "# Calcula médias por estado e região\n",
    "df_estado = df_pib_percapita.groupby(['Ano', 'UF'])['PIB_per_capita'].mean().reset_index()\n",
    "df_regiao = df_pib_percapita.groupby(['Ano', 'Regiao'])['PIB_per_capita'].mean().reset_index()\n",
    "\n",
    "\n",
    "df_regiao['Ano'] = df_regiao['Ano'].astype(str)\n",
    "\n",
    "# Cria pasta para salvar os resultados\n",
    "os.makedirs('pib_per_capita', exist_ok=True)\n",
    "\n",
    "\n",
    "# Salva os arquivos\n",
    "df_estado.to_csv('pib_per_capita/pib_per_capita_estados.csv', index=False)\n",
    "df_regiao.to_csv('pib_per_capita/pib_per_capita_regioes.csv', index=False)\n",
    "\n"
   ]
  },
  {
   "cell_type": "markdown",
   "metadata": {},
   "source": [
    "#### 📊 Padronização dos Dados\n",
    "Durante nossa análise, identificamos uma discrepância nos formatos entre os anos:\n",
    "2016 a 2020: Valores em milhares de reais (ex: 31.20 = R$ 31.200,00)\n",
    "2021: Valores em unidades brutas (ex: 555.879 = R$ 555.879,00)\n",
    "Para garantir consistência, implementamos um sistema inteligente de verificação e correção:"
   ]
  },
  {
   "cell_type": "code",
   "execution_count": 49,
   "metadata": {},
   "outputs": [
    {
     "name": "stdout",
     "output_type": "stream",
     "text": [
      "Dados em pib_per_capita_estados.csv já padronizados (pulando correção)\n",
      "✅ Arquivo pib_per_capita_estados.csv processado e salvo com sucesso!\n",
      "Dados em pib_per_capita_regioes.csv já padronizados (pulando correção)\n",
      "✅ Arquivo pib_per_capita_regioes.csv processado e salvo com sucesso!\n",
      "Processo concluído. Verifique os logs acima!\n"
     ]
    }
   ],
   "source": [
    "# Lista de arquivos a corrigir\n",
    "arquivos = [\n",
    "    'pib_per_capita_estados.csv',\n",
    "    'pib_per_capita_regioes.csv'\n",
    "]\n",
    "\n",
    "# Pasta de destino (garante que existe)\n",
    "os.makedirs('pib_per_capita', exist_ok=True)\n",
    "\n",
    "for arquivo in arquivos:\n",
    "    try:\n",
    "        # Carrega o CSV (convertendo Ano para string para comparação segura)\n",
    "        df = pd.read_csv(f'pib_per_capita/{arquivo}')\n",
    "        df['Ano'] = df['Ano'].astype(str)  # Padroniza como string\n",
    "        \n",
    "        # Verificação de segurança (só aplica se valores de 2016-2020 estiverem abaixo de 100)\n",
    "        anos_verificar = ['2016', '2017', '2018', '2019', '2020']\n",
    "        media_pre_2021 = df[df['Ano'].isin(anos_verificar)]['PIB_per_capita'].mean()\n",
    "        \n",
    "        if media_pre_2021 < 100:  # Se parece estar em milhares\n",
    "            print(f\"Aplicando correção em {arquivo}...\")\n",
    "            df.loc[df['Ano'].isin(anos_verificar), 'PIB_per_capita'] *= 1000\n",
    "        else:\n",
    "            print(f\"Dados em {arquivo} já padronizados (pulando correção)\")\n",
    "        \n",
    "        # Verificação para 2021 (opcional)\n",
    "        if '2021' in df['Ano'].unique():\n",
    "            media_2021 = df[df['Ano'] == '2021']['PIB_per_capita'].mean()\n",
    "            \n",
    "    \n",
    "            # Verificação geral para valores altos em 2021\n",
    "            if media_2021 > 100000:  # Valores muito altos\n",
    "                print(f\"Ajustando valores de 2021 em {arquivo}...\")\n",
    "                df.loc[df['Ano'] == '2021', 'PIB_per_capita'] /= 10\n",
    "        \n",
    "        # Salva com encoding UTF-8 (evita erros em caracteres especiais)\n",
    "        df.to_csv(f'pib_per_capita/{arquivo}', index=False, encoding='utf-8')\n",
    "        print(f\"✅ Arquivo {arquivo} processado e salvo com sucesso!\")\n",
    "        \n",
    "    except FileNotFoundError:\n",
    "        print(f\"⚠️ Arquivo {arquivo} não encontrado. Pulando...\")\n",
    "    except Exception as e:\n",
    "        print(f\"⚠️ Erro ao processar {arquivo}: {str(e)}\")\n",
    "\n",
    "print(\"Processo concluído. Verifique os logs acima!\")"
   ]
  },
  {
   "cell_type": "markdown",
   "metadata": {},
   "source": [
    "#### 🧹 Conclusões com o Tratamento dos Dados\n",
    "Com os ajustes feitos nos dados, conseguimos filtrar  as informações de maneira que os anos de 2016 a 2021 foram tratados, e as colunas e linhas que não eram relevantes para o projeto foram removidas. Isso resultou em uma tabela mais enxuta e focada, o que facilita a análise das questões propostas.\n",
    "\n",
    "O tratamento realizado também garantiu que as unidades das colunas fossem ajustadas corretamente, permitindo que as comparações entre os dados fossem mais precisas.Além disso, realizar a conversão de moedas ajudará com as análises futuras. \n",
    "\n",
    "Agora, com os dados organizados e refinados, estamos prontos para avançar nas análises e começar a responder às questões do projeto de maneira mais eficaz."
   ]
  },
  {
   "cell_type": "markdown",
   "metadata": {},
   "source": [
    "## 📌 Menu de Navegação\n",
    "\n",
    "- [🔹  Menu de Navegação](#menu)"
   ]
  },
  {
   "cell_type": "markdown",
   "metadata": {},
   "source": [
    "<a id=\"etapa2\"></a>\n",
    "# Etapa 2 - Projeto Desenvolvedor 🚀"
   ]
  },
  {
   "cell_type": "markdown",
   "metadata": {},
   "source": [
    "### Descrição Etapa 2\n",
    "Com os dados preparados e entendidos, nesta etapa o grupo deve gerar estatísticas descritivas, gráficos e tabelas para conhecer os dados. Todo conhecimento importante extraído deverá ser documentado e discutido. Pensem fora da caixa e tentem extrair correlações não óbvias entre os atributos e objetos. Nesta etapa, o objetivo é responder parte das perguntas elaboradas. Lembrem-se que novos questionamentos podem surgir.\n"
   ]
  },
  {
   "cell_type": "markdown",
   "metadata": {},
   "source": [
    "### Divisão de Tarefas\n",
    "Antes de iniciarmos a **Etapa 2**, decidimos revisar e aprimorar alguns pontos da **Etapa 1** que não haviam sido totalmente implementados na primeira entrega.\n",
    "\n",
    " **Revisões na Etapa 1:**\n",
    "- Identificamos que o ano de **2021** estava sem dados de **PIB** no *dataframe* original.\n",
    "- Buscamos uma nova tabela no site do **IBGE** contendo os dados corretos e realizamos o **merge** com o nosso *dataframe* atualizado.\n",
    "- Com base nisso, também criamos as tabelas de **PIB per capita** por **estado** e por **região**.\n",
    "- Divimos o dataframe e as tabelas de pib_per_capita em pastas para melhor organização e menos poluimento visual na organização do projeto.\n",
    "- As explicações dos tratamento de dados realizados no dataframe também foram melhorados, como foi sugerido para o grupo. \n",
    "\n",
    "**Responsáveis:**\n",
    "- Essas atividades foram realizadas por **Aline**.\n",
    "- A padronização dos dados vindos da nova tabela do IBGE foi feita por **Marcus**.\n",
    "\n",
    "---\n",
    "\n",
    "Na **Etapa 2**, cada integrante do grupo ficou responsável por escolher perguntas definidas na Etapa 1 e construir gráficos que ajudem a relacionar os dados com as perguntas. A divisão de temas ficou assim:\n",
    "\n",
    "##### 👩‍💻 Aline\n",
    "- 📈 Análise exploratória do **PIB per capita ao longo do tempo**\n",
    "- 🔍 Relação entre **empregos informais** e **PIB per capita**\n",
    "\n",
    "##### 👨‍💻 Marcus\n",
    "- 💡 Relação entre **PIB per capita** e **mortalidade infantil**\n",
    "- 🌾 Análise da **produção agrícola** por região x **PIB per capita**\n",
    "- 📐 Análise da **área plantada** x **densidade populacional**\n",
    "\n",
    "##### 👩‍🌾 Luana\n",
    "- 📊 Relação entre **produção pecuária** x **PIB per capita**\n",
    "- 🌽 Relação entre **produção agrícola** x **mortalidade infantil**\n",
    "\n",
    "##### 👨‍💼 Gustavo\n",
    "- 🧭 **Densidade populacional** x **empregos**\n",
    "- 🚼 **Densidade populacional** x **mortalidade infantil**\n",
    "- 🌎 **PIB per capita** x **exportações**\n",
    "\n",
    "Cada integrante foi responsável por:\n",
    "- Escolher o tipo de gráfico mais adequado.\n",
    "- Justificar a escolha do gráfico.\n",
    "- Explicar os dados apresentados.\n",
    "- Apontar as conclusões da análise.\n",
    "\n",
    "Os demais textos explicativos e *markdowns* de apoio ao notebook foram escritos por **Aline**.\n",
    "\n",
    "---\n",
    "\n",
    "\n",
    "Acreditamos que, com essa divisão de tarefas, o trabalho ficou:\n",
    "\n",
    "- 📌 Mais **equilibrado** na participação do grupo.\n",
    "- 📌 Mais **coeso** na estrutura e nas explicações.\n",
    "- 📌 Mais **completo** em termos de análise de dados.\n",
    "\n",
    "Recomendamos fortemente que este repositório seja clonado localmente na máquina, e que as bibliotecas listadas abaixo sejam instaladas. Isso porque o grupo optou por utilizar gráficos interativos, os quais não podem ser visualizados diretamente pelo GitHub. Para uma melhor experiência, é necessário executar o projeto em uma IDE compatível, como o Jupyter Notebook ou VS Code."
   ]
  },
  {
   "cell_type": "markdown",
   "metadata": {},
   "source": [
    "#### 🧩 Importação da Biblioteca de Visualização\n",
    "\n",
    "Para a criação dos gráficos interativos e animados, utilizaremos as biblioteca abaixo, umas das ferramentas mais completas para visualização de dados em Python.\n",
    "Se você ainda não possui a biblioteca instalada, basta rodar o seguinte comando:\n",
    "\n",
    "```bash\n",
    "pip install plotly\n"
   ]
  },
  {
   "cell_type": "code",
   "execution_count": 50,
   "metadata": {},
   "outputs": [],
   "source": [
    "import plotly.express as px\n",
    "import plotly.graph_objects as go\n",
    "from plotly.subplots import make_subplots\n"
   ]
  },
  {
   "cell_type": "markdown",
   "metadata": {},
   "source": [
    "#### 📊 Análise Exploratória do PIB per capita ao longo do tempo\n",
    "Analisar o PIB_per_capita por estado e região ao longo do tempo (2016-2021)."
   ]
  },
  {
   "cell_type": "code",
   "execution_count": 51,
   "metadata": {},
   "outputs": [
    {
     "data": {
      "application/vnd.plotly.v1+json": {
       "config": {
        "plotlyServerURL": "https://plot.ly"
       },
       "data": [
        {
         "hovertemplate": "Regiao=%{x}<br>Ano=2016<br>PIB per capita (R$)=%{y}<extra></extra>",
         "ids": [
          "Centro-Oeste"
         ],
         "legendgroup": "Centro-Oeste",
         "marker": {
          "color": "#636efa",
          "pattern": {
           "shape": ""
          }
         },
         "name": "Centro-Oeste",
         "orientation": "v",
         "showlegend": true,
         "textposition": "auto",
         "type": "bar",
         "x": [
          "Centro-Oeste"
         ],
         "xaxis": "x",
         "y": {
          "bdata": "a1K4oHt53kA=",
          "dtype": "f8"
         },
         "yaxis": "y"
        },
        {
         "hovertemplate": "Regiao=%{x}<br>Ano=2016<br>PIB per capita (R$)=%{y}<extra></extra>",
         "ids": [
          "Nordeste"
         ],
         "legendgroup": "Nordeste",
         "marker": {
          "color": "#EF553B",
          "pattern": {
           "shape": ""
          }
         },
         "name": "Nordeste",
         "orientation": "v",
         "showlegend": true,
         "textposition": "auto",
         "type": "bar",
         "x": [
          "Nordeste"
         ],
         "xaxis": "x",
         "y": {
          "bdata": "VQKCqdQKxEA=",
          "dtype": "f8"
         },
         "yaxis": "y"
        },
        {
         "hovertemplate": "Regiao=%{x}<br>Ano=2016<br>PIB per capita (R$)=%{y}<extra></extra>",
         "ids": [
          "Norte"
         ],
         "legendgroup": "Norte",
         "marker": {
          "color": "#00cc96",
          "pattern": {
           "shape": ""
          }
         },
         "name": "Norte",
         "orientation": "v",
         "showlegend": true,
         "textposition": "auto",
         "type": "bar",
         "x": [
          "Norte"
         ],
         "xaxis": "x",
         "y": {
          "bdata": "wPQaHrudzEA=",
          "dtype": "f8"
         },
         "yaxis": "y"
        },
        {
         "hovertemplate": "Regiao=%{x}<br>Ano=2016<br>PIB per capita (R$)=%{y}<extra></extra>",
         "ids": [
          "Sudeste"
         ],
         "legendgroup": "Sudeste",
         "marker": {
          "color": "#ab63fa",
          "pattern": {
           "shape": ""
          }
         },
         "name": "Sudeste",
         "orientation": "v",
         "showlegend": true,
         "textposition": "auto",
         "type": "bar",
         "x": [
          "Sudeste"
         ],
         "xaxis": "x",
         "y": {
          "bdata": "D383wNtO10A=",
          "dtype": "f8"
         },
         "yaxis": "y"
        },
        {
         "hovertemplate": "Regiao=%{x}<br>Ano=2016<br>PIB per capita (R$)=%{y}<extra></extra>",
         "ids": [
          "Sul"
         ],
         "legendgroup": "Sul",
         "marker": {
          "color": "#FFA15A",
          "pattern": {
           "shape": ""
          }
         },
         "name": "Sul",
         "orientation": "v",
         "showlegend": true,
         "textposition": "auto",
         "type": "bar",
         "x": [
          "Sul"
         ],
         "xaxis": "x",
         "y": {
          "bdata": "rHUGGfLI3kA=",
          "dtype": "f8"
         },
         "yaxis": "y"
        }
       ],
       "frames": [
        {
         "data": [
          {
           "hovertemplate": "Regiao=%{x}<br>Ano=2016<br>PIB per capita (R$)=%{y}<extra></extra>",
           "ids": [
            "Centro-Oeste"
           ],
           "legendgroup": "Centro-Oeste",
           "marker": {
            "color": "#636efa",
            "pattern": {
             "shape": ""
            }
           },
           "name": "Centro-Oeste",
           "orientation": "v",
           "showlegend": true,
           "textposition": "auto",
           "type": "bar",
           "x": [
            "Centro-Oeste"
           ],
           "xaxis": "x",
           "y": {
            "bdata": "a1K4oHt53kA=",
            "dtype": "f8"
           },
           "yaxis": "y"
          },
          {
           "hovertemplate": "Regiao=%{x}<br>Ano=2016<br>PIB per capita (R$)=%{y}<extra></extra>",
           "ids": [
            "Nordeste"
           ],
           "legendgroup": "Nordeste",
           "marker": {
            "color": "#EF553B",
            "pattern": {
             "shape": ""
            }
           },
           "name": "Nordeste",
           "orientation": "v",
           "showlegend": true,
           "textposition": "auto",
           "type": "bar",
           "x": [
            "Nordeste"
           ],
           "xaxis": "x",
           "y": {
            "bdata": "VQKCqdQKxEA=",
            "dtype": "f8"
           },
           "yaxis": "y"
          },
          {
           "hovertemplate": "Regiao=%{x}<br>Ano=2016<br>PIB per capita (R$)=%{y}<extra></extra>",
           "ids": [
            "Norte"
           ],
           "legendgroup": "Norte",
           "marker": {
            "color": "#00cc96",
            "pattern": {
             "shape": ""
            }
           },
           "name": "Norte",
           "orientation": "v",
           "showlegend": true,
           "textposition": "auto",
           "type": "bar",
           "x": [
            "Norte"
           ],
           "xaxis": "x",
           "y": {
            "bdata": "wPQaHrudzEA=",
            "dtype": "f8"
           },
           "yaxis": "y"
          },
          {
           "hovertemplate": "Regiao=%{x}<br>Ano=2016<br>PIB per capita (R$)=%{y}<extra></extra>",
           "ids": [
            "Sudeste"
           ],
           "legendgroup": "Sudeste",
           "marker": {
            "color": "#ab63fa",
            "pattern": {
             "shape": ""
            }
           },
           "name": "Sudeste",
           "orientation": "v",
           "showlegend": true,
           "textposition": "auto",
           "type": "bar",
           "x": [
            "Sudeste"
           ],
           "xaxis": "x",
           "y": {
            "bdata": "D383wNtO10A=",
            "dtype": "f8"
           },
           "yaxis": "y"
          },
          {
           "hovertemplate": "Regiao=%{x}<br>Ano=2016<br>PIB per capita (R$)=%{y}<extra></extra>",
           "ids": [
            "Sul"
           ],
           "legendgroup": "Sul",
           "marker": {
            "color": "#FFA15A",
            "pattern": {
             "shape": ""
            }
           },
           "name": "Sul",
           "orientation": "v",
           "showlegend": true,
           "textposition": "auto",
           "type": "bar",
           "x": [
            "Sul"
           ],
           "xaxis": "x",
           "y": {
            "bdata": "rHUGGfLI3kA=",
            "dtype": "f8"
           },
           "yaxis": "y"
          }
         ],
         "name": "2016"
        },
        {
         "data": [
          {
           "hovertemplate": "Regiao=%{x}<br>Ano=2017<br>PIB per capita (R$)=%{y}<extra></extra>",
           "ids": [
            "Centro-Oeste"
           ],
           "legendgroup": "Centro-Oeste",
           "marker": {
            "color": "#636efa",
            "pattern": {
             "shape": ""
            }
           },
           "name": "Centro-Oeste",
           "orientation": "v",
           "showlegend": true,
           "textposition": "auto",
           "type": "bar",
           "x": [
            "Centro-Oeste"
           ],
           "xaxis": "x",
           "y": {
            "bdata": "nbuP5b3y3kA=",
            "dtype": "f8"
           },
           "yaxis": "y"
          },
          {
           "hovertemplate": "Regiao=%{x}<br>Ano=2017<br>PIB per capita (R$)=%{y}<extra></extra>",
           "ids": [
            "Nordeste"
           ],
           "legendgroup": "Nordeste",
           "marker": {
            "color": "#EF553B",
            "pattern": {
             "shape": ""
            }
           },
           "name": "Nordeste",
           "orientation": "v",
           "showlegend": true,
           "textposition": "auto",
           "type": "bar",
           "x": [
            "Nordeste"
           ],
           "xaxis": "x",
           "y": {
            "bdata": "nLJ1CCPjxUA=",
            "dtype": "f8"
           },
           "yaxis": "y"
          },
          {
           "hovertemplate": "Regiao=%{x}<br>Ano=2017<br>PIB per capita (R$)=%{y}<extra></extra>",
           "ids": [
            "Norte"
           ],
           "legendgroup": "Norte",
           "marker": {
            "color": "#00cc96",
            "pattern": {
             "shape": ""
            }
           },
           "name": "Norte",
           "orientation": "v",
           "showlegend": true,
           "textposition": "auto",
           "type": "bar",
           "x": [
            "Norte"
           ],
           "xaxis": "x",
           "y": {
            "bdata": "8WarL9fEz0A=",
            "dtype": "f8"
           },
           "yaxis": "y"
          },
          {
           "hovertemplate": "Regiao=%{x}<br>Ano=2017<br>PIB per capita (R$)=%{y}<extra></extra>",
           "ids": [
            "Sudeste"
           ],
           "legendgroup": "Sudeste",
           "marker": {
            "color": "#ab63fa",
            "pattern": {
             "shape": ""
            }
           },
           "name": "Sudeste",
           "orientation": "v",
           "showlegend": true,
           "textposition": "auto",
           "type": "bar",
           "x": [
            "Sudeste"
           ],
           "xaxis": "x",
           "y": {
            "bdata": "JFOymoqk2EA=",
            "dtype": "f8"
           },
           "yaxis": "y"
          },
          {
           "hovertemplate": "Regiao=%{x}<br>Ano=2017<br>PIB per capita (R$)=%{y}<extra></extra>",
           "ids": [
            "Sul"
           ],
           "legendgroup": "Sul",
           "marker": {
            "color": "#FFA15A",
            "pattern": {
             "shape": ""
            }
           },
           "name": "Sul",
           "orientation": "v",
           "showlegend": true,
           "textposition": "auto",
           "type": "bar",
           "x": [
            "Sul"
           ],
           "xaxis": "x",
           "y": {
            "bdata": "7Rs4dOCE30A=",
            "dtype": "f8"
           },
           "yaxis": "y"
          }
         ],
         "name": "2017"
        },
        {
         "data": [
          {
           "hovertemplate": "Regiao=%{x}<br>Ano=2018<br>PIB per capita (R$)=%{y}<extra></extra>",
           "ids": [
            "Centro-Oeste"
           ],
           "legendgroup": "Centro-Oeste",
           "marker": {
            "color": "#636efa",
            "pattern": {
             "shape": ""
            }
           },
           "name": "Centro-Oeste",
           "orientation": "v",
           "showlegend": true,
           "textposition": "auto",
           "type": "bar",
           "x": [
            "Centro-Oeste"
           ],
           "xaxis": "x",
           "y": {
            "bdata": "qrccC6tr4EA=",
            "dtype": "f8"
           },
           "yaxis": "y"
          },
          {
           "hovertemplate": "Regiao=%{x}<br>Ano=2018<br>PIB per capita (R$)=%{y}<extra></extra>",
           "ids": [
            "Nordeste"
           ],
           "legendgroup": "Nordeste",
           "marker": {
            "color": "#EF553B",
            "pattern": {
             "shape": ""
            }
           },
           "name": "Nordeste",
           "orientation": "v",
           "showlegend": true,
           "textposition": "auto",
           "type": "bar",
           "x": [
            "Nordeste"
           ],
           "xaxis": "x",
           "y": {
            "bdata": "18Rn3+iKx0A=",
            "dtype": "f8"
           },
           "yaxis": "y"
          },
          {
           "hovertemplate": "Regiao=%{x}<br>Ano=2018<br>PIB per capita (R$)=%{y}<extra></extra>",
           "ids": [
            "Norte"
           ],
           "legendgroup": "Norte",
           "marker": {
            "color": "#00cc96",
            "pattern": {
             "shape": ""
            }
           },
           "name": "Norte",
           "orientation": "v",
           "showlegend": true,
           "textposition": "auto",
           "type": "bar",
           "x": [
            "Norte"
           ],
           "xaxis": "x",
           "y": {
            "bdata": "Ksf35Nvm0EA=",
            "dtype": "f8"
           },
           "yaxis": "y"
          },
          {
           "hovertemplate": "Regiao=%{x}<br>Ano=2018<br>PIB per capita (R$)=%{y}<extra></extra>",
           "ids": [
            "Sudeste"
           ],
           "legendgroup": "Sudeste",
           "marker": {
            "color": "#ab63fa",
            "pattern": {
             "shape": ""
            }
           },
           "name": "Sudeste",
           "orientation": "v",
           "showlegend": true,
           "textposition": "auto",
           "type": "bar",
           "x": [
            "Sudeste"
           ],
           "xaxis": "x",
           "y": {
            "bdata": "RW82RJzI2UA=",
            "dtype": "f8"
           },
           "yaxis": "y"
          },
          {
           "hovertemplate": "Regiao=%{x}<br>Ano=2018<br>PIB per capita (R$)=%{y}<extra></extra>",
           "ids": [
            "Sul"
           ],
           "legendgroup": "Sul",
           "marker": {
            "color": "#FFA15A",
            "pattern": {
             "shape": ""
            }
           },
           "name": "Sul",
           "orientation": "v",
           "showlegend": true,
           "textposition": "auto",
           "type": "bar",
           "x": [
            "Sul"
           ],
           "xaxis": "x",
           "y": {
            "bdata": "gxwxHB8P4UA=",
            "dtype": "f8"
           },
           "yaxis": "y"
          }
         ],
         "name": "2018"
        },
        {
         "data": [
          {
           "hovertemplate": "Regiao=%{x}<br>Ano=2019<br>PIB per capita (R$)=%{y}<extra></extra>",
           "ids": [
            "Centro-Oeste"
           ],
           "legendgroup": "Centro-Oeste",
           "marker": {
            "color": "#636efa",
            "pattern": {
             "shape": ""
            }
           },
           "name": "Centro-Oeste",
           "orientation": "v",
           "showlegend": true,
           "textposition": "auto",
           "type": "bar",
           "x": [
            "Centro-Oeste"
           ],
           "xaxis": "x",
           "y": {
            "bdata": "fRnZoyXy4EA=",
            "dtype": "f8"
           },
           "yaxis": "y"
          },
          {
           "hovertemplate": "Regiao=%{x}<br>Ano=2019<br>PIB per capita (R$)=%{y}<extra></extra>",
           "ids": [
            "Nordeste"
           ],
           "legendgroup": "Nordeste",
           "marker": {
            "color": "#EF553B",
            "pattern": {
             "shape": ""
            }
           },
           "name": "Nordeste",
           "orientation": "v",
           "showlegend": true,
           "textposition": "auto",
           "type": "bar",
           "x": [
            "Nordeste"
           ],
           "xaxis": "x",
           "y": {
            "bdata": "YgJ5VLy5yEA=",
            "dtype": "f8"
           },
           "yaxis": "y"
          },
          {
           "hovertemplate": "Regiao=%{x}<br>Ano=2019<br>PIB per capita (R$)=%{y}<extra></extra>",
           "ids": [
            "Norte"
           ],
           "legendgroup": "Norte",
           "marker": {
            "color": "#00cc96",
            "pattern": {
             "shape": ""
            }
           },
           "name": "Norte",
           "orientation": "v",
           "showlegend": true,
           "textposition": "auto",
           "type": "bar",
           "x": [
            "Norte"
           ],
           "xaxis": "x",
           "y": {
            "bdata": "kZ0mw04B0kA=",
            "dtype": "f8"
           },
           "yaxis": "y"
          },
          {
           "hovertemplate": "Regiao=%{x}<br>Ano=2019<br>PIB per capita (R$)=%{y}<extra></extra>",
           "ids": [
            "Sudeste"
           ],
           "legendgroup": "Sudeste",
           "marker": {
            "color": "#ab63fa",
            "pattern": {
             "shape": ""
            }
           },
           "name": "Sudeste",
           "orientation": "v",
           "showlegend": true,
           "textposition": "auto",
           "type": "bar",
           "x": [
            "Sudeste"
           ],
           "xaxis": "x",
           "y": {
            "bdata": "78b/HCQ/20A=",
            "dtype": "f8"
           },
           "yaxis": "y"
          },
          {
           "hovertemplate": "Regiao=%{x}<br>Ano=2019<br>PIB per capita (R$)=%{y}<extra></extra>",
           "ids": [
            "Sul"
           ],
           "legendgroup": "Sul",
           "marker": {
            "color": "#FFA15A",
            "pattern": {
             "shape": ""
            }
           },
           "name": "Sul",
           "orientation": "v",
           "showlegend": true,
           "textposition": "auto",
           "type": "bar",
           "x": [
            "Sul"
           ],
           "xaxis": "x",
           "y": {
            "bdata": "zALo+z/K4UA=",
            "dtype": "f8"
           },
           "yaxis": "y"
          }
         ],
         "name": "2019"
        },
        {
         "data": [
          {
           "hovertemplate": "Regiao=%{x}<br>Ano=2020<br>PIB per capita (R$)=%{y}<extra></extra>",
           "ids": [
            "Centro-Oeste"
           ],
           "legendgroup": "Centro-Oeste",
           "marker": {
            "color": "#636efa",
            "pattern": {
             "shape": ""
            }
           },
           "name": "Centro-Oeste",
           "orientation": "v",
           "showlegend": true,
           "textposition": "auto",
           "type": "bar",
           "x": [
            "Centro-Oeste"
           ],
           "xaxis": "x",
           "y": {
            "bdata": "5cD58AQf5UA=",
            "dtype": "f8"
           },
           "yaxis": "y"
          },
          {
           "hovertemplate": "Regiao=%{x}<br>Ano=2020<br>PIB per capita (R$)=%{y}<extra></extra>",
           "ids": [
            "Nordeste"
           ],
           "legendgroup": "Nordeste",
           "marker": {
            "color": "#EF553B",
            "pattern": {
             "shape": ""
            }
           },
           "name": "Nordeste",
           "orientation": "v",
           "showlegend": true,
           "textposition": "auto",
           "type": "bar",
           "x": [
            "Nordeste"
           ],
           "xaxis": "x",
           "y": {
            "bdata": "9LhUgfPczUA=",
            "dtype": "f8"
           },
           "yaxis": "y"
          },
          {
           "hovertemplate": "Regiao=%{x}<br>Ano=2020<br>PIB per capita (R$)=%{y}<extra></extra>",
           "ids": [
            "Norte"
           ],
           "legendgroup": "Norte",
           "marker": {
            "color": "#00cc96",
            "pattern": {
             "shape": ""
            }
           },
           "name": "Norte",
           "orientation": "v",
           "showlegend": true,
           "textposition": "auto",
           "type": "bar",
           "x": [
            "Norte"
           ],
           "xaxis": "x",
           "y": {
            "bdata": "Y3wZAh4h10A=",
            "dtype": "f8"
           },
           "yaxis": "y"
          },
          {
           "hovertemplate": "Regiao=%{x}<br>Ano=2020<br>PIB per capita (R$)=%{y}<extra></extra>",
           "ids": [
            "Sudeste"
           ],
           "legendgroup": "Sudeste",
           "marker": {
            "color": "#ab63fa",
            "pattern": {
             "shape": ""
            }
           },
           "name": "Sudeste",
           "orientation": "v",
           "showlegend": true,
           "textposition": "auto",
           "type": "bar",
           "x": [
            "Sudeste"
           ],
           "xaxis": "x",
           "y": {
            "bdata": "DAkh+tZS3kA=",
            "dtype": "f8"
           },
           "yaxis": "y"
          },
          {
           "hovertemplate": "Regiao=%{x}<br>Ano=2020<br>PIB per capita (R$)=%{y}<extra></extra>",
           "ids": [
            "Sul"
           ],
           "legendgroup": "Sul",
           "marker": {
            "color": "#FFA15A",
            "pattern": {
             "shape": ""
            }
           },
           "name": "Sul",
           "orientation": "v",
           "showlegend": true,
           "textposition": "auto",
           "type": "bar",
           "x": [
            "Sul"
           ],
           "xaxis": "x",
           "y": {
            "bdata": "hB0NCQ/r40A=",
            "dtype": "f8"
           },
           "yaxis": "y"
          }
         ],
         "name": "2020"
        },
        {
         "data": [
          {
           "hovertemplate": "Regiao=%{x}<br>Ano=2021<br>PIB per capita (R$)=%{y}<extra></extra>",
           "ids": [
            "Centro-Oeste"
           ],
           "legendgroup": "Centro-Oeste",
           "marker": {
            "color": "#636efa",
            "pattern": {
             "shape": ""
            }
           },
           "name": "Centro-Oeste",
           "orientation": "v",
           "showlegend": true,
           "textposition": "auto",
           "type": "bar",
           "x": [
            "Centro-Oeste"
           ],
           "xaxis": "x",
           "y": {
            "bdata": "SbQVnn4k60A=",
            "dtype": "f8"
           },
           "yaxis": "y"
          },
          {
           "hovertemplate": "Regiao=%{x}<br>Ano=2021<br>PIB per capita (R$)=%{y}<extra></extra>",
           "ids": [
            "Nordeste"
           ],
           "legendgroup": "Nordeste",
           "marker": {
            "color": "#EF553B",
            "pattern": {
             "shape": ""
            }
           },
           "name": "Nordeste",
           "orientation": "v",
           "showlegend": true,
           "textposition": "auto",
           "type": "bar",
           "x": [
            "Nordeste"
           ],
           "xaxis": "x",
           "y": {
            "bdata": "BkYsADN500A=",
            "dtype": "f8"
           },
           "yaxis": "y"
          },
          {
           "hovertemplate": "Regiao=%{x}<br>Ano=2021<br>PIB per capita (R$)=%{y}<extra></extra>",
           "ids": [
            "Norte"
           ],
           "legendgroup": "Norte",
           "marker": {
            "color": "#00cc96",
            "pattern": {
             "shape": ""
            }
           },
           "name": "Norte",
           "orientation": "v",
           "showlegend": true,
           "textposition": "auto",
           "type": "bar",
           "x": [
            "Norte"
           ],
           "xaxis": "x",
           "y": {
            "bdata": "IGKBkd/o3UA=",
            "dtype": "f8"
           },
           "yaxis": "y"
          },
          {
           "hovertemplate": "Regiao=%{x}<br>Ano=2021<br>PIB per capita (R$)=%{y}<extra></extra>",
           "ids": [
            "Sudeste"
           ],
           "legendgroup": "Sudeste",
           "marker": {
            "color": "#ab63fa",
            "pattern": {
             "shape": ""
            }
           },
           "name": "Sudeste",
           "orientation": "v",
           "showlegend": true,
           "textposition": "auto",
           "type": "bar",
           "x": [
            "Sudeste"
           ],
           "xaxis": "x",
           "y": {
            "bdata": "YUFJOKgC40A=",
            "dtype": "f8"
           },
           "yaxis": "y"
          },
          {
           "hovertemplate": "Regiao=%{x}<br>Ano=2021<br>PIB per capita (R$)=%{y}<extra></extra>",
           "ids": [
            "Sul"
           ],
           "legendgroup": "Sul",
           "marker": {
            "color": "#FFA15A",
            "pattern": {
             "shape": ""
            }
           },
           "name": "Sul",
           "orientation": "v",
           "showlegend": true,
           "textposition": "auto",
           "type": "bar",
           "x": [
            "Sul"
           ],
           "xaxis": "x",
           "y": {
            "bdata": "HJawZxQY6kA=",
            "dtype": "f8"
           },
           "yaxis": "y"
          }
         ],
         "name": "2021"
        }
       ],
       "layout": {
        "barmode": "relative",
        "legend": {
         "title": {
          "text": "Regiao"
         },
         "tracegroupgap": 0
        },
        "sliders": [
         {
          "active": 0,
          "currentvalue": {
           "prefix": "Ano="
          },
          "len": 0.9,
          "pad": {
           "b": 10,
           "t": 60
          },
          "steps": [
           {
            "args": [
             [
              "2016"
             ],
             {
              "frame": {
               "duration": 0,
               "redraw": true
              },
              "fromcurrent": true,
              "mode": "immediate",
              "transition": {
               "duration": 0,
               "easing": "linear"
              }
             }
            ],
            "label": "2016",
            "method": "animate"
           },
           {
            "args": [
             [
              "2017"
             ],
             {
              "frame": {
               "duration": 0,
               "redraw": true
              },
              "fromcurrent": true,
              "mode": "immediate",
              "transition": {
               "duration": 0,
               "easing": "linear"
              }
             }
            ],
            "label": "2017",
            "method": "animate"
           },
           {
            "args": [
             [
              "2018"
             ],
             {
              "frame": {
               "duration": 0,
               "redraw": true
              },
              "fromcurrent": true,
              "mode": "immediate",
              "transition": {
               "duration": 0,
               "easing": "linear"
              }
             }
            ],
            "label": "2018",
            "method": "animate"
           },
           {
            "args": [
             [
              "2019"
             ],
             {
              "frame": {
               "duration": 0,
               "redraw": true
              },
              "fromcurrent": true,
              "mode": "immediate",
              "transition": {
               "duration": 0,
               "easing": "linear"
              }
             }
            ],
            "label": "2019",
            "method": "animate"
           },
           {
            "args": [
             [
              "2020"
             ],
             {
              "frame": {
               "duration": 0,
               "redraw": true
              },
              "fromcurrent": true,
              "mode": "immediate",
              "transition": {
               "duration": 0,
               "easing": "linear"
              }
             }
            ],
            "label": "2020",
            "method": "animate"
           },
           {
            "args": [
             [
              "2021"
             ],
             {
              "frame": {
               "duration": 0,
               "redraw": true
              },
              "fromcurrent": true,
              "mode": "immediate",
              "transition": {
               "duration": 0,
               "easing": "linear"
              }
             }
            ],
            "label": "2021",
            "method": "animate"
           }
          ],
          "x": 0.1,
          "xanchor": "left",
          "y": 0,
          "yanchor": "top"
         }
        ],
        "template": {
         "data": {
          "bar": [
           {
            "error_x": {
             "color": "#2a3f5f"
            },
            "error_y": {
             "color": "#2a3f5f"
            },
            "marker": {
             "line": {
              "color": "#E5ECF6",
              "width": 0.5
             },
             "pattern": {
              "fillmode": "overlay",
              "size": 10,
              "solidity": 0.2
             }
            },
            "type": "bar"
           }
          ],
          "barpolar": [
           {
            "marker": {
             "line": {
              "color": "#E5ECF6",
              "width": 0.5
             },
             "pattern": {
              "fillmode": "overlay",
              "size": 10,
              "solidity": 0.2
             }
            },
            "type": "barpolar"
           }
          ],
          "carpet": [
           {
            "aaxis": {
             "endlinecolor": "#2a3f5f",
             "gridcolor": "white",
             "linecolor": "white",
             "minorgridcolor": "white",
             "startlinecolor": "#2a3f5f"
            },
            "baxis": {
             "endlinecolor": "#2a3f5f",
             "gridcolor": "white",
             "linecolor": "white",
             "minorgridcolor": "white",
             "startlinecolor": "#2a3f5f"
            },
            "type": "carpet"
           }
          ],
          "choropleth": [
           {
            "colorbar": {
             "outlinewidth": 0,
             "ticks": ""
            },
            "type": "choropleth"
           }
          ],
          "contour": [
           {
            "colorbar": {
             "outlinewidth": 0,
             "ticks": ""
            },
            "colorscale": [
             [
              0,
              "#0d0887"
             ],
             [
              0.1111111111111111,
              "#46039f"
             ],
             [
              0.2222222222222222,
              "#7201a8"
             ],
             [
              0.3333333333333333,
              "#9c179e"
             ],
             [
              0.4444444444444444,
              "#bd3786"
             ],
             [
              0.5555555555555556,
              "#d8576b"
             ],
             [
              0.6666666666666666,
              "#ed7953"
             ],
             [
              0.7777777777777778,
              "#fb9f3a"
             ],
             [
              0.8888888888888888,
              "#fdca26"
             ],
             [
              1,
              "#f0f921"
             ]
            ],
            "type": "contour"
           }
          ],
          "contourcarpet": [
           {
            "colorbar": {
             "outlinewidth": 0,
             "ticks": ""
            },
            "type": "contourcarpet"
           }
          ],
          "heatmap": [
           {
            "colorbar": {
             "outlinewidth": 0,
             "ticks": ""
            },
            "colorscale": [
             [
              0,
              "#0d0887"
             ],
             [
              0.1111111111111111,
              "#46039f"
             ],
             [
              0.2222222222222222,
              "#7201a8"
             ],
             [
              0.3333333333333333,
              "#9c179e"
             ],
             [
              0.4444444444444444,
              "#bd3786"
             ],
             [
              0.5555555555555556,
              "#d8576b"
             ],
             [
              0.6666666666666666,
              "#ed7953"
             ],
             [
              0.7777777777777778,
              "#fb9f3a"
             ],
             [
              0.8888888888888888,
              "#fdca26"
             ],
             [
              1,
              "#f0f921"
             ]
            ],
            "type": "heatmap"
           }
          ],
          "histogram": [
           {
            "marker": {
             "pattern": {
              "fillmode": "overlay",
              "size": 10,
              "solidity": 0.2
             }
            },
            "type": "histogram"
           }
          ],
          "histogram2d": [
           {
            "colorbar": {
             "outlinewidth": 0,
             "ticks": ""
            },
            "colorscale": [
             [
              0,
              "#0d0887"
             ],
             [
              0.1111111111111111,
              "#46039f"
             ],
             [
              0.2222222222222222,
              "#7201a8"
             ],
             [
              0.3333333333333333,
              "#9c179e"
             ],
             [
              0.4444444444444444,
              "#bd3786"
             ],
             [
              0.5555555555555556,
              "#d8576b"
             ],
             [
              0.6666666666666666,
              "#ed7953"
             ],
             [
              0.7777777777777778,
              "#fb9f3a"
             ],
             [
              0.8888888888888888,
              "#fdca26"
             ],
             [
              1,
              "#f0f921"
             ]
            ],
            "type": "histogram2d"
           }
          ],
          "histogram2dcontour": [
           {
            "colorbar": {
             "outlinewidth": 0,
             "ticks": ""
            },
            "colorscale": [
             [
              0,
              "#0d0887"
             ],
             [
              0.1111111111111111,
              "#46039f"
             ],
             [
              0.2222222222222222,
              "#7201a8"
             ],
             [
              0.3333333333333333,
              "#9c179e"
             ],
             [
              0.4444444444444444,
              "#bd3786"
             ],
             [
              0.5555555555555556,
              "#d8576b"
             ],
             [
              0.6666666666666666,
              "#ed7953"
             ],
             [
              0.7777777777777778,
              "#fb9f3a"
             ],
             [
              0.8888888888888888,
              "#fdca26"
             ],
             [
              1,
              "#f0f921"
             ]
            ],
            "type": "histogram2dcontour"
           }
          ],
          "mesh3d": [
           {
            "colorbar": {
             "outlinewidth": 0,
             "ticks": ""
            },
            "type": "mesh3d"
           }
          ],
          "parcoords": [
           {
            "line": {
             "colorbar": {
              "outlinewidth": 0,
              "ticks": ""
             }
            },
            "type": "parcoords"
           }
          ],
          "pie": [
           {
            "automargin": true,
            "type": "pie"
           }
          ],
          "scatter": [
           {
            "fillpattern": {
             "fillmode": "overlay",
             "size": 10,
             "solidity": 0.2
            },
            "type": "scatter"
           }
          ],
          "scatter3d": [
           {
            "line": {
             "colorbar": {
              "outlinewidth": 0,
              "ticks": ""
             }
            },
            "marker": {
             "colorbar": {
              "outlinewidth": 0,
              "ticks": ""
             }
            },
            "type": "scatter3d"
           }
          ],
          "scattercarpet": [
           {
            "marker": {
             "colorbar": {
              "outlinewidth": 0,
              "ticks": ""
             }
            },
            "type": "scattercarpet"
           }
          ],
          "scattergeo": [
           {
            "marker": {
             "colorbar": {
              "outlinewidth": 0,
              "ticks": ""
             }
            },
            "type": "scattergeo"
           }
          ],
          "scattergl": [
           {
            "marker": {
             "colorbar": {
              "outlinewidth": 0,
              "ticks": ""
             }
            },
            "type": "scattergl"
           }
          ],
          "scattermap": [
           {
            "marker": {
             "colorbar": {
              "outlinewidth": 0,
              "ticks": ""
             }
            },
            "type": "scattermap"
           }
          ],
          "scattermapbox": [
           {
            "marker": {
             "colorbar": {
              "outlinewidth": 0,
              "ticks": ""
             }
            },
            "type": "scattermapbox"
           }
          ],
          "scatterpolar": [
           {
            "marker": {
             "colorbar": {
              "outlinewidth": 0,
              "ticks": ""
             }
            },
            "type": "scatterpolar"
           }
          ],
          "scatterpolargl": [
           {
            "marker": {
             "colorbar": {
              "outlinewidth": 0,
              "ticks": ""
             }
            },
            "type": "scatterpolargl"
           }
          ],
          "scatterternary": [
           {
            "marker": {
             "colorbar": {
              "outlinewidth": 0,
              "ticks": ""
             }
            },
            "type": "scatterternary"
           }
          ],
          "surface": [
           {
            "colorbar": {
             "outlinewidth": 0,
             "ticks": ""
            },
            "colorscale": [
             [
              0,
              "#0d0887"
             ],
             [
              0.1111111111111111,
              "#46039f"
             ],
             [
              0.2222222222222222,
              "#7201a8"
             ],
             [
              0.3333333333333333,
              "#9c179e"
             ],
             [
              0.4444444444444444,
              "#bd3786"
             ],
             [
              0.5555555555555556,
              "#d8576b"
             ],
             [
              0.6666666666666666,
              "#ed7953"
             ],
             [
              0.7777777777777778,
              "#fb9f3a"
             ],
             [
              0.8888888888888888,
              "#fdca26"
             ],
             [
              1,
              "#f0f921"
             ]
            ],
            "type": "surface"
           }
          ],
          "table": [
           {
            "cells": {
             "fill": {
              "color": "#EBF0F8"
             },
             "line": {
              "color": "white"
             }
            },
            "header": {
             "fill": {
              "color": "#C8D4E3"
             },
             "line": {
              "color": "white"
             }
            },
            "type": "table"
           }
          ]
         },
         "layout": {
          "annotationdefaults": {
           "arrowcolor": "#2a3f5f",
           "arrowhead": 0,
           "arrowwidth": 1
          },
          "autotypenumbers": "strict",
          "coloraxis": {
           "colorbar": {
            "outlinewidth": 0,
            "ticks": ""
           }
          },
          "colorscale": {
           "diverging": [
            [
             0,
             "#8e0152"
            ],
            [
             0.1,
             "#c51b7d"
            ],
            [
             0.2,
             "#de77ae"
            ],
            [
             0.3,
             "#f1b6da"
            ],
            [
             0.4,
             "#fde0ef"
            ],
            [
             0.5,
             "#f7f7f7"
            ],
            [
             0.6,
             "#e6f5d0"
            ],
            [
             0.7,
             "#b8e186"
            ],
            [
             0.8,
             "#7fbc41"
            ],
            [
             0.9,
             "#4d9221"
            ],
            [
             1,
             "#276419"
            ]
           ],
           "sequential": [
            [
             0,
             "#0d0887"
            ],
            [
             0.1111111111111111,
             "#46039f"
            ],
            [
             0.2222222222222222,
             "#7201a8"
            ],
            [
             0.3333333333333333,
             "#9c179e"
            ],
            [
             0.4444444444444444,
             "#bd3786"
            ],
            [
             0.5555555555555556,
             "#d8576b"
            ],
            [
             0.6666666666666666,
             "#ed7953"
            ],
            [
             0.7777777777777778,
             "#fb9f3a"
            ],
            [
             0.8888888888888888,
             "#fdca26"
            ],
            [
             1,
             "#f0f921"
            ]
           ],
           "sequentialminus": [
            [
             0,
             "#0d0887"
            ],
            [
             0.1111111111111111,
             "#46039f"
            ],
            [
             0.2222222222222222,
             "#7201a8"
            ],
            [
             0.3333333333333333,
             "#9c179e"
            ],
            [
             0.4444444444444444,
             "#bd3786"
            ],
            [
             0.5555555555555556,
             "#d8576b"
            ],
            [
             0.6666666666666666,
             "#ed7953"
            ],
            [
             0.7777777777777778,
             "#fb9f3a"
            ],
            [
             0.8888888888888888,
             "#fdca26"
            ],
            [
             1,
             "#f0f921"
            ]
           ]
          },
          "colorway": [
           "#636efa",
           "#EF553B",
           "#00cc96",
           "#ab63fa",
           "#FFA15A",
           "#19d3f3",
           "#FF6692",
           "#B6E880",
           "#FF97FF",
           "#FECB52"
          ],
          "font": {
           "color": "#2a3f5f"
          },
          "geo": {
           "bgcolor": "white",
           "lakecolor": "white",
           "landcolor": "#E5ECF6",
           "showlakes": true,
           "showland": true,
           "subunitcolor": "white"
          },
          "hoverlabel": {
           "align": "left"
          },
          "hovermode": "closest",
          "mapbox": {
           "style": "light"
          },
          "paper_bgcolor": "white",
          "plot_bgcolor": "#E5ECF6",
          "polar": {
           "angularaxis": {
            "gridcolor": "white",
            "linecolor": "white",
            "ticks": ""
           },
           "bgcolor": "#E5ECF6",
           "radialaxis": {
            "gridcolor": "white",
            "linecolor": "white",
            "ticks": ""
           }
          },
          "scene": {
           "xaxis": {
            "backgroundcolor": "#E5ECF6",
            "gridcolor": "white",
            "gridwidth": 2,
            "linecolor": "white",
            "showbackground": true,
            "ticks": "",
            "zerolinecolor": "white"
           },
           "yaxis": {
            "backgroundcolor": "#E5ECF6",
            "gridcolor": "white",
            "gridwidth": 2,
            "linecolor": "white",
            "showbackground": true,
            "ticks": "",
            "zerolinecolor": "white"
           },
           "zaxis": {
            "backgroundcolor": "#E5ECF6",
            "gridcolor": "white",
            "gridwidth": 2,
            "linecolor": "white",
            "showbackground": true,
            "ticks": "",
            "zerolinecolor": "white"
           }
          },
          "shapedefaults": {
           "line": {
            "color": "#2a3f5f"
           }
          },
          "ternary": {
           "aaxis": {
            "gridcolor": "white",
            "linecolor": "white",
            "ticks": ""
           },
           "baxis": {
            "gridcolor": "white",
            "linecolor": "white",
            "ticks": ""
           },
           "bgcolor": "#E5ECF6",
           "caxis": {
            "gridcolor": "white",
            "linecolor": "white",
            "ticks": ""
           }
          },
          "title": {
           "x": 0.05
          },
          "xaxis": {
           "automargin": true,
           "gridcolor": "white",
           "linecolor": "white",
           "ticks": "",
           "title": {
            "standoff": 15
           },
           "zerolinecolor": "white",
           "zerolinewidth": 2
          },
          "yaxis": {
           "automargin": true,
           "gridcolor": "white",
           "linecolor": "white",
           "ticks": "",
           "title": {
            "standoff": 15
           },
           "zerolinecolor": "white",
           "zerolinewidth": 2
          }
         }
        },
        "title": {
         "text": "PIB per capita por Região (2016–2021)"
        },
        "updatemenus": [
         {
          "buttons": [
           {
            "args": [
             null,
             {
              "frame": {
               "duration": 500,
               "redraw": true
              },
              "fromcurrent": true,
              "mode": "immediate",
              "transition": {
               "duration": 500,
               "easing": "linear"
              }
             }
            ],
            "label": "&#9654;",
            "method": "animate"
           },
           {
            "args": [
             [
              null
             ],
             {
              "frame": {
               "duration": 0,
               "redraw": true
              },
              "fromcurrent": true,
              "mode": "immediate",
              "transition": {
               "duration": 0,
               "easing": "linear"
              }
             }
            ],
            "label": "&#9724;",
            "method": "animate"
           }
          ],
          "direction": "left",
          "pad": {
           "r": 10,
           "t": 70
          },
          "showactive": false,
          "type": "buttons",
          "x": 0.1,
          "xanchor": "right",
          "y": 0,
          "yanchor": "top"
         }
        ],
        "xaxis": {
         "anchor": "y",
         "categoryarray": [
          "Centro-Oeste",
          "Nordeste",
          "Norte",
          "Sudeste",
          "Sul"
         ],
         "categoryorder": "array",
         "domain": [
          0,
          1
         ],
         "title": {
          "text": "Regiao"
         }
        },
        "yaxis": {
         "anchor": "x",
         "domain": [
          0,
          1
         ],
         "range": [
          0,
          61146.752477204645
         ],
         "title": {
          "text": "PIB per capita (R$)"
         }
        }
       }
      }
     },
     "metadata": {},
     "output_type": "display_data"
    }
   ],
   "source": [
    "\n",
    "df_regiao = pd.read_csv('pib_per_capita/pib_per_capita_regioes.csv')\n",
    "df_regiao['Ano'] = df_regiao['Ano'].astype(str)\n",
    "\n",
    "\n",
    "fig_regiao = px.bar(\n",
    "    df_regiao,\n",
    "    x='Regiao',\n",
    "    y='PIB_per_capita',\n",
    "    color='Regiao',\n",
    "    animation_frame='Ano',\n",
    "    animation_group='Regiao',  \n",
    "    title='PIB per capita por Região (2016–2021)',\n",
    "    labels={'PIB_per_capita': 'PIB per capita (R$)'},\n",
    "    range_y=[0, df_regiao['PIB_per_capita'].max() * 1.1]\n",
    ")\n",
    "\n",
    "fig_regiao.show()"
   ]
  },
  {
   "cell_type": "markdown",
   "metadata": {},
   "source": [
    "A seguir, plotamos um gráfico com a média geral das regiões entre os anos de 2016 a 2021. "
   ]
  },
  {
   "cell_type": "code",
   "execution_count": 52,
   "metadata": {},
   "outputs": [
    {
     "data": {
      "application/vnd.plotly.v1+json": {
       "config": {
        "plotlyServerURL": "https://plot.ly"
       },
       "data": [
        {
         "hovertemplate": "Regiao=%{x}<br>PIB per capita médio (R$)=%{y}<extra></extra>",
         "legendgroup": "Centro-Oeste",
         "marker": {
          "color": "#636efa",
          "pattern": {
           "shape": ""
          }
         },
         "name": "Centro-Oeste",
         "orientation": "v",
         "showlegend": true,
         "textposition": "auto",
         "type": "bar",
         "x": [
          "Centro-Oeste"
         ],
         "xaxis": "x",
         "y": {
          "bdata": "5IwxgD254kA=",
          "dtype": "f8"
         },
         "yaxis": "y"
        },
        {
         "hovertemplate": "Regiao=%{x}<br>PIB per capita médio (R$)=%{y}<extra></extra>",
         "legendgroup": "Nordeste",
         "marker": {
          "color": "#EF553B",
          "pattern": {
           "shape": ""
          }
         },
         "name": "Nordeste",
         "orientation": "v",
         "showlegend": true,
         "textposition": "auto",
         "type": "bar",
         "x": [
          "Nordeste"
         ],
         "xaxis": "x",
         "y": {
          "bdata": "MaDru1OAykA=",
          "dtype": "f8"
         },
         "yaxis": "y"
        },
        {
         "hovertemplate": "Regiao=%{x}<br>PIB per capita médio (R$)=%{y}<extra></extra>",
         "legendgroup": "Norte",
         "marker": {
          "color": "#00cc96",
          "pattern": {
           "shape": ""
          }
         },
         "name": "Norte",
         "orientation": "v",
         "showlegend": true,
         "textposition": "auto",
         "type": "bar",
         "x": [
          "Norte"
         ],
         "xaxis": "x",
         "y": {
          "bdata": "hL3E5ZKw00A=",
          "dtype": "f8"
         },
         "yaxis": "y"
        },
        {
         "hovertemplate": "Regiao=%{x}<br>PIB per capita médio (R$)=%{y}<extra></extra>",
         "legendgroup": "Sudeste",
         "marker": {
          "color": "#ab63fa",
          "pattern": {
           "shape": ""
          }
         },
         "name": "Sudeste",
         "orientation": "v",
         "showlegend": true,
         "textposition": "auto",
         "type": "bar",
         "x": [
          "Sudeste"
         ],
         "xaxis": "x",
         "y": {
          "bdata": "s5h4Bo043EA=",
          "dtype": "f8"
         },
         "yaxis": "y"
        },
        {
         "hovertemplate": "Regiao=%{x}<br>PIB per capita médio (R$)=%{y}<extra></extra>",
         "legendgroup": "Sul",
         "marker": {
          "color": "#FFA15A",
          "pattern": {
           "shape": ""
          }
         },
         "name": "Sul",
         "orientation": "v",
         "showlegend": true,
         "textposition": "auto",
         "type": "bar",
         "x": [
          "Sul"
         ],
         "xaxis": "x",
         "y": {
          "bdata": "Sq+Tojyr4kA=",
          "dtype": "f8"
         },
         "yaxis": "y"
        }
       ],
       "layout": {
        "barmode": "relative",
        "legend": {
         "title": {
          "text": "Regiao"
         },
         "tracegroupgap": 0
        },
        "template": {
         "data": {
          "bar": [
           {
            "error_x": {
             "color": "#2a3f5f"
            },
            "error_y": {
             "color": "#2a3f5f"
            },
            "marker": {
             "line": {
              "color": "#E5ECF6",
              "width": 0.5
             },
             "pattern": {
              "fillmode": "overlay",
              "size": 10,
              "solidity": 0.2
             }
            },
            "type": "bar"
           }
          ],
          "barpolar": [
           {
            "marker": {
             "line": {
              "color": "#E5ECF6",
              "width": 0.5
             },
             "pattern": {
              "fillmode": "overlay",
              "size": 10,
              "solidity": 0.2
             }
            },
            "type": "barpolar"
           }
          ],
          "carpet": [
           {
            "aaxis": {
             "endlinecolor": "#2a3f5f",
             "gridcolor": "white",
             "linecolor": "white",
             "minorgridcolor": "white",
             "startlinecolor": "#2a3f5f"
            },
            "baxis": {
             "endlinecolor": "#2a3f5f",
             "gridcolor": "white",
             "linecolor": "white",
             "minorgridcolor": "white",
             "startlinecolor": "#2a3f5f"
            },
            "type": "carpet"
           }
          ],
          "choropleth": [
           {
            "colorbar": {
             "outlinewidth": 0,
             "ticks": ""
            },
            "type": "choropleth"
           }
          ],
          "contour": [
           {
            "colorbar": {
             "outlinewidth": 0,
             "ticks": ""
            },
            "colorscale": [
             [
              0,
              "#0d0887"
             ],
             [
              0.1111111111111111,
              "#46039f"
             ],
             [
              0.2222222222222222,
              "#7201a8"
             ],
             [
              0.3333333333333333,
              "#9c179e"
             ],
             [
              0.4444444444444444,
              "#bd3786"
             ],
             [
              0.5555555555555556,
              "#d8576b"
             ],
             [
              0.6666666666666666,
              "#ed7953"
             ],
             [
              0.7777777777777778,
              "#fb9f3a"
             ],
             [
              0.8888888888888888,
              "#fdca26"
             ],
             [
              1,
              "#f0f921"
             ]
            ],
            "type": "contour"
           }
          ],
          "contourcarpet": [
           {
            "colorbar": {
             "outlinewidth": 0,
             "ticks": ""
            },
            "type": "contourcarpet"
           }
          ],
          "heatmap": [
           {
            "colorbar": {
             "outlinewidth": 0,
             "ticks": ""
            },
            "colorscale": [
             [
              0,
              "#0d0887"
             ],
             [
              0.1111111111111111,
              "#46039f"
             ],
             [
              0.2222222222222222,
              "#7201a8"
             ],
             [
              0.3333333333333333,
              "#9c179e"
             ],
             [
              0.4444444444444444,
              "#bd3786"
             ],
             [
              0.5555555555555556,
              "#d8576b"
             ],
             [
              0.6666666666666666,
              "#ed7953"
             ],
             [
              0.7777777777777778,
              "#fb9f3a"
             ],
             [
              0.8888888888888888,
              "#fdca26"
             ],
             [
              1,
              "#f0f921"
             ]
            ],
            "type": "heatmap"
           }
          ],
          "histogram": [
           {
            "marker": {
             "pattern": {
              "fillmode": "overlay",
              "size": 10,
              "solidity": 0.2
             }
            },
            "type": "histogram"
           }
          ],
          "histogram2d": [
           {
            "colorbar": {
             "outlinewidth": 0,
             "ticks": ""
            },
            "colorscale": [
             [
              0,
              "#0d0887"
             ],
             [
              0.1111111111111111,
              "#46039f"
             ],
             [
              0.2222222222222222,
              "#7201a8"
             ],
             [
              0.3333333333333333,
              "#9c179e"
             ],
             [
              0.4444444444444444,
              "#bd3786"
             ],
             [
              0.5555555555555556,
              "#d8576b"
             ],
             [
              0.6666666666666666,
              "#ed7953"
             ],
             [
              0.7777777777777778,
              "#fb9f3a"
             ],
             [
              0.8888888888888888,
              "#fdca26"
             ],
             [
              1,
              "#f0f921"
             ]
            ],
            "type": "histogram2d"
           }
          ],
          "histogram2dcontour": [
           {
            "colorbar": {
             "outlinewidth": 0,
             "ticks": ""
            },
            "colorscale": [
             [
              0,
              "#0d0887"
             ],
             [
              0.1111111111111111,
              "#46039f"
             ],
             [
              0.2222222222222222,
              "#7201a8"
             ],
             [
              0.3333333333333333,
              "#9c179e"
             ],
             [
              0.4444444444444444,
              "#bd3786"
             ],
             [
              0.5555555555555556,
              "#d8576b"
             ],
             [
              0.6666666666666666,
              "#ed7953"
             ],
             [
              0.7777777777777778,
              "#fb9f3a"
             ],
             [
              0.8888888888888888,
              "#fdca26"
             ],
             [
              1,
              "#f0f921"
             ]
            ],
            "type": "histogram2dcontour"
           }
          ],
          "mesh3d": [
           {
            "colorbar": {
             "outlinewidth": 0,
             "ticks": ""
            },
            "type": "mesh3d"
           }
          ],
          "parcoords": [
           {
            "line": {
             "colorbar": {
              "outlinewidth": 0,
              "ticks": ""
             }
            },
            "type": "parcoords"
           }
          ],
          "pie": [
           {
            "automargin": true,
            "type": "pie"
           }
          ],
          "scatter": [
           {
            "fillpattern": {
             "fillmode": "overlay",
             "size": 10,
             "solidity": 0.2
            },
            "type": "scatter"
           }
          ],
          "scatter3d": [
           {
            "line": {
             "colorbar": {
              "outlinewidth": 0,
              "ticks": ""
             }
            },
            "marker": {
             "colorbar": {
              "outlinewidth": 0,
              "ticks": ""
             }
            },
            "type": "scatter3d"
           }
          ],
          "scattercarpet": [
           {
            "marker": {
             "colorbar": {
              "outlinewidth": 0,
              "ticks": ""
             }
            },
            "type": "scattercarpet"
           }
          ],
          "scattergeo": [
           {
            "marker": {
             "colorbar": {
              "outlinewidth": 0,
              "ticks": ""
             }
            },
            "type": "scattergeo"
           }
          ],
          "scattergl": [
           {
            "marker": {
             "colorbar": {
              "outlinewidth": 0,
              "ticks": ""
             }
            },
            "type": "scattergl"
           }
          ],
          "scattermap": [
           {
            "marker": {
             "colorbar": {
              "outlinewidth": 0,
              "ticks": ""
             }
            },
            "type": "scattermap"
           }
          ],
          "scattermapbox": [
           {
            "marker": {
             "colorbar": {
              "outlinewidth": 0,
              "ticks": ""
             }
            },
            "type": "scattermapbox"
           }
          ],
          "scatterpolar": [
           {
            "marker": {
             "colorbar": {
              "outlinewidth": 0,
              "ticks": ""
             }
            },
            "type": "scatterpolar"
           }
          ],
          "scatterpolargl": [
           {
            "marker": {
             "colorbar": {
              "outlinewidth": 0,
              "ticks": ""
             }
            },
            "type": "scatterpolargl"
           }
          ],
          "scatterternary": [
           {
            "marker": {
             "colorbar": {
              "outlinewidth": 0,
              "ticks": ""
             }
            },
            "type": "scatterternary"
           }
          ],
          "surface": [
           {
            "colorbar": {
             "outlinewidth": 0,
             "ticks": ""
            },
            "colorscale": [
             [
              0,
              "#0d0887"
             ],
             [
              0.1111111111111111,
              "#46039f"
             ],
             [
              0.2222222222222222,
              "#7201a8"
             ],
             [
              0.3333333333333333,
              "#9c179e"
             ],
             [
              0.4444444444444444,
              "#bd3786"
             ],
             [
              0.5555555555555556,
              "#d8576b"
             ],
             [
              0.6666666666666666,
              "#ed7953"
             ],
             [
              0.7777777777777778,
              "#fb9f3a"
             ],
             [
              0.8888888888888888,
              "#fdca26"
             ],
             [
              1,
              "#f0f921"
             ]
            ],
            "type": "surface"
           }
          ],
          "table": [
           {
            "cells": {
             "fill": {
              "color": "#EBF0F8"
             },
             "line": {
              "color": "white"
             }
            },
            "header": {
             "fill": {
              "color": "#C8D4E3"
             },
             "line": {
              "color": "white"
             }
            },
            "type": "table"
           }
          ]
         },
         "layout": {
          "annotationdefaults": {
           "arrowcolor": "#2a3f5f",
           "arrowhead": 0,
           "arrowwidth": 1
          },
          "autotypenumbers": "strict",
          "coloraxis": {
           "colorbar": {
            "outlinewidth": 0,
            "ticks": ""
           }
          },
          "colorscale": {
           "diverging": [
            [
             0,
             "#8e0152"
            ],
            [
             0.1,
             "#c51b7d"
            ],
            [
             0.2,
             "#de77ae"
            ],
            [
             0.3,
             "#f1b6da"
            ],
            [
             0.4,
             "#fde0ef"
            ],
            [
             0.5,
             "#f7f7f7"
            ],
            [
             0.6,
             "#e6f5d0"
            ],
            [
             0.7,
             "#b8e186"
            ],
            [
             0.8,
             "#7fbc41"
            ],
            [
             0.9,
             "#4d9221"
            ],
            [
             1,
             "#276419"
            ]
           ],
           "sequential": [
            [
             0,
             "#0d0887"
            ],
            [
             0.1111111111111111,
             "#46039f"
            ],
            [
             0.2222222222222222,
             "#7201a8"
            ],
            [
             0.3333333333333333,
             "#9c179e"
            ],
            [
             0.4444444444444444,
             "#bd3786"
            ],
            [
             0.5555555555555556,
             "#d8576b"
            ],
            [
             0.6666666666666666,
             "#ed7953"
            ],
            [
             0.7777777777777778,
             "#fb9f3a"
            ],
            [
             0.8888888888888888,
             "#fdca26"
            ],
            [
             1,
             "#f0f921"
            ]
           ],
           "sequentialminus": [
            [
             0,
             "#0d0887"
            ],
            [
             0.1111111111111111,
             "#46039f"
            ],
            [
             0.2222222222222222,
             "#7201a8"
            ],
            [
             0.3333333333333333,
             "#9c179e"
            ],
            [
             0.4444444444444444,
             "#bd3786"
            ],
            [
             0.5555555555555556,
             "#d8576b"
            ],
            [
             0.6666666666666666,
             "#ed7953"
            ],
            [
             0.7777777777777778,
             "#fb9f3a"
            ],
            [
             0.8888888888888888,
             "#fdca26"
            ],
            [
             1,
             "#f0f921"
            ]
           ]
          },
          "colorway": [
           "#636efa",
           "#EF553B",
           "#00cc96",
           "#ab63fa",
           "#FFA15A",
           "#19d3f3",
           "#FF6692",
           "#B6E880",
           "#FF97FF",
           "#FECB52"
          ],
          "font": {
           "color": "#2a3f5f"
          },
          "geo": {
           "bgcolor": "white",
           "lakecolor": "white",
           "landcolor": "#E5ECF6",
           "showlakes": true,
           "showland": true,
           "subunitcolor": "white"
          },
          "hoverlabel": {
           "align": "left"
          },
          "hovermode": "closest",
          "mapbox": {
           "style": "light"
          },
          "paper_bgcolor": "white",
          "plot_bgcolor": "#E5ECF6",
          "polar": {
           "angularaxis": {
            "gridcolor": "white",
            "linecolor": "white",
            "ticks": ""
           },
           "bgcolor": "#E5ECF6",
           "radialaxis": {
            "gridcolor": "white",
            "linecolor": "white",
            "ticks": ""
           }
          },
          "scene": {
           "xaxis": {
            "backgroundcolor": "#E5ECF6",
            "gridcolor": "white",
            "gridwidth": 2,
            "linecolor": "white",
            "showbackground": true,
            "ticks": "",
            "zerolinecolor": "white"
           },
           "yaxis": {
            "backgroundcolor": "#E5ECF6",
            "gridcolor": "white",
            "gridwidth": 2,
            "linecolor": "white",
            "showbackground": true,
            "ticks": "",
            "zerolinecolor": "white"
           },
           "zaxis": {
            "backgroundcolor": "#E5ECF6",
            "gridcolor": "white",
            "gridwidth": 2,
            "linecolor": "white",
            "showbackground": true,
            "ticks": "",
            "zerolinecolor": "white"
           }
          },
          "shapedefaults": {
           "line": {
            "color": "#2a3f5f"
           }
          },
          "ternary": {
           "aaxis": {
            "gridcolor": "white",
            "linecolor": "white",
            "ticks": ""
           },
           "baxis": {
            "gridcolor": "white",
            "linecolor": "white",
            "ticks": ""
           },
           "bgcolor": "#E5ECF6",
           "caxis": {
            "gridcolor": "white",
            "linecolor": "white",
            "ticks": ""
           }
          },
          "title": {
           "x": 0.05
          },
          "xaxis": {
           "automargin": true,
           "gridcolor": "white",
           "linecolor": "white",
           "ticks": "",
           "title": {
            "standoff": 15
           },
           "zerolinecolor": "white",
           "zerolinewidth": 2
          },
          "yaxis": {
           "automargin": true,
           "gridcolor": "white",
           "linecolor": "white",
           "ticks": "",
           "title": {
            "standoff": 15
           },
           "zerolinecolor": "white",
           "zerolinewidth": 2
          }
         }
        },
        "title": {
         "text": "Média do PIB per capita por Região (2016–2021)"
        },
        "xaxis": {
         "anchor": "y",
         "categoryarray": [
          "Centro-Oeste",
          "Nordeste",
          "Norte",
          "Sudeste",
          "Sul"
         ],
         "categoryorder": "array",
         "domain": [
          0,
          1
         ],
         "title": {
          "text": "Região"
         }
        },
        "yaxis": {
         "anchor": "x",
         "domain": [
          0,
          1
         ],
         "title": {
          "text": "PIB per capita médio (R$)"
         }
        }
       }
      }
     },
     "metadata": {},
     "output_type": "display_data"
    }
   ],
   "source": [
    "media_regioes = df_regiao.groupby('Regiao')['PIB_per_capita'].mean().reset_index()\n",
    "\n",
    "# Plotar gráfico de barras\n",
    "fig_media_regiao = px.bar(\n",
    "    media_regioes,\n",
    "    x='Regiao',\n",
    "    y='PIB_per_capita',\n",
    "    color='Regiao',\n",
    "    title='Média do PIB per capita por Região (2016–2021)',\n",
    "    labels={'PIB_per_capita': 'PIB per capita médio (R$)'},\n",
    "   # text=media_regioes['PIB_per_capita'].round(2)\n",
    ")\n",
    "\n",
    "# Formatar layout\n",
    "fig_media_regiao.update_layout(\n",
    "    xaxis_title=\"Região\",\n",
    "    yaxis_title=\"PIB per capita médio (R$)\",\n",
    "    #showlegend=False\n",
    ")\n",
    "\n",
    "fig_media_regiao.show()\n"
   ]
  },
  {
   "cell_type": "markdown",
   "metadata": {},
   "source": [
    "A seguir, temos o gráfico animado que apresenta o PIB per capita médio por unidade federativa (estado). Essa visualização é importante para detectar disparidades econômicas entre os estados brasileiros e pode nos ajudar a relacionar o PIB com outros fatores analisados posteriormente."
   ]
  },
  {
   "cell_type": "code",
   "execution_count": 53,
   "metadata": {},
   "outputs": [
    {
     "data": {
      "application/vnd.plotly.v1+json": {
       "config": {
        "plotlyServerURL": "https://plot.ly"
       },
       "data": [
        {
         "hovertemplate": "UF=%{x}<br>Ano=2016<br>PIB per capita (R$)=%{y}<extra></extra>",
         "legendgroup": "AC",
         "marker": {
          "color": "#636efa",
          "pattern": {
           "shape": ""
          }
         },
         "name": "AC",
         "orientation": "v",
         "showlegend": true,
         "textposition": "auto",
         "type": "bar",
         "x": [
          "AC"
         ],
         "xaxis": "x",
         "y": {
          "bdata": "+sDxP1jAykA=",
          "dtype": "f8"
         },
         "yaxis": "y"
        },
        {
         "hovertemplate": "UF=%{x}<br>Ano=2016<br>PIB per capita (R$)=%{y}<extra></extra>",
         "legendgroup": "AL",
         "marker": {
          "color": "#EF553B",
          "pattern": {
           "shape": ""
          }
         },
         "name": "AL",
         "orientation": "v",
         "showlegend": true,
         "textposition": "auto",
         "type": "bar",
         "x": [
          "AL"
         ],
         "xaxis": "x",
         "y": {
          "bdata": "UHG61XzaxUA=",
          "dtype": "f8"
         },
         "yaxis": "y"
        },
        {
         "hovertemplate": "UF=%{x}<br>Ano=2016<br>PIB per capita (R$)=%{y}<extra></extra>",
         "legendgroup": "AM",
         "marker": {
          "color": "#00cc96",
          "pattern": {
           "shape": ""
          }
         },
         "name": "AM",
         "orientation": "v",
         "showlegend": true,
         "textposition": "auto",
         "type": "bar",
         "x": [
          "AM"
         ],
         "xaxis": "x",
         "y": {
          "bdata": "eOPsa2PgwkA=",
          "dtype": "f8"
         },
         "yaxis": "y"
        },
        {
         "hovertemplate": "UF=%{x}<br>Ano=2016<br>PIB per capita (R$)=%{y}<extra></extra>",
         "legendgroup": "AP",
         "marker": {
          "color": "#ab63fa",
          "pattern": {
           "shape": ""
          }
         },
         "name": "AP",
         "orientation": "v",
         "showlegend": true,
         "textposition": "auto",
         "type": "bar",
         "x": [
          "AP"
         ],
         "xaxis": "x",
         "y": {
          "bdata": "UMMgfq5v0EA=",
          "dtype": "f8"
         },
         "yaxis": "y"
        },
        {
         "hovertemplate": "UF=%{x}<br>Ano=2016<br>PIB per capita (R$)=%{y}<extra></extra>",
         "legendgroup": "BA",
         "marker": {
          "color": "#FFA15A",
          "pattern": {
           "shape": ""
          }
         },
         "name": "BA",
         "orientation": "v",
         "showlegend": true,
         "textposition": "auto",
         "type": "bar",
         "x": [
          "BA"
         ],
         "xaxis": "x",
         "y": {
          "bdata": "ZY2LWvLBxUA=",
          "dtype": "f8"
         },
         "yaxis": "y"
        },
        {
         "hovertemplate": "UF=%{x}<br>Ano=2016<br>PIB per capita (R$)=%{y}<extra></extra>",
         "legendgroup": "CE",
         "marker": {
          "color": "#19d3f3",
          "pattern": {
           "shape": ""
          }
         },
         "name": "CE",
         "orientation": "v",
         "showlegend": true,
         "textposition": "auto",
         "type": "bar",
         "x": [
          "CE"
         ],
         "xaxis": "x",
         "y": {
          "bdata": "PU2HnnV8wkA=",
          "dtype": "f8"
         },
         "yaxis": "y"
        },
        {
         "hovertemplate": "UF=%{x}<br>Ano=2016<br>PIB per capita (R$)=%{y}<extra></extra>",
         "legendgroup": "DF",
         "marker": {
          "color": "#FF6692",
          "pattern": {
           "shape": ""
          }
         },
         "name": "DF",
         "orientation": "v",
         "showlegend": true,
         "textposition": "auto",
         "type": "bar",
         "x": [
          "DF"
         ],
         "xaxis": "x",
         "y": {
          "bdata": "ECG4G6NQ80A=",
          "dtype": "f8"
         },
         "yaxis": "y"
        },
        {
         "hovertemplate": "UF=%{x}<br>Ano=2016<br>PIB per capita (R$)=%{y}<extra></extra>",
         "legendgroup": "ES",
         "marker": {
          "color": "#B6E880",
          "pattern": {
           "shape": ""
          }
         },
         "name": "ES",
         "orientation": "v",
         "showlegend": true,
         "textposition": "auto",
         "type": "bar",
         "x": [
          "ES"
         ],
         "xaxis": "x",
         "y": {
          "bdata": "pP03Pk261EA=",
          "dtype": "f8"
         },
         "yaxis": "y"
        },
        {
         "hovertemplate": "UF=%{x}<br>Ano=2016<br>PIB per capita (R$)=%{y}<extra></extra>",
         "legendgroup": "GO",
         "marker": {
          "color": "#FF97FF",
          "pattern": {
           "shape": ""
          }
         },
         "name": "GO",
         "orientation": "v",
         "showlegend": true,
         "textposition": "auto",
         "type": "bar",
         "x": [
          "GO"
         ],
         "xaxis": "x",
         "y": {
          "bdata": "QxybEr/O2UA=",
          "dtype": "f8"
         },
         "yaxis": "y"
        },
        {
         "hovertemplate": "UF=%{x}<br>Ano=2016<br>PIB per capita (R$)=%{y}<extra></extra>",
         "legendgroup": "MA",
         "marker": {
          "color": "#FECB52",
          "pattern": {
           "shape": ""
          }
         },
         "name": "MA",
         "orientation": "v",
         "showlegend": true,
         "textposition": "auto",
         "type": "bar",
         "x": [
          "MA"
         ],
         "xaxis": "x",
         "y": {
          "bdata": "dUd56DoewUA=",
          "dtype": "f8"
         },
         "yaxis": "y"
        },
        {
         "hovertemplate": "UF=%{x}<br>Ano=2016<br>PIB per capita (R$)=%{y}<extra></extra>",
         "legendgroup": "MG",
         "marker": {
          "color": "#636efa",
          "pattern": {
           "shape": ""
          }
         },
         "name": "MG",
         "orientation": "v",
         "showlegend": true,
         "textposition": "auto",
         "type": "bar",
         "x": [
          "MG"
         ],
         "xaxis": "x",
         "y": {
          "bdata": "ooXZBGeW0UA=",
          "dtype": "f8"
         },
         "yaxis": "y"
        },
        {
         "hovertemplate": "UF=%{x}<br>Ano=2016<br>PIB per capita (R$)=%{y}<extra></extra>",
         "legendgroup": "MS",
         "marker": {
          "color": "#EF553B",
          "pattern": {
           "shape": ""
          }
         },
         "name": "MS",
         "orientation": "v",
         "showlegend": true,
         "textposition": "auto",
         "type": "bar",
         "x": [
          "MS"
         ],
         "xaxis": "x",
         "y": {
          "bdata": "c8HQ6VC64UA=",
          "dtype": "f8"
         },
         "yaxis": "y"
        },
        {
         "hovertemplate": "UF=%{x}<br>Ano=2016<br>PIB per capita (R$)=%{y}<extra></extra>",
         "legendgroup": "MT",
         "marker": {
          "color": "#00cc96",
          "pattern": {
           "shape": ""
          }
         },
         "name": "MT",
         "orientation": "v",
         "showlegend": true,
         "textposition": "auto",
         "type": "bar",
         "x": [
          "MT"
         ],
         "xaxis": "x",
         "y": {
          "bdata": "3I/qJcnD4UA=",
          "dtype": "f8"
         },
         "yaxis": "y"
        },
        {
         "hovertemplate": "UF=%{x}<br>Ano=2016<br>PIB per capita (R$)=%{y}<extra></extra>",
         "legendgroup": "PA",
         "marker": {
          "color": "#ab63fa",
          "pattern": {
           "shape": ""
          }
         },
         "name": "PA",
         "orientation": "v",
         "showlegend": true,
         "textposition": "auto",
         "type": "bar",
         "x": [
          "PA"
         ],
         "xaxis": "x",
         "y": {
          "bdata": "DqikJqlQykA=",
          "dtype": "f8"
         },
         "yaxis": "y"
        },
        {
         "hovertemplate": "UF=%{x}<br>Ano=2016<br>PIB per capita (R$)=%{y}<extra></extra>",
         "legendgroup": "PB",
         "marker": {
          "color": "#FFA15A",
          "pattern": {
           "shape": ""
          }
         },
         "name": "PB",
         "orientation": "v",
         "showlegend": true,
         "textposition": "auto",
         "type": "bar",
         "x": [
          "PB"
         ],
         "xaxis": "x",
         "y": {
          "bdata": "75m4grKJwkA=",
          "dtype": "f8"
         },
         "yaxis": "y"
        },
        {
         "hovertemplate": "UF=%{x}<br>Ano=2016<br>PIB per capita (R$)=%{y}<extra></extra>",
         "legendgroup": "PE",
         "marker": {
          "color": "#19d3f3",
          "pattern": {
           "shape": ""
          }
         },
         "name": "PE",
         "orientation": "v",
         "showlegend": true,
         "textposition": "auto",
         "type": "bar",
         "x": [
          "PE"
         ],
         "xaxis": "x",
         "y": {
          "bdata": "1JJq2iC9xUA=",
          "dtype": "f8"
         },
         "yaxis": "y"
        },
        {
         "hovertemplate": "UF=%{x}<br>Ano=2016<br>PIB per capita (R$)=%{y}<extra></extra>",
         "legendgroup": "PI",
         "marker": {
          "color": "#FF6692",
          "pattern": {
           "shape": ""
          }
         },
         "name": "PI",
         "orientation": "v",
         "showlegend": true,
         "textposition": "auto",
         "type": "bar",
         "x": [
          "PI"
         ],
         "xaxis": "x",
         "y": {
          "bdata": "8arJA8Lev0A=",
          "dtype": "f8"
         },
         "yaxis": "y"
        },
        {
         "hovertemplate": "UF=%{x}<br>Ano=2016<br>PIB per capita (R$)=%{y}<extra></extra>",
         "legendgroup": "PR",
         "marker": {
          "color": "#B6E880",
          "pattern": {
           "shape": ""
          }
         },
         "name": "PR",
         "orientation": "v",
         "showlegend": true,
         "textposition": "auto",
         "type": "bar",
         "x": [
          "PR"
         ],
         "xaxis": "x",
         "y": {
          "bdata": "bfhS2mN/3EA=",
          "dtype": "f8"
         },
         "yaxis": "y"
        },
        {
         "hovertemplate": "UF=%{x}<br>Ano=2016<br>PIB per capita (R$)=%{y}<extra></extra>",
         "legendgroup": "RJ",
         "marker": {
          "color": "#FF97FF",
          "pattern": {
           "shape": ""
          }
         },
         "name": "RJ",
         "orientation": "v",
         "showlegend": true,
         "textposition": "auto",
         "type": "bar",
         "x": [
          "RJ"
         ],
         "xaxis": "x",
         "y": {
          "bdata": "GS/BJxE63kA=",
          "dtype": "f8"
         },
         "yaxis": "y"
        },
        {
         "hovertemplate": "UF=%{x}<br>Ano=2016<br>PIB per capita (R$)=%{y}<extra></extra>",
         "legendgroup": "RN",
         "marker": {
          "color": "#FECB52",
          "pattern": {
           "shape": ""
          }
         },
         "name": "RN",
         "orientation": "v",
         "showlegend": true,
         "textposition": "auto",
         "type": "bar",
         "x": [
          "RN"
         ],
         "xaxis": "x",
         "y": {
          "bdata": "lx44nNGBx0A=",
          "dtype": "f8"
         },
         "yaxis": "y"
        },
        {
         "hovertemplate": "UF=%{x}<br>Ano=2016<br>PIB per capita (R$)=%{y}<extra></extra>",
         "legendgroup": "RO",
         "marker": {
          "color": "#636efa",
          "pattern": {
           "shape": ""
          }
         },
         "name": "RO",
         "orientation": "v",
         "showlegend": true,
         "textposition": "auto",
         "type": "bar",
         "x": [
          "RO"
         ],
         "xaxis": "x",
         "y": {
          "bdata": "rgnJpcXt0UA=",
          "dtype": "f8"
         },
         "yaxis": "y"
        },
        {
         "hovertemplate": "UF=%{x}<br>Ano=2016<br>PIB per capita (R$)=%{y}<extra></extra>",
         "legendgroup": "RR",
         "marker": {
          "color": "#EF553B",
          "pattern": {
           "shape": ""
          }
         },
         "name": "RR",
         "orientation": "v",
         "showlegend": true,
         "textposition": "auto",
         "type": "bar",
         "x": [
          "RR"
         ],
         "xaxis": "x",
         "y": {
          "bdata": "PGNwlQvbzkA=",
          "dtype": "f8"
         },
         "yaxis": "y"
        },
        {
         "hovertemplate": "UF=%{x}<br>Ano=2016<br>PIB per capita (R$)=%{y}<extra></extra>",
         "legendgroup": "RS",
         "marker": {
          "color": "#00cc96",
          "pattern": {
           "shape": ""
          }
         },
         "name": "RS",
         "orientation": "v",
         "showlegend": true,
         "textposition": "auto",
         "type": "bar",
         "x": [
          "RS"
         ],
         "xaxis": "x",
         "y": {
          "bdata": "SKt6w5OH4EA=",
          "dtype": "f8"
         },
         "yaxis": "y"
        },
        {
         "hovertemplate": "UF=%{x}<br>Ano=2016<br>PIB per capita (R$)=%{y}<extra></extra>",
         "legendgroup": "SC",
         "marker": {
          "color": "#ab63fa",
          "pattern": {
           "shape": ""
          }
         },
         "name": "SC",
         "orientation": "v",
         "showlegend": true,
         "textposition": "auto",
         "type": "bar",
         "x": [
          "SC"
         ],
         "xaxis": "x",
         "y": {
          "bdata": "BvPfM8IM3kA=",
          "dtype": "f8"
         },
         "yaxis": "y"
        },
        {
         "hovertemplate": "UF=%{x}<br>Ano=2016<br>PIB per capita (R$)=%{y}<extra></extra>",
         "legendgroup": "SE",
         "marker": {
          "color": "#FFA15A",
          "pattern": {
           "shape": ""
          }
         },
         "name": "SE",
         "orientation": "v",
         "showlegend": true,
         "textposition": "auto",
         "type": "bar",
         "x": [
          "SE"
         ],
         "xaxis": "x",
         "y": {
          "bdata": "55+fkjspyUA=",
          "dtype": "f8"
         },
         "yaxis": "y"
        },
        {
         "hovertemplate": "UF=%{x}<br>Ano=2016<br>PIB per capita (R$)=%{y}<extra></extra>",
         "legendgroup": "SP",
         "marker": {
          "color": "#19d3f3",
          "pattern": {
           "shape": ""
          }
         },
         "name": "SP",
         "orientation": "v",
         "showlegend": true,
         "textposition": "auto",
         "type": "bar",
         "x": [
          "SP"
         ],
         "xaxis": "x",
         "y": {
          "bdata": "dL9jG9Ey3kA=",
          "dtype": "f8"
         },
         "yaxis": "y"
        },
        {
         "hovertemplate": "UF=%{x}<br>Ano=2016<br>PIB per capita (R$)=%{y}<extra></extra>",
         "legendgroup": "TO",
         "marker": {
          "color": "#FF6692",
          "pattern": {
           "shape": ""
          }
         },
         "name": "TO",
         "orientation": "v",
         "showlegend": true,
         "textposition": "auto",
         "type": "bar",
         "x": [
          "TO"
         ],
         "xaxis": "x",
         "y": {
          "bdata": "svKJMFIX0EA=",
          "dtype": "f8"
         },
         "yaxis": "y"
        }
       ],
       "frames": [
        {
         "data": [
          {
           "hovertemplate": "UF=%{x}<br>Ano=2016<br>PIB per capita (R$)=%{y}<extra></extra>",
           "legendgroup": "AC",
           "marker": {
            "color": "#636efa",
            "pattern": {
             "shape": ""
            }
           },
           "name": "AC",
           "orientation": "v",
           "showlegend": true,
           "textposition": "auto",
           "type": "bar",
           "x": [
            "AC"
           ],
           "xaxis": "x",
           "y": {
            "bdata": "+sDxP1jAykA=",
            "dtype": "f8"
           },
           "yaxis": "y"
          },
          {
           "hovertemplate": "UF=%{x}<br>Ano=2016<br>PIB per capita (R$)=%{y}<extra></extra>",
           "legendgroup": "AL",
           "marker": {
            "color": "#EF553B",
            "pattern": {
             "shape": ""
            }
           },
           "name": "AL",
           "orientation": "v",
           "showlegend": true,
           "textposition": "auto",
           "type": "bar",
           "x": [
            "AL"
           ],
           "xaxis": "x",
           "y": {
            "bdata": "UHG61XzaxUA=",
            "dtype": "f8"
           },
           "yaxis": "y"
          },
          {
           "hovertemplate": "UF=%{x}<br>Ano=2016<br>PIB per capita (R$)=%{y}<extra></extra>",
           "legendgroup": "AM",
           "marker": {
            "color": "#00cc96",
            "pattern": {
             "shape": ""
            }
           },
           "name": "AM",
           "orientation": "v",
           "showlegend": true,
           "textposition": "auto",
           "type": "bar",
           "x": [
            "AM"
           ],
           "xaxis": "x",
           "y": {
            "bdata": "eOPsa2PgwkA=",
            "dtype": "f8"
           },
           "yaxis": "y"
          },
          {
           "hovertemplate": "UF=%{x}<br>Ano=2016<br>PIB per capita (R$)=%{y}<extra></extra>",
           "legendgroup": "AP",
           "marker": {
            "color": "#ab63fa",
            "pattern": {
             "shape": ""
            }
           },
           "name": "AP",
           "orientation": "v",
           "showlegend": true,
           "textposition": "auto",
           "type": "bar",
           "x": [
            "AP"
           ],
           "xaxis": "x",
           "y": {
            "bdata": "UMMgfq5v0EA=",
            "dtype": "f8"
           },
           "yaxis": "y"
          },
          {
           "hovertemplate": "UF=%{x}<br>Ano=2016<br>PIB per capita (R$)=%{y}<extra></extra>",
           "legendgroup": "BA",
           "marker": {
            "color": "#FFA15A",
            "pattern": {
             "shape": ""
            }
           },
           "name": "BA",
           "orientation": "v",
           "showlegend": true,
           "textposition": "auto",
           "type": "bar",
           "x": [
            "BA"
           ],
           "xaxis": "x",
           "y": {
            "bdata": "ZY2LWvLBxUA=",
            "dtype": "f8"
           },
           "yaxis": "y"
          },
          {
           "hovertemplate": "UF=%{x}<br>Ano=2016<br>PIB per capita (R$)=%{y}<extra></extra>",
           "legendgroup": "CE",
           "marker": {
            "color": "#19d3f3",
            "pattern": {
             "shape": ""
            }
           },
           "name": "CE",
           "orientation": "v",
           "showlegend": true,
           "textposition": "auto",
           "type": "bar",
           "x": [
            "CE"
           ],
           "xaxis": "x",
           "y": {
            "bdata": "PU2HnnV8wkA=",
            "dtype": "f8"
           },
           "yaxis": "y"
          },
          {
           "hovertemplate": "UF=%{x}<br>Ano=2016<br>PIB per capita (R$)=%{y}<extra></extra>",
           "legendgroup": "DF",
           "marker": {
            "color": "#FF6692",
            "pattern": {
             "shape": ""
            }
           },
           "name": "DF",
           "orientation": "v",
           "showlegend": true,
           "textposition": "auto",
           "type": "bar",
           "x": [
            "DF"
           ],
           "xaxis": "x",
           "y": {
            "bdata": "ECG4G6NQ80A=",
            "dtype": "f8"
           },
           "yaxis": "y"
          },
          {
           "hovertemplate": "UF=%{x}<br>Ano=2016<br>PIB per capita (R$)=%{y}<extra></extra>",
           "legendgroup": "ES",
           "marker": {
            "color": "#B6E880",
            "pattern": {
             "shape": ""
            }
           },
           "name": "ES",
           "orientation": "v",
           "showlegend": true,
           "textposition": "auto",
           "type": "bar",
           "x": [
            "ES"
           ],
           "xaxis": "x",
           "y": {
            "bdata": "pP03Pk261EA=",
            "dtype": "f8"
           },
           "yaxis": "y"
          },
          {
           "hovertemplate": "UF=%{x}<br>Ano=2016<br>PIB per capita (R$)=%{y}<extra></extra>",
           "legendgroup": "GO",
           "marker": {
            "color": "#FF97FF",
            "pattern": {
             "shape": ""
            }
           },
           "name": "GO",
           "orientation": "v",
           "showlegend": true,
           "textposition": "auto",
           "type": "bar",
           "x": [
            "GO"
           ],
           "xaxis": "x",
           "y": {
            "bdata": "QxybEr/O2UA=",
            "dtype": "f8"
           },
           "yaxis": "y"
          },
          {
           "hovertemplate": "UF=%{x}<br>Ano=2016<br>PIB per capita (R$)=%{y}<extra></extra>",
           "legendgroup": "MA",
           "marker": {
            "color": "#FECB52",
            "pattern": {
             "shape": ""
            }
           },
           "name": "MA",
           "orientation": "v",
           "showlegend": true,
           "textposition": "auto",
           "type": "bar",
           "x": [
            "MA"
           ],
           "xaxis": "x",
           "y": {
            "bdata": "dUd56DoewUA=",
            "dtype": "f8"
           },
           "yaxis": "y"
          },
          {
           "hovertemplate": "UF=%{x}<br>Ano=2016<br>PIB per capita (R$)=%{y}<extra></extra>",
           "legendgroup": "MG",
           "marker": {
            "color": "#636efa",
            "pattern": {
             "shape": ""
            }
           },
           "name": "MG",
           "orientation": "v",
           "showlegend": true,
           "textposition": "auto",
           "type": "bar",
           "x": [
            "MG"
           ],
           "xaxis": "x",
           "y": {
            "bdata": "ooXZBGeW0UA=",
            "dtype": "f8"
           },
           "yaxis": "y"
          },
          {
           "hovertemplate": "UF=%{x}<br>Ano=2016<br>PIB per capita (R$)=%{y}<extra></extra>",
           "legendgroup": "MS",
           "marker": {
            "color": "#EF553B",
            "pattern": {
             "shape": ""
            }
           },
           "name": "MS",
           "orientation": "v",
           "showlegend": true,
           "textposition": "auto",
           "type": "bar",
           "x": [
            "MS"
           ],
           "xaxis": "x",
           "y": {
            "bdata": "c8HQ6VC64UA=",
            "dtype": "f8"
           },
           "yaxis": "y"
          },
          {
           "hovertemplate": "UF=%{x}<br>Ano=2016<br>PIB per capita (R$)=%{y}<extra></extra>",
           "legendgroup": "MT",
           "marker": {
            "color": "#00cc96",
            "pattern": {
             "shape": ""
            }
           },
           "name": "MT",
           "orientation": "v",
           "showlegend": true,
           "textposition": "auto",
           "type": "bar",
           "x": [
            "MT"
           ],
           "xaxis": "x",
           "y": {
            "bdata": "3I/qJcnD4UA=",
            "dtype": "f8"
           },
           "yaxis": "y"
          },
          {
           "hovertemplate": "UF=%{x}<br>Ano=2016<br>PIB per capita (R$)=%{y}<extra></extra>",
           "legendgroup": "PA",
           "marker": {
            "color": "#ab63fa",
            "pattern": {
             "shape": ""
            }
           },
           "name": "PA",
           "orientation": "v",
           "showlegend": true,
           "textposition": "auto",
           "type": "bar",
           "x": [
            "PA"
           ],
           "xaxis": "x",
           "y": {
            "bdata": "DqikJqlQykA=",
            "dtype": "f8"
           },
           "yaxis": "y"
          },
          {
           "hovertemplate": "UF=%{x}<br>Ano=2016<br>PIB per capita (R$)=%{y}<extra></extra>",
           "legendgroup": "PB",
           "marker": {
            "color": "#FFA15A",
            "pattern": {
             "shape": ""
            }
           },
           "name": "PB",
           "orientation": "v",
           "showlegend": true,
           "textposition": "auto",
           "type": "bar",
           "x": [
            "PB"
           ],
           "xaxis": "x",
           "y": {
            "bdata": "75m4grKJwkA=",
            "dtype": "f8"
           },
           "yaxis": "y"
          },
          {
           "hovertemplate": "UF=%{x}<br>Ano=2016<br>PIB per capita (R$)=%{y}<extra></extra>",
           "legendgroup": "PE",
           "marker": {
            "color": "#19d3f3",
            "pattern": {
             "shape": ""
            }
           },
           "name": "PE",
           "orientation": "v",
           "showlegend": true,
           "textposition": "auto",
           "type": "bar",
           "x": [
            "PE"
           ],
           "xaxis": "x",
           "y": {
            "bdata": "1JJq2iC9xUA=",
            "dtype": "f8"
           },
           "yaxis": "y"
          },
          {
           "hovertemplate": "UF=%{x}<br>Ano=2016<br>PIB per capita (R$)=%{y}<extra></extra>",
           "legendgroup": "PI",
           "marker": {
            "color": "#FF6692",
            "pattern": {
             "shape": ""
            }
           },
           "name": "PI",
           "orientation": "v",
           "showlegend": true,
           "textposition": "auto",
           "type": "bar",
           "x": [
            "PI"
           ],
           "xaxis": "x",
           "y": {
            "bdata": "8arJA8Lev0A=",
            "dtype": "f8"
           },
           "yaxis": "y"
          },
          {
           "hovertemplate": "UF=%{x}<br>Ano=2016<br>PIB per capita (R$)=%{y}<extra></extra>",
           "legendgroup": "PR",
           "marker": {
            "color": "#B6E880",
            "pattern": {
             "shape": ""
            }
           },
           "name": "PR",
           "orientation": "v",
           "showlegend": true,
           "textposition": "auto",
           "type": "bar",
           "x": [
            "PR"
           ],
           "xaxis": "x",
           "y": {
            "bdata": "bfhS2mN/3EA=",
            "dtype": "f8"
           },
           "yaxis": "y"
          },
          {
           "hovertemplate": "UF=%{x}<br>Ano=2016<br>PIB per capita (R$)=%{y}<extra></extra>",
           "legendgroup": "RJ",
           "marker": {
            "color": "#FF97FF",
            "pattern": {
             "shape": ""
            }
           },
           "name": "RJ",
           "orientation": "v",
           "showlegend": true,
           "textposition": "auto",
           "type": "bar",
           "x": [
            "RJ"
           ],
           "xaxis": "x",
           "y": {
            "bdata": "GS/BJxE63kA=",
            "dtype": "f8"
           },
           "yaxis": "y"
          },
          {
           "hovertemplate": "UF=%{x}<br>Ano=2016<br>PIB per capita (R$)=%{y}<extra></extra>",
           "legendgroup": "RN",
           "marker": {
            "color": "#FECB52",
            "pattern": {
             "shape": ""
            }
           },
           "name": "RN",
           "orientation": "v",
           "showlegend": true,
           "textposition": "auto",
           "type": "bar",
           "x": [
            "RN"
           ],
           "xaxis": "x",
           "y": {
            "bdata": "lx44nNGBx0A=",
            "dtype": "f8"
           },
           "yaxis": "y"
          },
          {
           "hovertemplate": "UF=%{x}<br>Ano=2016<br>PIB per capita (R$)=%{y}<extra></extra>",
           "legendgroup": "RO",
           "marker": {
            "color": "#636efa",
            "pattern": {
             "shape": ""
            }
           },
           "name": "RO",
           "orientation": "v",
           "showlegend": true,
           "textposition": "auto",
           "type": "bar",
           "x": [
            "RO"
           ],
           "xaxis": "x",
           "y": {
            "bdata": "rgnJpcXt0UA=",
            "dtype": "f8"
           },
           "yaxis": "y"
          },
          {
           "hovertemplate": "UF=%{x}<br>Ano=2016<br>PIB per capita (R$)=%{y}<extra></extra>",
           "legendgroup": "RR",
           "marker": {
            "color": "#EF553B",
            "pattern": {
             "shape": ""
            }
           },
           "name": "RR",
           "orientation": "v",
           "showlegend": true,
           "textposition": "auto",
           "type": "bar",
           "x": [
            "RR"
           ],
           "xaxis": "x",
           "y": {
            "bdata": "PGNwlQvbzkA=",
            "dtype": "f8"
           },
           "yaxis": "y"
          },
          {
           "hovertemplate": "UF=%{x}<br>Ano=2016<br>PIB per capita (R$)=%{y}<extra></extra>",
           "legendgroup": "RS",
           "marker": {
            "color": "#00cc96",
            "pattern": {
             "shape": ""
            }
           },
           "name": "RS",
           "orientation": "v",
           "showlegend": true,
           "textposition": "auto",
           "type": "bar",
           "x": [
            "RS"
           ],
           "xaxis": "x",
           "y": {
            "bdata": "SKt6w5OH4EA=",
            "dtype": "f8"
           },
           "yaxis": "y"
          },
          {
           "hovertemplate": "UF=%{x}<br>Ano=2016<br>PIB per capita (R$)=%{y}<extra></extra>",
           "legendgroup": "SC",
           "marker": {
            "color": "#ab63fa",
            "pattern": {
             "shape": ""
            }
           },
           "name": "SC",
           "orientation": "v",
           "showlegend": true,
           "textposition": "auto",
           "type": "bar",
           "x": [
            "SC"
           ],
           "xaxis": "x",
           "y": {
            "bdata": "BvPfM8IM3kA=",
            "dtype": "f8"
           },
           "yaxis": "y"
          },
          {
           "hovertemplate": "UF=%{x}<br>Ano=2016<br>PIB per capita (R$)=%{y}<extra></extra>",
           "legendgroup": "SE",
           "marker": {
            "color": "#FFA15A",
            "pattern": {
             "shape": ""
            }
           },
           "name": "SE",
           "orientation": "v",
           "showlegend": true,
           "textposition": "auto",
           "type": "bar",
           "x": [
            "SE"
           ],
           "xaxis": "x",
           "y": {
            "bdata": "55+fkjspyUA=",
            "dtype": "f8"
           },
           "yaxis": "y"
          },
          {
           "hovertemplate": "UF=%{x}<br>Ano=2016<br>PIB per capita (R$)=%{y}<extra></extra>",
           "legendgroup": "SP",
           "marker": {
            "color": "#19d3f3",
            "pattern": {
             "shape": ""
            }
           },
           "name": "SP",
           "orientation": "v",
           "showlegend": true,
           "textposition": "auto",
           "type": "bar",
           "x": [
            "SP"
           ],
           "xaxis": "x",
           "y": {
            "bdata": "dL9jG9Ey3kA=",
            "dtype": "f8"
           },
           "yaxis": "y"
          },
          {
           "hovertemplate": "UF=%{x}<br>Ano=2016<br>PIB per capita (R$)=%{y}<extra></extra>",
           "legendgroup": "TO",
           "marker": {
            "color": "#FF6692",
            "pattern": {
             "shape": ""
            }
           },
           "name": "TO",
           "orientation": "v",
           "showlegend": true,
           "textposition": "auto",
           "type": "bar",
           "x": [
            "TO"
           ],
           "xaxis": "x",
           "y": {
            "bdata": "svKJMFIX0EA=",
            "dtype": "f8"
           },
           "yaxis": "y"
          }
         ],
         "name": "2016"
        },
        {
         "data": [
          {
           "hovertemplate": "UF=%{x}<br>Ano=2017<br>PIB per capita (R$)=%{y}<extra></extra>",
           "legendgroup": "AC",
           "marker": {
            "color": "#636efa",
            "pattern": {
             "shape": ""
            }
           },
           "name": "AC",
           "orientation": "v",
           "showlegend": true,
           "textposition": "auto",
           "type": "bar",
           "x": [
            "AC"
           ],
           "xaxis": "x",
           "y": {
            "bdata": "abS60hpCy0A=",
            "dtype": "f8"
           },
           "yaxis": "y"
          },
          {
           "hovertemplate": "UF=%{x}<br>Ano=2017<br>PIB per capita (R$)=%{y}<extra></extra>",
           "legendgroup": "AL",
           "marker": {
            "color": "#EF553B",
            "pattern": {
             "shape": ""
            }
           },
           "name": "AL",
           "orientation": "v",
           "showlegend": true,
           "textposition": "auto",
           "type": "bar",
           "x": [
            "AL"
           ],
           "xaxis": "x",
           "y": {
            "bdata": "nycIm7zeyEA=",
            "dtype": "f8"
           },
           "yaxis": "y"
          },
          {
           "hovertemplate": "UF=%{x}<br>Ano=2017<br>PIB per capita (R$)=%{y}<extra></extra>",
           "legendgroup": "AM",
           "marker": {
            "color": "#00cc96",
            "pattern": {
             "shape": ""
            }
           },
           "name": "AM",
           "orientation": "v",
           "showlegend": true,
           "textposition": "auto",
           "type": "bar",
           "x": [
            "AM"
           ],
           "xaxis": "x",
           "y": {
            "bdata": "noYq6Va1w0A=",
            "dtype": "f8"
           },
           "yaxis": "y"
          },
          {
           "hovertemplate": "UF=%{x}<br>Ano=2017<br>PIB per capita (R$)=%{y}<extra></extra>",
           "legendgroup": "AP",
           "marker": {
            "color": "#ab63fa",
            "pattern": {
             "shape": ""
            }
           },
           "name": "AP",
           "orientation": "v",
           "showlegend": true,
           "textposition": "auto",
           "type": "bar",
           "x": [
            "AP"
           ],
           "xaxis": "x",
           "y": {
            "bdata": "ejjkyfsf0kA=",
            "dtype": "f8"
           },
           "yaxis": "y"
          },
          {
           "hovertemplate": "UF=%{x}<br>Ano=2017<br>PIB per capita (R$)=%{y}<extra></extra>",
           "legendgroup": "BA",
           "marker": {
            "color": "#FFA15A",
            "pattern": {
             "shape": ""
            }
           },
           "name": "BA",
           "orientation": "v",
           "showlegend": true,
           "textposition": "auto",
           "type": "bar",
           "x": [
            "BA"
           ],
           "xaxis": "x",
           "y": {
            "bdata": "Nubpu+IbxkA=",
            "dtype": "f8"
           },
           "yaxis": "y"
          },
          {
           "hovertemplate": "UF=%{x}<br>Ano=2017<br>PIB per capita (R$)=%{y}<extra></extra>",
           "legendgroup": "CE",
           "marker": {
            "color": "#19d3f3",
            "pattern": {
             "shape": ""
            }
           },
           "name": "CE",
           "orientation": "v",
           "showlegend": true,
           "textposition": "auto",
           "type": "bar",
           "x": [
            "CE"
           ],
           "xaxis": "x",
           "y": {
            "bdata": "wX6xOjTPxEA=",
            "dtype": "f8"
           },
           "yaxis": "y"
          },
          {
           "hovertemplate": "UF=%{x}<br>Ano=2017<br>PIB per capita (R$)=%{y}<extra></extra>",
           "legendgroup": "DF",
           "marker": {
            "color": "#FF6692",
            "pattern": {
             "shape": ""
            }
           },
           "name": "DF",
           "orientation": "v",
           "showlegend": true,
           "textposition": "auto",
           "type": "bar",
           "x": [
            "DF"
           ],
           "xaxis": "x",
           "y": {
            "bdata": "rVBVczeo80A=",
            "dtype": "f8"
           },
           "yaxis": "y"
          },
          {
           "hovertemplate": "UF=%{x}<br>Ano=2017<br>PIB per capita (R$)=%{y}<extra></extra>",
           "legendgroup": "ES",
           "marker": {
            "color": "#B6E880",
            "pattern": {
             "shape": ""
            }
           },
           "name": "ES",
           "orientation": "v",
           "showlegend": true,
           "textposition": "auto",
           "type": "bar",
           "x": [
            "ES"
           ],
           "xaxis": "x",
           "y": {
            "bdata": "iFjb9VUi10A=",
            "dtype": "f8"
           },
           "yaxis": "y"
          },
          {
           "hovertemplate": "UF=%{x}<br>Ano=2017<br>PIB per capita (R$)=%{y}<extra></extra>",
           "legendgroup": "GO",
           "marker": {
            "color": "#FF97FF",
            "pattern": {
             "shape": ""
            }
           },
           "name": "GO",
           "orientation": "v",
           "showlegend": true,
           "textposition": "auto",
           "type": "bar",
           "x": [
            "GO"
           ],
           "xaxis": "x",
           "y": {
            "bdata": "I1I6QQq82kA=",
            "dtype": "f8"
           },
           "yaxis": "y"
          },
          {
           "hovertemplate": "UF=%{x}<br>Ano=2017<br>PIB per capita (R$)=%{y}<extra></extra>",
           "legendgroup": "MA",
           "marker": {
            "color": "#FECB52",
            "pattern": {
             "shape": ""
            }
           },
           "name": "MA",
           "orientation": "v",
           "showlegend": true,
           "textposition": "auto",
           "type": "bar",
           "x": [
            "MA"
           ],
           "xaxis": "x",
           "y": {
            "bdata": "UdZW7kiYwkA=",
            "dtype": "f8"
           },
           "yaxis": "y"
          },
          {
           "hovertemplate": "UF=%{x}<br>Ano=2017<br>PIB per capita (R$)=%{y}<extra></extra>",
           "legendgroup": "MG",
           "marker": {
            "color": "#636efa",
            "pattern": {
             "shape": ""
            }
           },
           "name": "MG",
           "orientation": "v",
           "showlegend": true,
           "textposition": "auto",
           "type": "bar",
           "x": [
            "MG"
           ],
           "xaxis": "x",
           "y": {
            "bdata": "q01zg15i0kA=",
            "dtype": "f8"
           },
           "yaxis": "y"
          },
          {
           "hovertemplate": "UF=%{x}<br>Ano=2017<br>PIB per capita (R$)=%{y}<extra></extra>",
           "legendgroup": "MS",
           "marker": {
            "color": "#EF553B",
            "pattern": {
             "shape": ""
            }
           },
           "name": "MS",
           "orientation": "v",
           "showlegend": true,
           "textposition": "auto",
           "type": "bar",
           "x": [
            "MS"
           ],
           "xaxis": "x",
           "y": {
            "bdata": "Ne8XeyHr4UA=",
            "dtype": "f8"
           },
           "yaxis": "y"
          },
          {
           "hovertemplate": "UF=%{x}<br>Ano=2017<br>PIB per capita (R$)=%{y}<extra></extra>",
           "legendgroup": "MT",
           "marker": {
            "color": "#00cc96",
            "pattern": {
             "shape": ""
            }
           },
           "name": "MT",
           "orientation": "v",
           "showlegend": true,
           "textposition": "auto",
           "type": "bar",
           "x": [
            "MT"
           ],
           "xaxis": "x",
           "y": {
            "bdata": "1Rroteqg4UA=",
            "dtype": "f8"
           },
           "yaxis": "y"
          },
          {
           "hovertemplate": "UF=%{x}<br>Ano=2017<br>PIB per capita (R$)=%{y}<extra></extra>",
           "legendgroup": "PA",
           "marker": {
            "color": "#ab63fa",
            "pattern": {
             "shape": ""
            }
           },
           "name": "PA",
           "orientation": "v",
           "showlegend": true,
           "textposition": "auto",
           "type": "bar",
           "x": [
            "PA"
           ],
           "xaxis": "x",
           "y": {
            "bdata": "DSXF8UXEzkA=",
            "dtype": "f8"
           },
           "yaxis": "y"
          },
          {
           "hovertemplate": "UF=%{x}<br>Ano=2017<br>PIB per capita (R$)=%{y}<extra></extra>",
           "legendgroup": "PB",
           "marker": {
            "color": "#FFA15A",
            "pattern": {
             "shape": ""
            }
           },
           "name": "PB",
           "orientation": "v",
           "showlegend": true,
           "textposition": "auto",
           "type": "bar",
           "x": [
            "PB"
           ],
           "xaxis": "x",
           "y": {
            "bdata": "mUn0l9qQw0A=",
            "dtype": "f8"
           },
           "yaxis": "y"
          },
          {
           "hovertemplate": "UF=%{x}<br>Ano=2017<br>PIB per capita (R$)=%{y}<extra></extra>",
           "legendgroup": "PE",
           "marker": {
            "color": "#19d3f3",
            "pattern": {
             "shape": ""
            }
           },
           "name": "PE",
           "orientation": "v",
           "showlegend": true,
           "textposition": "auto",
           "type": "bar",
           "x": [
            "PE"
           ],
           "xaxis": "x",
           "y": {
            "bdata": "XOXtPNzFx0A=",
            "dtype": "f8"
           },
           "yaxis": "y"
          },
          {
           "hovertemplate": "UF=%{x}<br>Ano=2017<br>PIB per capita (R$)=%{y}<extra></extra>",
           "legendgroup": "PI",
           "marker": {
            "color": "#FF6692",
            "pattern": {
             "shape": ""
            }
           },
           "name": "PI",
           "orientation": "v",
           "showlegend": true,
           "textposition": "auto",
           "type": "bar",
           "x": [
            "PI"
           ],
           "xaxis": "x",
           "y": {
            "bdata": "/qX6Pz19w0A=",
            "dtype": "f8"
           },
           "yaxis": "y"
          },
          {
           "hovertemplate": "UF=%{x}<br>Ano=2017<br>PIB per capita (R$)=%{y}<extra></extra>",
           "legendgroup": "PR",
           "marker": {
            "color": "#B6E880",
            "pattern": {
             "shape": ""
            }
           },
           "name": "PR",
           "orientation": "v",
           "showlegend": true,
           "textposition": "auto",
           "type": "bar",
           "x": [
            "PR"
           ],
           "xaxis": "x",
           "y": {
            "bdata": "jhKKITuU3UA=",
            "dtype": "f8"
           },
           "yaxis": "y"
          },
          {
           "hovertemplate": "UF=%{x}<br>Ano=2017<br>PIB per capita (R$)=%{y}<extra></extra>",
           "legendgroup": "RJ",
           "marker": {
            "color": "#FF97FF",
            "pattern": {
             "shape": ""
            }
           },
           "name": "RJ",
           "orientation": "v",
           "showlegend": true,
           "textposition": "auto",
           "type": "bar",
           "x": [
            "RJ"
           ],
           "xaxis": "x",
           "y": {
            "bdata": "eqTnEyT230A=",
            "dtype": "f8"
           },
           "yaxis": "y"
          },
          {
           "hovertemplate": "UF=%{x}<br>Ano=2017<br>PIB per capita (R$)=%{y}<extra></extra>",
           "legendgroup": "RN",
           "marker": {
            "color": "#FECB52",
            "pattern": {
             "shape": ""
            }
           },
           "name": "RN",
           "orientation": "v",
           "showlegend": true,
           "textposition": "auto",
           "type": "bar",
           "x": [
            "RN"
           ],
           "xaxis": "x",
           "y": {
            "bdata": "Cd/bXCH1ykA=",
            "dtype": "f8"
           },
           "yaxis": "y"
          },
          {
           "hovertemplate": "UF=%{x}<br>Ano=2017<br>PIB per capita (R$)=%{y}<extra></extra>",
           "legendgroup": "RO",
           "marker": {
            "color": "#636efa",
            "pattern": {
             "shape": ""
            }
           },
           "name": "RO",
           "orientation": "v",
           "showlegend": true,
           "textposition": "auto",
           "type": "bar",
           "x": [
            "RO"
           ],
           "xaxis": "x",
           "y": {
            "bdata": "qLxt4abF00A=",
            "dtype": "f8"
           },
           "yaxis": "y"
          },
          {
           "hovertemplate": "UF=%{x}<br>Ano=2017<br>PIB per capita (R$)=%{y}<extra></extra>",
           "legendgroup": "RR",
           "marker": {
            "color": "#EF553B",
            "pattern": {
             "shape": ""
            }
           },
           "name": "RR",
           "orientation": "v",
           "showlegend": true,
           "textposition": "auto",
           "type": "bar",
           "x": [
            "RR"
           ],
           "xaxis": "x",
           "y": {
            "bdata": "5xWnBaCf0EA=",
            "dtype": "f8"
           },
           "yaxis": "y"
          },
          {
           "hovertemplate": "UF=%{x}<br>Ano=2017<br>PIB per capita (R$)=%{y}<extra></extra>",
           "legendgroup": "RS",
           "marker": {
            "color": "#00cc96",
            "pattern": {
             "shape": ""
            }
           },
           "name": "RS",
           "orientation": "v",
           "showlegend": true,
           "textposition": "auto",
           "type": "bar",
           "x": [
            "RS"
           ],
           "xaxis": "x",
           "y": {
            "bdata": "QnL4SEaR4EA=",
            "dtype": "f8"
           },
           "yaxis": "y"
          },
          {
           "hovertemplate": "UF=%{x}<br>Ano=2017<br>PIB per capita (R$)=%{y}<extra></extra>",
           "legendgroup": "SC",
           "marker": {
            "color": "#ab63fa",
            "pattern": {
             "shape": ""
            }
           },
           "name": "SC",
           "orientation": "v",
           "showlegend": true,
           "textposition": "auto",
           "type": "bar",
           "x": [
            "SC"
           ],
           "xaxis": "x",
           "y": {
            "bdata": "pHA3HOts30A=",
            "dtype": "f8"
           },
           "yaxis": "y"
          },
          {
           "hovertemplate": "UF=%{x}<br>Ano=2017<br>PIB per capita (R$)=%{y}<extra></extra>",
           "legendgroup": "SE",
           "marker": {
            "color": "#FFA15A",
            "pattern": {
             "shape": ""
            }
           },
           "name": "SE",
           "orientation": "v",
           "showlegend": true,
           "textposition": "auto",
           "type": "bar",
           "x": [
            "SE"
           ],
           "xaxis": "x",
           "y": {
            "bdata": "bsStB1HkykA=",
            "dtype": "f8"
           },
           "yaxis": "y"
          },
          {
           "hovertemplate": "UF=%{x}<br>Ano=2017<br>PIB per capita (R$)=%{y}<extra></extra>",
           "legendgroup": "SP",
           "marker": {
            "color": "#19d3f3",
            "pattern": {
             "shape": ""
            }
           },
           "name": "SP",
           "orientation": "v",
           "showlegend": true,
           "textposition": "auto",
           "type": "bar",
           "x": [
            "SP"
           ],
           "xaxis": "x",
           "y": {
            "bdata": "wQB2KGwH4EA=",
            "dtype": "f8"
           },
           "yaxis": "y"
          },
          {
           "hovertemplate": "UF=%{x}<br>Ano=2017<br>PIB per capita (R$)=%{y}<extra></extra>",
           "legendgroup": "TO",
           "marker": {
            "color": "#FF6692",
            "pattern": {
             "shape": ""
            }
           },
           "name": "TO",
           "orientation": "v",
           "showlegend": true,
           "textposition": "auto",
           "type": "bar",
           "x": [
            "TO"
           ],
           "xaxis": "x",
           "y": {
            "bdata": "rP3WwZmn0UA=",
            "dtype": "f8"
           },
           "yaxis": "y"
          }
         ],
         "name": "2017"
        },
        {
         "data": [
          {
           "hovertemplate": "UF=%{x}<br>Ano=2018<br>PIB per capita (R$)=%{y}<extra></extra>",
           "legendgroup": "AC",
           "marker": {
            "color": "#636efa",
            "pattern": {
             "shape": ""
            }
           },
           "name": "AC",
           "orientation": "v",
           "showlegend": true,
           "textposition": "auto",
           "type": "bar",
           "x": [
            "AC"
           ],
           "xaxis": "x",
           "y": {
            "bdata": "GkjRo3ALy0A=",
            "dtype": "f8"
           },
           "yaxis": "y"
          },
          {
           "hovertemplate": "UF=%{x}<br>Ano=2018<br>PIB per capita (R$)=%{y}<extra></extra>",
           "legendgroup": "AL",
           "marker": {
            "color": "#EF553B",
            "pattern": {
             "shape": ""
            }
           },
           "name": "AL",
           "orientation": "v",
           "showlegend": true,
           "textposition": "auto",
           "type": "bar",
           "x": [
            "AL"
           ],
           "xaxis": "x",
           "y": {
            "bdata": "AEO+qmYzykA=",
            "dtype": "f8"
           },
           "yaxis": "y"
          },
          {
           "hovertemplate": "UF=%{x}<br>Ano=2018<br>PIB per capita (R$)=%{y}<extra></extra>",
           "legendgroup": "AM",
           "marker": {
            "color": "#00cc96",
            "pattern": {
             "shape": ""
            }
           },
           "name": "AM",
           "orientation": "v",
           "showlegend": true,
           "textposition": "auto",
           "type": "bar",
           "x": [
            "AM"
           ],
           "xaxis": "x",
           "y": {
            "bdata": "ZsEl8EJ4xUA=",
            "dtype": "f8"
           },
           "yaxis": "y"
          },
          {
           "hovertemplate": "UF=%{x}<br>Ano=2018<br>PIB per capita (R$)=%{y}<extra></extra>",
           "legendgroup": "AP",
           "marker": {
            "color": "#ab63fa",
            "pattern": {
             "shape": ""
            }
           },
           "name": "AP",
           "orientation": "v",
           "showlegend": true,
           "textposition": "auto",
           "type": "bar",
           "x": [
            "AP"
           ],
           "xaxis": "x",
           "y": {
            "bdata": "ByxzCDJb0kA=",
            "dtype": "f8"
           },
           "yaxis": "y"
          },
          {
           "hovertemplate": "UF=%{x}<br>Ano=2018<br>PIB per capita (R$)=%{y}<extra></extra>",
           "legendgroup": "BA",
           "marker": {
            "color": "#FFA15A",
            "pattern": {
             "shape": ""
            }
           },
           "name": "BA",
           "orientation": "v",
           "showlegend": true,
           "textposition": "auto",
           "type": "bar",
           "x": [
            "BA"
           ],
           "xaxis": "x",
           "y": {
            "bdata": "VjCWX5DsyEA=",
            "dtype": "f8"
           },
           "yaxis": "y"
          },
          {
           "hovertemplate": "UF=%{x}<br>Ano=2018<br>PIB per capita (R$)=%{y}<extra></extra>",
           "legendgroup": "CE",
           "marker": {
            "color": "#19d3f3",
            "pattern": {
             "shape": ""
            }
           },
           "name": "CE",
           "orientation": "v",
           "showlegend": true,
           "textposition": "auto",
           "type": "bar",
           "x": [
            "CE"
           ],
           "xaxis": "x",
           "y": {
            "bdata": "ToKd6clYxUA=",
            "dtype": "f8"
           },
           "yaxis": "y"
          },
          {
           "hovertemplate": "UF=%{x}<br>Ano=2018<br>PIB per capita (R$)=%{y}<extra></extra>",
           "legendgroup": "DF",
           "marker": {
            "color": "#FF6692",
            "pattern": {
             "shape": ""
            }
           },
           "name": "DF",
           "orientation": "v",
           "showlegend": true,
           "textposition": "auto",
           "type": "bar",
           "x": [
            "DF"
           ],
           "xaxis": "x",
           "y": {
            "bdata": "3o/WTNbp9EA=",
            "dtype": "f8"
           },
           "yaxis": "y"
          },
          {
           "hovertemplate": "UF=%{x}<br>Ano=2018<br>PIB per capita (R$)=%{y}<extra></extra>",
           "legendgroup": "ES",
           "marker": {
            "color": "#B6E880",
            "pattern": {
             "shape": ""
            }
           },
           "name": "ES",
           "orientation": "v",
           "showlegend": true,
           "textposition": "auto",
           "type": "bar",
           "x": [
            "ES"
           ],
           "xaxis": "x",
           "y": {
            "bdata": "kPanUDJE3UA=",
            "dtype": "f8"
           },
           "yaxis": "y"
          },
          {
           "hovertemplate": "UF=%{x}<br>Ano=2018<br>PIB per capita (R$)=%{y}<extra></extra>",
           "legendgroup": "GO",
           "marker": {
            "color": "#FF97FF",
            "pattern": {
             "shape": ""
            }
           },
           "name": "GO",
           "orientation": "v",
           "showlegend": true,
           "textposition": "auto",
           "type": "bar",
           "x": [
            "GO"
           ],
           "xaxis": "x",
           "y": {
            "bdata": "YfFRrxyZ20A=",
            "dtype": "f8"
           },
           "yaxis": "y"
          },
          {
           "hovertemplate": "UF=%{x}<br>Ano=2018<br>PIB per capita (R$)=%{y}<extra></extra>",
           "legendgroup": "MA",
           "marker": {
            "color": "#FECB52",
            "pattern": {
             "shape": ""
            }
           },
           "name": "MA",
           "orientation": "v",
           "showlegend": true,
           "textposition": "auto",
           "type": "bar",
           "x": [
            "MA"
           ],
           "xaxis": "x",
           "y": {
            "bdata": "vguXkh36w0A=",
            "dtype": "f8"
           },
           "yaxis": "y"
          },
          {
           "hovertemplate": "UF=%{x}<br>Ano=2018<br>PIB per capita (R$)=%{y}<extra></extra>",
           "legendgroup": "MG",
           "marker": {
            "color": "#636efa",
            "pattern": {
             "shape": ""
            }
           },
           "name": "MG",
           "orientation": "v",
           "showlegend": true,
           "textposition": "auto",
           "type": "bar",
           "x": [
            "MG"
           ],
           "xaxis": "x",
           "y": {
            "bdata": "sosKwkuG00A=",
            "dtype": "f8"
           },
           "yaxis": "y"
          },
          {
           "hovertemplate": "UF=%{x}<br>Ano=2018<br>PIB per capita (R$)=%{y}<extra></extra>",
           "legendgroup": "MS",
           "marker": {
            "color": "#EF553B",
            "pattern": {
             "shape": ""
            }
           },
           "name": "MS",
           "orientation": "v",
           "showlegend": true,
           "textposition": "auto",
           "type": "bar",
           "x": [
            "MS"
           ],
           "xaxis": "x",
           "y": {
            "bdata": "C3TUIRJL5EA=",
            "dtype": "f8"
           },
           "yaxis": "y"
          },
          {
           "hovertemplate": "UF=%{x}<br>Ano=2018<br>PIB per capita (R$)=%{y}<extra></extra>",
           "legendgroup": "MT",
           "marker": {
            "color": "#00cc96",
            "pattern": {
             "shape": ""
            }
           },
           "name": "MT",
           "orientation": "v",
           "showlegend": true,
           "textposition": "auto",
           "type": "bar",
           "x": [
            "MT"
           ],
           "xaxis": "x",
           "y": {
            "bdata": "JnJAOvur4kA=",
            "dtype": "f8"
           },
           "yaxis": "y"
          },
          {
           "hovertemplate": "UF=%{x}<br>Ano=2018<br>PIB per capita (R$)=%{y}<extra></extra>",
           "legendgroup": "PA",
           "marker": {
            "color": "#ab63fa",
            "pattern": {
             "shape": ""
            }
           },
           "name": "PA",
           "orientation": "v",
           "showlegend": true,
           "textposition": "auto",
           "type": "bar",
           "x": [
            "PA"
           ],
           "xaxis": "x",
           "y": {
            "bdata": "8z7dcyGP0EA=",
            "dtype": "f8"
           },
           "yaxis": "y"
          },
          {
           "hovertemplate": "UF=%{x}<br>Ano=2018<br>PIB per capita (R$)=%{y}<extra></extra>",
           "legendgroup": "PB",
           "marker": {
            "color": "#FFA15A",
            "pattern": {
             "shape": ""
            }
           },
           "name": "PB",
           "orientation": "v",
           "showlegend": true,
           "textposition": "auto",
           "type": "bar",
           "x": [
            "PB"
           ],
           "xaxis": "x",
           "y": {
            "bdata": "WrVj4UehxEA=",
            "dtype": "f8"
           },
           "yaxis": "y"
          },
          {
           "hovertemplate": "UF=%{x}<br>Ano=2018<br>PIB per capita (R$)=%{y}<extra></extra>",
           "legendgroup": "PE",
           "marker": {
            "color": "#19d3f3",
            "pattern": {
             "shape": ""
            }
           },
           "name": "PE",
           "orientation": "v",
           "showlegend": true,
           "textposition": "auto",
           "type": "bar",
           "x": [
            "PE"
           ],
           "xaxis": "x",
           "y": {
            "bdata": "bKFagWqmyEA=",
            "dtype": "f8"
           },
           "yaxis": "y"
          },
          {
           "hovertemplate": "UF=%{x}<br>Ano=2018<br>PIB per capita (R$)=%{y}<extra></extra>",
           "legendgroup": "PI",
           "marker": {
            "color": "#FF6692",
            "pattern": {
             "shape": ""
            }
           },
           "name": "PI",
           "orientation": "v",
           "showlegend": true,
           "textposition": "auto",
           "type": "bar",
           "x": [
            "PI"
           ],
           "xaxis": "x",
           "y": {
            "bdata": "6VgZYrfPxUA=",
            "dtype": "f8"
           },
           "yaxis": "y"
          },
          {
           "hovertemplate": "UF=%{x}<br>Ano=2018<br>PIB per capita (R$)=%{y}<extra></extra>",
           "legendgroup": "PR",
           "marker": {
            "color": "#B6E880",
            "pattern": {
             "shape": ""
            }
           },
           "name": "PR",
           "orientation": "v",
           "showlegend": true,
           "textposition": "auto",
           "type": "bar",
           "x": [
            "PR"
           ],
           "xaxis": "x",
           "y": {
            "bdata": "bingaQp+30A=",
            "dtype": "f8"
           },
           "yaxis": "y"
          },
          {
           "hovertemplate": "UF=%{x}<br>Ano=2018<br>PIB per capita (R$)=%{y}<extra></extra>",
           "legendgroup": "RJ",
           "marker": {
            "color": "#FF97FF",
            "pattern": {
             "shape": ""
            }
           },
           "name": "RJ",
           "orientation": "v",
           "showlegend": true,
           "textposition": "auto",
           "type": "bar",
           "x": [
            "RJ"
           ],
           "xaxis": "x",
           "y": {
            "bdata": "YOHOXdtE4kA=",
            "dtype": "f8"
           },
           "yaxis": "y"
          },
          {
           "hovertemplate": "UF=%{x}<br>Ano=2018<br>PIB per capita (R$)=%{y}<extra></extra>",
           "legendgroup": "RN",
           "marker": {
            "color": "#FECB52",
            "pattern": {
             "shape": ""
            }
           },
           "name": "RN",
           "orientation": "v",
           "showlegend": true,
           "textposition": "auto",
           "type": "bar",
           "x": [
            "RN"
           ],
           "xaxis": "x",
           "y": {
            "bdata": "JkK+3q3rzEA=",
            "dtype": "f8"
           },
           "yaxis": "y"
          },
          {
           "hovertemplate": "UF=%{x}<br>Ano=2018<br>PIB per capita (R$)=%{y}<extra></extra>",
           "legendgroup": "RO",
           "marker": {
            "color": "#636efa",
            "pattern": {
             "shape": ""
            }
           },
           "name": "RO",
           "orientation": "v",
           "showlegend": true,
           "textposition": "auto",
           "type": "bar",
           "x": [
            "RO"
           ],
           "xaxis": "x",
           "y": {
            "bdata": "gpKgLljh1UA=",
            "dtype": "f8"
           },
           "yaxis": "y"
          },
          {
           "hovertemplate": "UF=%{x}<br>Ano=2018<br>PIB per capita (R$)=%{y}<extra></extra>",
           "legendgroup": "RR",
           "marker": {
            "color": "#EF553B",
            "pattern": {
             "shape": ""
            }
           },
           "name": "RR",
           "orientation": "v",
           "showlegend": true,
           "textposition": "auto",
           "type": "bar",
           "x": [
            "RR"
           ],
           "xaxis": "x",
           "y": {
            "bdata": "o7DobwbK0EA=",
            "dtype": "f8"
           },
           "yaxis": "y"
          },
          {
           "hovertemplate": "UF=%{x}<br>Ano=2018<br>PIB per capita (R$)=%{y}<extra></extra>",
           "legendgroup": "RS",
           "marker": {
            "color": "#00cc96",
            "pattern": {
             "shape": ""
            }
           },
           "name": "RS",
           "orientation": "v",
           "showlegend": true,
           "textposition": "auto",
           "type": "bar",
           "x": [
            "RS"
           ],
           "xaxis": "x",
           "y": {
            "bdata": "pWxn9/h34kA=",
            "dtype": "f8"
           },
           "yaxis": "y"
          },
          {
           "hovertemplate": "UF=%{x}<br>Ano=2018<br>PIB per capita (R$)=%{y}<extra></extra>",
           "legendgroup": "SC",
           "marker": {
            "color": "#ab63fa",
            "pattern": {
             "shape": ""
            }
           },
           "name": "SC",
           "orientation": "v",
           "showlegend": true,
           "textposition": "auto",
           "type": "bar",
           "x": [
            "SC"
           ],
           "xaxis": "x",
           "y": {
            "bdata": "b2gGivR14EA=",
            "dtype": "f8"
           },
           "yaxis": "y"
          },
          {
           "hovertemplate": "UF=%{x}<br>Ano=2018<br>PIB per capita (R$)=%{y}<extra></extra>",
           "legendgroup": "SE",
           "marker": {
            "color": "#FFA15A",
            "pattern": {
             "shape": ""
            }
           },
           "name": "SE",
           "orientation": "v",
           "showlegend": true,
           "textposition": "auto",
           "type": "bar",
           "x": [
            "SE"
           ],
           "xaxis": "x",
           "y": {
            "bdata": "9ZhKbPYSy0A=",
            "dtype": "f8"
           },
           "yaxis": "y"
          },
          {
           "hovertemplate": "UF=%{x}<br>Ano=2018<br>PIB per capita (R$)=%{y}<extra></extra>",
           "legendgroup": "SP",
           "marker": {
            "color": "#19d3f3",
            "pattern": {
             "shape": ""
            }
           },
           "name": "SP",
           "orientation": "v",
           "showlegend": true,
           "textposition": "auto",
           "type": "bar",
           "x": [
            "SP"
           ],
           "xaxis": "x",
           "y": {
            "bdata": "lnOKnpAN4EA=",
            "dtype": "f8"
           },
           "yaxis": "y"
          },
          {
           "hovertemplate": "UF=%{x}<br>Ano=2018<br>PIB per capita (R$)=%{y}<extra></extra>",
           "legendgroup": "TO",
           "marker": {
            "color": "#FF6692",
            "pattern": {
             "shape": ""
            }
           },
           "name": "TO",
           "orientation": "v",
           "showlegend": true,
           "textposition": "auto",
           "type": "bar",
           "x": [
            "TO"
           ],
           "xaxis": "x",
           "y": {
            "bdata": "UevRHbCF0kA=",
            "dtype": "f8"
           },
           "yaxis": "y"
          }
         ],
         "name": "2018"
        },
        {
         "data": [
          {
           "hovertemplate": "UF=%{x}<br>Ano=2019<br>PIB per capita (R$)=%{y}<extra></extra>",
           "legendgroup": "AC",
           "marker": {
            "color": "#636efa",
            "pattern": {
             "shape": ""
            }
           },
           "name": "AC",
           "orientation": "v",
           "showlegend": true,
           "textposition": "auto",
           "type": "bar",
           "x": [
            "AC"
           ],
           "xaxis": "x",
           "y": {
            "bdata": "Oo3BkQ3sykA=",
            "dtype": "f8"
           },
           "yaxis": "y"
          },
          {
           "hovertemplate": "UF=%{x}<br>Ano=2019<br>PIB per capita (R$)=%{y}<extra></extra>",
           "legendgroup": "AL",
           "marker": {
            "color": "#EF553B",
            "pattern": {
             "shape": ""
            }
           },
           "name": "AL",
           "orientation": "v",
           "showlegend": true,
           "textposition": "auto",
           "type": "bar",
           "x": [
            "AL"
           ],
           "xaxis": "x",
           "y": {
            "bdata": "gwrW7FRuzEA=",
            "dtype": "f8"
           },
           "yaxis": "y"
          },
          {
           "hovertemplate": "UF=%{x}<br>Ano=2019<br>PIB per capita (R$)=%{y}<extra></extra>",
           "legendgroup": "AM",
           "marker": {
            "color": "#00cc96",
            "pattern": {
             "shape": ""
            }
           },
           "name": "AM",
           "orientation": "v",
           "showlegend": true,
           "textposition": "auto",
           "type": "bar",
           "x": [
            "AM"
           ],
           "xaxis": "x",
           "y": {
            "bdata": "TE0p+RbBxkA=",
            "dtype": "f8"
           },
           "yaxis": "y"
          },
          {
           "hovertemplate": "UF=%{x}<br>Ano=2019<br>PIB per capita (R$)=%{y}<extra></extra>",
           "legendgroup": "AP",
           "marker": {
            "color": "#ab63fa",
            "pattern": {
             "shape": ""
            }
           },
           "name": "AP",
           "orientation": "v",
           "showlegend": true,
           "textposition": "auto",
           "type": "bar",
           "x": [
            "AP"
           ],
           "xaxis": "x",
           "y": {
            "bdata": "73w9kwZt0kA=",
            "dtype": "f8"
           },
           "yaxis": "y"
          },
          {
           "hovertemplate": "UF=%{x}<br>Ano=2019<br>PIB per capita (R$)=%{y}<extra></extra>",
           "legendgroup": "BA",
           "marker": {
            "color": "#FFA15A",
            "pattern": {
             "shape": ""
            }
           },
           "name": "BA",
           "orientation": "v",
           "showlegend": true,
           "textposition": "auto",
           "type": "bar",
           "x": [
            "BA"
           ],
           "xaxis": "x",
           "y": {
            "bdata": "dK/4OEHIyUA=",
            "dtype": "f8"
           },
           "yaxis": "y"
          },
          {
           "hovertemplate": "UF=%{x}<br>Ano=2019<br>PIB per capita (R$)=%{y}<extra></extra>",
           "legendgroup": "CE",
           "marker": {
            "color": "#19d3f3",
            "pattern": {
             "shape": ""
            }
           },
           "name": "CE",
           "orientation": "v",
           "showlegend": true,
           "textposition": "auto",
           "type": "bar",
           "x": [
            "CE"
           ],
           "xaxis": "x",
           "y": {
            "bdata": "b0oR1YuwxkA=",
            "dtype": "f8"
           },
           "yaxis": "y"
          },
          {
           "hovertemplate": "UF=%{x}<br>Ano=2019<br>PIB per capita (R$)=%{y}<extra></extra>",
           "legendgroup": "DF",
           "marker": {
            "color": "#FF6692",
            "pattern": {
             "shape": ""
            }
           },
           "name": "DF",
           "orientation": "v",
           "showlegend": true,
           "textposition": "auto",
           "type": "bar",
           "x": [
            "DF"
           ],
           "xaxis": "x",
           "y": {
            "bdata": "m/7wAGwn9kA=",
            "dtype": "f8"
           },
           "yaxis": "y"
          },
          {
           "hovertemplate": "UF=%{x}<br>Ano=2019<br>PIB per capita (R$)=%{y}<extra></extra>",
           "legendgroup": "ES",
           "marker": {
            "color": "#B6E880",
            "pattern": {
             "shape": ""
            }
           },
           "name": "ES",
           "orientation": "v",
           "showlegend": true,
           "textposition": "auto",
           "type": "bar",
           "x": [
            "ES"
           ],
           "xaxis": "x",
           "y": {
            "bdata": "HkXzijfQ3EA=",
            "dtype": "f8"
           },
           "yaxis": "y"
          },
          {
           "hovertemplate": "UF=%{x}<br>Ano=2019<br>PIB per capita (R$)=%{y}<extra></extra>",
           "legendgroup": "GO",
           "marker": {
            "color": "#FF97FF",
            "pattern": {
             "shape": ""
            }
           },
           "name": "GO",
           "orientation": "v",
           "showlegend": true,
           "textposition": "auto",
           "type": "bar",
           "x": [
            "GO"
           ],
           "xaxis": "x",
           "y": {
            "bdata": "6GGJ6whC3UA=",
            "dtype": "f8"
           },
           "yaxis": "y"
          },
          {
           "hovertemplate": "UF=%{x}<br>Ano=2019<br>PIB per capita (R$)=%{y}<extra></extra>",
           "legendgroup": "MA",
           "marker": {
            "color": "#FECB52",
            "pattern": {
             "shape": ""
            }
           },
           "name": "MA",
           "orientation": "v",
           "showlegend": true,
           "textposition": "auto",
           "type": "bar",
           "x": [
            "MA"
           ],
           "xaxis": "x",
           "y": {
            "bdata": "O2xzdQAQxEA=",
            "dtype": "f8"
           },
           "yaxis": "y"
          },
          {
           "hovertemplate": "UF=%{x}<br>Ano=2019<br>PIB per capita (R$)=%{y}<extra></extra>",
           "legendgroup": "MG",
           "marker": {
            "color": "#636efa",
            "pattern": {
             "shape": ""
            }
           },
           "name": "MG",
           "orientation": "v",
           "showlegend": true,
           "textposition": "auto",
           "type": "bar",
           "x": [
            "MG"
           ],
           "xaxis": "x",
           "y": {
            "bdata": "EdVaswHm1EA=",
            "dtype": "f8"
           },
           "yaxis": "y"
          },
          {
           "hovertemplate": "UF=%{x}<br>Ano=2019<br>PIB per capita (R$)=%{y}<extra></extra>",
           "legendgroup": "MS",
           "marker": {
            "color": "#EF553B",
            "pattern": {
             "shape": ""
            }
           },
           "name": "MS",
           "orientation": "v",
           "showlegend": true,
           "textposition": "auto",
           "type": "bar",
           "x": [
            "MS"
           ],
           "xaxis": "x",
           "y": {
            "bdata": "c2ofhEes40A=",
            "dtype": "f8"
           },
           "yaxis": "y"
          },
          {
           "hovertemplate": "UF=%{x}<br>Ano=2019<br>PIB per capita (R$)=%{y}<extra></extra>",
           "legendgroup": "MT",
           "marker": {
            "color": "#00cc96",
            "pattern": {
             "shape": ""
            }
           },
           "name": "MT",
           "orientation": "v",
           "showlegend": true,
           "textposition": "auto",
           "type": "bar",
           "x": [
            "MT"
           ],
           "xaxis": "x",
           "y": {
            "bdata": "yoD/3hZJ40A=",
            "dtype": "f8"
           },
           "yaxis": "y"
          },
          {
           "hovertemplate": "UF=%{x}<br>Ano=2019<br>PIB per capita (R$)=%{y}<extra></extra>",
           "legendgroup": "PA",
           "marker": {
            "color": "#ab63fa",
            "pattern": {
             "shape": ""
            }
           },
           "name": "PA",
           "orientation": "v",
           "showlegend": true,
           "textposition": "auto",
           "type": "bar",
           "x": [
            "PA"
           ],
           "xaxis": "x",
           "y": {
            "bdata": "K+sdN2O30UA=",
            "dtype": "f8"
           },
           "yaxis": "y"
          },
          {
           "hovertemplate": "UF=%{x}<br>Ano=2019<br>PIB per capita (R$)=%{y}<extra></extra>",
           "legendgroup": "PB",
           "marker": {
            "color": "#FFA15A",
            "pattern": {
             "shape": ""
            }
           },
           "name": "PB",
           "orientation": "v",
           "showlegend": true,
           "textposition": "auto",
           "type": "bar",
           "x": [
            "PB"
           ],
           "xaxis": "x",
           "y": {
            "bdata": "LEiJHotkxUA=",
            "dtype": "f8"
           },
           "yaxis": "y"
          },
          {
           "hovertemplate": "UF=%{x}<br>Ano=2019<br>PIB per capita (R$)=%{y}<extra></extra>",
           "legendgroup": "PE",
           "marker": {
            "color": "#19d3f3",
            "pattern": {
             "shape": ""
            }
           },
           "name": "PE",
           "orientation": "v",
           "showlegend": true,
           "textposition": "auto",
           "type": "bar",
           "x": [
            "PE"
           ],
           "xaxis": "x",
           "y": {
            "bdata": "zy6Nczg0ykA=",
            "dtype": "f8"
           },
           "yaxis": "y"
          },
          {
           "hovertemplate": "UF=%{x}<br>Ano=2019<br>PIB per capita (R$)=%{y}<extra></extra>",
           "legendgroup": "PI",
           "marker": {
            "color": "#FF6692",
            "pattern": {
             "shape": ""
            }
           },
           "name": "PI",
           "orientation": "v",
           "showlegend": true,
           "textposition": "auto",
           "type": "bar",
           "x": [
            "PI"
           ],
           "xaxis": "x",
           "y": {
            "bdata": "3b98tDm1xkA=",
            "dtype": "f8"
           },
           "yaxis": "y"
          },
          {
           "hovertemplate": "UF=%{x}<br>Ano=2019<br>PIB per capita (R$)=%{y}<extra></extra>",
           "legendgroup": "PR",
           "marker": {
            "color": "#B6E880",
            "pattern": {
             "shape": ""
            }
           },
           "name": "PR",
           "orientation": "v",
           "showlegend": true,
           "textposition": "auto",
           "type": "bar",
           "x": [
            "PR"
           ],
           "xaxis": "x",
           "y": {
            "bdata": "RcmscOKy30A=",
            "dtype": "f8"
           },
           "yaxis": "y"
          },
          {
           "hovertemplate": "UF=%{x}<br>Ano=2019<br>PIB per capita (R$)=%{y}<extra></extra>",
           "legendgroup": "RJ",
           "marker": {
            "color": "#FF97FF",
            "pattern": {
             "shape": ""
            }
           },
           "name": "RJ",
           "orientation": "v",
           "showlegend": true,
           "textposition": "auto",
           "type": "bar",
           "x": [
            "RJ"
           ],
           "xaxis": "x",
           "y": {
            "bdata": "VWcVW+iP40A=",
            "dtype": "f8"
           },
           "yaxis": "y"
          },
          {
           "hovertemplate": "UF=%{x}<br>Ano=2019<br>PIB per capita (R$)=%{y}<extra></extra>",
           "legendgroup": "RN",
           "marker": {
            "color": "#FECB52",
            "pattern": {
             "shape": ""
            }
           },
           "name": "RN",
           "orientation": "v",
           "showlegend": true,
           "textposition": "auto",
           "type": "bar",
           "x": [
            "RN"
           ],
           "xaxis": "x",
           "y": {
            "bdata": "zCAsdhtaz0A=",
            "dtype": "f8"
           },
           "yaxis": "y"
          },
          {
           "hovertemplate": "UF=%{x}<br>Ano=2019<br>PIB per capita (R$)=%{y}<extra></extra>",
           "legendgroup": "RO",
           "marker": {
            "color": "#636efa",
            "pattern": {
             "shape": ""
            }
           },
           "name": "RO",
           "orientation": "v",
           "showlegend": true,
           "textposition": "auto",
           "type": "bar",
           "x": [
            "RO"
           ],
           "xaxis": "x",
           "y": {
            "bdata": "ddB07fBt1kA=",
            "dtype": "f8"
           },
           "yaxis": "y"
          },
          {
           "hovertemplate": "UF=%{x}<br>Ano=2019<br>PIB per capita (R$)=%{y}<extra></extra>",
           "legendgroup": "RR",
           "marker": {
            "color": "#EF553B",
            "pattern": {
             "shape": ""
            }
           },
           "name": "RR",
           "orientation": "v",
           "showlegend": true,
           "textposition": "auto",
           "type": "bar",
           "x": [
            "RR"
           ],
           "xaxis": "x",
           "y": {
            "bdata": "hynmRT600UA=",
            "dtype": "f8"
           },
           "yaxis": "y"
          },
          {
           "hovertemplate": "UF=%{x}<br>Ano=2019<br>PIB per capita (R$)=%{y}<extra></extra>",
           "legendgroup": "RS",
           "marker": {
            "color": "#00cc96",
            "pattern": {
             "shape": ""
            }
           },
           "name": "RS",
           "orientation": "v",
           "showlegend": true,
           "textposition": "auto",
           "type": "bar",
           "x": [
            "RS"
           ],
           "xaxis": "x",
           "y": {
            "bdata": "ibsSiPxd40A=",
            "dtype": "f8"
           },
           "yaxis": "y"
          },
          {
           "hovertemplate": "UF=%{x}<br>Ano=2019<br>PIB per capita (R$)=%{y}<extra></extra>",
           "legendgroup": "SC",
           "marker": {
            "color": "#ab63fa",
            "pattern": {
             "shape": ""
            }
           },
           "name": "SC",
           "orientation": "v",
           "showlegend": true,
           "textposition": "auto",
           "type": "bar",
           "x": [
            "SC"
           ],
           "xaxis": "x",
           "y": {
            "bdata": "r63k6FTD4UA=",
            "dtype": "f8"
           },
           "yaxis": "y"
          },
          {
           "hovertemplate": "UF=%{x}<br>Ano=2019<br>PIB per capita (R$)=%{y}<extra></extra>",
           "legendgroup": "SE",
           "marker": {
            "color": "#FFA15A",
            "pattern": {
             "shape": ""
            }
           },
           "name": "SE",
           "orientation": "v",
           "showlegend": true,
           "textposition": "auto",
           "type": "bar",
           "x": [
            "SE"
           ],
           "xaxis": "x",
           "y": {
            "bdata": "Wazg7rLUzUA=",
            "dtype": "f8"
           },
           "yaxis": "y"
          },
          {
           "hovertemplate": "UF=%{x}<br>Ano=2019<br>PIB per capita (R$)=%{y}<extra></extra>",
           "legendgroup": "SP",
           "marker": {
            "color": "#19d3f3",
            "pattern": {
             "shape": ""
            }
           },
           "name": "SP",
           "orientation": "v",
           "showlegend": true,
           "textposition": "auto",
           "type": "bar",
           "x": [
            "SP"
           ],
           "xaxis": "x",
           "y": {
            "bdata": "CkZNzRHh4EA=",
            "dtype": "f8"
           },
           "yaxis": "y"
          },
          {
           "hovertemplate": "UF=%{x}<br>Ano=2019<br>PIB per capita (R$)=%{y}<extra></extra>",
           "legendgroup": "TO",
           "marker": {
            "color": "#FF6692",
            "pattern": {
             "shape": ""
            }
           },
           "name": "TO",
           "orientation": "v",
           "showlegend": true,
           "textposition": "auto",
           "type": "bar",
           "x": [
            "TO"
           ],
           "xaxis": "x",
           "y": {
            "bdata": "dUvRvH9O1EA=",
            "dtype": "f8"
           },
           "yaxis": "y"
          }
         ],
         "name": "2019"
        },
        {
         "data": [
          {
           "hovertemplate": "UF=%{x}<br>Ano=2020<br>PIB per capita (R$)=%{y}<extra></extra>",
           "legendgroup": "AC",
           "marker": {
            "color": "#636efa",
            "pattern": {
             "shape": ""
            }
           },
           "name": "AC",
           "orientation": "v",
           "showlegend": true,
           "textposition": "auto",
           "type": "bar",
           "x": [
            "AC"
           ],
           "xaxis": "x",
           "y": {
            "bdata": "kiZCFgUe1UA=",
            "dtype": "f8"
           },
           "yaxis": "y"
          },
          {
           "hovertemplate": "UF=%{x}<br>Ano=2020<br>PIB per capita (R$)=%{y}<extra></extra>",
           "legendgroup": "AL",
           "marker": {
            "color": "#EF553B",
            "pattern": {
             "shape": ""
            }
           },
           "name": "AL",
           "orientation": "v",
           "showlegend": true,
           "textposition": "auto",
           "type": "bar",
           "x": [
            "AL"
           ],
           "xaxis": "x",
           "y": {
            "bdata": "+lsFDMCi1EA=",
            "dtype": "f8"
           },
           "yaxis": "y"
          },
          {
           "hovertemplate": "UF=%{x}<br>Ano=2020<br>PIB per capita (R$)=%{y}<extra></extra>",
           "legendgroup": "AM",
           "marker": {
            "color": "#00cc96",
            "pattern": {
             "shape": ""
            }
           },
           "name": "AM",
           "orientation": "v",
           "showlegend": true,
           "textposition": "auto",
           "type": "bar",
           "x": [
            "AM"
           ],
           "xaxis": "x",
           "y": {
            "bdata": "pAXDoEOfx0A=",
            "dtype": "f8"
           },
           "yaxis": "y"
          },
          {
           "hovertemplate": "UF=%{x}<br>Ano=2020<br>PIB per capita (R$)=%{y}<extra></extra>",
           "legendgroup": "AP",
           "marker": {
            "color": "#ab63fa",
            "pattern": {
             "shape": ""
            }
           },
           "name": "AP",
           "orientation": "v",
           "showlegend": true,
           "textposition": "auto",
           "type": "bar",
           "x": [
            "AP"
           ],
           "xaxis": "x",
           "y": {
            "bdata": "1NxQ7NbR00A=",
            "dtype": "f8"
           },
           "yaxis": "y"
          },
          {
           "hovertemplate": "UF=%{x}<br>Ano=2020<br>PIB per capita (R$)=%{y}<extra></extra>",
           "legendgroup": "BA",
           "marker": {
            "color": "#FFA15A",
            "pattern": {
             "shape": ""
            }
           },
           "name": "BA",
           "orientation": "v",
           "showlegend": true,
           "textposition": "auto",
           "type": "bar",
           "x": [
            "BA"
           ],
           "xaxis": "x",
           "y": {
            "bdata": "UtRxQ8yE0EA=",
            "dtype": "f8"
           },
           "yaxis": "y"
          },
          {
           "hovertemplate": "UF=%{x}<br>Ano=2020<br>PIB per capita (R$)=%{y}<extra></extra>",
           "legendgroup": "CE",
           "marker": {
            "color": "#19d3f3",
            "pattern": {
             "shape": ""
            }
           },
           "name": "CE",
           "orientation": "v",
           "showlegend": true,
           "textposition": "auto",
           "type": "bar",
           "x": [
            "CE"
           ],
           "xaxis": "x",
           "y": {
            "bdata": "/7qZXEFsyEA=",
            "dtype": "f8"
           },
           "yaxis": "y"
          },
          {
           "hovertemplate": "UF=%{x}<br>Ano=2020<br>PIB per capita (R$)=%{y}<extra></extra>",
           "legendgroup": "DF",
           "marker": {
            "color": "#FF6692",
            "pattern": {
             "shape": ""
            }
           },
           "name": "DF",
           "orientation": "v",
           "showlegend": true,
           "textposition": "auto",
           "type": "bar",
           "x": [
            "DF"
           ],
           "xaxis": "x",
           "y": {
            "bdata": "dNMUj4I+9UA=",
            "dtype": "f8"
           },
           "yaxis": "y"
          },
          {
           "hovertemplate": "UF=%{x}<br>Ano=2020<br>PIB per capita (R$)=%{y}<extra></extra>",
           "legendgroup": "ES",
           "marker": {
            "color": "#B6E880",
            "pattern": {
             "shape": ""
            }
           },
           "name": "ES",
           "orientation": "v",
           "showlegend": true,
           "textposition": "auto",
           "type": "bar",
           "x": [
            "ES"
           ],
           "xaxis": "x",
           "y": {
            "bdata": "J6lESVOp3EA=",
            "dtype": "f8"
           },
           "yaxis": "y"
          },
          {
           "hovertemplate": "UF=%{x}<br>Ano=2020<br>PIB per capita (R$)=%{y}<extra></extra>",
           "legendgroup": "GO",
           "marker": {
            "color": "#FF97FF",
            "pattern": {
             "shape": ""
            }
           },
           "name": "GO",
           "orientation": "v",
           "showlegend": true,
           "textposition": "auto",
           "type": "bar",
           "x": [
            "GO"
           ],
           "xaxis": "x",
           "y": {
            "bdata": "YJddJa4S4UA=",
            "dtype": "f8"
           },
           "yaxis": "y"
          },
          {
           "hovertemplate": "UF=%{x}<br>Ano=2020<br>PIB per capita (R$)=%{y}<extra></extra>",
           "legendgroup": "MA",
           "marker": {
            "color": "#FECB52",
            "pattern": {
             "shape": ""
            }
           },
           "name": "MA",
           "orientation": "v",
           "showlegend": true,
           "textposition": "auto",
           "type": "bar",
           "x": [
            "MA"
           ],
           "xaxis": "x",
           "y": {
            "bdata": "AS93BggNykA=",
            "dtype": "f8"
           },
           "yaxis": "y"
          },
          {
           "hovertemplate": "UF=%{x}<br>Ano=2020<br>PIB per capita (R$)=%{y}<extra></extra>",
           "legendgroup": "MG",
           "marker": {
            "color": "#636efa",
            "pattern": {
             "shape": ""
            }
           },
           "name": "MG",
           "orientation": "v",
           "showlegend": true,
           "textposition": "auto",
           "type": "bar",
           "x": [
            "MG"
           ],
           "xaxis": "x",
           "y": {
            "bdata": "NY2ji0qI10A=",
            "dtype": "f8"
           },
           "yaxis": "y"
          },
          {
           "hovertemplate": "UF=%{x}<br>Ano=2020<br>PIB per capita (R$)=%{y}<extra></extra>",
           "legendgroup": "MS",
           "marker": {
            "color": "#EF553B",
            "pattern": {
             "shape": ""
            }
           },
           "name": "MS",
           "orientation": "v",
           "showlegend": true,
           "textposition": "auto",
           "type": "bar",
           "x": [
            "MS"
           ],
           "xaxis": "x",
           "y": {
            "bdata": "lkUvzMH050A=",
            "dtype": "f8"
           },
           "yaxis": "y"
          },
          {
           "hovertemplate": "UF=%{x}<br>Ano=2020<br>PIB per capita (R$)=%{y}<extra></extra>",
           "legendgroup": "MT",
           "marker": {
            "color": "#00cc96",
            "pattern": {
             "shape": ""
            }
           },
           "name": "MT",
           "orientation": "v",
           "showlegend": true,
           "textposition": "auto",
           "type": "bar",
           "x": [
            "MT"
           ],
           "xaxis": "x",
           "y": {
            "bdata": "Z7M2fNV26kA=",
            "dtype": "f8"
           },
           "yaxis": "y"
          },
          {
           "hovertemplate": "UF=%{x}<br>Ano=2020<br>PIB per capita (R$)=%{y}<extra></extra>",
           "legendgroup": "PA",
           "marker": {
            "color": "#ab63fa",
            "pattern": {
             "shape": ""
            }
           },
           "name": "PA",
           "orientation": "v",
           "showlegend": true,
           "textposition": "auto",
           "type": "bar",
           "x": [
            "PA"
           ],
           "xaxis": "x",
           "y": {
            "bdata": "ga/qyi+D2UA=",
            "dtype": "f8"
           },
           "yaxis": "y"
          },
          {
           "hovertemplate": "UF=%{x}<br>Ano=2020<br>PIB per capita (R$)=%{y}<extra></extra>",
           "legendgroup": "PB",
           "marker": {
            "color": "#FFA15A",
            "pattern": {
             "shape": ""
            }
           },
           "name": "PB",
           "orientation": "v",
           "showlegend": true,
           "textposition": "auto",
           "type": "bar",
           "x": [
            "PB"
           ],
           "xaxis": "x",
           "y": {
            "bdata": "ynbgZGaax0A=",
            "dtype": "f8"
           },
           "yaxis": "y"
          },
          {
           "hovertemplate": "UF=%{x}<br>Ano=2020<br>PIB per capita (R$)=%{y}<extra></extra>",
           "legendgroup": "PE",
           "marker": {
            "color": "#19d3f3",
            "pattern": {
             "shape": ""
            }
           },
           "name": "PE",
           "orientation": "v",
           "showlegend": true,
           "textposition": "auto",
           "type": "bar",
           "x": [
            "PE"
           ],
           "xaxis": "x",
           "y": {
            "bdata": "+FrESYqOykA=",
            "dtype": "f8"
           },
           "yaxis": "y"
          },
          {
           "hovertemplate": "UF=%{x}<br>Ano=2020<br>PIB per capita (R$)=%{y}<extra></extra>",
           "legendgroup": "PI",
           "marker": {
            "color": "#FF6692",
            "pattern": {
             "shape": ""
            }
           },
           "name": "PI",
           "orientation": "v",
           "showlegend": true,
           "textposition": "auto",
           "type": "bar",
           "x": [
            "PI"
           ],
           "xaxis": "x",
           "y": {
            "bdata": "6hPhXh/ry0A=",
            "dtype": "f8"
           },
           "yaxis": "y"
          },
          {
           "hovertemplate": "UF=%{x}<br>Ano=2020<br>PIB per capita (R$)=%{y}<extra></extra>",
           "legendgroup": "PR",
           "marker": {
            "color": "#B6E880",
            "pattern": {
             "shape": ""
            }
           },
           "name": "PR",
           "orientation": "v",
           "showlegend": true,
           "textposition": "auto",
           "type": "bar",
           "x": [
            "PR"
           ],
           "xaxis": "x",
           "y": {
            "bdata": "zdZT8h2B40A=",
            "dtype": "f8"
           },
           "yaxis": "y"
          },
          {
           "hovertemplate": "UF=%{x}<br>Ano=2020<br>PIB per capita (R$)=%{y}<extra></extra>",
           "legendgroup": "RJ",
           "marker": {
            "color": "#FF97FF",
            "pattern": {
             "shape": ""
            }
           },
           "name": "RJ",
           "orientation": "v",
           "showlegend": true,
           "textposition": "auto",
           "type": "bar",
           "x": [
            "RJ"
           ],
           "xaxis": "x",
           "y": {
            "bdata": "imNKRp7B40A=",
            "dtype": "f8"
           },
           "yaxis": "y"
          },
          {
           "hovertemplate": "UF=%{x}<br>Ano=2020<br>PIB per capita (R$)=%{y}<extra></extra>",
           "legendgroup": "RN",
           "marker": {
            "color": "#FECB52",
            "pattern": {
             "shape": ""
            }
           },
           "name": "RN",
           "orientation": "v",
           "showlegend": true,
           "textposition": "auto",
           "type": "bar",
           "x": [
            "RN"
           ],
           "xaxis": "x",
           "y": {
            "bdata": "bapYQsJa0kA=",
            "dtype": "f8"
           },
           "yaxis": "y"
          },
          {
           "hovertemplate": "UF=%{x}<br>Ano=2020<br>PIB per capita (R$)=%{y}<extra></extra>",
           "legendgroup": "RO",
           "marker": {
            "color": "#636efa",
            "pattern": {
             "shape": ""
            }
           },
           "name": "RO",
           "orientation": "v",
           "showlegend": true,
           "textposition": "auto",
           "type": "bar",
           "x": [
            "RO"
           ],
           "xaxis": "x",
           "y": {
            "bdata": "uWDU7+Ww2EA=",
            "dtype": "f8"
           },
           "yaxis": "y"
          },
          {
           "hovertemplate": "UF=%{x}<br>Ano=2020<br>PIB per capita (R$)=%{y}<extra></extra>",
           "legendgroup": "RR",
           "marker": {
            "color": "#EF553B",
            "pattern": {
             "shape": ""
            }
           },
           "name": "RR",
           "orientation": "v",
           "showlegend": true,
           "textposition": "auto",
           "type": "bar",
           "x": [
            "RR"
           ],
           "xaxis": "x",
           "y": {
            "bdata": "Xc6S7GdG1EA=",
            "dtype": "f8"
           },
           "yaxis": "y"
          },
          {
           "hovertemplate": "UF=%{x}<br>Ano=2020<br>PIB per capita (R$)=%{y}<extra></extra>",
           "legendgroup": "RS",
           "marker": {
            "color": "#00cc96",
            "pattern": {
             "shape": ""
            }
           },
           "name": "RS",
           "orientation": "v",
           "showlegend": true,
           "textposition": "auto",
           "type": "bar",
           "x": [
            "RS"
           ],
           "xaxis": "x",
           "y": {
            "bdata": "bbzzN9qm40A=",
            "dtype": "f8"
           },
           "yaxis": "y"
          },
          {
           "hovertemplate": "UF=%{x}<br>Ano=2020<br>PIB per capita (R$)=%{y}<extra></extra>",
           "legendgroup": "SC",
           "marker": {
            "color": "#ab63fa",
            "pattern": {
             "shape": ""
            }
           },
           "name": "SC",
           "orientation": "v",
           "showlegend": true,
           "textposition": "auto",
           "type": "bar",
           "x": [
            "SC"
           ],
           "xaxis": "x",
           "y": {
            "bdata": "xiSCF8ru5EA=",
            "dtype": "f8"
           },
           "yaxis": "y"
          },
          {
           "hovertemplate": "UF=%{x}<br>Ano=2020<br>PIB per capita (R$)=%{y}<extra></extra>",
           "legendgroup": "SE",
           "marker": {
            "color": "#FFA15A",
            "pattern": {
             "shape": ""
            }
           },
           "name": "SE",
           "orientation": "v",
           "showlegend": true,
           "textposition": "auto",
           "type": "bar",
           "x": [
            "SE"
           ],
           "xaxis": "x",
           "y": {
            "bdata": "Dyeufic000A=",
            "dtype": "f8"
           },
           "yaxis": "y"
          },
          {
           "hovertemplate": "UF=%{x}<br>Ano=2020<br>PIB per capita (R$)=%{y}<extra></extra>",
           "legendgroup": "SP",
           "marker": {
            "color": "#19d3f3",
            "pattern": {
             "shape": ""
            }
           },
           "name": "SP",
           "orientation": "v",
           "showlegend": true,
           "textposition": "auto",
           "type": "bar",
           "x": [
            "SP"
           ],
           "xaxis": "x",
           "y": {
            "bdata": "Lj/ErfoY40A=",
            "dtype": "f8"
           },
           "yaxis": "y"
          },
          {
           "hovertemplate": "UF=%{x}<br>Ano=2020<br>PIB per capita (R$)=%{y}<extra></extra>",
           "legendgroup": "TO",
           "marker": {
            "color": "#FF6692",
            "pattern": {
             "shape": ""
            }
           },
           "name": "TO",
           "orientation": "v",
           "showlegend": true,
           "textposition": "auto",
           "type": "bar",
           "x": [
            "TO"
           ],
           "xaxis": "x",
           "y": {
            "bdata": "LIBXxD4m2kA=",
            "dtype": "f8"
           },
           "yaxis": "y"
          }
         ],
         "name": "2020"
        },
        {
         "data": [
          {
           "hovertemplate": "UF=%{x}<br>Ano=2021<br>PIB per capita (R$)=%{y}<extra></extra>",
           "legendgroup": "AC",
           "marker": {
            "color": "#636efa",
            "pattern": {
             "shape": ""
            }
           },
           "name": "AC",
           "orientation": "v",
           "showlegend": true,
           "textposition": "auto",
           "type": "bar",
           "x": [
            "AC"
           ],
           "xaxis": "x",
           "y": {
            "bdata": "7XuJeyRY1UA=",
            "dtype": "f8"
           },
           "yaxis": "y"
          },
          {
           "hovertemplate": "UF=%{x}<br>Ano=2021<br>PIB per capita (R$)=%{y}<extra></extra>",
           "legendgroup": "AL",
           "marker": {
            "color": "#EF553B",
            "pattern": {
             "shape": ""
            }
           },
           "name": "AL",
           "orientation": "v",
           "showlegend": true,
           "textposition": "auto",
           "type": "bar",
           "x": [
            "AL"
           ],
           "xaxis": "x",
           "y": {
            "bdata": "cEkcmN0u1EA=",
            "dtype": "f8"
           },
           "yaxis": "y"
          },
          {
           "hovertemplate": "UF=%{x}<br>Ano=2021<br>PIB per capita (R$)=%{y}<extra></extra>",
           "legendgroup": "AM",
           "marker": {
            "color": "#00cc96",
            "pattern": {
             "shape": ""
            }
           },
           "name": "AM",
           "orientation": "v",
           "showlegend": true,
           "textposition": "auto",
           "type": "bar",
           "x": [
            "AM"
           ],
           "xaxis": "x",
           "y": {
            "bdata": "gj02Vlwfy0A=",
            "dtype": "f8"
           },
           "yaxis": "y"
          },
          {
           "hovertemplate": "UF=%{x}<br>Ano=2021<br>PIB per capita (R$)=%{y}<extra></extra>",
           "legendgroup": "AP",
           "marker": {
            "color": "#ab63fa",
            "pattern": {
             "shape": ""
            }
           },
           "name": "AP",
           "orientation": "v",
           "showlegend": true,
           "textposition": "auto",
           "type": "bar",
           "x": [
            "AP"
           ],
           "xaxis": "x",
           "y": {
            "bdata": "gd9BG0Rx1EA=",
            "dtype": "f8"
           },
           "yaxis": "y"
          },
          {
           "hovertemplate": "UF=%{x}<br>Ano=2021<br>PIB per capita (R$)=%{y}<extra></extra>",
           "legendgroup": "BA",
           "marker": {
            "color": "#FFA15A",
            "pattern": {
             "shape": ""
            }
           },
           "name": "BA",
           "orientation": "v",
           "showlegend": true,
           "textposition": "auto",
           "type": "bar",
           "x": [
            "BA"
           ],
           "xaxis": "x",
           "y": {
            "bdata": "54EJroHj0EA=",
            "dtype": "f8"
           },
           "yaxis": "y"
          },
          {
           "hovertemplate": "UF=%{x}<br>Ano=2021<br>PIB per capita (R$)=%{y}<extra></extra>",
           "legendgroup": "CE",
           "marker": {
            "color": "#19d3f3",
            "pattern": {
             "shape": ""
            }
           },
           "name": "CE",
           "orientation": "v",
           "showlegend": true,
           "textposition": "auto",
           "type": "bar",
           "x": [
            "CE"
           ],
           "xaxis": "x",
           "y": {
            "bdata": "gg/cO13czkA=",
            "dtype": "f8"
           },
           "yaxis": "y"
          },
          {
           "hovertemplate": "UF=%{x}<br>Ano=2021<br>PIB per capita (R$)=%{y}<extra></extra>",
           "legendgroup": "DF",
           "marker": {
            "color": "#FF6692",
            "pattern": {
             "shape": ""
            }
           },
           "name": "DF",
           "orientation": "v",
           "showlegend": true,
           "textposition": "auto",
           "type": "bar",
           "x": [
            "DF"
           ],
           "xaxis": "x",
           "y": {
            "bdata": "X8XBUsSj9kA=",
            "dtype": "f8"
           },
           "yaxis": "y"
          },
          {
           "hovertemplate": "UF=%{x}<br>Ano=2021<br>PIB per capita (R$)=%{y}<extra></extra>",
           "legendgroup": "ES",
           "marker": {
            "color": "#B6E880",
            "pattern": {
             "shape": ""
            }
           },
           "name": "ES",
           "orientation": "v",
           "showlegend": true,
           "textposition": "auto",
           "type": "bar",
           "x": [
            "ES"
           ],
           "xaxis": "x",
           "y": {
            "bdata": "SBxbhcPz4kA=",
            "dtype": "f8"
           },
           "yaxis": "y"
          },
          {
           "hovertemplate": "UF=%{x}<br>Ano=2021<br>PIB per capita (R$)=%{y}<extra></extra>",
           "legendgroup": "GO",
           "marker": {
            "color": "#FF97FF",
            "pattern": {
             "shape": ""
            }
           },
           "name": "GO",
           "orientation": "v",
           "showlegend": true,
           "textposition": "auto",
           "type": "bar",
           "x": [
            "GO"
           ],
           "xaxis": "x",
           "y": {
            "bdata": "yPjDDOn55EA=",
            "dtype": "f8"
           },
           "yaxis": "y"
          },
          {
           "hovertemplate": "UF=%{x}<br>Ano=2021<br>PIB per capita (R$)=%{y}<extra></extra>",
           "legendgroup": "MA",
           "marker": {
            "color": "#FECB52",
            "pattern": {
             "shape": ""
            }
           },
           "name": "MA",
           "orientation": "v",
           "showlegend": true,
           "textposition": "auto",
           "type": "bar",
           "x": [
            "MA"
           ],
           "xaxis": "x",
           "y": {
            "bdata": "kq6BboYK1EA=",
            "dtype": "f8"
           },
           "yaxis": "y"
          },
          {
           "hovertemplate": "UF=%{x}<br>Ano=2021<br>PIB per capita (R$)=%{y}<extra></extra>",
           "legendgroup": "MG",
           "marker": {
            "color": "#636efa",
            "pattern": {
             "shape": ""
            }
           },
           "name": "MG",
           "orientation": "v",
           "showlegend": true,
           "textposition": "auto",
           "type": "bar",
           "x": [
            "MG"
           ],
           "xaxis": "x",
           "y": {
            "bdata": "umCpi0ZW4EA=",
            "dtype": "f8"
           },
           "yaxis": "y"
          },
          {
           "hovertemplate": "UF=%{x}<br>Ano=2021<br>PIB per capita (R$)=%{y}<extra></extra>",
           "legendgroup": "MS",
           "marker": {
            "color": "#EF553B",
            "pattern": {
             "shape": ""
            }
           },
           "name": "MS",
           "orientation": "v",
           "showlegend": true,
           "textposition": "auto",
           "type": "bar",
           "x": [
            "MS"
           ],
           "xaxis": "x",
           "y": {
            "bdata": "Y1r8CDYa60A=",
            "dtype": "f8"
           },
           "yaxis": "y"
          },
          {
           "hovertemplate": "UF=%{x}<br>Ano=2021<br>PIB per capita (R$)=%{y}<extra></extra>",
           "legendgroup": "MT",
           "marker": {
            "color": "#00cc96",
            "pattern": {
             "shape": ""
            }
           },
           "name": "MT",
           "orientation": "v",
           "showlegend": true,
           "textposition": "auto",
           "type": "bar",
           "x": [
            "MT"
           ],
           "xaxis": "x",
           "y": {
            "bdata": "KIlntpgw80A=",
            "dtype": "f8"
           },
           "yaxis": "y"
          },
          {
           "hovertemplate": "UF=%{x}<br>Ano=2021<br>PIB per capita (R$)=%{y}<extra></extra>",
           "legendgroup": "PA",
           "marker": {
            "color": "#ab63fa",
            "pattern": {
             "shape": ""
            }
           },
           "name": "PA",
           "orientation": "v",
           "showlegend": true,
           "textposition": "auto",
           "type": "bar",
           "x": [
            "PA"
           ],
           "xaxis": "x",
           "y": {
            "bdata": "5yxEQzxp4UA=",
            "dtype": "f8"
           },
           "yaxis": "y"
          },
          {
           "hovertemplate": "UF=%{x}<br>Ano=2021<br>PIB per capita (R$)=%{y}<extra></extra>",
           "legendgroup": "PB",
           "marker": {
            "color": "#FFA15A",
            "pattern": {
             "shape": ""
            }
           },
           "name": "PB",
           "orientation": "v",
           "showlegend": true,
           "textposition": "auto",
           "type": "bar",
           "x": [
            "PB"
           ],
           "xaxis": "x",
           "y": {
            "bdata": "fCWePRzCzEA=",
            "dtype": "f8"
           },
           "yaxis": "y"
          },
          {
           "hovertemplate": "UF=%{x}<br>Ano=2021<br>PIB per capita (R$)=%{y}<extra></extra>",
           "legendgroup": "PE",
           "marker": {
            "color": "#19d3f3",
            "pattern": {
             "shape": ""
            }
           },
           "name": "PE",
           "orientation": "v",
           "showlegend": true,
           "textposition": "auto",
           "type": "bar",
           "x": [
            "PE"
           ],
           "xaxis": "x",
           "y": {
            "bdata": "os5Y8sCw1EA=",
            "dtype": "f8"
           },
           "yaxis": "y"
          },
          {
           "hovertemplate": "UF=%{x}<br>Ano=2021<br>PIB per capita (R$)=%{y}<extra></extra>",
           "legendgroup": "PI",
           "marker": {
            "color": "#FF6692",
            "pattern": {
             "shape": ""
            }
           },
           "name": "PI",
           "orientation": "v",
           "showlegend": true,
           "textposition": "auto",
           "type": "bar",
           "x": [
            "PI"
           ],
           "xaxis": "x",
           "y": {
            "bdata": "Rmx/yG230UA=",
            "dtype": "f8"
           },
           "yaxis": "y"
          },
          {
           "hovertemplate": "UF=%{x}<br>Ano=2021<br>PIB per capita (R$)=%{y}<extra></extra>",
           "legendgroup": "PR",
           "marker": {
            "color": "#B6E880",
            "pattern": {
             "shape": ""
            }
           },
           "name": "PR",
           "orientation": "v",
           "showlegend": true,
           "textposition": "auto",
           "type": "bar",
           "x": [
            "PR"
           ],
           "xaxis": "x",
           "y": {
            "bdata": "nEP6y1hA6UA=",
            "dtype": "f8"
           },
           "yaxis": "y"
          },
          {
           "hovertemplate": "UF=%{x}<br>Ano=2021<br>PIB per capita (R$)=%{y}<extra></extra>",
           "legendgroup": "RJ",
           "marker": {
            "color": "#FF97FF",
            "pattern": {
             "shape": ""
            }
           },
           "name": "RJ",
           "orientation": "v",
           "showlegend": true,
           "textposition": "auto",
           "type": "bar",
           "x": [
            "RJ"
           ],
           "xaxis": "x",
           "y": {
            "bdata": "4NoVlO9W60A=",
            "dtype": "f8"
           },
           "yaxis": "y"
          },
          {
           "hovertemplate": "UF=%{x}<br>Ano=2021<br>PIB per capita (R$)=%{y}<extra></extra>",
           "legendgroup": "RN",
           "marker": {
            "color": "#FECB52",
            "pattern": {
             "shape": ""
            }
           },
           "name": "RN",
           "orientation": "v",
           "showlegend": true,
           "textposition": "auto",
           "type": "bar",
           "x": [
            "RN"
           ],
           "xaxis": "x",
           "y": {
            "bdata": "3NARZxl+00A=",
            "dtype": "f8"
           },
           "yaxis": "y"
          },
          {
           "hovertemplate": "UF=%{x}<br>Ano=2021<br>PIB per capita (R$)=%{y}<extra></extra>",
           "legendgroup": "RO",
           "marker": {
            "color": "#636efa",
            "pattern": {
             "shape": ""
            }
           },
           "name": "RO",
           "orientation": "v",
           "showlegend": true,
           "textposition": "auto",
           "type": "bar",
           "x": [
            "RO"
           ],
           "xaxis": "x",
           "y": {
            "bdata": "DEWvr2lA40A=",
            "dtype": "f8"
           },
           "yaxis": "y"
          },
          {
           "hovertemplate": "UF=%{x}<br>Ano=2021<br>PIB per capita (R$)=%{y}<extra></extra>",
           "legendgroup": "RR",
           "marker": {
            "color": "#EF553B",
            "pattern": {
             "shape": ""
            }
           },
           "name": "RR",
           "orientation": "v",
           "showlegend": true,
           "textposition": "auto",
           "type": "bar",
           "x": [
            "RR"
           ],
           "xaxis": "x",
           "y": {
            "bdata": "Tc+OYzlk1kA=",
            "dtype": "f8"
           },
           "yaxis": "y"
          },
          {
           "hovertemplate": "UF=%{x}<br>Ano=2021<br>PIB per capita (R$)=%{y}<extra></extra>",
           "legendgroup": "RS",
           "marker": {
            "color": "#00cc96",
            "pattern": {
             "shape": ""
            }
           },
           "name": "RS",
           "orientation": "v",
           "showlegend": true,
           "textposition": "auto",
           "type": "bar",
           "x": [
            "RS"
           ],
           "xaxis": "x",
           "y": {
            "bdata": "3pOea7QS7EA=",
            "dtype": "f8"
           },
           "yaxis": "y"
          },
          {
           "hovertemplate": "UF=%{x}<br>Ano=2021<br>PIB per capita (R$)=%{y}<extra></extra>",
           "legendgroup": "SC",
           "marker": {
            "color": "#ab63fa",
            "pattern": {
             "shape": ""
            }
           },
           "name": "SC",
           "orientation": "v",
           "showlegend": true,
           "textposition": "auto",
           "type": "bar",
           "x": [
            "SC"
           ],
           "xaxis": "x",
           "y": {
            "bdata": "FeAKQA3i50A=",
            "dtype": "f8"
           },
           "yaxis": "y"
          },
          {
           "hovertemplate": "UF=%{x}<br>Ano=2021<br>PIB per capita (R$)=%{y}<extra></extra>",
           "legendgroup": "SE",
           "marker": {
            "color": "#FFA15A",
            "pattern": {
             "shape": ""
            }
           },
           "name": "SE",
           "orientation": "v",
           "showlegend": true,
           "textposition": "auto",
           "type": "bar",
           "x": [
            "SE"
           ],
           "xaxis": "x",
           "y": {
            "bdata": "+92R6ONk7UA=",
            "dtype": "f8"
           },
           "yaxis": "y"
          },
          {
           "hovertemplate": "UF=%{x}<br>Ano=2021<br>PIB per capita (R$)=%{y}<extra></extra>",
           "legendgroup": "SP",
           "marker": {
            "color": "#19d3f3",
            "pattern": {
             "shape": ""
            }
           },
           "name": "SP",
           "orientation": "v",
           "showlegend": true,
           "textposition": "auto",
           "type": "bar",
           "x": [
            "SP"
           ],
           "xaxis": "x",
           "y": {
            "bdata": "kuGDXN9r5UA=",
            "dtype": "f8"
           },
           "yaxis": "y"
          },
          {
           "hovertemplate": "UF=%{x}<br>Ano=2021<br>PIB per capita (R$)=%{y}<extra></extra>",
           "legendgroup": "TO",
           "marker": {
            "color": "#FF6692",
            "pattern": {
             "shape": ""
            }
           },
           "name": "TO",
           "orientation": "v",
           "showlegend": true,
           "textposition": "auto",
           "type": "bar",
           "x": [
            "TO"
           ],
           "xaxis": "x",
           "y": {
            "bdata": "wg9Srvhe4EA=",
            "dtype": "f8"
           },
           "yaxis": "y"
          }
         ],
         "name": "2021"
        }
       ],
       "layout": {
        "barmode": "relative",
        "legend": {
         "title": {
          "text": "UF"
         },
         "tracegroupgap": 0
        },
        "sliders": [
         {
          "active": 0,
          "currentvalue": {
           "prefix": "Ano="
          },
          "len": 0.9,
          "pad": {
           "b": 10,
           "t": 60
          },
          "steps": [
           {
            "args": [
             [
              "2016"
             ],
             {
              "frame": {
               "duration": 0,
               "redraw": true
              },
              "fromcurrent": true,
              "mode": "immediate",
              "transition": {
               "duration": 0,
               "easing": "linear"
              }
             }
            ],
            "label": "2016",
            "method": "animate"
           },
           {
            "args": [
             [
              "2017"
             ],
             {
              "frame": {
               "duration": 0,
               "redraw": true
              },
              "fromcurrent": true,
              "mode": "immediate",
              "transition": {
               "duration": 0,
               "easing": "linear"
              }
             }
            ],
            "label": "2017",
            "method": "animate"
           },
           {
            "args": [
             [
              "2018"
             ],
             {
              "frame": {
               "duration": 0,
               "redraw": true
              },
              "fromcurrent": true,
              "mode": "immediate",
              "transition": {
               "duration": 0,
               "easing": "linear"
              }
             }
            ],
            "label": "2018",
            "method": "animate"
           },
           {
            "args": [
             [
              "2019"
             ],
             {
              "frame": {
               "duration": 0,
               "redraw": true
              },
              "fromcurrent": true,
              "mode": "immediate",
              "transition": {
               "duration": 0,
               "easing": "linear"
              }
             }
            ],
            "label": "2019",
            "method": "animate"
           },
           {
            "args": [
             [
              "2020"
             ],
             {
              "frame": {
               "duration": 0,
               "redraw": true
              },
              "fromcurrent": true,
              "mode": "immediate",
              "transition": {
               "duration": 0,
               "easing": "linear"
              }
             }
            ],
            "label": "2020",
            "method": "animate"
           },
           {
            "args": [
             [
              "2021"
             ],
             {
              "frame": {
               "duration": 0,
               "redraw": true
              },
              "fromcurrent": true,
              "mode": "immediate",
              "transition": {
               "duration": 0,
               "easing": "linear"
              }
             }
            ],
            "label": "2021",
            "method": "animate"
           }
          ],
          "x": 0.1,
          "xanchor": "left",
          "y": 0,
          "yanchor": "top"
         }
        ],
        "template": {
         "data": {
          "bar": [
           {
            "error_x": {
             "color": "#2a3f5f"
            },
            "error_y": {
             "color": "#2a3f5f"
            },
            "marker": {
             "line": {
              "color": "#E5ECF6",
              "width": 0.5
             },
             "pattern": {
              "fillmode": "overlay",
              "size": 10,
              "solidity": 0.2
             }
            },
            "type": "bar"
           }
          ],
          "barpolar": [
           {
            "marker": {
             "line": {
              "color": "#E5ECF6",
              "width": 0.5
             },
             "pattern": {
              "fillmode": "overlay",
              "size": 10,
              "solidity": 0.2
             }
            },
            "type": "barpolar"
           }
          ],
          "carpet": [
           {
            "aaxis": {
             "endlinecolor": "#2a3f5f",
             "gridcolor": "white",
             "linecolor": "white",
             "minorgridcolor": "white",
             "startlinecolor": "#2a3f5f"
            },
            "baxis": {
             "endlinecolor": "#2a3f5f",
             "gridcolor": "white",
             "linecolor": "white",
             "minorgridcolor": "white",
             "startlinecolor": "#2a3f5f"
            },
            "type": "carpet"
           }
          ],
          "choropleth": [
           {
            "colorbar": {
             "outlinewidth": 0,
             "ticks": ""
            },
            "type": "choropleth"
           }
          ],
          "contour": [
           {
            "colorbar": {
             "outlinewidth": 0,
             "ticks": ""
            },
            "colorscale": [
             [
              0,
              "#0d0887"
             ],
             [
              0.1111111111111111,
              "#46039f"
             ],
             [
              0.2222222222222222,
              "#7201a8"
             ],
             [
              0.3333333333333333,
              "#9c179e"
             ],
             [
              0.4444444444444444,
              "#bd3786"
             ],
             [
              0.5555555555555556,
              "#d8576b"
             ],
             [
              0.6666666666666666,
              "#ed7953"
             ],
             [
              0.7777777777777778,
              "#fb9f3a"
             ],
             [
              0.8888888888888888,
              "#fdca26"
             ],
             [
              1,
              "#f0f921"
             ]
            ],
            "type": "contour"
           }
          ],
          "contourcarpet": [
           {
            "colorbar": {
             "outlinewidth": 0,
             "ticks": ""
            },
            "type": "contourcarpet"
           }
          ],
          "heatmap": [
           {
            "colorbar": {
             "outlinewidth": 0,
             "ticks": ""
            },
            "colorscale": [
             [
              0,
              "#0d0887"
             ],
             [
              0.1111111111111111,
              "#46039f"
             ],
             [
              0.2222222222222222,
              "#7201a8"
             ],
             [
              0.3333333333333333,
              "#9c179e"
             ],
             [
              0.4444444444444444,
              "#bd3786"
             ],
             [
              0.5555555555555556,
              "#d8576b"
             ],
             [
              0.6666666666666666,
              "#ed7953"
             ],
             [
              0.7777777777777778,
              "#fb9f3a"
             ],
             [
              0.8888888888888888,
              "#fdca26"
             ],
             [
              1,
              "#f0f921"
             ]
            ],
            "type": "heatmap"
           }
          ],
          "histogram": [
           {
            "marker": {
             "pattern": {
              "fillmode": "overlay",
              "size": 10,
              "solidity": 0.2
             }
            },
            "type": "histogram"
           }
          ],
          "histogram2d": [
           {
            "colorbar": {
             "outlinewidth": 0,
             "ticks": ""
            },
            "colorscale": [
             [
              0,
              "#0d0887"
             ],
             [
              0.1111111111111111,
              "#46039f"
             ],
             [
              0.2222222222222222,
              "#7201a8"
             ],
             [
              0.3333333333333333,
              "#9c179e"
             ],
             [
              0.4444444444444444,
              "#bd3786"
             ],
             [
              0.5555555555555556,
              "#d8576b"
             ],
             [
              0.6666666666666666,
              "#ed7953"
             ],
             [
              0.7777777777777778,
              "#fb9f3a"
             ],
             [
              0.8888888888888888,
              "#fdca26"
             ],
             [
              1,
              "#f0f921"
             ]
            ],
            "type": "histogram2d"
           }
          ],
          "histogram2dcontour": [
           {
            "colorbar": {
             "outlinewidth": 0,
             "ticks": ""
            },
            "colorscale": [
             [
              0,
              "#0d0887"
             ],
             [
              0.1111111111111111,
              "#46039f"
             ],
             [
              0.2222222222222222,
              "#7201a8"
             ],
             [
              0.3333333333333333,
              "#9c179e"
             ],
             [
              0.4444444444444444,
              "#bd3786"
             ],
             [
              0.5555555555555556,
              "#d8576b"
             ],
             [
              0.6666666666666666,
              "#ed7953"
             ],
             [
              0.7777777777777778,
              "#fb9f3a"
             ],
             [
              0.8888888888888888,
              "#fdca26"
             ],
             [
              1,
              "#f0f921"
             ]
            ],
            "type": "histogram2dcontour"
           }
          ],
          "mesh3d": [
           {
            "colorbar": {
             "outlinewidth": 0,
             "ticks": ""
            },
            "type": "mesh3d"
           }
          ],
          "parcoords": [
           {
            "line": {
             "colorbar": {
              "outlinewidth": 0,
              "ticks": ""
             }
            },
            "type": "parcoords"
           }
          ],
          "pie": [
           {
            "automargin": true,
            "type": "pie"
           }
          ],
          "scatter": [
           {
            "fillpattern": {
             "fillmode": "overlay",
             "size": 10,
             "solidity": 0.2
            },
            "type": "scatter"
           }
          ],
          "scatter3d": [
           {
            "line": {
             "colorbar": {
              "outlinewidth": 0,
              "ticks": ""
             }
            },
            "marker": {
             "colorbar": {
              "outlinewidth": 0,
              "ticks": ""
             }
            },
            "type": "scatter3d"
           }
          ],
          "scattercarpet": [
           {
            "marker": {
             "colorbar": {
              "outlinewidth": 0,
              "ticks": ""
             }
            },
            "type": "scattercarpet"
           }
          ],
          "scattergeo": [
           {
            "marker": {
             "colorbar": {
              "outlinewidth": 0,
              "ticks": ""
             }
            },
            "type": "scattergeo"
           }
          ],
          "scattergl": [
           {
            "marker": {
             "colorbar": {
              "outlinewidth": 0,
              "ticks": ""
             }
            },
            "type": "scattergl"
           }
          ],
          "scattermap": [
           {
            "marker": {
             "colorbar": {
              "outlinewidth": 0,
              "ticks": ""
             }
            },
            "type": "scattermap"
           }
          ],
          "scattermapbox": [
           {
            "marker": {
             "colorbar": {
              "outlinewidth": 0,
              "ticks": ""
             }
            },
            "type": "scattermapbox"
           }
          ],
          "scatterpolar": [
           {
            "marker": {
             "colorbar": {
              "outlinewidth": 0,
              "ticks": ""
             }
            },
            "type": "scatterpolar"
           }
          ],
          "scatterpolargl": [
           {
            "marker": {
             "colorbar": {
              "outlinewidth": 0,
              "ticks": ""
             }
            },
            "type": "scatterpolargl"
           }
          ],
          "scatterternary": [
           {
            "marker": {
             "colorbar": {
              "outlinewidth": 0,
              "ticks": ""
             }
            },
            "type": "scatterternary"
           }
          ],
          "surface": [
           {
            "colorbar": {
             "outlinewidth": 0,
             "ticks": ""
            },
            "colorscale": [
             [
              0,
              "#0d0887"
             ],
             [
              0.1111111111111111,
              "#46039f"
             ],
             [
              0.2222222222222222,
              "#7201a8"
             ],
             [
              0.3333333333333333,
              "#9c179e"
             ],
             [
              0.4444444444444444,
              "#bd3786"
             ],
             [
              0.5555555555555556,
              "#d8576b"
             ],
             [
              0.6666666666666666,
              "#ed7953"
             ],
             [
              0.7777777777777778,
              "#fb9f3a"
             ],
             [
              0.8888888888888888,
              "#fdca26"
             ],
             [
              1,
              "#f0f921"
             ]
            ],
            "type": "surface"
           }
          ],
          "table": [
           {
            "cells": {
             "fill": {
              "color": "#EBF0F8"
             },
             "line": {
              "color": "white"
             }
            },
            "header": {
             "fill": {
              "color": "#C8D4E3"
             },
             "line": {
              "color": "white"
             }
            },
            "type": "table"
           }
          ]
         },
         "layout": {
          "annotationdefaults": {
           "arrowcolor": "#2a3f5f",
           "arrowhead": 0,
           "arrowwidth": 1
          },
          "autotypenumbers": "strict",
          "coloraxis": {
           "colorbar": {
            "outlinewidth": 0,
            "ticks": ""
           }
          },
          "colorscale": {
           "diverging": [
            [
             0,
             "#8e0152"
            ],
            [
             0.1,
             "#c51b7d"
            ],
            [
             0.2,
             "#de77ae"
            ],
            [
             0.3,
             "#f1b6da"
            ],
            [
             0.4,
             "#fde0ef"
            ],
            [
             0.5,
             "#f7f7f7"
            ],
            [
             0.6,
             "#e6f5d0"
            ],
            [
             0.7,
             "#b8e186"
            ],
            [
             0.8,
             "#7fbc41"
            ],
            [
             0.9,
             "#4d9221"
            ],
            [
             1,
             "#276419"
            ]
           ],
           "sequential": [
            [
             0,
             "#0d0887"
            ],
            [
             0.1111111111111111,
             "#46039f"
            ],
            [
             0.2222222222222222,
             "#7201a8"
            ],
            [
             0.3333333333333333,
             "#9c179e"
            ],
            [
             0.4444444444444444,
             "#bd3786"
            ],
            [
             0.5555555555555556,
             "#d8576b"
            ],
            [
             0.6666666666666666,
             "#ed7953"
            ],
            [
             0.7777777777777778,
             "#fb9f3a"
            ],
            [
             0.8888888888888888,
             "#fdca26"
            ],
            [
             1,
             "#f0f921"
            ]
           ],
           "sequentialminus": [
            [
             0,
             "#0d0887"
            ],
            [
             0.1111111111111111,
             "#46039f"
            ],
            [
             0.2222222222222222,
             "#7201a8"
            ],
            [
             0.3333333333333333,
             "#9c179e"
            ],
            [
             0.4444444444444444,
             "#bd3786"
            ],
            [
             0.5555555555555556,
             "#d8576b"
            ],
            [
             0.6666666666666666,
             "#ed7953"
            ],
            [
             0.7777777777777778,
             "#fb9f3a"
            ],
            [
             0.8888888888888888,
             "#fdca26"
            ],
            [
             1,
             "#f0f921"
            ]
           ]
          },
          "colorway": [
           "#636efa",
           "#EF553B",
           "#00cc96",
           "#ab63fa",
           "#FFA15A",
           "#19d3f3",
           "#FF6692",
           "#B6E880",
           "#FF97FF",
           "#FECB52"
          ],
          "font": {
           "color": "#2a3f5f"
          },
          "geo": {
           "bgcolor": "white",
           "lakecolor": "white",
           "landcolor": "#E5ECF6",
           "showlakes": true,
           "showland": true,
           "subunitcolor": "white"
          },
          "hoverlabel": {
           "align": "left"
          },
          "hovermode": "closest",
          "mapbox": {
           "style": "light"
          },
          "paper_bgcolor": "white",
          "plot_bgcolor": "#E5ECF6",
          "polar": {
           "angularaxis": {
            "gridcolor": "white",
            "linecolor": "white",
            "ticks": ""
           },
           "bgcolor": "#E5ECF6",
           "radialaxis": {
            "gridcolor": "white",
            "linecolor": "white",
            "ticks": ""
           }
          },
          "scene": {
           "xaxis": {
            "backgroundcolor": "#E5ECF6",
            "gridcolor": "white",
            "gridwidth": 2,
            "linecolor": "white",
            "showbackground": true,
            "ticks": "",
            "zerolinecolor": "white"
           },
           "yaxis": {
            "backgroundcolor": "#E5ECF6",
            "gridcolor": "white",
            "gridwidth": 2,
            "linecolor": "white",
            "showbackground": true,
            "ticks": "",
            "zerolinecolor": "white"
           },
           "zaxis": {
            "backgroundcolor": "#E5ECF6",
            "gridcolor": "white",
            "gridwidth": 2,
            "linecolor": "white",
            "showbackground": true,
            "ticks": "",
            "zerolinecolor": "white"
           }
          },
          "shapedefaults": {
           "line": {
            "color": "#2a3f5f"
           }
          },
          "ternary": {
           "aaxis": {
            "gridcolor": "white",
            "linecolor": "white",
            "ticks": ""
           },
           "baxis": {
            "gridcolor": "white",
            "linecolor": "white",
            "ticks": ""
           },
           "bgcolor": "#E5ECF6",
           "caxis": {
            "gridcolor": "white",
            "linecolor": "white",
            "ticks": ""
           }
          },
          "title": {
           "x": 0.05
          },
          "xaxis": {
           "automargin": true,
           "gridcolor": "white",
           "linecolor": "white",
           "ticks": "",
           "title": {
            "standoff": 15
           },
           "zerolinecolor": "white",
           "zerolinewidth": 2
          },
          "yaxis": {
           "automargin": true,
           "gridcolor": "white",
           "linecolor": "white",
           "ticks": "",
           "title": {
            "standoff": 15
           },
           "zerolinecolor": "white",
           "zerolinewidth": 2
          }
         }
        },
        "title": {
         "text": "PIB per capita por Estado (2016–2021)"
        },
        "updatemenus": [
         {
          "buttons": [
           {
            "args": [
             null,
             {
              "frame": {
               "duration": 500,
               "redraw": true
              },
              "fromcurrent": true,
              "mode": "immediate",
              "transition": {
               "duration": 500,
               "easing": "linear"
              }
             }
            ],
            "label": "&#9654;",
            "method": "animate"
           },
           {
            "args": [
             [
              null
             ],
             {
              "frame": {
               "duration": 0,
               "redraw": true
              },
              "fromcurrent": true,
              "mode": "immediate",
              "transition": {
               "duration": 0,
               "easing": "linear"
              }
             }
            ],
            "label": "&#9724;",
            "method": "animate"
           }
          ],
          "direction": "left",
          "pad": {
           "r": 10,
           "t": 70
          },
          "showactive": false,
          "type": "buttons",
          "x": 0.1,
          "xanchor": "right",
          "y": 0,
          "yanchor": "top"
         }
        ],
        "xaxis": {
         "anchor": "y",
         "categoryarray": [
          "AC",
          "AL",
          "AM",
          "AP",
          "BA",
          "CE",
          "DF",
          "ES",
          "GO",
          "MA",
          "MG",
          "MS",
          "MT",
          "PA",
          "PB",
          "PE",
          "PI",
          "PR",
          "RJ",
          "RN",
          "RO",
          "RR",
          "RS",
          "SC",
          "SE",
          "SP",
          "TO"
         ],
         "categoryorder": "array",
         "domain": [
          0,
          1
         ],
         "title": {
          "text": "Estado"
         }
        },
        "yaxis": {
         "anchor": "x",
         "domain": [
          0,
          1
         ],
         "range": [
          0,
          102005.49722475823
         ],
         "title": {
          "text": "PIB per capita (R$)"
         }
        }
       }
      }
     },
     "metadata": {},
     "output_type": "display_data"
    }
   ],
   "source": [
    "df_estado = pd.read_csv('pib_per_capita/pib_per_capita_estados.csv')\n",
    "df_estado['Ano'] = df_estado['Ano'].astype(str)\n",
    "\n",
    "fig_estado = px.bar(\n",
    "    df_estado,\n",
    "    x='UF',\n",
    "    y='PIB_per_capita',\n",
    "    color='UF',\n",
    "    animation_frame='Ano',\n",
    "    title='PIB per capita por Estado (2016–2021)',\n",
    "    labels={'PIB_per_capita': 'PIB per capita (R$)'},\n",
    "    range_y=[0, df_estado['PIB_per_capita'].max() * 1.1]\n",
    ")\n",
    "fig_estado.update_layout(xaxis_title=\"Estado\", yaxis_title=\"PIB per capita (R$)\")\n",
    "fig_estado.show()\n"
   ]
  },
  {
   "cell_type": "markdown",
   "metadata": {},
   "source": [
    "A seguir, plotamos o gráfico da média geral dos estados entre os anos de 2016 a 2021."
   ]
  },
  {
   "cell_type": "code",
   "execution_count": 54,
   "metadata": {},
   "outputs": [
    {
     "data": {
      "application/vnd.plotly.v1+json": {
       "config": {
        "plotlyServerURL": "https://plot.ly"
       },
       "data": [
        {
         "hovertemplate": "UF=%{x}<br>PIB per capita médio (R$)=%{y}<extra></extra>",
         "legendgroup": "AC",
         "marker": {
          "color": "#636efa",
          "pattern": {
           "shape": ""
          }
         },
         "name": "AC",
         "orientation": "v",
         "showlegend": true,
         "textposition": "auto",
         "type": "bar",
         "x": [
          "AC"
         ],
         "xaxis": "x",
         "y": {
          "bdata": "T+FRXjAT0EA=",
          "dtype": "f8"
         },
         "yaxis": "y"
        },
        {
         "hovertemplate": "UF=%{x}<br>PIB per capita médio (R$)=%{y}<extra></extra>",
         "legendgroup": "AL",
         "marker": {
          "color": "#EF553B",
          "pattern": {
           "shape": ""
          }
         },
         "name": "AL",
         "orientation": "v",
         "showlegend": true,
         "textposition": "auto",
         "type": "bar",
         "x": [
          "AL"
         ],
         "xaxis": "x",
         "y": {
          "bdata": "4bIZuLJ/zkA=",
          "dtype": "f8"
         },
         "yaxis": "y"
        },
        {
         "hovertemplate": "UF=%{x}<br>PIB per capita médio (R$)=%{y}<extra></extra>",
         "legendgroup": "AM",
         "marker": {
          "color": "#00cc96",
          "pattern": {
           "shape": ""
          }
         },
         "name": "AM",
         "orientation": "v",
         "showlegend": true,
         "textposition": "auto",
         "type": "bar",
         "x": [
          "AM"
         ],
         "xaxis": "x",
         "y": {
          "bdata": "qPSPs0hCxkA=",
          "dtype": "f8"
         },
         "yaxis": "y"
        },
        {
         "hovertemplate": "UF=%{x}<br>PIB per capita médio (R$)=%{y}<extra></extra>",
         "legendgroup": "AP",
         "marker": {
          "color": "#ab63fa",
          "pattern": {
           "shape": ""
          }
         },
         "name": "AP",
         "orientation": "v",
         "showlegend": true,
         "textposition": "auto",
         "type": "bar",
         "x": [
          "AP"
         ],
         "xaxis": "x",
         "y": {
          "bdata": "LhCM/NSZ0kA=",
          "dtype": "f8"
         },
         "yaxis": "y"
        },
        {
         "hovertemplate": "UF=%{x}<br>PIB per capita médio (R$)=%{y}<extra></extra>",
         "legendgroup": "BA",
         "marker": {
          "color": "#FFA15A",
          "pattern": {
           "shape": ""
          }
         },
         "name": "BA",
         "orientation": "v",
         "showlegend": true,
         "textposition": "auto",
         "type": "bar",
         "x": [
          "BA"
         ],
         "xaxis": "x",
         "y": {
          "bdata": "T9WpbeDlykA=",
          "dtype": "f8"
         },
         "yaxis": "y"
        },
        {
         "hovertemplate": "UF=%{x}<br>PIB per capita médio (R$)=%{y}<extra></extra>",
         "legendgroup": "CE",
         "marker": {
          "color": "#19d3f3",
          "pattern": {
           "shape": ""
          }
         },
         "name": "CE",
         "orientation": "v",
         "showlegend": true,
         "textposition": "auto",
         "type": "bar",
         "x": [
          "CE"
         ],
         "xaxis": "x",
         "y": {
          "bdata": "i5APCEUax0A=",
          "dtype": "f8"
         },
         "yaxis": "y"
        },
        {
         "hovertemplate": "UF=%{x}<br>PIB per capita médio (R$)=%{y}<extra></extra>",
         "legendgroup": "DF",
         "marker": {
          "color": "#FF6692",
          "pattern": {
           "shape": ""
          }
         },
         "name": "DF",
         "orientation": "v",
         "showlegend": true,
         "textposition": "auto",
         "type": "bar",
         "x": [
          "DF"
         ],
         "xaxis": "x",
         "y": {
          "bdata": "1+5xSrv89EA=",
          "dtype": "f8"
         },
         "yaxis": "y"
        },
        {
         "hovertemplate": "UF=%{x}<br>PIB per capita médio (R$)=%{y}<extra></extra>",
         "legendgroup": "ES",
         "marker": {
          "color": "#B6E880",
          "pattern": {
           "shape": ""
          }
         },
         "name": "ES",
         "orientation": "v",
         "showlegend": true,
         "textposition": "auto",
         "type": "bar",
         "x": [
          "ES"
         ],
         "xaxis": "x",
         "y": {
          "bdata": "7T2ckKYV3EA=",
          "dtype": "f8"
         },
         "yaxis": "y"
        },
        {
         "hovertemplate": "UF=%{x}<br>PIB per capita médio (R$)=%{y}<extra></extra>",
         "legendgroup": "GO",
         "marker": {
          "color": "#FF97FF",
          "pattern": {
           "shape": ""
          }
         },
         "name": "GO",
         "orientation": "v",
         "showlegend": true,
         "textposition": "auto",
         "type": "bar",
         "x": [
          "GO"
         ],
         "xaxis": "x",
         "y": {
          "bdata": "q6Uo44Tq3kA=",
          "dtype": "f8"
         },
         "yaxis": "y"
        },
        {
         "hovertemplate": "UF=%{x}<br>PIB per capita médio (R$)=%{y}<extra></extra>",
         "legendgroup": "MA",
         "marker": {
          "color": "#FECB52",
          "pattern": {
           "shape": ""
          }
         },
         "name": "MA",
         "orientation": "v",
         "showlegend": true,
         "textposition": "auto",
         "type": "bar",
         "x": [
          "MA"
         ],
         "xaxis": "x",
         "y": {
          "bdata": "pYVjIMmlx0A=",
          "dtype": "f8"
         },
         "yaxis": "y"
        },
        {
         "hovertemplate": "UF=%{x}<br>PIB per capita médio (R$)=%{y}<extra></extra>",
         "legendgroup": "MG",
         "marker": {
          "color": "#636efa",
          "pattern": {
           "shape": ""
          }
         },
         "name": "MG",
         "orientation": "v",
         "showlegend": true,
         "textposition": "auto",
         "type": "bar",
         "x": [
          "MG"
         ],
         "xaxis": "x",
         "y": {
          "bdata": "dMDGGqcZ1kA=",
          "dtype": "f8"
         },
         "yaxis": "y"
        },
        {
         "hovertemplate": "UF=%{x}<br>PIB per capita médio (R$)=%{y}<extra></extra>",
         "legendgroup": "MS",
         "marker": {
          "color": "#EF553B",
          "pattern": {
           "shape": ""
          }
         },
         "name": "MS",
         "orientation": "v",
         "showlegend": true,
         "textposition": "auto",
         "type": "bar",
         "x": [
          "MS"
         ],
         "xaxis": "x",
         "y": {
          "bdata": "hbJWpaAc5UA=",
          "dtype": "f8"
         },
         "yaxis": "y"
        },
        {
         "hovertemplate": "UF=%{x}<br>PIB per capita médio (R$)=%{y}<extra></extra>",
         "legendgroup": "MT",
         "marker": {
          "color": "#00cc96",
          "pattern": {
           "shape": ""
          }
         },
         "name": "MT",
         "orientation": "v",
         "showlegend": true,
         "textposition": "auto",
         "type": "bar",
         "x": [
          "MT"
         ],
         "xaxis": "x",
         "y": {
          "bdata": "Obuuz0wI50A=",
          "dtype": "f8"
         },
         "yaxis": "y"
        },
        {
         "hovertemplate": "UF=%{x}<br>PIB per capita médio (R$)=%{y}<extra></extra>",
         "legendgroup": "PA",
         "marker": {
          "color": "#ab63fa",
          "pattern": {
           "shape": ""
          }
         },
         "name": "PA",
         "orientation": "v",
         "showlegend": true,
         "textposition": "auto",
         "type": "bar",
         "x": [
          "PA"
         ],
         "xaxis": "x",
         "y": {
          "bdata": "VIRwwXCG1EA=",
          "dtype": "f8"
         },
         "yaxis": "y"
        },
        {
         "hovertemplate": "UF=%{x}<br>PIB per capita médio (R$)=%{y}<extra></extra>",
         "legendgroup": "PB",
         "marker": {
          "color": "#FFA15A",
          "pattern": {
           "shape": ""
          }
         },
         "name": "PB",
         "orientation": "v",
         "showlegend": true,
         "textposition": "auto",
         "type": "bar",
         "x": [
          "PB"
         ],
         "xaxis": "x",
         "y": {
          "bdata": "OGrZdNAUxkA=",
          "dtype": "f8"
         },
         "yaxis": "y"
        },
        {
         "hovertemplate": "UF=%{x}<br>PIB per capita médio (R$)=%{y}<extra></extra>",
         "legendgroup": "PE",
         "marker": {
          "color": "#19d3f3",
          "pattern": {
           "shape": ""
          }
         },
         "name": "PE",
         "orientation": "v",
         "showlegend": true,
         "textposition": "auto",
         "type": "bar",
         "x": [
          "PE"
         ],
         "xaxis": "x",
         "y": {
          "bdata": "HGAeX0diy0A=",
          "dtype": "f8"
         },
         "yaxis": "y"
        },
        {
         "hovertemplate": "UF=%{x}<br>PIB per capita médio (R$)=%{y}<extra></extra>",
         "legendgroup": "PI",
         "marker": {
          "color": "#FF6692",
          "pattern": {
           "shape": ""
          }
         },
         "name": "PI",
         "orientation": "v",
         "showlegend": true,
         "textposition": "auto",
         "type": "bar",
         "x": [
          "PI"
         ],
         "xaxis": "x",
         "y": {
          "bdata": "c5VjYezhx0A=",
          "dtype": "f8"
         },
         "yaxis": "y"
        },
        {
         "hovertemplate": "UF=%{x}<br>PIB per capita médio (R$)=%{y}<extra></extra>",
         "legendgroup": "PR",
         "marker": {
          "color": "#B6E880",
          "pattern": {
           "shape": ""
          }
         },
         "name": "PR",
         "orientation": "v",
         "showlegend": true,
         "textposition": "auto",
         "type": "bar",
         "x": [
          "PR"
         ],
         "xaxis": "x",
         "y": {
          "bdata": "i9mVcZ+Q4UA=",
          "dtype": "f8"
         },
         "yaxis": "y"
        },
        {
         "hovertemplate": "UF=%{x}<br>PIB per capita médio (R$)=%{y}<extra></extra>",
         "legendgroup": "RJ",
         "marker": {
          "color": "#FF97FF",
          "pattern": {
           "shape": ""
          }
         },
         "name": "RJ",
         "orientation": "v",
         "showlegend": true,
         "textposition": "auto",
         "type": "bar",
         "x": [
          "RJ"
         ],
         "xaxis": "x",
         "y": {
          "bdata": "fH3ZsjxW40A=",
          "dtype": "f8"
         },
         "yaxis": "y"
        },
        {
         "hovertemplate": "UF=%{x}<br>PIB per capita médio (R$)=%{y}<extra></extra>",
         "legendgroup": "RN",
         "marker": {
          "color": "#FECB52",
          "pattern": {
           "shape": ""
          }
         },
         "name": "RN",
         "orientation": "v",
         "showlegend": true,
         "textposition": "auto",
         "type": "bar",
         "x": [
          "RN"
         ],
         "xaxis": "x",
         "y": {
          "bdata": "2+PNmmgSz0A=",
          "dtype": "f8"
         },
         "yaxis": "y"
        },
        {
         "hovertemplate": "UF=%{x}<br>PIB per capita médio (R$)=%{y}<extra></extra>",
         "legendgroup": "RO",
         "marker": {
          "color": "#636efa",
          "pattern": {
           "shape": ""
          }
         },
         "name": "RO",
         "orientation": "v",
         "showlegend": true,
         "textposition": "auto",
         "type": "bar",
         "x": [
          "RO"
         ],
         "xaxis": "x",
         "y": {
          "bdata": "BS4V02cz2EA=",
          "dtype": "f8"
         },
         "yaxis": "y"
        },
        {
         "hovertemplate": "UF=%{x}<br>PIB per capita médio (R$)=%{y}<extra></extra>",
         "legendgroup": "RR",
         "marker": {
          "color": "#EF553B",
          "pattern": {
           "shape": ""
          }
         },
         "name": "RR",
         "orientation": "v",
         "showlegend": true,
         "textposition": "auto",
         "type": "bar",
         "x": [
          "RR"
         ],
         "xaxis": "x",
         "y": {
          "bdata": "OfW3o6wz0kA=",
          "dtype": "f8"
         },
         "yaxis": "y"
        },
        {
         "hovertemplate": "UF=%{x}<br>PIB per capita médio (R$)=%{y}<extra></extra>",
         "legendgroup": "RS",
         "marker": {
          "color": "#00cc96",
          "pattern": {
           "shape": ""
          }
         },
         "name": "RS",
         "orientation": "v",
         "showlegend": true,
         "textposition": "auto",
         "type": "bar",
         "x": [
          "RS"
         ],
         "xaxis": "x",
         "y": {
          "bdata": "Vu4/XbrG40A=",
          "dtype": "f8"
         },
         "yaxis": "y"
        },
        {
         "hovertemplate": "UF=%{x}<br>PIB per capita médio (R$)=%{y}<extra></extra>",
         "legendgroup": "SC",
         "marker": {
          "color": "#ab63fa",
          "pattern": {
           "shape": ""
          }
         },
         "name": "SC",
         "orientation": "v",
         "showlegend": true,
         "textposition": "auto",
         "type": "bar",
         "x": [
          "SC"
         ],
         "xaxis": "x",
         "y": {
          "bdata": "zUxr6NNL4kA=",
          "dtype": "f8"
         },
         "yaxis": "y"
        },
        {
         "hovertemplate": "UF=%{x}<br>PIB per capita médio (R$)=%{y}<extra></extra>",
         "legendgroup": "SE",
         "marker": {
          "color": "#FFA15A",
          "pattern": {
           "shape": ""
          }
         },
         "name": "SE",
         "orientation": "v",
         "showlegend": true,
         "textposition": "auto",
         "type": "bar",
         "x": [
          "SE"
         ],
         "xaxis": "x",
         "y": {
          "bdata": "TwltDBcU1kA=",
          "dtype": "f8"
         },
         "yaxis": "y"
        },
        {
         "hovertemplate": "UF=%{x}<br>PIB per capita médio (R$)=%{y}<extra></extra>",
         "legendgroup": "SP",
         "marker": {
          "color": "#19d3f3",
          "pattern": {
           "shape": ""
          }
         },
         "name": "SP",
         "orientation": "v",
         "showlegend": true,
         "textposition": "auto",
         "type": "bar",
         "x": [
          "SP"
         ],
         "xaxis": "x",
         "y": {
          "bdata": "z0lhhw1u4UA=",
          "dtype": "f8"
         },
         "yaxis": "y"
        },
        {
         "hovertemplate": "UF=%{x}<br>PIB per capita médio (R$)=%{y}<extra></extra>",
         "legendgroup": "TO",
         "marker": {
          "color": "#FF6692",
          "pattern": {
           "shape": ""
          }
         },
         "name": "TO",
         "orientation": "v",
         "showlegend": true,
         "textposition": "auto",
         "type": "bar",
         "x": [
          "TO"
         ],
         "xaxis": "x",
         "y": {
          "bdata": "zUtVUjfp1UA=",
          "dtype": "f8"
         },
         "yaxis": "y"
        }
       ],
       "layout": {
        "barmode": "relative",
        "legend": {
         "title": {
          "text": "UF"
         },
         "tracegroupgap": 0
        },
        "template": {
         "data": {
          "bar": [
           {
            "error_x": {
             "color": "#2a3f5f"
            },
            "error_y": {
             "color": "#2a3f5f"
            },
            "marker": {
             "line": {
              "color": "#E5ECF6",
              "width": 0.5
             },
             "pattern": {
              "fillmode": "overlay",
              "size": 10,
              "solidity": 0.2
             }
            },
            "type": "bar"
           }
          ],
          "barpolar": [
           {
            "marker": {
             "line": {
              "color": "#E5ECF6",
              "width": 0.5
             },
             "pattern": {
              "fillmode": "overlay",
              "size": 10,
              "solidity": 0.2
             }
            },
            "type": "barpolar"
           }
          ],
          "carpet": [
           {
            "aaxis": {
             "endlinecolor": "#2a3f5f",
             "gridcolor": "white",
             "linecolor": "white",
             "minorgridcolor": "white",
             "startlinecolor": "#2a3f5f"
            },
            "baxis": {
             "endlinecolor": "#2a3f5f",
             "gridcolor": "white",
             "linecolor": "white",
             "minorgridcolor": "white",
             "startlinecolor": "#2a3f5f"
            },
            "type": "carpet"
           }
          ],
          "choropleth": [
           {
            "colorbar": {
             "outlinewidth": 0,
             "ticks": ""
            },
            "type": "choropleth"
           }
          ],
          "contour": [
           {
            "colorbar": {
             "outlinewidth": 0,
             "ticks": ""
            },
            "colorscale": [
             [
              0,
              "#0d0887"
             ],
             [
              0.1111111111111111,
              "#46039f"
             ],
             [
              0.2222222222222222,
              "#7201a8"
             ],
             [
              0.3333333333333333,
              "#9c179e"
             ],
             [
              0.4444444444444444,
              "#bd3786"
             ],
             [
              0.5555555555555556,
              "#d8576b"
             ],
             [
              0.6666666666666666,
              "#ed7953"
             ],
             [
              0.7777777777777778,
              "#fb9f3a"
             ],
             [
              0.8888888888888888,
              "#fdca26"
             ],
             [
              1,
              "#f0f921"
             ]
            ],
            "type": "contour"
           }
          ],
          "contourcarpet": [
           {
            "colorbar": {
             "outlinewidth": 0,
             "ticks": ""
            },
            "type": "contourcarpet"
           }
          ],
          "heatmap": [
           {
            "colorbar": {
             "outlinewidth": 0,
             "ticks": ""
            },
            "colorscale": [
             [
              0,
              "#0d0887"
             ],
             [
              0.1111111111111111,
              "#46039f"
             ],
             [
              0.2222222222222222,
              "#7201a8"
             ],
             [
              0.3333333333333333,
              "#9c179e"
             ],
             [
              0.4444444444444444,
              "#bd3786"
             ],
             [
              0.5555555555555556,
              "#d8576b"
             ],
             [
              0.6666666666666666,
              "#ed7953"
             ],
             [
              0.7777777777777778,
              "#fb9f3a"
             ],
             [
              0.8888888888888888,
              "#fdca26"
             ],
             [
              1,
              "#f0f921"
             ]
            ],
            "type": "heatmap"
           }
          ],
          "histogram": [
           {
            "marker": {
             "pattern": {
              "fillmode": "overlay",
              "size": 10,
              "solidity": 0.2
             }
            },
            "type": "histogram"
           }
          ],
          "histogram2d": [
           {
            "colorbar": {
             "outlinewidth": 0,
             "ticks": ""
            },
            "colorscale": [
             [
              0,
              "#0d0887"
             ],
             [
              0.1111111111111111,
              "#46039f"
             ],
             [
              0.2222222222222222,
              "#7201a8"
             ],
             [
              0.3333333333333333,
              "#9c179e"
             ],
             [
              0.4444444444444444,
              "#bd3786"
             ],
             [
              0.5555555555555556,
              "#d8576b"
             ],
             [
              0.6666666666666666,
              "#ed7953"
             ],
             [
              0.7777777777777778,
              "#fb9f3a"
             ],
             [
              0.8888888888888888,
              "#fdca26"
             ],
             [
              1,
              "#f0f921"
             ]
            ],
            "type": "histogram2d"
           }
          ],
          "histogram2dcontour": [
           {
            "colorbar": {
             "outlinewidth": 0,
             "ticks": ""
            },
            "colorscale": [
             [
              0,
              "#0d0887"
             ],
             [
              0.1111111111111111,
              "#46039f"
             ],
             [
              0.2222222222222222,
              "#7201a8"
             ],
             [
              0.3333333333333333,
              "#9c179e"
             ],
             [
              0.4444444444444444,
              "#bd3786"
             ],
             [
              0.5555555555555556,
              "#d8576b"
             ],
             [
              0.6666666666666666,
              "#ed7953"
             ],
             [
              0.7777777777777778,
              "#fb9f3a"
             ],
             [
              0.8888888888888888,
              "#fdca26"
             ],
             [
              1,
              "#f0f921"
             ]
            ],
            "type": "histogram2dcontour"
           }
          ],
          "mesh3d": [
           {
            "colorbar": {
             "outlinewidth": 0,
             "ticks": ""
            },
            "type": "mesh3d"
           }
          ],
          "parcoords": [
           {
            "line": {
             "colorbar": {
              "outlinewidth": 0,
              "ticks": ""
             }
            },
            "type": "parcoords"
           }
          ],
          "pie": [
           {
            "automargin": true,
            "type": "pie"
           }
          ],
          "scatter": [
           {
            "fillpattern": {
             "fillmode": "overlay",
             "size": 10,
             "solidity": 0.2
            },
            "type": "scatter"
           }
          ],
          "scatter3d": [
           {
            "line": {
             "colorbar": {
              "outlinewidth": 0,
              "ticks": ""
             }
            },
            "marker": {
             "colorbar": {
              "outlinewidth": 0,
              "ticks": ""
             }
            },
            "type": "scatter3d"
           }
          ],
          "scattercarpet": [
           {
            "marker": {
             "colorbar": {
              "outlinewidth": 0,
              "ticks": ""
             }
            },
            "type": "scattercarpet"
           }
          ],
          "scattergeo": [
           {
            "marker": {
             "colorbar": {
              "outlinewidth": 0,
              "ticks": ""
             }
            },
            "type": "scattergeo"
           }
          ],
          "scattergl": [
           {
            "marker": {
             "colorbar": {
              "outlinewidth": 0,
              "ticks": ""
             }
            },
            "type": "scattergl"
           }
          ],
          "scattermap": [
           {
            "marker": {
             "colorbar": {
              "outlinewidth": 0,
              "ticks": ""
             }
            },
            "type": "scattermap"
           }
          ],
          "scattermapbox": [
           {
            "marker": {
             "colorbar": {
              "outlinewidth": 0,
              "ticks": ""
             }
            },
            "type": "scattermapbox"
           }
          ],
          "scatterpolar": [
           {
            "marker": {
             "colorbar": {
              "outlinewidth": 0,
              "ticks": ""
             }
            },
            "type": "scatterpolar"
           }
          ],
          "scatterpolargl": [
           {
            "marker": {
             "colorbar": {
              "outlinewidth": 0,
              "ticks": ""
             }
            },
            "type": "scatterpolargl"
           }
          ],
          "scatterternary": [
           {
            "marker": {
             "colorbar": {
              "outlinewidth": 0,
              "ticks": ""
             }
            },
            "type": "scatterternary"
           }
          ],
          "surface": [
           {
            "colorbar": {
             "outlinewidth": 0,
             "ticks": ""
            },
            "colorscale": [
             [
              0,
              "#0d0887"
             ],
             [
              0.1111111111111111,
              "#46039f"
             ],
             [
              0.2222222222222222,
              "#7201a8"
             ],
             [
              0.3333333333333333,
              "#9c179e"
             ],
             [
              0.4444444444444444,
              "#bd3786"
             ],
             [
              0.5555555555555556,
              "#d8576b"
             ],
             [
              0.6666666666666666,
              "#ed7953"
             ],
             [
              0.7777777777777778,
              "#fb9f3a"
             ],
             [
              0.8888888888888888,
              "#fdca26"
             ],
             [
              1,
              "#f0f921"
             ]
            ],
            "type": "surface"
           }
          ],
          "table": [
           {
            "cells": {
             "fill": {
              "color": "#EBF0F8"
             },
             "line": {
              "color": "white"
             }
            },
            "header": {
             "fill": {
              "color": "#C8D4E3"
             },
             "line": {
              "color": "white"
             }
            },
            "type": "table"
           }
          ]
         },
         "layout": {
          "annotationdefaults": {
           "arrowcolor": "#2a3f5f",
           "arrowhead": 0,
           "arrowwidth": 1
          },
          "autotypenumbers": "strict",
          "coloraxis": {
           "colorbar": {
            "outlinewidth": 0,
            "ticks": ""
           }
          },
          "colorscale": {
           "diverging": [
            [
             0,
             "#8e0152"
            ],
            [
             0.1,
             "#c51b7d"
            ],
            [
             0.2,
             "#de77ae"
            ],
            [
             0.3,
             "#f1b6da"
            ],
            [
             0.4,
             "#fde0ef"
            ],
            [
             0.5,
             "#f7f7f7"
            ],
            [
             0.6,
             "#e6f5d0"
            ],
            [
             0.7,
             "#b8e186"
            ],
            [
             0.8,
             "#7fbc41"
            ],
            [
             0.9,
             "#4d9221"
            ],
            [
             1,
             "#276419"
            ]
           ],
           "sequential": [
            [
             0,
             "#0d0887"
            ],
            [
             0.1111111111111111,
             "#46039f"
            ],
            [
             0.2222222222222222,
             "#7201a8"
            ],
            [
             0.3333333333333333,
             "#9c179e"
            ],
            [
             0.4444444444444444,
             "#bd3786"
            ],
            [
             0.5555555555555556,
             "#d8576b"
            ],
            [
             0.6666666666666666,
             "#ed7953"
            ],
            [
             0.7777777777777778,
             "#fb9f3a"
            ],
            [
             0.8888888888888888,
             "#fdca26"
            ],
            [
             1,
             "#f0f921"
            ]
           ],
           "sequentialminus": [
            [
             0,
             "#0d0887"
            ],
            [
             0.1111111111111111,
             "#46039f"
            ],
            [
             0.2222222222222222,
             "#7201a8"
            ],
            [
             0.3333333333333333,
             "#9c179e"
            ],
            [
             0.4444444444444444,
             "#bd3786"
            ],
            [
             0.5555555555555556,
             "#d8576b"
            ],
            [
             0.6666666666666666,
             "#ed7953"
            ],
            [
             0.7777777777777778,
             "#fb9f3a"
            ],
            [
             0.8888888888888888,
             "#fdca26"
            ],
            [
             1,
             "#f0f921"
            ]
           ]
          },
          "colorway": [
           "#636efa",
           "#EF553B",
           "#00cc96",
           "#ab63fa",
           "#FFA15A",
           "#19d3f3",
           "#FF6692",
           "#B6E880",
           "#FF97FF",
           "#FECB52"
          ],
          "font": {
           "color": "#2a3f5f"
          },
          "geo": {
           "bgcolor": "white",
           "lakecolor": "white",
           "landcolor": "#E5ECF6",
           "showlakes": true,
           "showland": true,
           "subunitcolor": "white"
          },
          "hoverlabel": {
           "align": "left"
          },
          "hovermode": "closest",
          "mapbox": {
           "style": "light"
          },
          "paper_bgcolor": "white",
          "plot_bgcolor": "#E5ECF6",
          "polar": {
           "angularaxis": {
            "gridcolor": "white",
            "linecolor": "white",
            "ticks": ""
           },
           "bgcolor": "#E5ECF6",
           "radialaxis": {
            "gridcolor": "white",
            "linecolor": "white",
            "ticks": ""
           }
          },
          "scene": {
           "xaxis": {
            "backgroundcolor": "#E5ECF6",
            "gridcolor": "white",
            "gridwidth": 2,
            "linecolor": "white",
            "showbackground": true,
            "ticks": "",
            "zerolinecolor": "white"
           },
           "yaxis": {
            "backgroundcolor": "#E5ECF6",
            "gridcolor": "white",
            "gridwidth": 2,
            "linecolor": "white",
            "showbackground": true,
            "ticks": "",
            "zerolinecolor": "white"
           },
           "zaxis": {
            "backgroundcolor": "#E5ECF6",
            "gridcolor": "white",
            "gridwidth": 2,
            "linecolor": "white",
            "showbackground": true,
            "ticks": "",
            "zerolinecolor": "white"
           }
          },
          "shapedefaults": {
           "line": {
            "color": "#2a3f5f"
           }
          },
          "ternary": {
           "aaxis": {
            "gridcolor": "white",
            "linecolor": "white",
            "ticks": ""
           },
           "baxis": {
            "gridcolor": "white",
            "linecolor": "white",
            "ticks": ""
           },
           "bgcolor": "#E5ECF6",
           "caxis": {
            "gridcolor": "white",
            "linecolor": "white",
            "ticks": ""
           }
          },
          "title": {
           "x": 0.05
          },
          "xaxis": {
           "automargin": true,
           "gridcolor": "white",
           "linecolor": "white",
           "ticks": "",
           "title": {
            "standoff": 15
           },
           "zerolinecolor": "white",
           "zerolinewidth": 2
          },
          "yaxis": {
           "automargin": true,
           "gridcolor": "white",
           "linecolor": "white",
           "ticks": "",
           "title": {
            "standoff": 15
           },
           "zerolinecolor": "white",
           "zerolinewidth": 2
          }
         }
        },
        "title": {
         "text": "Média do PIB per capita por Estado (2016–2021)"
        },
        "xaxis": {
         "anchor": "y",
         "categoryarray": [
          "AC",
          "AL",
          "AM",
          "AP",
          "BA",
          "CE",
          "DF",
          "ES",
          "GO",
          "MA",
          "MG",
          "MS",
          "MT",
          "PA",
          "PB",
          "PE",
          "PI",
          "PR",
          "RJ",
          "RN",
          "RO",
          "RR",
          "RS",
          "SC",
          "SE",
          "SP",
          "TO"
         ],
         "categoryorder": "array",
         "domain": [
          0,
          1
         ],
         "title": {
          "text": "Estado (UF)"
         }
        },
        "yaxis": {
         "anchor": "x",
         "domain": [
          0,
          1
         ],
         "title": {
          "text": "PIB per capita médio (R$)"
         }
        }
       }
      }
     },
     "metadata": {},
     "output_type": "display_data"
    }
   ],
   "source": [
    "# Agrupar por estado (UF) e calcular a média do PIB per capita no período\n",
    "media_estados = df_estado.groupby('UF')['PIB_per_capita'].mean().reset_index()\n",
    "\n",
    "# Plotar o gráfico de barras\n",
    "fig_media_estado = px.bar(\n",
    "    media_estados,\n",
    "    x='UF',\n",
    "    y='PIB_per_capita',\n",
    "    color='UF',\n",
    "    title='Média do PIB per capita por Estado (2016–2021)',\n",
    "    labels={'PIB_per_capita': 'PIB per capita médio (R$)'},\n",
    "    #text=media_estados['PIB_per_capita'].round(2)\n",
    ")\n",
    "\n",
    "# Ajustar layout\n",
    "fig_media_estado.update_layout(\n",
    "    xaxis_title=\"Estado (UF)\",\n",
    "    yaxis_title=\"PIB per capita médio (R$)\",\n",
    "    #showlegend=False\n",
    ")\n",
    "\n",
    "fig_media_estado.show()\n"
   ]
  },
  {
   "cell_type": "markdown",
   "metadata": {},
   "source": [
    "#### 🎯 Motivo da Utilização do Gráfico\n",
    "Optamos por utilizar gráficos para representar o PIB per capita devido à centralidade desse indicador em nossas análises. Grande parte das perguntas do projeto gira em torno do PIB per capita por região ou por estado, o que torna esse um dos principais parâmetros a serem observados. Além disso, o PIB per capita é uma métrica que resume de maneira clara e direta o desempenho econômico de uma localidade em relação à sua população, sendo essencial para identificar desigualdades, avanços ou retrocessos.\n",
    "Para representar esses dados, escolhemos o gráfico de barras por ser uma forma visualmente clara, objetiva e de fácil comparação entre diferentes categorias, como estados e regiões. Esse tipo de gráfico permite identificar rapidamente quais localidades se destacam com os maiores ou menores valores de PIB per capita. Ele também facilita a leitura mesmo com uma grande quantidade de dados, como no caso dos estados brasileiros, sem sobrecarregar visualmente o leitor. Além disso, sua estrutura é ideal para representar variações ao longo do tempo, o que se alinha bem à proposta de mostrar a evolução dos dados entre os anos de 2016 a 2021."
   ]
  },
  {
   "cell_type": "markdown",
   "metadata": {},
   "source": [
    "#### 📌 Explicação do Conteúdo do Gráfico\n",
    "No desenvolvimento da visualização, utilizamos dois tipos principais de gráficos de barras: um interativo, que mostra a evolução ao longo do tempo, e outro fixo, que apresenta a média geral do período. Nos gráficos interativos, optamos por barras animadas que permitem acompanhar a variação do PIB per capita ano a ano, tanto por estado quanto por região. Neles, o eixo Y representa os valores do PIB per capita (em milhares de reais) e o eixo X mostra os estados ou regiões. Um botão de play também foi adicionado para que o usuário possa visualizar, de forma contínua, a trajetória dos dados ao longo do tempo. Já nos gráficos fixos, que mostram a média do período, mantivemos o eixo Y com os valores em mil reais e o eixo X com os estados ou regiões, sem a animação, para permitir uma comparação mais direta dos dados consolidados."
   ]
  },
  {
   "cell_type": "markdown",
   "metadata": {},
   "source": [
    "#### ✅ O que podemos perceber?\n",
    "Ao analisarmos os resultados apresentados nos gráficos, percebemos que os valores de PIB per capita se mantiveram relativamente constantes entre os anos de 2016 a 2020. No entanto, em 2021, foi possível notar um aumento expressivo em praticamente todas as regiões e estados. Após pesquisa, identificamos que esse crescimento coincide com o aumento de 4,6% no Produto Interno Bruto (PIB) do Brasil no ano de 2021, segundo o IBGE: [Aumento do PIB em 2021](https://agenciadenoticias.ibge.gov.br/agencia-noticias/2012-agencia-de-noticias/noticias/38388-em-2021-pib-cresce-em-todas-as-27-unidades-da-federacao). Esse avanço representou uma recuperação da economia brasileira após a retração sofrida em 2020 devido à pandemia de COVID-19. Além disso, a Formação Bruta de Capital Fixo, que reflete o nível de investimento produtivo do país, cresceu 17,2% no mesmo período:[Aumento Produtivo em 2021](https://www.poder360.com.br/economia/pib-do-brasil-sobe-46-em-2021-diz-ibge/?utm_source), o que pode ter impulsionado ainda mais esse crescimento. Assim, os gráficos não apenas ajudam a visualizar a trajetória dos dados, mas também evidenciam como a economia respondeu de forma significativa em 2021, influenciando diretamente os valores do PIB per capita."
   ]
  },
  {
   "cell_type": "markdown",
   "metadata": {},
   "source": [
    "#### 📊 Análise da Relação entre PIB per Capita e Mortalidade Infantil\n",
    "Investigar se existe correlação significativa entre o desenvolvimento econômico regional (medido pelo PIB per capita) e os índices de mortalidade infantil no período 2016-2021."
   ]
  },
  {
   "cell_type": "code",
   "execution_count": 55,
   "metadata": {},
   "outputs": [
    {
     "data": {
      "application/vnd.plotly.v1+json": {
       "config": {
        "plotlyServerURL": "https://plot.ly"
       },
       "data": [
        {
         "fillpattern": {
          "shape": ""
         },
         "groupnorm": "percent",
         "hovertemplate": "<b>%{color}</b><br>Ano: %{x}<br>Participação: %{y:.1f}%",
         "legendgroup": "Centro-Oeste",
         "line": {
          "color": "rgb(102, 197, 204)"
         },
         "marker": {
          "symbol": "circle"
         },
         "mode": "lines",
         "name": "Centro-Oeste",
         "orientation": "v",
         "showlegend": true,
         "stackgroup": "1",
         "type": "scatter",
         "x": [
          "2016",
          "2017",
          "2018",
          "2019",
          "2020",
          "2021"
         ],
         "xaxis": "x",
         "y": {
          "bdata": "AAAAAABEp0AAAAAAADqmQAAAAAAAqqZAAAAAAABMpkAAAAAAACSkQAAAAAAA/qRA",
          "dtype": "f8"
         },
         "yaxis": "y"
        },
        {
         "fillpattern": {
          "shape": ""
         },
         "groupnorm": "percent",
         "hovertemplate": "<b>%{color}</b><br>Ano: %{x}<br>Participação: %{y:.1f}%",
         "legendgroup": "Nordeste",
         "line": {
          "color": "rgb(246, 207, 113)"
         },
         "marker": {
          "symbol": "circle"
         },
         "mode": "lines",
         "name": "Nordeste",
         "orientation": "v",
         "showlegend": true,
         "stackgroup": "1",
         "type": "scatter",
         "x": [
          "2016",
          "2017",
          "2018",
          "2019",
          "2020",
          "2021"
         ],
         "xaxis": "x",
         "y": {
          "bdata": "AAAAAIByxkAAAAAAgGvGQAAAAAAAEMZAAAAAAACHxUAAAAAAgH/DQAAAAAAAnsNA",
          "dtype": "f8"
         },
         "yaxis": "y"
        },
        {
         "fillpattern": {
          "shape": ""
         },
         "groupnorm": "percent",
         "hovertemplate": "<b>%{color}</b><br>Ano: %{x}<br>Participação: %{y:.1f}%",
         "legendgroup": "Norte",
         "line": {
          "color": "rgb(248, 156, 116)"
         },
         "marker": {
          "symbol": "circle"
         },
         "mode": "lines",
         "name": "Norte",
         "orientation": "v",
         "showlegend": true,
         "stackgroup": "1",
         "type": "scatter",
         "x": [
          "2016",
          "2017",
          "2018",
          "2019",
          "2020",
          "2021"
         ],
         "xaxis": "x",
         "y": {
          "bdata": "AAAAAACdskAAAAAAANSyQAAAAAAAGrNAAAAAAAB8skAAAAAAABuxQAAAAAAAHrJA",
          "dtype": "f8"
         },
         "yaxis": "y"
        },
        {
         "fillpattern": {
          "shape": ""
         },
         "groupnorm": "percent",
         "hovertemplate": "<b>%{color}</b><br>Ano: %{x}<br>Participação: %{y:.1f}%",
         "legendgroup": "Sudeste",
         "line": {
          "color": "rgb(220, 176, 242)"
         },
         "marker": {
          "symbol": "circle"
         },
         "mode": "lines",
         "name": "Sudeste",
         "orientation": "v",
         "showlegend": true,
         "stackgroup": "1",
         "type": "scatter",
         "x": [
          "2016",
          "2017",
          "2018",
          "2019",
          "2020",
          "2021"
         ],
         "xaxis": "x",
         "y": {
          "bdata": "ukkMAvv2w0BQjZdu8rrFQJqZmZlpdsVAJQaBleNVxUA9CtejQK/CQClcj8I1y8JA",
          "dtype": "f8"
         },
         "yaxis": "y"
        },
        {
         "fillpattern": {
          "shape": ""
         },
         "groupnorm": "percent",
         "hovertemplate": "<b>%{color}</b><br>Ano: %{x}<br>Participação: %{y:.1f}%",
         "legendgroup": "Sul",
         "line": {
          "color": "rgb(135, 197, 95)"
         },
         "marker": {
          "symbol": "circle"
         },
         "mode": "lines",
         "name": "Sul",
         "orientation": "v",
         "showlegend": true,
         "stackgroup": "1",
         "type": "scatter",
         "x": [
          "2016",
          "2017",
          "2018",
          "2019",
          "2020",
          "2021"
         ],
         "xaxis": "x",
         "y": {
          "bdata": "AAAAAAB0rkAAAAAAAH6vQAAAAAAAtq5AAAAAAADWrkAAAAAAAIqqQAAAAAAAwqpA",
          "dtype": "f8"
         },
         "yaxis": "y"
        },
        {
         "fillpattern": {
          "shape": ""
         },
         "groupnorm": "percent",
         "hovertemplate": "<b>%{color}</b><br>Ano: %{x}<br>Participação: %{y:.1f}%",
         "legendgroup": "Centro-Oeste",
         "line": {
          "color": "rgb(102, 197, 204)"
         },
         "marker": {
          "symbol": "circle"
         },
         "mode": "lines",
         "name": "Centro-Oeste",
         "orientation": "v",
         "showlegend": true,
         "stackgroup": "1",
         "type": "scatter",
         "x": [
          "2016",
          "2017",
          "2018",
          "2019",
          "2020",
          "2021"
         ],
         "xaxis": "x2",
         "y": {
          "bdata": "a1K4oHt53kCdu4/lvfLeQKq3HAura+BAfRnZoyXy4EDlwPnwBB/lQEm0FZ5+JOtA",
          "dtype": "f8"
         },
         "yaxis": "y2"
        },
        {
         "fillpattern": {
          "shape": ""
         },
         "groupnorm": "percent",
         "hovertemplate": "<b>%{color}</b><br>Ano: %{x}<br>Participação: %{y:.1f}%",
         "legendgroup": "Nordeste",
         "line": {
          "color": "rgb(246, 207, 113)"
         },
         "marker": {
          "symbol": "circle"
         },
         "mode": "lines",
         "name": "Nordeste",
         "orientation": "v",
         "showlegend": true,
         "stackgroup": "1",
         "type": "scatter",
         "x": [
          "2016",
          "2017",
          "2018",
          "2019",
          "2020",
          "2021"
         ],
         "xaxis": "x2",
         "y": {
          "bdata": "VQKCqdQKxECcsnUII+PFQNfEZ9/oisdAYgJ5VLy5yED0uFSB89zNQAZGLAAzedNA",
          "dtype": "f8"
         },
         "yaxis": "y2"
        },
        {
         "fillpattern": {
          "shape": ""
         },
         "groupnorm": "percent",
         "hovertemplate": "<b>%{color}</b><br>Ano: %{x}<br>Participação: %{y:.1f}%",
         "legendgroup": "Norte",
         "line": {
          "color": "rgb(248, 156, 116)"
         },
         "marker": {
          "symbol": "circle"
         },
         "mode": "lines",
         "name": "Norte",
         "orientation": "v",
         "showlegend": true,
         "stackgroup": "1",
         "type": "scatter",
         "x": [
          "2016",
          "2017",
          "2018",
          "2019",
          "2020",
          "2021"
         ],
         "xaxis": "x2",
         "y": {
          "bdata": "wPQaHrudzEDxZqsv18TPQCrH9+Tb5tBAkZ0mw04B0kBjfBkCHiHXQCBigZHf6N1A",
          "dtype": "f8"
         },
         "yaxis": "y2"
        },
        {
         "fillpattern": {
          "shape": ""
         },
         "groupnorm": "percent",
         "hovertemplate": "<b>%{color}</b><br>Ano: %{x}<br>Participação: %{y:.1f}%",
         "legendgroup": "Sudeste",
         "line": {
          "color": "rgb(220, 176, 242)"
         },
         "marker": {
          "symbol": "circle"
         },
         "mode": "lines",
         "name": "Sudeste",
         "orientation": "v",
         "showlegend": true,
         "stackgroup": "1",
         "type": "scatter",
         "x": [
          "2016",
          "2017",
          "2018",
          "2019",
          "2020",
          "2021"
         ],
         "xaxis": "x2",
         "y": {
          "bdata": "D383wNtO10AkU7KaiqTYQEVvNkScyNlA78b/HCQ/20AMCSH61lLeQGFBSTioAuNA",
          "dtype": "f8"
         },
         "yaxis": "y2"
        },
        {
         "fillpattern": {
          "shape": ""
         },
         "groupnorm": "percent",
         "hovertemplate": "<b>%{color}</b><br>Ano: %{x}<br>Participação: %{y:.1f}%",
         "legendgroup": "Sul",
         "line": {
          "color": "rgb(135, 197, 95)"
         },
         "marker": {
          "symbol": "circle"
         },
         "mode": "lines",
         "name": "Sul",
         "orientation": "v",
         "showlegend": true,
         "stackgroup": "1",
         "type": "scatter",
         "x": [
          "2016",
          "2017",
          "2018",
          "2019",
          "2020",
          "2021"
         ],
         "xaxis": "x2",
         "y": {
          "bdata": "rHUGGfLI3kDtGzh04ITfQIMcMRwfD+FAzALo+z/K4UCEHQ0JD+vjQByWsGcUGOpA",
          "dtype": "f8"
         },
         "yaxis": "y2"
        }
       ],
       "layout": {
        "annotations": [
         {
          "font": {
           "size": 16
          },
          "showarrow": false,
          "text": "Distribuição dos Óbitos Infantis por Região",
          "x": 0.225,
          "xanchor": "center",
          "xref": "paper",
          "y": 1,
          "yanchor": "bottom",
          "yref": "paper"
         },
         {
          "font": {
           "size": 16
          },
          "showarrow": false,
          "text": "Distribuição do PIB per capita por Região",
          "x": 0.775,
          "xanchor": "center",
          "xref": "paper",
          "y": 1,
          "yanchor": "bottom",
          "yref": "paper"
         }
        ],
        "height": 450,
        "showlegend": true,
        "template": {
         "data": {
          "bar": [
           {
            "error_x": {
             "color": "#2a3f5f"
            },
            "error_y": {
             "color": "#2a3f5f"
            },
            "marker": {
             "line": {
              "color": "#E5ECF6",
              "width": 0.5
             },
             "pattern": {
              "fillmode": "overlay",
              "size": 10,
              "solidity": 0.2
             }
            },
            "type": "bar"
           }
          ],
          "barpolar": [
           {
            "marker": {
             "line": {
              "color": "#E5ECF6",
              "width": 0.5
             },
             "pattern": {
              "fillmode": "overlay",
              "size": 10,
              "solidity": 0.2
             }
            },
            "type": "barpolar"
           }
          ],
          "carpet": [
           {
            "aaxis": {
             "endlinecolor": "#2a3f5f",
             "gridcolor": "white",
             "linecolor": "white",
             "minorgridcolor": "white",
             "startlinecolor": "#2a3f5f"
            },
            "baxis": {
             "endlinecolor": "#2a3f5f",
             "gridcolor": "white",
             "linecolor": "white",
             "minorgridcolor": "white",
             "startlinecolor": "#2a3f5f"
            },
            "type": "carpet"
           }
          ],
          "choropleth": [
           {
            "colorbar": {
             "outlinewidth": 0,
             "ticks": ""
            },
            "type": "choropleth"
           }
          ],
          "contour": [
           {
            "colorbar": {
             "outlinewidth": 0,
             "ticks": ""
            },
            "colorscale": [
             [
              0,
              "#0d0887"
             ],
             [
              0.1111111111111111,
              "#46039f"
             ],
             [
              0.2222222222222222,
              "#7201a8"
             ],
             [
              0.3333333333333333,
              "#9c179e"
             ],
             [
              0.4444444444444444,
              "#bd3786"
             ],
             [
              0.5555555555555556,
              "#d8576b"
             ],
             [
              0.6666666666666666,
              "#ed7953"
             ],
             [
              0.7777777777777778,
              "#fb9f3a"
             ],
             [
              0.8888888888888888,
              "#fdca26"
             ],
             [
              1,
              "#f0f921"
             ]
            ],
            "type": "contour"
           }
          ],
          "contourcarpet": [
           {
            "colorbar": {
             "outlinewidth": 0,
             "ticks": ""
            },
            "type": "contourcarpet"
           }
          ],
          "heatmap": [
           {
            "colorbar": {
             "outlinewidth": 0,
             "ticks": ""
            },
            "colorscale": [
             [
              0,
              "#0d0887"
             ],
             [
              0.1111111111111111,
              "#46039f"
             ],
             [
              0.2222222222222222,
              "#7201a8"
             ],
             [
              0.3333333333333333,
              "#9c179e"
             ],
             [
              0.4444444444444444,
              "#bd3786"
             ],
             [
              0.5555555555555556,
              "#d8576b"
             ],
             [
              0.6666666666666666,
              "#ed7953"
             ],
             [
              0.7777777777777778,
              "#fb9f3a"
             ],
             [
              0.8888888888888888,
              "#fdca26"
             ],
             [
              1,
              "#f0f921"
             ]
            ],
            "type": "heatmap"
           }
          ],
          "histogram": [
           {
            "marker": {
             "pattern": {
              "fillmode": "overlay",
              "size": 10,
              "solidity": 0.2
             }
            },
            "type": "histogram"
           }
          ],
          "histogram2d": [
           {
            "colorbar": {
             "outlinewidth": 0,
             "ticks": ""
            },
            "colorscale": [
             [
              0,
              "#0d0887"
             ],
             [
              0.1111111111111111,
              "#46039f"
             ],
             [
              0.2222222222222222,
              "#7201a8"
             ],
             [
              0.3333333333333333,
              "#9c179e"
             ],
             [
              0.4444444444444444,
              "#bd3786"
             ],
             [
              0.5555555555555556,
              "#d8576b"
             ],
             [
              0.6666666666666666,
              "#ed7953"
             ],
             [
              0.7777777777777778,
              "#fb9f3a"
             ],
             [
              0.8888888888888888,
              "#fdca26"
             ],
             [
              1,
              "#f0f921"
             ]
            ],
            "type": "histogram2d"
           }
          ],
          "histogram2dcontour": [
           {
            "colorbar": {
             "outlinewidth": 0,
             "ticks": ""
            },
            "colorscale": [
             [
              0,
              "#0d0887"
             ],
             [
              0.1111111111111111,
              "#46039f"
             ],
             [
              0.2222222222222222,
              "#7201a8"
             ],
             [
              0.3333333333333333,
              "#9c179e"
             ],
             [
              0.4444444444444444,
              "#bd3786"
             ],
             [
              0.5555555555555556,
              "#d8576b"
             ],
             [
              0.6666666666666666,
              "#ed7953"
             ],
             [
              0.7777777777777778,
              "#fb9f3a"
             ],
             [
              0.8888888888888888,
              "#fdca26"
             ],
             [
              1,
              "#f0f921"
             ]
            ],
            "type": "histogram2dcontour"
           }
          ],
          "mesh3d": [
           {
            "colorbar": {
             "outlinewidth": 0,
             "ticks": ""
            },
            "type": "mesh3d"
           }
          ],
          "parcoords": [
           {
            "line": {
             "colorbar": {
              "outlinewidth": 0,
              "ticks": ""
             }
            },
            "type": "parcoords"
           }
          ],
          "pie": [
           {
            "automargin": true,
            "type": "pie"
           }
          ],
          "scatter": [
           {
            "fillpattern": {
             "fillmode": "overlay",
             "size": 10,
             "solidity": 0.2
            },
            "type": "scatter"
           }
          ],
          "scatter3d": [
           {
            "line": {
             "colorbar": {
              "outlinewidth": 0,
              "ticks": ""
             }
            },
            "marker": {
             "colorbar": {
              "outlinewidth": 0,
              "ticks": ""
             }
            },
            "type": "scatter3d"
           }
          ],
          "scattercarpet": [
           {
            "marker": {
             "colorbar": {
              "outlinewidth": 0,
              "ticks": ""
             }
            },
            "type": "scattercarpet"
           }
          ],
          "scattergeo": [
           {
            "marker": {
             "colorbar": {
              "outlinewidth": 0,
              "ticks": ""
             }
            },
            "type": "scattergeo"
           }
          ],
          "scattergl": [
           {
            "marker": {
             "colorbar": {
              "outlinewidth": 0,
              "ticks": ""
             }
            },
            "type": "scattergl"
           }
          ],
          "scattermap": [
           {
            "marker": {
             "colorbar": {
              "outlinewidth": 0,
              "ticks": ""
             }
            },
            "type": "scattermap"
           }
          ],
          "scattermapbox": [
           {
            "marker": {
             "colorbar": {
              "outlinewidth": 0,
              "ticks": ""
             }
            },
            "type": "scattermapbox"
           }
          ],
          "scatterpolar": [
           {
            "marker": {
             "colorbar": {
              "outlinewidth": 0,
              "ticks": ""
             }
            },
            "type": "scatterpolar"
           }
          ],
          "scatterpolargl": [
           {
            "marker": {
             "colorbar": {
              "outlinewidth": 0,
              "ticks": ""
             }
            },
            "type": "scatterpolargl"
           }
          ],
          "scatterternary": [
           {
            "marker": {
             "colorbar": {
              "outlinewidth": 0,
              "ticks": ""
             }
            },
            "type": "scatterternary"
           }
          ],
          "surface": [
           {
            "colorbar": {
             "outlinewidth": 0,
             "ticks": ""
            },
            "colorscale": [
             [
              0,
              "#0d0887"
             ],
             [
              0.1111111111111111,
              "#46039f"
             ],
             [
              0.2222222222222222,
              "#7201a8"
             ],
             [
              0.3333333333333333,
              "#9c179e"
             ],
             [
              0.4444444444444444,
              "#bd3786"
             ],
             [
              0.5555555555555556,
              "#d8576b"
             ],
             [
              0.6666666666666666,
              "#ed7953"
             ],
             [
              0.7777777777777778,
              "#fb9f3a"
             ],
             [
              0.8888888888888888,
              "#fdca26"
             ],
             [
              1,
              "#f0f921"
             ]
            ],
            "type": "surface"
           }
          ],
          "table": [
           {
            "cells": {
             "fill": {
              "color": "#EBF0F8"
             },
             "line": {
              "color": "white"
             }
            },
            "header": {
             "fill": {
              "color": "#C8D4E3"
             },
             "line": {
              "color": "white"
             }
            },
            "type": "table"
           }
          ]
         },
         "layout": {
          "annotationdefaults": {
           "arrowcolor": "#2a3f5f",
           "arrowhead": 0,
           "arrowwidth": 1
          },
          "autotypenumbers": "strict",
          "coloraxis": {
           "colorbar": {
            "outlinewidth": 0,
            "ticks": ""
           }
          },
          "colorscale": {
           "diverging": [
            [
             0,
             "#8e0152"
            ],
            [
             0.1,
             "#c51b7d"
            ],
            [
             0.2,
             "#de77ae"
            ],
            [
             0.3,
             "#f1b6da"
            ],
            [
             0.4,
             "#fde0ef"
            ],
            [
             0.5,
             "#f7f7f7"
            ],
            [
             0.6,
             "#e6f5d0"
            ],
            [
             0.7,
             "#b8e186"
            ],
            [
             0.8,
             "#7fbc41"
            ],
            [
             0.9,
             "#4d9221"
            ],
            [
             1,
             "#276419"
            ]
           ],
           "sequential": [
            [
             0,
             "#0d0887"
            ],
            [
             0.1111111111111111,
             "#46039f"
            ],
            [
             0.2222222222222222,
             "#7201a8"
            ],
            [
             0.3333333333333333,
             "#9c179e"
            ],
            [
             0.4444444444444444,
             "#bd3786"
            ],
            [
             0.5555555555555556,
             "#d8576b"
            ],
            [
             0.6666666666666666,
             "#ed7953"
            ],
            [
             0.7777777777777778,
             "#fb9f3a"
            ],
            [
             0.8888888888888888,
             "#fdca26"
            ],
            [
             1,
             "#f0f921"
            ]
           ],
           "sequentialminus": [
            [
             0,
             "#0d0887"
            ],
            [
             0.1111111111111111,
             "#46039f"
            ],
            [
             0.2222222222222222,
             "#7201a8"
            ],
            [
             0.3333333333333333,
             "#9c179e"
            ],
            [
             0.4444444444444444,
             "#bd3786"
            ],
            [
             0.5555555555555556,
             "#d8576b"
            ],
            [
             0.6666666666666666,
             "#ed7953"
            ],
            [
             0.7777777777777778,
             "#fb9f3a"
            ],
            [
             0.8888888888888888,
             "#fdca26"
            ],
            [
             1,
             "#f0f921"
            ]
           ]
          },
          "colorway": [
           "#636efa",
           "#EF553B",
           "#00cc96",
           "#ab63fa",
           "#FFA15A",
           "#19d3f3",
           "#FF6692",
           "#B6E880",
           "#FF97FF",
           "#FECB52"
          ],
          "font": {
           "color": "#2a3f5f"
          },
          "geo": {
           "bgcolor": "white",
           "lakecolor": "white",
           "landcolor": "#E5ECF6",
           "showlakes": true,
           "showland": true,
           "subunitcolor": "white"
          },
          "hoverlabel": {
           "align": "left"
          },
          "hovermode": "closest",
          "mapbox": {
           "style": "light"
          },
          "paper_bgcolor": "white",
          "plot_bgcolor": "#E5ECF6",
          "polar": {
           "angularaxis": {
            "gridcolor": "white",
            "linecolor": "white",
            "ticks": ""
           },
           "bgcolor": "#E5ECF6",
           "radialaxis": {
            "gridcolor": "white",
            "linecolor": "white",
            "ticks": ""
           }
          },
          "scene": {
           "xaxis": {
            "backgroundcolor": "#E5ECF6",
            "gridcolor": "white",
            "gridwidth": 2,
            "linecolor": "white",
            "showbackground": true,
            "ticks": "",
            "zerolinecolor": "white"
           },
           "yaxis": {
            "backgroundcolor": "#E5ECF6",
            "gridcolor": "white",
            "gridwidth": 2,
            "linecolor": "white",
            "showbackground": true,
            "ticks": "",
            "zerolinecolor": "white"
           },
           "zaxis": {
            "backgroundcolor": "#E5ECF6",
            "gridcolor": "white",
            "gridwidth": 2,
            "linecolor": "white",
            "showbackground": true,
            "ticks": "",
            "zerolinecolor": "white"
           }
          },
          "shapedefaults": {
           "line": {
            "color": "#2a3f5f"
           }
          },
          "ternary": {
           "aaxis": {
            "gridcolor": "white",
            "linecolor": "white",
            "ticks": ""
           },
           "baxis": {
            "gridcolor": "white",
            "linecolor": "white",
            "ticks": ""
           },
           "bgcolor": "#E5ECF6",
           "caxis": {
            "gridcolor": "white",
            "linecolor": "white",
            "ticks": ""
           }
          },
          "title": {
           "x": 0.05
          },
          "xaxis": {
           "automargin": true,
           "gridcolor": "white",
           "linecolor": "white",
           "ticks": "",
           "title": {
            "standoff": 15
           },
           "zerolinecolor": "white",
           "zerolinewidth": 2
          },
          "yaxis": {
           "automargin": true,
           "gridcolor": "white",
           "linecolor": "white",
           "ticks": "",
           "title": {
            "standoff": 15
           },
           "zerolinecolor": "white",
           "zerolinewidth": 2
          }
         }
        },
        "title": {
         "text": "<b>Comparação da Distribuição Regional: Óbitos vs PIB (2016-2021)</b>",
         "x": 0.5
        },
        "width": 1000,
        "xaxis": {
         "anchor": "y",
         "domain": [
          0,
          0.45
         ]
        },
        "xaxis2": {
         "anchor": "y2",
         "domain": [
          0.55,
          1
         ]
        },
        "yaxis": {
         "anchor": "x",
         "domain": [
          0,
          1
         ]
        },
        "yaxis2": {
         "anchor": "x2",
         "domain": [
          0,
          1
         ]
        }
       }
      }
     },
     "metadata": {},
     "output_type": "display_data"
    }
   ],
   "source": [
    "\n",
    "# 1. Preparação dos dados\n",
    "df_obitos = pd.read_csv('dataFrame/BrStatsAtualizada.csv', sep=';', low_memory=False)\n",
    "df_pib = pd.read_csv('pib_per_capita/pib_per_capita_regioes.csv')\n",
    "\n",
    "# Converter dados numéricos\n",
    "df_obitos['NrObitosInfantis'] = df_obitos['NrObitosInfantis'].astype(str).str.replace('.','').str.replace(',','.').astype(float)\n",
    "df_obitos['Ano'] = df_obitos['Ano'].astype(str)\n",
    "df_pib['Ano'] = df_pib['Ano'].astype(str)\n",
    "\n",
    "# Agregar e juntar dados\n",
    "df_agregado = df_obitos.groupby(['Ano', 'Regiao'])['NrObitosInfantis'].sum().reset_index()\n",
    "df_final = pd.merge(df_agregado, df_pib, on=['Ano', 'Regiao'])\n",
    "\n",
    "# 2. Criar gráfico de área percentual para Óbitos\n",
    "fig_obitos = px.area(\n",
    "    df_final,\n",
    "    x='Ano',\n",
    "    y='NrObitosInfantis',\n",
    "    color='Regiao',\n",
    "    title='<b>Distribuição Percentual dos Óbitos Infantis por Região</b>',\n",
    "    labels={'NrObitosInfantis': 'Participação % nos Óbitos', 'Ano': 'Ano'},\n",
    "    groupnorm='percent',  # Normaliza para 100%\n",
    "    color_discrete_sequence=px.colors.qualitative.Pastel\n",
    ")\n",
    "\n",
    "# 3. Criar gráfico de área percentual para PIB\n",
    "fig_pib = px.area(\n",
    "    df_final,\n",
    "    x='Ano',\n",
    "    y='PIB_per_capita',\n",
    "    color='Regiao',\n",
    "    title='<b>Distribuição Percentual do PIB per capita por Região</b>',\n",
    "    labels={'PIB_per_capita': 'Participação % no PIB', 'Ano': 'Ano'},\n",
    "    groupnorm='percent',  # Normaliza para 100%\n",
    "    color_discrete_sequence=px.colors.qualitative.Pastel\n",
    ")\n",
    "\n",
    "# 4. Ajustar layouts\n",
    "for fig in [fig_obitos, fig_pib]:\n",
    "    fig.update_layout(\n",
    "        height=400,\n",
    "        width=800,\n",
    "        hovermode='x unified',\n",
    "        yaxis=dict(ticksuffix='%'),\n",
    "        legend=dict(orientation='h', yanchor='bottom', y=1.02),\n",
    "        margin=dict(l=50, r=50, t=80, b=50)\n",
    "    )\n",
    "    fig.update_traces(\n",
    "        hovertemplate='<b>%{color}</b><br>Ano: %{x}<br>Participação: %{y:.1f}%'\n",
    "    )\n",
    "\n",
    "# 5. Exibir gráficos lado a lado\n",
    "from plotly.subplots import make_subplots\n",
    "\n",
    "final_fig = make_subplots(rows=1, cols=2, subplot_titles=(\n",
    "    'Distribuição dos Óbitos Infantis por Região',\n",
    "    'Distribuição do PIB per capita por Região'\n",
    "))\n",
    "\n",
    "for trace in fig_obitos.data:\n",
    "    final_fig.add_trace(trace, row=1, col=1)\n",
    "    \n",
    "for trace in fig_pib.data:\n",
    "    final_fig.add_trace(trace, row=1, col=2)\n",
    "\n",
    "final_fig.update_layout(\n",
    "    height=450,\n",
    "    width=1000,\n",
    "    showlegend=True,\n",
    "    title_text='<b>Comparação da Distribuição Regional: Óbitos vs PIB (2016-2021)</b>',\n",
    "    title_x=0.5\n",
    ")\n",
    "\n",
    "final_fig.show()"
   ]
  },
  {
   "cell_type": "markdown",
   "metadata": {},
   "source": [
    "#### 🎯 Motivo da Utilização do Gráfico\n",
    "Este gráfico comparativo foi elaborado para analisar simultaneamente dois indicadores fundamentais do desenvolvimento regional: saúde infantil e desempenho econômico. Ao apresentar os dados de óbitos infantis e PIB per capita lado a lado, permite identificar possíveis relações entre condições socioeconômicas e resultados em saúde pública. A abordagem temporal (2016-2021) foi escolhida para verificar se houve evolução nesses indicadores, enquanto a divisão por regiões brasileiras revela disparidades territoriais. O formato de barras percentuais possibilita comparações justas entre regiões com populações de tamanhos diferentes, destacando padrões que poderiam ser mascarados em análises absolutas."
   ]
  },
  {
   "cell_type": "markdown",
   "metadata": {},
   "source": [
    "#### 📌 Explicação do Conteúdo do Gráfico\n",
    "A visualização está organizada em dois painéis principais. O painel superior apresenta a distribuição percentual dos óbitos infantis por região em cada ano, onde cada barra colorida representa a participação relativa de uma região no total nacional de mortes infantis. O painel inferior mostra a contribuição percentual de cada região para o PIB per capita nacional no mesmo período. As cores consistentes associadas a cada região facilitam a correlação entre os dois conjuntos de dados. Por exemplo, se uma região aparece com alta participação nos óbitos infantis, mas baixa no PIB per capita (como é comum no Nordeste), isso sugere uma relação entre desenvolvimento econômico e saúde pública. A disposição cronológica permite ainda observar tendências, como possíveis melhorias ou deteriorações nos indicadores ao longo do tempo."
   ]
  },
  {
   "cell_type": "markdown",
   "metadata": {},
   "source": [
    "#### ✅ O que podemos perceber?\n",
    "\n",
    "Regiões com menor PIB per capita, como o Nordeste, apresentam maiores taxas de mortalidade infantil, sugerindo que condições socioeconômicas impactam a saúde infantil. O Sudeste, por ser a região mais populosa, aparece em destaque nos dois indicadores, enquanto Centro-Oeste e Sul, com melhores indicadores econômicos, registram menos óbitos infantis, evidenciando a relação entre desenvolvimento e saúde pública.\n",
    "\n"
   ]
  },
  {
   "cell_type": "markdown",
   "metadata": {},
   "source": [
    "<a id=\"pgt2\"></a>\n",
    "#### 📊 Análise da Relação de PIB per capita e produção Agrícola por Região\n",
    "Investigar se existe relação significativa entre a área plantada de uma região e seu PIB per capita, em um periodo de 2016 a 2021."
   ]
  },
  {
   "cell_type": "code",
   "execution_count": 56,
   "metadata": {},
   "outputs": [
    {
     "data": {
      "application/vnd.plotly.v1+json": {
       "config": {
        "plotlyServerURL": "https://plot.ly"
       },
       "data": [
        {
         "customdata": [
          [
           "Centro-Oeste",
           "2016"
          ]
         ],
         "hovertemplate": "Região=%{customdata[0]}<br>Ano=%{customdata[1]}<br>PIB per capita (R$)=%{x}<br>Valor da Produção Agrícola (R$)=%{y}<br>Nº de Municípios=%{marker.size}<extra></extra>",
         "legendgroup": "Centro-Oeste",
         "marker": {
          "color": "rgb(102,194,165)",
          "line": {
           "color": "DarkSlateGrey",
           "width": 1
          },
          "opacity": 0.85,
          "size": {
           "bdata": "0QE=",
           "dtype": "i2"
          },
          "sizemode": "area",
          "sizeref": 4.3175,
          "symbol": "circle"
         },
         "mode": "markers",
         "name": "Centro-Oeste",
         "orientation": "v",
         "showlegend": true,
         "type": "scatter",
         "x": {
          "bdata": "a1K4oHt53kA=",
          "dtype": "f8"
         },
         "xaxis": "x",
         "y": {
          "bdata": "AAAAHDfFlEE=",
          "dtype": "f8"
         },
         "yaxis": "y"
        },
        {
         "customdata": [
          [
           "Nordeste",
           "2016"
          ]
         ],
         "hovertemplate": "Região=%{customdata[0]}<br>Ano=%{customdata[1]}<br>PIB per capita (R$)=%{x}<br>Valor da Produção Agrícola (R$)=%{y}<br>Nº de Municípios=%{marker.size}<extra></extra>",
         "legendgroup": "Nordeste",
         "marker": {
          "color": "rgb(252,141,98)",
          "line": {
           "color": "DarkSlateGrey",
           "width": 1
          },
          "opacity": 0.85,
          "size": {
           "bdata": "vwY=",
           "dtype": "i2"
          },
          "sizemode": "area",
          "sizeref": 4.3175,
          "symbol": "circle"
         },
         "mode": "markers",
         "name": "Nordeste",
         "orientation": "v",
         "showlegend": true,
         "type": "scatter",
         "x": {
          "bdata": "VQKCqdQKxEA=",
          "dtype": "f8"
         },
         "xaxis": "x",
         "y": {
          "bdata": "AAAAMBYxiUE=",
          "dtype": "f8"
         },
         "yaxis": "y"
        },
        {
         "customdata": [
          [
           "Norte",
           "2016"
          ]
         ],
         "hovertemplate": "Região=%{customdata[0]}<br>Ano=%{customdata[1]}<br>PIB per capita (R$)=%{x}<br>Valor da Produção Agrícola (R$)=%{y}<br>Nº de Municípios=%{marker.size}<extra></extra>",
         "legendgroup": "Norte",
         "marker": {
          "color": "rgb(141,160,203)",
          "line": {
           "color": "DarkSlateGrey",
           "width": 1
          },
          "opacity": 0.85,
          "size": {
           "bdata": "vwE=",
           "dtype": "i2"
          },
          "sizemode": "area",
          "sizeref": 4.3175,
          "symbol": "circle"
         },
         "mode": "markers",
         "name": "Norte",
         "orientation": "v",
         "showlegend": true,
         "type": "scatter",
         "x": {
          "bdata": "wPQaHrudzEA=",
          "dtype": "f8"
         },
         "xaxis": "x",
         "y": {
          "bdata": "AAAAAHKBgUE=",
          "dtype": "f8"
         },
         "yaxis": "y"
        },
        {
         "customdata": [
          [
           "Sudeste",
           "2016"
          ]
         ],
         "hovertemplate": "Região=%{customdata[0]}<br>Ano=%{customdata[1]}<br>PIB per capita (R$)=%{x}<br>Valor da Produção Agrícola (R$)=%{y}<br>Nº de Municípios=%{marker.size}<extra></extra>",
         "legendgroup": "Sudeste",
         "marker": {
          "color": "rgb(231,138,195)",
          "line": {
           "color": "DarkSlateGrey",
           "width": 1
          },
          "opacity": 0.85,
          "size": {
           "bdata": "ewY=",
           "dtype": "i2"
          },
          "sizemode": "area",
          "sizeref": 4.3175,
          "symbol": "circle"
         },
         "mode": "markers",
         "name": "Sudeste",
         "orientation": "v",
         "showlegend": true,
         "type": "scatter",
         "x": {
          "bdata": "D383wNtO10A=",
          "dtype": "f8"
         },
         "xaxis": "x",
         "y": {
          "bdata": "AAAA2ArMpUE=",
          "dtype": "f8"
         },
         "yaxis": "y"
        },
        {
         "customdata": [
          [
           "Sul",
           "2016"
          ]
         ],
         "hovertemplate": "Região=%{customdata[0]}<br>Ano=%{customdata[1]}<br>PIB per capita (R$)=%{x}<br>Valor da Produção Agrícola (R$)=%{y}<br>Nº de Municípios=%{marker.size}<extra></extra>",
         "legendgroup": "Sul",
         "marker": {
          "color": "rgb(166,216,84)",
          "line": {
           "color": "DarkSlateGrey",
           "width": 1
          },
          "opacity": 0.85,
          "size": {
           "bdata": "lgQ=",
           "dtype": "i2"
          },
          "sizemode": "area",
          "sizeref": 4.3175,
          "symbol": "circle"
         },
         "mode": "markers",
         "name": "Sul",
         "orientation": "v",
         "showlegend": true,
         "type": "scatter",
         "x": {
          "bdata": "rHUGGfLI3kA=",
          "dtype": "f8"
         },
         "xaxis": "x",
         "y": {
          "bdata": "AAAAYHRspEE=",
          "dtype": "f8"
         },
         "yaxis": "y"
        }
       ],
       "frames": [
        {
         "data": [
          {
           "customdata": [
            [
             "Centro-Oeste",
             "2016"
            ]
           ],
           "hovertemplate": "Região=%{customdata[0]}<br>Ano=%{customdata[1]}<br>PIB per capita (R$)=%{x}<br>Valor da Produção Agrícola (R$)=%{y}<br>Nº de Municípios=%{marker.size}<extra></extra>",
           "legendgroup": "Centro-Oeste",
           "marker": {
            "color": "rgb(102,194,165)",
            "size": {
             "bdata": "0QE=",
             "dtype": "i2"
            },
            "sizemode": "area",
            "sizeref": 4.3175,
            "symbol": "circle"
           },
           "mode": "markers",
           "name": "Centro-Oeste",
           "orientation": "v",
           "showlegend": true,
           "type": "scatter",
           "x": {
            "bdata": "a1K4oHt53kA=",
            "dtype": "f8"
           },
           "xaxis": "x",
           "y": {
            "bdata": "AAAAHDfFlEE=",
            "dtype": "f8"
           },
           "yaxis": "y"
          },
          {
           "customdata": [
            [
             "Nordeste",
             "2016"
            ]
           ],
           "hovertemplate": "Região=%{customdata[0]}<br>Ano=%{customdata[1]}<br>PIB per capita (R$)=%{x}<br>Valor da Produção Agrícola (R$)=%{y}<br>Nº de Municípios=%{marker.size}<extra></extra>",
           "legendgroup": "Nordeste",
           "marker": {
            "color": "rgb(252,141,98)",
            "size": {
             "bdata": "vwY=",
             "dtype": "i2"
            },
            "sizemode": "area",
            "sizeref": 4.3175,
            "symbol": "circle"
           },
           "mode": "markers",
           "name": "Nordeste",
           "orientation": "v",
           "showlegend": true,
           "type": "scatter",
           "x": {
            "bdata": "VQKCqdQKxEA=",
            "dtype": "f8"
           },
           "xaxis": "x",
           "y": {
            "bdata": "AAAAMBYxiUE=",
            "dtype": "f8"
           },
           "yaxis": "y"
          },
          {
           "customdata": [
            [
             "Norte",
             "2016"
            ]
           ],
           "hovertemplate": "Região=%{customdata[0]}<br>Ano=%{customdata[1]}<br>PIB per capita (R$)=%{x}<br>Valor da Produção Agrícola (R$)=%{y}<br>Nº de Municípios=%{marker.size}<extra></extra>",
           "legendgroup": "Norte",
           "marker": {
            "color": "rgb(141,160,203)",
            "size": {
             "bdata": "vwE=",
             "dtype": "i2"
            },
            "sizemode": "area",
            "sizeref": 4.3175,
            "symbol": "circle"
           },
           "mode": "markers",
           "name": "Norte",
           "orientation": "v",
           "showlegend": true,
           "type": "scatter",
           "x": {
            "bdata": "wPQaHrudzEA=",
            "dtype": "f8"
           },
           "xaxis": "x",
           "y": {
            "bdata": "AAAAAHKBgUE=",
            "dtype": "f8"
           },
           "yaxis": "y"
          },
          {
           "customdata": [
            [
             "Sudeste",
             "2016"
            ]
           ],
           "hovertemplate": "Região=%{customdata[0]}<br>Ano=%{customdata[1]}<br>PIB per capita (R$)=%{x}<br>Valor da Produção Agrícola (R$)=%{y}<br>Nº de Municípios=%{marker.size}<extra></extra>",
           "legendgroup": "Sudeste",
           "marker": {
            "color": "rgb(231,138,195)",
            "size": {
             "bdata": "ewY=",
             "dtype": "i2"
            },
            "sizemode": "area",
            "sizeref": 4.3175,
            "symbol": "circle"
           },
           "mode": "markers",
           "name": "Sudeste",
           "orientation": "v",
           "showlegend": true,
           "type": "scatter",
           "x": {
            "bdata": "D383wNtO10A=",
            "dtype": "f8"
           },
           "xaxis": "x",
           "y": {
            "bdata": "AAAA2ArMpUE=",
            "dtype": "f8"
           },
           "yaxis": "y"
          },
          {
           "customdata": [
            [
             "Sul",
             "2016"
            ]
           ],
           "hovertemplate": "Região=%{customdata[0]}<br>Ano=%{customdata[1]}<br>PIB per capita (R$)=%{x}<br>Valor da Produção Agrícola (R$)=%{y}<br>Nº de Municípios=%{marker.size}<extra></extra>",
           "legendgroup": "Sul",
           "marker": {
            "color": "rgb(166,216,84)",
            "size": {
             "bdata": "lgQ=",
             "dtype": "i2"
            },
            "sizemode": "area",
            "sizeref": 4.3175,
            "symbol": "circle"
           },
           "mode": "markers",
           "name": "Sul",
           "orientation": "v",
           "showlegend": true,
           "type": "scatter",
           "x": {
            "bdata": "rHUGGfLI3kA=",
            "dtype": "f8"
           },
           "xaxis": "x",
           "y": {
            "bdata": "AAAAYHRspEE=",
            "dtype": "f8"
           },
           "yaxis": "y"
          }
         ],
         "name": "2016"
        },
        {
         "data": [
          {
           "customdata": [
            [
             "Centro-Oeste",
             "2017"
            ]
           ],
           "hovertemplate": "Região=%{customdata[0]}<br>Ano=%{customdata[1]}<br>PIB per capita (R$)=%{x}<br>Valor da Produção Agrícola (R$)=%{y}<br>Nº de Municípios=%{marker.size}<extra></extra>",
           "legendgroup": "Centro-Oeste",
           "marker": {
            "color": "rgb(102,194,165)",
            "size": {
             "bdata": "0QE=",
             "dtype": "i2"
            },
            "sizemode": "area",
            "sizeref": 4.3175,
            "symbol": "circle"
           },
           "mode": "markers",
           "name": "Centro-Oeste",
           "orientation": "v",
           "showlegend": true,
           "type": "scatter",
           "x": {
            "bdata": "nbuP5b3y3kA=",
            "dtype": "f8"
           },
           "xaxis": "x",
           "y": {
            "bdata": "AAAA2IOKkkE=",
            "dtype": "f8"
           },
           "yaxis": "y"
          },
          {
           "customdata": [
            [
             "Nordeste",
             "2017"
            ]
           ],
           "hovertemplate": "Região=%{customdata[0]}<br>Ano=%{customdata[1]}<br>PIB per capita (R$)=%{x}<br>Valor da Produção Agrícola (R$)=%{y}<br>Nº de Municípios=%{marker.size}<extra></extra>",
           "legendgroup": "Nordeste",
           "marker": {
            "color": "rgb(252,141,98)",
            "size": {
             "bdata": "vwY=",
             "dtype": "i2"
            },
            "sizemode": "area",
            "sizeref": 4.3175,
            "symbol": "circle"
           },
           "mode": "markers",
           "name": "Nordeste",
           "orientation": "v",
           "showlegend": true,
           "type": "scatter",
           "x": {
            "bdata": "nLJ1CCPjxUA=",
            "dtype": "f8"
           },
           "xaxis": "x",
           "y": {
            "bdata": "AAAAoM0iiUE=",
            "dtype": "f8"
           },
           "yaxis": "y"
          },
          {
           "customdata": [
            [
             "Norte",
             "2017"
            ]
           ],
           "hovertemplate": "Região=%{customdata[0]}<br>Ano=%{customdata[1]}<br>PIB per capita (R$)=%{x}<br>Valor da Produção Agrícola (R$)=%{y}<br>Nº de Municípios=%{marker.size}<extra></extra>",
           "legendgroup": "Norte",
           "marker": {
            "color": "rgb(141,160,203)",
            "size": {
             "bdata": "vwE=",
             "dtype": "i2"
            },
            "sizemode": "area",
            "sizeref": 4.3175,
            "symbol": "circle"
           },
           "mode": "markers",
           "name": "Norte",
           "orientation": "v",
           "showlegend": true,
           "type": "scatter",
           "x": {
            "bdata": "8WarL9fEz0A=",
            "dtype": "f8"
           },
           "xaxis": "x",
           "y": {
            "bdata": "AAAAQMYKgkE=",
            "dtype": "f8"
           },
           "yaxis": "y"
          },
          {
           "customdata": [
            [
             "Sudeste",
             "2017"
            ]
           ],
           "hovertemplate": "Região=%{customdata[0]}<br>Ano=%{customdata[1]}<br>PIB per capita (R$)=%{x}<br>Valor da Produção Agrícola (R$)=%{y}<br>Nº de Municípios=%{marker.size}<extra></extra>",
           "legendgroup": "Sudeste",
           "marker": {
            "color": "rgb(231,138,195)",
            "size": {
             "bdata": "ewY=",
             "dtype": "i2"
            },
            "sizemode": "area",
            "sizeref": 4.3175,
            "symbol": "circle"
           },
           "mode": "markers",
           "name": "Sudeste",
           "orientation": "v",
           "showlegend": true,
           "type": "scatter",
           "x": {
            "bdata": "JFOymoqk2EA=",
            "dtype": "f8"
           },
           "xaxis": "x",
           "y": {
            "bdata": "AAAA6Fdso0E=",
            "dtype": "f8"
           },
           "yaxis": "y"
          },
          {
           "customdata": [
            [
             "Sul",
             "2017"
            ]
           ],
           "hovertemplate": "Região=%{customdata[0]}<br>Ano=%{customdata[1]}<br>PIB per capita (R$)=%{x}<br>Valor da Produção Agrícola (R$)=%{y}<br>Nº de Municípios=%{marker.size}<extra></extra>",
           "legendgroup": "Sul",
           "marker": {
            "color": "rgb(166,216,84)",
            "size": {
             "bdata": "lgQ=",
             "dtype": "i2"
            },
            "sizemode": "area",
            "sizeref": 4.3175,
            "symbol": "circle"
           },
           "mode": "markers",
           "name": "Sul",
           "orientation": "v",
           "showlegend": true,
           "type": "scatter",
           "x": {
            "bdata": "7Rs4dOCE30A=",
            "dtype": "f8"
           },
           "xaxis": "x",
           "y": {
            "bdata": "AAAA8J5no0E=",
            "dtype": "f8"
           },
           "yaxis": "y"
          }
         ],
         "name": "2017"
        },
        {
         "data": [
          {
           "customdata": [
            [
             "Centro-Oeste",
             "2018"
            ]
           ],
           "hovertemplate": "Região=%{customdata[0]}<br>Ano=%{customdata[1]}<br>PIB per capita (R$)=%{x}<br>Valor da Produção Agrícola (R$)=%{y}<br>Nº de Municípios=%{marker.size}<extra></extra>",
           "legendgroup": "Centro-Oeste",
           "marker": {
            "color": "rgb(102,194,165)",
            "size": {
             "bdata": "0QE=",
             "dtype": "i2"
            },
            "sizemode": "area",
            "sizeref": 4.3175,
            "symbol": "circle"
           },
           "mode": "markers",
           "name": "Centro-Oeste",
           "orientation": "v",
           "showlegend": true,
           "type": "scatter",
           "x": {
            "bdata": "qrccC6tr4EA=",
            "dtype": "f8"
           },
           "xaxis": "x",
           "y": {
            "bdata": "AAAAQEoGk0E=",
            "dtype": "f8"
           },
           "yaxis": "y"
          },
          {
           "customdata": [
            [
             "Nordeste",
             "2018"
            ]
           ],
           "hovertemplate": "Região=%{customdata[0]}<br>Ano=%{customdata[1]}<br>PIB per capita (R$)=%{x}<br>Valor da Produção Agrícola (R$)=%{y}<br>Nº de Municípios=%{marker.size}<extra></extra>",
           "legendgroup": "Nordeste",
           "marker": {
            "color": "rgb(252,141,98)",
            "size": {
             "bdata": "vwY=",
             "dtype": "i2"
            },
            "sizemode": "area",
            "sizeref": 4.3175,
            "symbol": "circle"
           },
           "mode": "markers",
           "name": "Nordeste",
           "orientation": "v",
           "showlegend": true,
           "type": "scatter",
           "x": {
            "bdata": "18Rn3+iKx0A=",
            "dtype": "f8"
           },
           "xaxis": "x",
           "y": {
            "bdata": "AAAA+MtSiEE=",
            "dtype": "f8"
           },
           "yaxis": "y"
          },
          {
           "customdata": [
            [
             "Norte",
             "2018"
            ]
           ],
           "hovertemplate": "Região=%{customdata[0]}<br>Ano=%{customdata[1]}<br>PIB per capita (R$)=%{x}<br>Valor da Produção Agrícola (R$)=%{y}<br>Nº de Municípios=%{marker.size}<extra></extra>",
           "legendgroup": "Norte",
           "marker": {
            "color": "rgb(141,160,203)",
            "size": {
             "bdata": "vwE=",
             "dtype": "i2"
            },
            "sizemode": "area",
            "sizeref": 4.3175,
            "symbol": "circle"
           },
           "mode": "markers",
           "name": "Norte",
           "orientation": "v",
           "showlegend": true,
           "type": "scatter",
           "x": {
            "bdata": "Ksf35Nvm0EA=",
            "dtype": "f8"
           },
           "xaxis": "x",
           "y": {
            "bdata": "AAAAQA7/gUE=",
            "dtype": "f8"
           },
           "yaxis": "y"
          },
          {
           "customdata": [
            [
             "Sudeste",
             "2018"
            ]
           ],
           "hovertemplate": "Região=%{customdata[0]}<br>Ano=%{customdata[1]}<br>PIB per capita (R$)=%{x}<br>Valor da Produção Agrícola (R$)=%{y}<br>Nº de Municípios=%{marker.size}<extra></extra>",
           "legendgroup": "Sudeste",
           "marker": {
            "color": "rgb(231,138,195)",
            "size": {
             "bdata": "ewY=",
             "dtype": "i2"
            },
            "sizemode": "area",
            "sizeref": 4.3175,
            "symbol": "circle"
           },
           "mode": "markers",
           "name": "Sudeste",
           "orientation": "v",
           "showlegend": true,
           "type": "scatter",
           "x": {
            "bdata": "RW82RJzI2UA=",
            "dtype": "f8"
           },
           "xaxis": "x",
           "y": {
            "bdata": "AAAAkFN2pUE=",
            "dtype": "f8"
           },
           "yaxis": "y"
          },
          {
           "customdata": [
            [
             "Sul",
             "2018"
            ]
           ],
           "hovertemplate": "Região=%{customdata[0]}<br>Ano=%{customdata[1]}<br>PIB per capita (R$)=%{x}<br>Valor da Produção Agrícola (R$)=%{y}<br>Nº de Municípios=%{marker.size}<extra></extra>",
           "legendgroup": "Sul",
           "marker": {
            "color": "rgb(166,216,84)",
            "size": {
             "bdata": "lgQ=",
             "dtype": "i2"
            },
            "sizemode": "area",
            "sizeref": 4.3175,
            "symbol": "circle"
           },
           "mode": "markers",
           "name": "Sul",
           "orientation": "v",
           "showlegend": true,
           "type": "scatter",
           "x": {
            "bdata": "gxwxHB8P4UA=",
            "dtype": "f8"
           },
           "xaxis": "x",
           "y": {
            "bdata": "AAAAMBuLpUE=",
            "dtype": "f8"
           },
           "yaxis": "y"
          }
         ],
         "name": "2018"
        },
        {
         "data": [
          {
           "customdata": [
            [
             "Centro-Oeste",
             "2019"
            ]
           ],
           "hovertemplate": "Região=%{customdata[0]}<br>Ano=%{customdata[1]}<br>PIB per capita (R$)=%{x}<br>Valor da Produção Agrícola (R$)=%{y}<br>Nº de Municípios=%{marker.size}<extra></extra>",
           "legendgroup": "Centro-Oeste",
           "marker": {
            "color": "rgb(102,194,165)",
            "size": {
             "bdata": "0QE=",
             "dtype": "i2"
            },
            "sizemode": "area",
            "sizeref": 4.3175,
            "symbol": "circle"
           },
           "mode": "markers",
           "name": "Centro-Oeste",
           "orientation": "v",
           "showlegend": true,
           "type": "scatter",
           "x": {
            "bdata": "fRnZoyXy4EA=",
            "dtype": "f8"
           },
           "xaxis": "x",
           "y": {
            "bdata": "AAAA9OE7lUE=",
            "dtype": "f8"
           },
           "yaxis": "y"
          },
          {
           "customdata": [
            [
             "Nordeste",
             "2019"
            ]
           ],
           "hovertemplate": "Região=%{customdata[0]}<br>Ano=%{customdata[1]}<br>PIB per capita (R$)=%{x}<br>Valor da Produção Agrícola (R$)=%{y}<br>Nº de Municípios=%{marker.size}<extra></extra>",
           "legendgroup": "Nordeste",
           "marker": {
            "color": "rgb(252,141,98)",
            "size": {
             "bdata": "vwY=",
             "dtype": "i2"
            },
            "sizemode": "area",
            "sizeref": 4.3175,
            "symbol": "circle"
           },
           "mode": "markers",
           "name": "Nordeste",
           "orientation": "v",
           "showlegend": true,
           "type": "scatter",
           "x": {
            "bdata": "YgJ5VLy5yEA=",
            "dtype": "f8"
           },
           "xaxis": "x",
           "y": {
            "bdata": "AAAAYJvqi0E=",
            "dtype": "f8"
           },
           "yaxis": "y"
          },
          {
           "customdata": [
            [
             "Norte",
             "2019"
            ]
           ],
           "hovertemplate": "Região=%{customdata[0]}<br>Ano=%{customdata[1]}<br>PIB per capita (R$)=%{x}<br>Valor da Produção Agrícola (R$)=%{y}<br>Nº de Municípios=%{marker.size}<extra></extra>",
           "legendgroup": "Norte",
           "marker": {
            "color": "rgb(141,160,203)",
            "size": {
             "bdata": "vwE=",
             "dtype": "i2"
            },
            "sizemode": "area",
            "sizeref": 4.3175,
            "symbol": "circle"
           },
           "mode": "markers",
           "name": "Norte",
           "orientation": "v",
           "showlegend": true,
           "type": "scatter",
           "x": {
            "bdata": "kZ0mw04B0kA=",
            "dtype": "f8"
           },
           "xaxis": "x",
           "y": {
            "bdata": "AAAAADH0gUE=",
            "dtype": "f8"
           },
           "yaxis": "y"
          },
          {
           "customdata": [
            [
             "Sudeste",
             "2019"
            ]
           ],
           "hovertemplate": "Região=%{customdata[0]}<br>Ano=%{customdata[1]}<br>PIB per capita (R$)=%{x}<br>Valor da Produção Agrícola (R$)=%{y}<br>Nº de Municípios=%{marker.size}<extra></extra>",
           "legendgroup": "Sudeste",
           "marker": {
            "color": "rgb(231,138,195)",
            "size": {
             "bdata": "ewY=",
             "dtype": "i2"
            },
            "sizemode": "area",
            "sizeref": 4.3175,
            "symbol": "circle"
           },
           "mode": "markers",
           "name": "Sudeste",
           "orientation": "v",
           "showlegend": true,
           "type": "scatter",
           "x": {
            "bdata": "78b/HCQ/20A=",
            "dtype": "f8"
           },
           "xaxis": "x",
           "y": {
            "bdata": "AAAAgPLmpEE=",
            "dtype": "f8"
           },
           "yaxis": "y"
          },
          {
           "customdata": [
            [
             "Sul",
             "2019"
            ]
           ],
           "hovertemplate": "Região=%{customdata[0]}<br>Ano=%{customdata[1]}<br>PIB per capita (R$)=%{x}<br>Valor da Produção Agrícola (R$)=%{y}<br>Nº de Municípios=%{marker.size}<extra></extra>",
           "legendgroup": "Sul",
           "marker": {
            "color": "rgb(166,216,84)",
            "size": {
             "bdata": "lgQ=",
             "dtype": "i2"
            },
            "sizemode": "area",
            "sizeref": 4.3175,
            "symbol": "circle"
           },
           "mode": "markers",
           "name": "Sul",
           "orientation": "v",
           "showlegend": true,
           "type": "scatter",
           "x": {
            "bdata": "zALo+z/K4UA=",
            "dtype": "f8"
           },
           "xaxis": "x",
           "y": {
            "bdata": "AAAAgN2gpUE=",
            "dtype": "f8"
           },
           "yaxis": "y"
          }
         ],
         "name": "2019"
        },
        {
         "data": [
          {
           "customdata": [
            [
             "Centro-Oeste",
             "2020"
            ]
           ],
           "hovertemplate": "Região=%{customdata[0]}<br>Ano=%{customdata[1]}<br>PIB per capita (R$)=%{x}<br>Valor da Produção Agrícola (R$)=%{y}<br>Nº de Municípios=%{marker.size}<extra></extra>",
           "legendgroup": "Centro-Oeste",
           "marker": {
            "color": "rgb(102,194,165)",
            "size": {
             "bdata": "0QE=",
             "dtype": "i2"
            },
            "sizemode": "area",
            "sizeref": 4.3175,
            "symbol": "circle"
           },
           "mode": "markers",
           "name": "Centro-Oeste",
           "orientation": "v",
           "showlegend": true,
           "type": "scatter",
           "x": {
            "bdata": "5cD58AQf5UA=",
            "dtype": "f8"
           },
           "xaxis": "x",
           "y": {
            "bdata": "AAAAlEZ/l0E=",
            "dtype": "f8"
           },
           "yaxis": "y"
          },
          {
           "customdata": [
            [
             "Nordeste",
             "2020"
            ]
           ],
           "hovertemplate": "Região=%{customdata[0]}<br>Ano=%{customdata[1]}<br>PIB per capita (R$)=%{x}<br>Valor da Produção Agrícola (R$)=%{y}<br>Nº de Municípios=%{marker.size}<extra></extra>",
           "legendgroup": "Nordeste",
           "marker": {
            "color": "rgb(252,141,98)",
            "size": {
             "bdata": "vwY=",
             "dtype": "i2"
            },
            "sizemode": "area",
            "sizeref": 4.3175,
            "symbol": "circle"
           },
           "mode": "markers",
           "name": "Nordeste",
           "orientation": "v",
           "showlegend": true,
           "type": "scatter",
           "x": {
            "bdata": "9LhUgfPczUA=",
            "dtype": "f8"
           },
           "xaxis": "x",
           "y": {
            "bdata": "AAAA4EuTj0E=",
            "dtype": "f8"
           },
           "yaxis": "y"
          },
          {
           "customdata": [
            [
             "Norte",
             "2020"
            ]
           ],
           "hovertemplate": "Região=%{customdata[0]}<br>Ano=%{customdata[1]}<br>PIB per capita (R$)=%{x}<br>Valor da Produção Agrícola (R$)=%{y}<br>Nº de Municípios=%{marker.size}<extra></extra>",
           "legendgroup": "Norte",
           "marker": {
            "color": "rgb(141,160,203)",
            "size": {
             "bdata": "vwE=",
             "dtype": "i2"
            },
            "sizemode": "area",
            "sizeref": 4.3175,
            "symbol": "circle"
           },
           "mode": "markers",
           "name": "Norte",
           "orientation": "v",
           "showlegend": true,
           "type": "scatter",
           "x": {
            "bdata": "Y3wZAh4h10A=",
            "dtype": "f8"
           },
           "xaxis": "x",
           "y": {
            "bdata": "AAAAwKIxiEE=",
            "dtype": "f8"
           },
           "yaxis": "y"
          },
          {
           "customdata": [
            [
             "Sudeste",
             "2020"
            ]
           ],
           "hovertemplate": "Região=%{customdata[0]}<br>Ano=%{customdata[1]}<br>PIB per capita (R$)=%{x}<br>Valor da Produção Agrícola (R$)=%{y}<br>Nº de Municípios=%{marker.size}<extra></extra>",
           "legendgroup": "Sudeste",
           "marker": {
            "color": "rgb(231,138,195)",
            "size": {
             "bdata": "ewY=",
             "dtype": "i2"
            },
            "sizemode": "area",
            "sizeref": 4.3175,
            "symbol": "circle"
           },
           "mode": "markers",
           "name": "Sudeste",
           "orientation": "v",
           "showlegend": true,
           "type": "scatter",
           "x": {
            "bdata": "DAkh+tZS3kA=",
            "dtype": "f8"
           },
           "xaxis": "x",
           "y": {
            "bdata": "AAAAOsNzqUE=",
            "dtype": "f8"
           },
           "yaxis": "y"
          },
          {
           "customdata": [
            [
             "Sul",
             "2020"
            ]
           ],
           "hovertemplate": "Região=%{customdata[0]}<br>Ano=%{customdata[1]}<br>PIB per capita (R$)=%{x}<br>Valor da Produção Agrícola (R$)=%{y}<br>Nº de Municípios=%{marker.size}<extra></extra>",
           "legendgroup": "Sul",
           "marker": {
            "color": "rgb(166,216,84)",
            "size": {
             "bdata": "lgQ=",
             "dtype": "i2"
            },
            "sizemode": "area",
            "sizeref": 4.3175,
            "symbol": "circle"
           },
           "mode": "markers",
           "name": "Sul",
           "orientation": "v",
           "showlegend": true,
           "type": "scatter",
           "x": {
            "bdata": "hB0NCQ/r40A=",
            "dtype": "f8"
           },
           "xaxis": "x",
           "y": {
            "bdata": "AAAAmIhZqEE=",
            "dtype": "f8"
           },
           "yaxis": "y"
          }
         ],
         "name": "2020"
        },
        {
         "data": [
          {
           "customdata": [
            [
             "Centro-Oeste",
             "2021"
            ]
           ],
           "hovertemplate": "Região=%{customdata[0]}<br>Ano=%{customdata[1]}<br>PIB per capita (R$)=%{x}<br>Valor da Produção Agrícola (R$)=%{y}<br>Nº de Municípios=%{marker.size}<extra></extra>",
           "legendgroup": "Centro-Oeste",
           "marker": {
            "color": "rgb(102,194,165)",
            "size": {
             "bdata": "0QE=",
             "dtype": "i2"
            },
            "sizemode": "area",
            "sizeref": 4.3175,
            "symbol": "circle"
           },
           "mode": "markers",
           "name": "Centro-Oeste",
           "orientation": "v",
           "showlegend": true,
           "type": "scatter",
           "x": {
            "bdata": "SbQVnn4k60A=",
            "dtype": "f8"
           },
           "xaxis": "x",
           "y": {
            "bdata": "AAAAoCVClkE=",
            "dtype": "f8"
           },
           "yaxis": "y"
          },
          {
           "customdata": [
            [
             "Nordeste",
             "2021"
            ]
           ],
           "hovertemplate": "Região=%{customdata[0]}<br>Ano=%{customdata[1]}<br>PIB per capita (R$)=%{x}<br>Valor da Produção Agrícola (R$)=%{y}<br>Nº de Municípios=%{marker.size}<extra></extra>",
           "legendgroup": "Nordeste",
           "marker": {
            "color": "rgb(252,141,98)",
            "size": {
             "bdata": "vwY=",
             "dtype": "i2"
            },
            "sizemode": "area",
            "sizeref": 4.3175,
            "symbol": "circle"
           },
           "mode": "markers",
           "name": "Nordeste",
           "orientation": "v",
           "showlegend": true,
           "type": "scatter",
           "x": {
            "bdata": "BkYsADN500A=",
            "dtype": "f8"
           },
           "xaxis": "x",
           "y": {
            "bdata": "AAAAXCh1kkE=",
            "dtype": "f8"
           },
           "yaxis": "y"
          },
          {
           "customdata": [
            [
             "Norte",
             "2021"
            ]
           ],
           "hovertemplate": "Região=%{customdata[0]}<br>Ano=%{customdata[1]}<br>PIB per capita (R$)=%{x}<br>Valor da Produção Agrícola (R$)=%{y}<br>Nº de Municípios=%{marker.size}<extra></extra>",
           "legendgroup": "Norte",
           "marker": {
            "color": "rgb(141,160,203)",
            "size": {
             "bdata": "vwE=",
             "dtype": "i2"
            },
            "sizemode": "area",
            "sizeref": 4.3175,
            "symbol": "circle"
           },
           "mode": "markers",
           "name": "Norte",
           "orientation": "v",
           "showlegend": true,
           "type": "scatter",
           "x": {
            "bdata": "IGKBkd/o3UA=",
            "dtype": "f8"
           },
           "xaxis": "x",
           "y": {
            "bdata": "AAAA8MrEj0E=",
            "dtype": "f8"
           },
           "yaxis": "y"
          },
          {
           "customdata": [
            [
             "Sudeste",
             "2021"
            ]
           ],
           "hovertemplate": "Região=%{customdata[0]}<br>Ano=%{customdata[1]}<br>PIB per capita (R$)=%{x}<br>Valor da Produção Agrícola (R$)=%{y}<br>Nº de Municípios=%{marker.size}<extra></extra>",
           "legendgroup": "Sudeste",
           "marker": {
            "color": "rgb(231,138,195)",
            "size": {
             "bdata": "ewY=",
             "dtype": "i2"
            },
            "sizemode": "area",
            "sizeref": 4.3175,
            "symbol": "circle"
           },
           "mode": "markers",
           "name": "Sudeste",
           "orientation": "v",
           "showlegend": true,
           "type": "scatter",
           "x": {
            "bdata": "YUFJOKgC40A=",
            "dtype": "f8"
           },
           "xaxis": "x",
           "y": {
            "bdata": "AAAAxG4QsEE=",
            "dtype": "f8"
           },
           "yaxis": "y"
          },
          {
           "customdata": [
            [
             "Sul",
             "2021"
            ]
           ],
           "hovertemplate": "Região=%{customdata[0]}<br>Ano=%{customdata[1]}<br>PIB per capita (R$)=%{x}<br>Valor da Produção Agrícola (R$)=%{y}<br>Nº de Municípios=%{marker.size}<extra></extra>",
           "legendgroup": "Sul",
           "marker": {
            "color": "rgb(166,216,84)",
            "size": {
             "bdata": "lgQ=",
             "dtype": "i2"
            },
            "sizemode": "area",
            "sizeref": 4.3175,
            "symbol": "circle"
           },
           "mode": "markers",
           "name": "Sul",
           "orientation": "v",
           "showlegend": true,
           "type": "scatter",
           "x": {
            "bdata": "HJawZxQY6kA=",
            "dtype": "f8"
           },
           "xaxis": "x",
           "y": {
            "bdata": "AAAA4HBjsEE=",
            "dtype": "f8"
           },
           "yaxis": "y"
          }
         ],
         "name": "2021"
        }
       ],
       "layout": {
        "font": {
         "family": "Arial",
         "size": 12
        },
        "height": 600,
        "hovermode": "closest",
        "legend": {
         "itemsizing": "constant",
         "title": {
          "text": "Região"
         },
         "tracegroupgap": 0
        },
        "margin": {
         "b": 40,
         "l": 40,
         "r": 40,
         "t": 80
        },
        "paper_bgcolor": "white",
        "plot_bgcolor": "white",
        "sliders": [
         {
          "active": 0,
          "currentvalue": {
           "prefix": "Ano="
          },
          "len": 0.9,
          "pad": {
           "b": 10,
           "t": 60
          },
          "steps": [
           {
            "args": [
             [
              "2016"
             ],
             {
              "frame": {
               "duration": 0,
               "redraw": false
              },
              "fromcurrent": true,
              "mode": "immediate",
              "transition": {
               "duration": 0,
               "easing": "linear"
              }
             }
            ],
            "label": "2016",
            "method": "animate"
           },
           {
            "args": [
             [
              "2017"
             ],
             {
              "frame": {
               "duration": 0,
               "redraw": false
              },
              "fromcurrent": true,
              "mode": "immediate",
              "transition": {
               "duration": 0,
               "easing": "linear"
              }
             }
            ],
            "label": "2017",
            "method": "animate"
           },
           {
            "args": [
             [
              "2018"
             ],
             {
              "frame": {
               "duration": 0,
               "redraw": false
              },
              "fromcurrent": true,
              "mode": "immediate",
              "transition": {
               "duration": 0,
               "easing": "linear"
              }
             }
            ],
            "label": "2018",
            "method": "animate"
           },
           {
            "args": [
             [
              "2019"
             ],
             {
              "frame": {
               "duration": 0,
               "redraw": false
              },
              "fromcurrent": true,
              "mode": "immediate",
              "transition": {
               "duration": 0,
               "easing": "linear"
              }
             }
            ],
            "label": "2019",
            "method": "animate"
           },
           {
            "args": [
             [
              "2020"
             ],
             {
              "frame": {
               "duration": 0,
               "redraw": false
              },
              "fromcurrent": true,
              "mode": "immediate",
              "transition": {
               "duration": 0,
               "easing": "linear"
              }
             }
            ],
            "label": "2020",
            "method": "animate"
           },
           {
            "args": [
             [
              "2021"
             ],
             {
              "frame": {
               "duration": 0,
               "redraw": false
              },
              "fromcurrent": true,
              "mode": "immediate",
              "transition": {
               "duration": 0,
               "easing": "linear"
              }
             }
            ],
            "label": "2021",
            "method": "animate"
           }
          ],
          "x": 0.1,
          "xanchor": "left",
          "y": 0,
          "yanchor": "top"
         }
        ],
        "template": {
         "data": {
          "bar": [
           {
            "error_x": {
             "color": "#2a3f5f"
            },
            "error_y": {
             "color": "#2a3f5f"
            },
            "marker": {
             "line": {
              "color": "#E5ECF6",
              "width": 0.5
             },
             "pattern": {
              "fillmode": "overlay",
              "size": 10,
              "solidity": 0.2
             }
            },
            "type": "bar"
           }
          ],
          "barpolar": [
           {
            "marker": {
             "line": {
              "color": "#E5ECF6",
              "width": 0.5
             },
             "pattern": {
              "fillmode": "overlay",
              "size": 10,
              "solidity": 0.2
             }
            },
            "type": "barpolar"
           }
          ],
          "carpet": [
           {
            "aaxis": {
             "endlinecolor": "#2a3f5f",
             "gridcolor": "white",
             "linecolor": "white",
             "minorgridcolor": "white",
             "startlinecolor": "#2a3f5f"
            },
            "baxis": {
             "endlinecolor": "#2a3f5f",
             "gridcolor": "white",
             "linecolor": "white",
             "minorgridcolor": "white",
             "startlinecolor": "#2a3f5f"
            },
            "type": "carpet"
           }
          ],
          "choropleth": [
           {
            "colorbar": {
             "outlinewidth": 0,
             "ticks": ""
            },
            "type": "choropleth"
           }
          ],
          "contour": [
           {
            "colorbar": {
             "outlinewidth": 0,
             "ticks": ""
            },
            "colorscale": [
             [
              0,
              "#0d0887"
             ],
             [
              0.1111111111111111,
              "#46039f"
             ],
             [
              0.2222222222222222,
              "#7201a8"
             ],
             [
              0.3333333333333333,
              "#9c179e"
             ],
             [
              0.4444444444444444,
              "#bd3786"
             ],
             [
              0.5555555555555556,
              "#d8576b"
             ],
             [
              0.6666666666666666,
              "#ed7953"
             ],
             [
              0.7777777777777778,
              "#fb9f3a"
             ],
             [
              0.8888888888888888,
              "#fdca26"
             ],
             [
              1,
              "#f0f921"
             ]
            ],
            "type": "contour"
           }
          ],
          "contourcarpet": [
           {
            "colorbar": {
             "outlinewidth": 0,
             "ticks": ""
            },
            "type": "contourcarpet"
           }
          ],
          "heatmap": [
           {
            "colorbar": {
             "outlinewidth": 0,
             "ticks": ""
            },
            "colorscale": [
             [
              0,
              "#0d0887"
             ],
             [
              0.1111111111111111,
              "#46039f"
             ],
             [
              0.2222222222222222,
              "#7201a8"
             ],
             [
              0.3333333333333333,
              "#9c179e"
             ],
             [
              0.4444444444444444,
              "#bd3786"
             ],
             [
              0.5555555555555556,
              "#d8576b"
             ],
             [
              0.6666666666666666,
              "#ed7953"
             ],
             [
              0.7777777777777778,
              "#fb9f3a"
             ],
             [
              0.8888888888888888,
              "#fdca26"
             ],
             [
              1,
              "#f0f921"
             ]
            ],
            "type": "heatmap"
           }
          ],
          "histogram": [
           {
            "marker": {
             "pattern": {
              "fillmode": "overlay",
              "size": 10,
              "solidity": 0.2
             }
            },
            "type": "histogram"
           }
          ],
          "histogram2d": [
           {
            "colorbar": {
             "outlinewidth": 0,
             "ticks": ""
            },
            "colorscale": [
             [
              0,
              "#0d0887"
             ],
             [
              0.1111111111111111,
              "#46039f"
             ],
             [
              0.2222222222222222,
              "#7201a8"
             ],
             [
              0.3333333333333333,
              "#9c179e"
             ],
             [
              0.4444444444444444,
              "#bd3786"
             ],
             [
              0.5555555555555556,
              "#d8576b"
             ],
             [
              0.6666666666666666,
              "#ed7953"
             ],
             [
              0.7777777777777778,
              "#fb9f3a"
             ],
             [
              0.8888888888888888,
              "#fdca26"
             ],
             [
              1,
              "#f0f921"
             ]
            ],
            "type": "histogram2d"
           }
          ],
          "histogram2dcontour": [
           {
            "colorbar": {
             "outlinewidth": 0,
             "ticks": ""
            },
            "colorscale": [
             [
              0,
              "#0d0887"
             ],
             [
              0.1111111111111111,
              "#46039f"
             ],
             [
              0.2222222222222222,
              "#7201a8"
             ],
             [
              0.3333333333333333,
              "#9c179e"
             ],
             [
              0.4444444444444444,
              "#bd3786"
             ],
             [
              0.5555555555555556,
              "#d8576b"
             ],
             [
              0.6666666666666666,
              "#ed7953"
             ],
             [
              0.7777777777777778,
              "#fb9f3a"
             ],
             [
              0.8888888888888888,
              "#fdca26"
             ],
             [
              1,
              "#f0f921"
             ]
            ],
            "type": "histogram2dcontour"
           }
          ],
          "mesh3d": [
           {
            "colorbar": {
             "outlinewidth": 0,
             "ticks": ""
            },
            "type": "mesh3d"
           }
          ],
          "parcoords": [
           {
            "line": {
             "colorbar": {
              "outlinewidth": 0,
              "ticks": ""
             }
            },
            "type": "parcoords"
           }
          ],
          "pie": [
           {
            "automargin": true,
            "type": "pie"
           }
          ],
          "scatter": [
           {
            "fillpattern": {
             "fillmode": "overlay",
             "size": 10,
             "solidity": 0.2
            },
            "type": "scatter"
           }
          ],
          "scatter3d": [
           {
            "line": {
             "colorbar": {
              "outlinewidth": 0,
              "ticks": ""
             }
            },
            "marker": {
             "colorbar": {
              "outlinewidth": 0,
              "ticks": ""
             }
            },
            "type": "scatter3d"
           }
          ],
          "scattercarpet": [
           {
            "marker": {
             "colorbar": {
              "outlinewidth": 0,
              "ticks": ""
             }
            },
            "type": "scattercarpet"
           }
          ],
          "scattergeo": [
           {
            "marker": {
             "colorbar": {
              "outlinewidth": 0,
              "ticks": ""
             }
            },
            "type": "scattergeo"
           }
          ],
          "scattergl": [
           {
            "marker": {
             "colorbar": {
              "outlinewidth": 0,
              "ticks": ""
             }
            },
            "type": "scattergl"
           }
          ],
          "scattermap": [
           {
            "marker": {
             "colorbar": {
              "outlinewidth": 0,
              "ticks": ""
             }
            },
            "type": "scattermap"
           }
          ],
          "scattermapbox": [
           {
            "marker": {
             "colorbar": {
              "outlinewidth": 0,
              "ticks": ""
             }
            },
            "type": "scattermapbox"
           }
          ],
          "scatterpolar": [
           {
            "marker": {
             "colorbar": {
              "outlinewidth": 0,
              "ticks": ""
             }
            },
            "type": "scatterpolar"
           }
          ],
          "scatterpolargl": [
           {
            "marker": {
             "colorbar": {
              "outlinewidth": 0,
              "ticks": ""
             }
            },
            "type": "scatterpolargl"
           }
          ],
          "scatterternary": [
           {
            "marker": {
             "colorbar": {
              "outlinewidth": 0,
              "ticks": ""
             }
            },
            "type": "scatterternary"
           }
          ],
          "surface": [
           {
            "colorbar": {
             "outlinewidth": 0,
             "ticks": ""
            },
            "colorscale": [
             [
              0,
              "#0d0887"
             ],
             [
              0.1111111111111111,
              "#46039f"
             ],
             [
              0.2222222222222222,
              "#7201a8"
             ],
             [
              0.3333333333333333,
              "#9c179e"
             ],
             [
              0.4444444444444444,
              "#bd3786"
             ],
             [
              0.5555555555555556,
              "#d8576b"
             ],
             [
              0.6666666666666666,
              "#ed7953"
             ],
             [
              0.7777777777777778,
              "#fb9f3a"
             ],
             [
              0.8888888888888888,
              "#fdca26"
             ],
             [
              1,
              "#f0f921"
             ]
            ],
            "type": "surface"
           }
          ],
          "table": [
           {
            "cells": {
             "fill": {
              "color": "#EBF0F8"
             },
             "line": {
              "color": "white"
             }
            },
            "header": {
             "fill": {
              "color": "#C8D4E3"
             },
             "line": {
              "color": "white"
             }
            },
            "type": "table"
           }
          ]
         },
         "layout": {
          "annotationdefaults": {
           "arrowcolor": "#2a3f5f",
           "arrowhead": 0,
           "arrowwidth": 1
          },
          "autotypenumbers": "strict",
          "coloraxis": {
           "colorbar": {
            "outlinewidth": 0,
            "ticks": ""
           }
          },
          "colorscale": {
           "diverging": [
            [
             0,
             "#8e0152"
            ],
            [
             0.1,
             "#c51b7d"
            ],
            [
             0.2,
             "#de77ae"
            ],
            [
             0.3,
             "#f1b6da"
            ],
            [
             0.4,
             "#fde0ef"
            ],
            [
             0.5,
             "#f7f7f7"
            ],
            [
             0.6,
             "#e6f5d0"
            ],
            [
             0.7,
             "#b8e186"
            ],
            [
             0.8,
             "#7fbc41"
            ],
            [
             0.9,
             "#4d9221"
            ],
            [
             1,
             "#276419"
            ]
           ],
           "sequential": [
            [
             0,
             "#0d0887"
            ],
            [
             0.1111111111111111,
             "#46039f"
            ],
            [
             0.2222222222222222,
             "#7201a8"
            ],
            [
             0.3333333333333333,
             "#9c179e"
            ],
            [
             0.4444444444444444,
             "#bd3786"
            ],
            [
             0.5555555555555556,
             "#d8576b"
            ],
            [
             0.6666666666666666,
             "#ed7953"
            ],
            [
             0.7777777777777778,
             "#fb9f3a"
            ],
            [
             0.8888888888888888,
             "#fdca26"
            ],
            [
             1,
             "#f0f921"
            ]
           ],
           "sequentialminus": [
            [
             0,
             "#0d0887"
            ],
            [
             0.1111111111111111,
             "#46039f"
            ],
            [
             0.2222222222222222,
             "#7201a8"
            ],
            [
             0.3333333333333333,
             "#9c179e"
            ],
            [
             0.4444444444444444,
             "#bd3786"
            ],
            [
             0.5555555555555556,
             "#d8576b"
            ],
            [
             0.6666666666666666,
             "#ed7953"
            ],
            [
             0.7777777777777778,
             "#fb9f3a"
            ],
            [
             0.8888888888888888,
             "#fdca26"
            ],
            [
             1,
             "#f0f921"
            ]
           ]
          },
          "colorway": [
           "#636efa",
           "#EF553B",
           "#00cc96",
           "#ab63fa",
           "#FFA15A",
           "#19d3f3",
           "#FF6692",
           "#B6E880",
           "#FF97FF",
           "#FECB52"
          ],
          "font": {
           "color": "#2a3f5f"
          },
          "geo": {
           "bgcolor": "white",
           "lakecolor": "white",
           "landcolor": "#E5ECF6",
           "showlakes": true,
           "showland": true,
           "subunitcolor": "white"
          },
          "hoverlabel": {
           "align": "left"
          },
          "hovermode": "closest",
          "mapbox": {
           "style": "light"
          },
          "paper_bgcolor": "white",
          "plot_bgcolor": "#E5ECF6",
          "polar": {
           "angularaxis": {
            "gridcolor": "white",
            "linecolor": "white",
            "ticks": ""
           },
           "bgcolor": "#E5ECF6",
           "radialaxis": {
            "gridcolor": "white",
            "linecolor": "white",
            "ticks": ""
           }
          },
          "scene": {
           "xaxis": {
            "backgroundcolor": "#E5ECF6",
            "gridcolor": "white",
            "gridwidth": 2,
            "linecolor": "white",
            "showbackground": true,
            "ticks": "",
            "zerolinecolor": "white"
           },
           "yaxis": {
            "backgroundcolor": "#E5ECF6",
            "gridcolor": "white",
            "gridwidth": 2,
            "linecolor": "white",
            "showbackground": true,
            "ticks": "",
            "zerolinecolor": "white"
           },
           "zaxis": {
            "backgroundcolor": "#E5ECF6",
            "gridcolor": "white",
            "gridwidth": 2,
            "linecolor": "white",
            "showbackground": true,
            "ticks": "",
            "zerolinecolor": "white"
           }
          },
          "shapedefaults": {
           "line": {
            "color": "#2a3f5f"
           }
          },
          "ternary": {
           "aaxis": {
            "gridcolor": "white",
            "linecolor": "white",
            "ticks": ""
           },
           "baxis": {
            "gridcolor": "white",
            "linecolor": "white",
            "ticks": ""
           },
           "bgcolor": "#E5ECF6",
           "caxis": {
            "gridcolor": "white",
            "linecolor": "white",
            "ticks": ""
           }
          },
          "title": {
           "x": 0.05
          },
          "xaxis": {
           "automargin": true,
           "gridcolor": "white",
           "linecolor": "white",
           "ticks": "",
           "title": {
            "standoff": 15
           },
           "zerolinecolor": "white",
           "zerolinewidth": 2
          },
          "yaxis": {
           "automargin": true,
           "gridcolor": "white",
           "linecolor": "white",
           "ticks": "",
           "title": {
            "standoff": 15
           },
           "zerolinecolor": "white",
           "zerolinewidth": 2
          }
         }
        },
        "title": {
         "font": {
          "size": 20
         },
         "text": "<b>Relação entre PIB per capita e Produção Agrícola por Região (2016-2021)</b>"
        },
        "updatemenus": [
         {
          "buttons": [
           {
            "args": [
             null,
             {
              "frame": {
               "duration": 1000,
               "redraw": false
              },
              "fromcurrent": true,
              "mode": "immediate",
              "transition": {
               "duration": 500,
               "easing": "linear"
              }
             }
            ],
            "label": "&#9654;",
            "method": "animate"
           },
           {
            "args": [
             [
              null
             ],
             {
              "frame": {
               "duration": 0,
               "redraw": false
              },
              "fromcurrent": true,
              "mode": "immediate",
              "transition": {
               "duration": 0,
               "easing": "linear"
              }
             }
            ],
            "label": "&#9724;",
            "method": "animate"
           }
          ],
          "direction": "left",
          "pad": {
           "r": 10,
           "t": 70
          },
          "showactive": false,
          "type": "buttons",
          "x": 0.1,
          "xanchor": "right",
          "y": 0,
          "yanchor": "top"
         }
        ],
        "xaxis": {
         "anchor": "y",
         "domain": [
          0,
          1
         ],
         "gridcolor": "lightgrey",
         "range": [
          0,
          61146.752477204645
         ],
         "title": {
          "text": "PIB per capita (R$)"
         }
        },
        "yaxis": {
         "anchor": "x",
         "domain": [
          0,
          1
         ],
         "gridcolor": "lightgrey",
         "range": [
          0,
          302447657.6
         ],
         "title": {
          "text": "Valor da Produção Agrícola (R$)"
         }
        }
       }
      }
     },
     "metadata": {},
     "output_type": "display_data"
    }
   ],
   "source": [
    "\n",
    "df_agricola = pd.read_csv('dataFrame/BrStatsAtualizada.csv', sep=';', low_memory=False)\n",
    "df_pib_regioes = pd.read_csv('pib_per_capita/pib_per_capita_regioes.csv')  # Dados já agregados por região\n",
    "\n",
    "# Converter colunas numéricas (tratando formato brasileiro)\n",
    "if 'VlProducaoAgricola' in df_agricola.columns:\n",
    "    df_agricola['VlProducaoAgricola'] = df_agricola['VlProducaoAgricola'].astype(str).str.replace('.', '').str.replace(',', '.').astype(float)\n",
    "\n",
    "# Agregar produção agrícola por região e ano (soma)\n",
    "df_agregado_regiao = df_agricola.groupby(['Ano', 'Regiao'])['VlProducaoAgricola'].sum().reset_index()\n",
    "\n",
    "# Contar número de municípios por região/ano (para o tamanho dos pontos)\n",
    "qtd_municipios = df_agricola.groupby(['Ano', 'Regiao'])['Municipio'].nunique().reset_index()\n",
    "qtd_municipios.rename(columns={'Municipio': 'QtdMunicipios'}, inplace=True)\n",
    "\n",
    "# Juntar todos os dados (usando a tabela de PIB por regiões)\n",
    "df_final = pd.merge(df_agregado_regiao, df_pib_regioes, on=['Ano', 'Regiao'])\n",
    "df_final = pd.merge(df_final, qtd_municipios, on=['Ano', 'Regiao'])\n",
    "\n",
    "# Converter Ano para string para a animação\n",
    "df_final['Ano'] = df_final['Ano'].astype(str)\n",
    "\n",
    "# Criar o gráfico\n",
    "fig = px.scatter(\n",
    "    df_final,\n",
    "    x='PIB_per_capita',  # Coluna da sua tabela de regiões\n",
    "    y='VlProducaoAgricola',\n",
    "    color='Regiao',\n",
    "    size='QtdMunicipios',\n",
    "    animation_frame='Ano',\n",
    "    range_x=[0, df_final['PIB_per_capita'].max() * 1.1],\n",
    "    range_y=[0, df_final['VlProducaoAgricola'].max() * 1.1],\n",
    "    title='<b>Relação entre PIB per capita e Produção Agrícola por Região (2016-2021)</b>',\n",
    "    labels={\n",
    "        'PIB_per_capita': 'PIB per capita (R$)',\n",
    "        'VlProducaoAgricola': 'Valor da Produção Agrícola (R$)',\n",
    "        'QtdMunicipios': 'Nº de Municípios',\n",
    "        'Regiao': 'Região'\n",
    "    },\n",
    "    hover_data=['Regiao', 'Ano'],\n",
    "    height=600,\n",
    "    color_discrete_sequence=px.colors.qualitative.Set2\n",
    ")\n",
    "\n",
    "fig.update_layout(\n",
    "    font=dict(family=\"Arial\", size=12),\n",
    "    plot_bgcolor='white',\n",
    "    paper_bgcolor='white',\n",
    "    title_font_size=20,\n",
    "    legend_title_text='Região',\n",
    "    margin=dict(l=40, r=40, t=80, b=40),\n",
    "    yaxis=dict(gridcolor='lightgrey'),\n",
    "    xaxis=dict(gridcolor='lightgrey'),\n",
    "    hovermode='closest'\n",
    ")\n",
    "\n",
    "fig.update_traces(\n",
    "    marker=dict(opacity=0.85, line=dict(width=1, color='DarkSlateGrey'))\n",
    ")\n",
    "\n",
    "# Configurações da animação\n",
    "fig.layout.updatemenus[0].buttons[0].args[1]['frame']['duration'] = 1000\n",
    "fig.layout.updatemenus[0].buttons[0].args[1]['transition']['duration'] = 500\n",
    "\n",
    "fig.show()"
   ]
  },
  {
   "cell_type": "markdown",
   "metadata": {},
   "source": [
    "<a id=\"pgt2\"></a>"
   ]
  },
  {
   "cell_type": "markdown",
   "metadata": {},
   "source": [
    "#### 🎯 Motivo da Utilização do Gráfico\n",
    "Este gráfico foi desenvolvido para analisar a relação entre o desempenho econômico (PIB per capita) e a produção agrícola nas diferentes regiões brasileiras no período de 2016 a 2021. A visualização conjunta desses dois indicadores permite identificar se regiões com maior valor de produção agrícola apresentam também maior PIB per capita, revelando possíveis padrões de desenvolvimento regional baseado no agronegócio. O recorte temporal de seis anos possibilita ainda observar tendências e variações nessa relação ao longo do tempo, destacando se o crescimento da produção agrícola está associado a melhorias no indicador econômico per capita."
   ]
  },
  {
   "cell_type": "markdown",
   "metadata": {},
   "source": [
    "#### 📌 Explicação do Conteúdo do Gráfico\n",
    "O gráfico analisa a relação entre PIB per capita e valor da produção agrícola nas cinco regiões brasileiras entre 2016 e 2021, plotando cada região em um eixo cartesiano onde os valores da produção agrícola (em milhões de reais) são representados no eixo vertical, enquanto o PIB per capita (em milhares de reais) aparece no eixo horizontal. A disposição dos dados permite identificar padrões regionais - como o Centro-Oeste tipicamente apresentando alta produção agrícola aliada a PIB per capita elevado, enquanto o Nordeste mostra o oposto - revelando como o desenvolvimento econômico regional se relaciona com o desempenho do agronegócio. A ausência de uma correlação linear perfeita entre os eixos indica que outros fatores, além do volume de produção agrícola, influenciam o PIB per capita das regiões."
   ]
  },
  {
   "cell_type": "markdown",
   "metadata": {},
   "source": [
    "#### ✅ O que podemos perceber?\n",
    "\n",
    "A relação entre produção agrícola e PIB per capita varia conforme a capacidade de agregar valor. Regiões com agroindústria desenvolvida (como o Sul) associam alta produção a PIB elevado, enquanto áreas focadas em commodities in natura (como o Centro-Oeste) podem ter grande volume produtivo sem equivalência em desenvolvimento econômico per capita. O diferencial está no processamento industrial, infraestrutura logística e diversificação econômica, não apenas na escala de produção.\n",
    "\n"
   ]
  },
  {
   "cell_type": "markdown",
   "metadata": {},
   "source": [
    "#### 📊 Análise da Área Plantada e Densidade Populacional.\n",
    "Investigar se existe relação entre regiões com grande extensão de área plantada e sua densidade demográfica, utilizando dados de 2016 a 2021."
   ]
  },
  {
   "cell_type": "code",
   "execution_count": 57,
   "metadata": {},
   "outputs": [
    {
     "data": {
      "application/vnd.plotly.v1+json": {
       "config": {
        "plotlyServerURL": "https://plot.ly"
       },
       "data": [
        {
         "marker": {
          "cmax": 2858753910,
          "cmin": 526170000,
          "color": {
           "bdata": "AADA7qNM5UEAAABu1DfiQQAAAMTci95BAAAAXF7d0kEAAACQt1y/QQ==",
           "dtype": "f8"
          },
          "colorbar": {
           "title": {
            "text": "Área (ha)"
           },
           "x": -0.15
          },
          "colorscale": [
           [
            0,
            "#bae4b3"
           ],
           [
            0.3333333333333333,
            "#74c476"
           ],
           [
            0.6666666666666666,
            "#31a354"
           ],
           [
            1,
            "#006d2c"
           ]
          ]
         },
         "name": "Área Plantada (ha)",
         "offsetgroup": "1",
         "type": "bar",
         "x": [
          "Centro-Oeste",
          "Sul",
          "Sudeste",
          "Nordeste",
          "Norte"
         ],
         "y": {
          "bdata": "AADA7qNM5UEAAABu1DfiQQAAAMTci95BAAAAXF7d0kEAAACQt1y/QQ==",
          "dtype": "f8"
         },
         "yaxis": "y"
        },
        {
         "marker": {
          "cmax": 95.16544598911943,
          "cmin": 4.739592421211631,
          "color": {
           "bdata": "Ray/cokgJECbdxNgbX1KQG4hxqqWyldAO0JkP6ZdQkDG5DW3V/USQA==",
           "dtype": "f8"
          },
          "colorbar": {
           "title": {
            "text": "Densidade"
           },
           "x": 1.15
          },
          "colorscale": [
           [
            0,
            "#ffeda0"
           ],
           [
            0.3333333333333333,
            "#fed976"
           ],
           [
            0.6666666666666666,
            "#feb24c"
           ],
           [
            1,
            "#fd8d3c"
           ]
          ]
         },
         "name": "Densidade Populacional (hab/km²)",
         "offsetgroup": "2",
         "type": "bar",
         "x": [
          "Centro-Oeste",
          "Sul",
          "Sudeste",
          "Nordeste",
          "Norte"
         ],
         "y": {
          "bdata": "Ray/cokgJECbdxNgbX1KQG4hxqqWyldAO0JkP6ZdQkDG5DW3V/USQA==",
          "dtype": "f8"
         },
         "yaxis": "y2"
        }
       ],
       "layout": {
        "bargap": 0.15,
        "bargroupgap": 0.1,
        "barmode": "group",
        "height": 500,
        "legend": {
         "x": 0.02,
         "y": 0.98
        },
        "margin": {
         "l": 50,
         "r": 150
        },
        "template": {
         "data": {
          "bar": [
           {
            "error_x": {
             "color": "rgb(36,36,36)"
            },
            "error_y": {
             "color": "rgb(36,36,36)"
            },
            "marker": {
             "line": {
              "color": "white",
              "width": 0.5
             },
             "pattern": {
              "fillmode": "overlay",
              "size": 10,
              "solidity": 0.2
             }
            },
            "type": "bar"
           }
          ],
          "barpolar": [
           {
            "marker": {
             "line": {
              "color": "white",
              "width": 0.5
             },
             "pattern": {
              "fillmode": "overlay",
              "size": 10,
              "solidity": 0.2
             }
            },
            "type": "barpolar"
           }
          ],
          "carpet": [
           {
            "aaxis": {
             "endlinecolor": "rgb(36,36,36)",
             "gridcolor": "white",
             "linecolor": "white",
             "minorgridcolor": "white",
             "startlinecolor": "rgb(36,36,36)"
            },
            "baxis": {
             "endlinecolor": "rgb(36,36,36)",
             "gridcolor": "white",
             "linecolor": "white",
             "minorgridcolor": "white",
             "startlinecolor": "rgb(36,36,36)"
            },
            "type": "carpet"
           }
          ],
          "choropleth": [
           {
            "colorbar": {
             "outlinewidth": 1,
             "tickcolor": "rgb(36,36,36)",
             "ticks": "outside"
            },
            "type": "choropleth"
           }
          ],
          "contour": [
           {
            "colorbar": {
             "outlinewidth": 1,
             "tickcolor": "rgb(36,36,36)",
             "ticks": "outside"
            },
            "colorscale": [
             [
              0,
              "#440154"
             ],
             [
              0.1111111111111111,
              "#482878"
             ],
             [
              0.2222222222222222,
              "#3e4989"
             ],
             [
              0.3333333333333333,
              "#31688e"
             ],
             [
              0.4444444444444444,
              "#26828e"
             ],
             [
              0.5555555555555556,
              "#1f9e89"
             ],
             [
              0.6666666666666666,
              "#35b779"
             ],
             [
              0.7777777777777778,
              "#6ece58"
             ],
             [
              0.8888888888888888,
              "#b5de2b"
             ],
             [
              1,
              "#fde725"
             ]
            ],
            "type": "contour"
           }
          ],
          "contourcarpet": [
           {
            "colorbar": {
             "outlinewidth": 1,
             "tickcolor": "rgb(36,36,36)",
             "ticks": "outside"
            },
            "type": "contourcarpet"
           }
          ],
          "heatmap": [
           {
            "colorbar": {
             "outlinewidth": 1,
             "tickcolor": "rgb(36,36,36)",
             "ticks": "outside"
            },
            "colorscale": [
             [
              0,
              "#440154"
             ],
             [
              0.1111111111111111,
              "#482878"
             ],
             [
              0.2222222222222222,
              "#3e4989"
             ],
             [
              0.3333333333333333,
              "#31688e"
             ],
             [
              0.4444444444444444,
              "#26828e"
             ],
             [
              0.5555555555555556,
              "#1f9e89"
             ],
             [
              0.6666666666666666,
              "#35b779"
             ],
             [
              0.7777777777777778,
              "#6ece58"
             ],
             [
              0.8888888888888888,
              "#b5de2b"
             ],
             [
              1,
              "#fde725"
             ]
            ],
            "type": "heatmap"
           }
          ],
          "histogram": [
           {
            "marker": {
             "line": {
              "color": "white",
              "width": 0.6
             }
            },
            "type": "histogram"
           }
          ],
          "histogram2d": [
           {
            "colorbar": {
             "outlinewidth": 1,
             "tickcolor": "rgb(36,36,36)",
             "ticks": "outside"
            },
            "colorscale": [
             [
              0,
              "#440154"
             ],
             [
              0.1111111111111111,
              "#482878"
             ],
             [
              0.2222222222222222,
              "#3e4989"
             ],
             [
              0.3333333333333333,
              "#31688e"
             ],
             [
              0.4444444444444444,
              "#26828e"
             ],
             [
              0.5555555555555556,
              "#1f9e89"
             ],
             [
              0.6666666666666666,
              "#35b779"
             ],
             [
              0.7777777777777778,
              "#6ece58"
             ],
             [
              0.8888888888888888,
              "#b5de2b"
             ],
             [
              1,
              "#fde725"
             ]
            ],
            "type": "histogram2d"
           }
          ],
          "histogram2dcontour": [
           {
            "colorbar": {
             "outlinewidth": 1,
             "tickcolor": "rgb(36,36,36)",
             "ticks": "outside"
            },
            "colorscale": [
             [
              0,
              "#440154"
             ],
             [
              0.1111111111111111,
              "#482878"
             ],
             [
              0.2222222222222222,
              "#3e4989"
             ],
             [
              0.3333333333333333,
              "#31688e"
             ],
             [
              0.4444444444444444,
              "#26828e"
             ],
             [
              0.5555555555555556,
              "#1f9e89"
             ],
             [
              0.6666666666666666,
              "#35b779"
             ],
             [
              0.7777777777777778,
              "#6ece58"
             ],
             [
              0.8888888888888888,
              "#b5de2b"
             ],
             [
              1,
              "#fde725"
             ]
            ],
            "type": "histogram2dcontour"
           }
          ],
          "mesh3d": [
           {
            "colorbar": {
             "outlinewidth": 1,
             "tickcolor": "rgb(36,36,36)",
             "ticks": "outside"
            },
            "type": "mesh3d"
           }
          ],
          "parcoords": [
           {
            "line": {
             "colorbar": {
              "outlinewidth": 1,
              "tickcolor": "rgb(36,36,36)",
              "ticks": "outside"
             }
            },
            "type": "parcoords"
           }
          ],
          "pie": [
           {
            "automargin": true,
            "type": "pie"
           }
          ],
          "scatter": [
           {
            "fillpattern": {
             "fillmode": "overlay",
             "size": 10,
             "solidity": 0.2
            },
            "type": "scatter"
           }
          ],
          "scatter3d": [
           {
            "line": {
             "colorbar": {
              "outlinewidth": 1,
              "tickcolor": "rgb(36,36,36)",
              "ticks": "outside"
             }
            },
            "marker": {
             "colorbar": {
              "outlinewidth": 1,
              "tickcolor": "rgb(36,36,36)",
              "ticks": "outside"
             }
            },
            "type": "scatter3d"
           }
          ],
          "scattercarpet": [
           {
            "marker": {
             "colorbar": {
              "outlinewidth": 1,
              "tickcolor": "rgb(36,36,36)",
              "ticks": "outside"
             }
            },
            "type": "scattercarpet"
           }
          ],
          "scattergeo": [
           {
            "marker": {
             "colorbar": {
              "outlinewidth": 1,
              "tickcolor": "rgb(36,36,36)",
              "ticks": "outside"
             }
            },
            "type": "scattergeo"
           }
          ],
          "scattergl": [
           {
            "marker": {
             "colorbar": {
              "outlinewidth": 1,
              "tickcolor": "rgb(36,36,36)",
              "ticks": "outside"
             }
            },
            "type": "scattergl"
           }
          ],
          "scattermap": [
           {
            "marker": {
             "colorbar": {
              "outlinewidth": 1,
              "tickcolor": "rgb(36,36,36)",
              "ticks": "outside"
             }
            },
            "type": "scattermap"
           }
          ],
          "scattermapbox": [
           {
            "marker": {
             "colorbar": {
              "outlinewidth": 1,
              "tickcolor": "rgb(36,36,36)",
              "ticks": "outside"
             }
            },
            "type": "scattermapbox"
           }
          ],
          "scatterpolar": [
           {
            "marker": {
             "colorbar": {
              "outlinewidth": 1,
              "tickcolor": "rgb(36,36,36)",
              "ticks": "outside"
             }
            },
            "type": "scatterpolar"
           }
          ],
          "scatterpolargl": [
           {
            "marker": {
             "colorbar": {
              "outlinewidth": 1,
              "tickcolor": "rgb(36,36,36)",
              "ticks": "outside"
             }
            },
            "type": "scatterpolargl"
           }
          ],
          "scatterternary": [
           {
            "marker": {
             "colorbar": {
              "outlinewidth": 1,
              "tickcolor": "rgb(36,36,36)",
              "ticks": "outside"
             }
            },
            "type": "scatterternary"
           }
          ],
          "surface": [
           {
            "colorbar": {
             "outlinewidth": 1,
             "tickcolor": "rgb(36,36,36)",
             "ticks": "outside"
            },
            "colorscale": [
             [
              0,
              "#440154"
             ],
             [
              0.1111111111111111,
              "#482878"
             ],
             [
              0.2222222222222222,
              "#3e4989"
             ],
             [
              0.3333333333333333,
              "#31688e"
             ],
             [
              0.4444444444444444,
              "#26828e"
             ],
             [
              0.5555555555555556,
              "#1f9e89"
             ],
             [
              0.6666666666666666,
              "#35b779"
             ],
             [
              0.7777777777777778,
              "#6ece58"
             ],
             [
              0.8888888888888888,
              "#b5de2b"
             ],
             [
              1,
              "#fde725"
             ]
            ],
            "type": "surface"
           }
          ],
          "table": [
           {
            "cells": {
             "fill": {
              "color": "rgb(237,237,237)"
             },
             "line": {
              "color": "white"
             }
            },
            "header": {
             "fill": {
              "color": "rgb(217,217,217)"
             },
             "line": {
              "color": "white"
             }
            },
            "type": "table"
           }
          ]
         },
         "layout": {
          "annotationdefaults": {
           "arrowhead": 0,
           "arrowwidth": 1
          },
          "autotypenumbers": "strict",
          "coloraxis": {
           "colorbar": {
            "outlinewidth": 1,
            "tickcolor": "rgb(36,36,36)",
            "ticks": "outside"
           }
          },
          "colorscale": {
           "diverging": [
            [
             0,
             "rgb(103,0,31)"
            ],
            [
             0.1,
             "rgb(178,24,43)"
            ],
            [
             0.2,
             "rgb(214,96,77)"
            ],
            [
             0.3,
             "rgb(244,165,130)"
            ],
            [
             0.4,
             "rgb(253,219,199)"
            ],
            [
             0.5,
             "rgb(247,247,247)"
            ],
            [
             0.6,
             "rgb(209,229,240)"
            ],
            [
             0.7,
             "rgb(146,197,222)"
            ],
            [
             0.8,
             "rgb(67,147,195)"
            ],
            [
             0.9,
             "rgb(33,102,172)"
            ],
            [
             1,
             "rgb(5,48,97)"
            ]
           ],
           "sequential": [
            [
             0,
             "#440154"
            ],
            [
             0.1111111111111111,
             "#482878"
            ],
            [
             0.2222222222222222,
             "#3e4989"
            ],
            [
             0.3333333333333333,
             "#31688e"
            ],
            [
             0.4444444444444444,
             "#26828e"
            ],
            [
             0.5555555555555556,
             "#1f9e89"
            ],
            [
             0.6666666666666666,
             "#35b779"
            ],
            [
             0.7777777777777778,
             "#6ece58"
            ],
            [
             0.8888888888888888,
             "#b5de2b"
            ],
            [
             1,
             "#fde725"
            ]
           ],
           "sequentialminus": [
            [
             0,
             "#440154"
            ],
            [
             0.1111111111111111,
             "#482878"
            ],
            [
             0.2222222222222222,
             "#3e4989"
            ],
            [
             0.3333333333333333,
             "#31688e"
            ],
            [
             0.4444444444444444,
             "#26828e"
            ],
            [
             0.5555555555555556,
             "#1f9e89"
            ],
            [
             0.6666666666666666,
             "#35b779"
            ],
            [
             0.7777777777777778,
             "#6ece58"
            ],
            [
             0.8888888888888888,
             "#b5de2b"
            ],
            [
             1,
             "#fde725"
            ]
           ]
          },
          "colorway": [
           "#1F77B4",
           "#FF7F0E",
           "#2CA02C",
           "#D62728",
           "#9467BD",
           "#8C564B",
           "#E377C2",
           "#7F7F7F",
           "#BCBD22",
           "#17BECF"
          ],
          "font": {
           "color": "rgb(36,36,36)"
          },
          "geo": {
           "bgcolor": "white",
           "lakecolor": "white",
           "landcolor": "white",
           "showlakes": true,
           "showland": true,
           "subunitcolor": "white"
          },
          "hoverlabel": {
           "align": "left"
          },
          "hovermode": "closest",
          "mapbox": {
           "style": "light"
          },
          "paper_bgcolor": "white",
          "plot_bgcolor": "white",
          "polar": {
           "angularaxis": {
            "gridcolor": "rgb(232,232,232)",
            "linecolor": "rgb(36,36,36)",
            "showgrid": false,
            "showline": true,
            "ticks": "outside"
           },
           "bgcolor": "white",
           "radialaxis": {
            "gridcolor": "rgb(232,232,232)",
            "linecolor": "rgb(36,36,36)",
            "showgrid": false,
            "showline": true,
            "ticks": "outside"
           }
          },
          "scene": {
           "xaxis": {
            "backgroundcolor": "white",
            "gridcolor": "rgb(232,232,232)",
            "gridwidth": 2,
            "linecolor": "rgb(36,36,36)",
            "showbackground": true,
            "showgrid": false,
            "showline": true,
            "ticks": "outside",
            "zeroline": false,
            "zerolinecolor": "rgb(36,36,36)"
           },
           "yaxis": {
            "backgroundcolor": "white",
            "gridcolor": "rgb(232,232,232)",
            "gridwidth": 2,
            "linecolor": "rgb(36,36,36)",
            "showbackground": true,
            "showgrid": false,
            "showline": true,
            "ticks": "outside",
            "zeroline": false,
            "zerolinecolor": "rgb(36,36,36)"
           },
           "zaxis": {
            "backgroundcolor": "white",
            "gridcolor": "rgb(232,232,232)",
            "gridwidth": 2,
            "linecolor": "rgb(36,36,36)",
            "showbackground": true,
            "showgrid": false,
            "showline": true,
            "ticks": "outside",
            "zeroline": false,
            "zerolinecolor": "rgb(36,36,36)"
           }
          },
          "shapedefaults": {
           "fillcolor": "black",
           "line": {
            "width": 0
           },
           "opacity": 0.3
          },
          "ternary": {
           "aaxis": {
            "gridcolor": "rgb(232,232,232)",
            "linecolor": "rgb(36,36,36)",
            "showgrid": false,
            "showline": true,
            "ticks": "outside"
           },
           "baxis": {
            "gridcolor": "rgb(232,232,232)",
            "linecolor": "rgb(36,36,36)",
            "showgrid": false,
            "showline": true,
            "ticks": "outside"
           },
           "bgcolor": "white",
           "caxis": {
            "gridcolor": "rgb(232,232,232)",
            "linecolor": "rgb(36,36,36)",
            "showgrid": false,
            "showline": true,
            "ticks": "outside"
           }
          },
          "title": {
           "x": 0.05
          },
          "xaxis": {
           "automargin": true,
           "gridcolor": "rgb(232,232,232)",
           "linecolor": "rgb(36,36,36)",
           "showgrid": false,
           "showline": true,
           "ticks": "outside",
           "title": {
            "standoff": 15
           },
           "zeroline": false,
           "zerolinecolor": "rgb(36,36,36)"
          },
          "yaxis": {
           "automargin": true,
           "gridcolor": "rgb(232,232,232)",
           "linecolor": "rgb(36,36,36)",
           "showgrid": false,
           "showline": true,
           "ticks": "outside",
           "title": {
            "standoff": 15
           },
           "zeroline": false,
           "zerolinecolor": "rgb(36,36,36)"
          }
         }
        },
        "title": {
         "text": "Área Plantada x  Densidade Populacional por Região (2016–2021)"
        },
        "width": 900,
        "xaxis": {
         "title": {
          "text": "Região"
         }
        },
        "yaxis": {
         "side": "left",
         "tickfont": {
          "color": "#31a354"
         },
         "title": {
          "font": {
           "color": "#31a354"
          },
          "text": "Área Plantada (ha)"
         }
        },
        "yaxis2": {
         "overlaying": "y",
         "side": "right",
         "tickfont": {
          "color": "#feb24c"
         },
         "title": {
          "font": {
           "color": "#feb24c"
          },
          "text": "Densidade Populacional (hab/km²)"
         }
        }
       }
      }
     },
     "metadata": {},
     "output_type": "display_data"
    }
   ],
   "source": [
    "\n",
    "\n",
    "# 1. Carregar os dados\n",
    "df = pd.read_csv(\"dataFrame/BrStatsAtualizada.csv\", sep=';', low_memory=False)\n",
    "\n",
    "# 2. Tratar colunas numéricas\n",
    "df['Populacao'] = df['Populacao'].astype(str).str.replace('.', '', regex=False).str.replace(',', '.', regex=False).astype(float)\n",
    "df['Area'] = df['Area'].astype(str).str.replace('.', '', regex=False).str.replace(',', '.', regex=False).astype(float)\n",
    "df['AreaPlantada_h'] = df['AreaPlantada_h'].astype(str).str.replace('.', '', regex=False).str.replace(',', '.', regex=False).astype(float)\n",
    "\n",
    "# 3. Calcular densidade populacional\n",
    "df['DensidadePopulacional'] = df['Populacao'] / df['Area']\n",
    "\n",
    "# 4. Agregar por região\n",
    "df_regiao = df.groupby('Regiao').agg({\n",
    "    'AreaPlantada_h': 'sum',\n",
    "    'Populacao': 'sum',\n",
    "    'Area': 'sum'\n",
    "}).reset_index()\n",
    "\n",
    "# Recalcular densidade populacional\n",
    "df_regiao['DensidadePopulacional'] = df_regiao['Populacao'] / df_regiao['Area']\n",
    "df_regiao = df_regiao.sort_values(by='AreaPlantada_h', ascending=False)\n",
    "\n",
    "# 5. Criar gradientes de cor\n",
    "# Gradiente verde (escuro → claro) para Área Plantada\n",
    "cores_area = ['#bae4b3','#74c476','#31a354','#006d2c']  # Tons de verde\n",
    "# Gradiente amarelo (escuro → claro) para Densidade\n",
    "cores_densidade = ['#ffeda0', '#fed976', '#feb24c', '#fd8d3c']  # Tons de amarelo/laranja\n",
    "\n",
    "# 6. Criar gráfico de barras agrupadas\n",
    "fig = go.Figure()\n",
    "\n",
    "# Área Plantada (eixo Y esquerdo) - Gradiente verde\n",
    "fig.add_trace(go.Bar(\n",
    "    x=df_regiao['Regiao'],\n",
    "    y=df_regiao['AreaPlantada_h'],\n",
    "    name='Área Plantada (ha)',\n",
    "    marker=dict(\n",
    "        color=df_regiao['AreaPlantada_h'],\n",
    "        colorscale=cores_area,\n",
    "        colorbar=dict(title='Área (ha)', x=-0.15),\n",
    "        cmin=df_regiao['AreaPlantada_h'].min(),\n",
    "        cmax=df_regiao['AreaPlantada_h'].max()\n",
    "    ),\n",
    "    yaxis='y1',\n",
    "    offsetgroup=1\n",
    "))\n",
    "\n",
    "# Densidade Populacional (eixo Y direito) - Gradiente amarelo\n",
    "fig.add_trace(go.Bar(\n",
    "    x=df_regiao['Regiao'],\n",
    "    y=df_regiao['DensidadePopulacional'],\n",
    "    name='Densidade Populacional (hab/km²)',\n",
    "    marker=dict(\n",
    "        color=df_regiao['DensidadePopulacional'],\n",
    "        colorscale=cores_densidade,\n",
    "        colorbar=dict(title='Densidade', x=1.15),\n",
    "        cmin=df_regiao['DensidadePopulacional'].min(),\n",
    "        cmax=df_regiao['DensidadePopulacional'].max()\n",
    "    ),\n",
    "    yaxis='y2',\n",
    "    offsetgroup=2\n",
    "))\n",
    "\n",
    "# 7. Layout com barras lado a lado\n",
    "fig.update_layout(\n",
    "    title='Área Plantada x  Densidade Populacional por Região (2016–2021)',\n",
    "    xaxis=dict(title='Região'),\n",
    "    yaxis=dict(\n",
    "        title=dict(text='Área Plantada (ha)', font=dict(color='#31a354')),\n",
    "        tickfont=dict(color='#31a354'),\n",
    "        side='left'\n",
    "    ),\n",
    "    yaxis2=dict(\n",
    "        title=dict(text='Densidade Populacional (hab/km²)', font=dict(color='#feb24c')),\n",
    "        tickfont=dict(color='#feb24c'),\n",
    "        overlaying='y',\n",
    "        side='right'\n",
    "    ),\n",
    "    barmode='group',\n",
    "    bargap=0.15,\n",
    "    bargroupgap=0.1,\n",
    "    legend=dict(x=0.02, y=0.98),\n",
    "    template='simple_white',\n",
    "    height=500,\n",
    "    width=900,\n",
    "    margin=dict(l=50, r=150)  # Margem maior para as colorbars\n",
    ")\n",
    "\n",
    "fig.show()"
   ]
  },
  {
   "cell_type": "markdown",
   "metadata": {},
   "source": [
    "#### 🎯 Motivo da Utilização do Gráfico\n",
    "Este gráfico foi elaborado para analisar a relação entre área plantada (em bilhões de hectares) e densidade populacional (hab/km²) nas cinco regiões brasileiras no período de 2016 a 2021. A visualização conjunta desses indicadores permite identificar padrões territoriais, como a concentração agrícola em regiões de menor povoamento, típica do modelo de agronegócio brasileiro. O recorte temporal de seis anos possibilita ainda observar a evolução dessa dinâmica."
   ]
  },
  {
   "cell_type": "markdown",
   "metadata": {},
   "source": [
    "#### 📌 Explicação do Conteúdo do Gráfico\n",
    "O gráfico apresenta dois eixos principais: o eixo vertical mostra a área plantada em bilhões de hectares (indicada pela letra \"B\", onde 1B equivale a 1 bilhão de hectares), com valores que variam de 0,5B a 3B, enquanto o eixo horizontal exibe a densidade populacional em habitantes por quilômetro quadrado (hab/km²), variando de 0 a 100. As cinco regiões brasileiras (Norte, Nordeste, Centro-Oeste, Sudeste e Sul) são posicionadas conforme seus respectivos valores nesses eixos, permitindo visualizar claramente a relação inversa entre área agrícola e densidade demográfica - o Centro-Oeste, por exemplo, aparece com a maior área plantada (3B ha) e a menor densidade populacional (abaixo de 20 hab/km²), enquanto o Sudeste apresenta o padrão oposto, caracterizando os diferentes modelos de ocupação territorial e desenvolvimento agrícola nas regiões do país.\n",
    "\n"
   ]
  },
  {
   "cell_type": "markdown",
   "metadata": {},
   "source": [
    "#### ✅ O que podemos perceber?\n",
    "\n",
    "Os dados revelam que regiões com maior área plantada (como o Centro-Oeste) tendem a ter menor densidade populacional, enquanto áreas mais urbanizadas (como o Sudeste) mostram o padrão oposto. Essa relação inversa entre agricultura extensiva e concentração humana destaca dois modelos de desenvolvimento territorial no Brasil. Exceções regionais aparecem conforme o tipo de cultivo e estágio de urbanização."
   ]
  },
  {
   "cell_type": "markdown",
   "metadata": {},
   "source": [
    "#### 📊 Relação entre Empregos Informais e PIB per capita\n",
    "O objetivo deste gráfico é investigar se há uma relação entre o nível de informalidade no mercado de trabalho e o desempenho econômico dos estados brasileiros, medido através do PIB per capita. A ideia é identificar se estados com maior proporção de empregos informais apresentam, de fato, um PIB per capita mais baixo, o que pode sugerir vínculos entre economia informal e desenvolvimento econômico."
   ]
  },
  {
   "cell_type": "code",
   "execution_count": 58,
   "metadata": {},
   "outputs": [
    {
     "data": {
      "application/vnd.plotly.v1+json": {
       "config": {
        "plotlyServerURL": "https://plot.ly"
       },
       "data": [
        {
         "hovertemplate": "Empregos Informais (média 2016–2021)=%{x}<br>PIB per capita médio (R$)=%{y}<br>UF=%{text}<extra></extra>",
         "legendgroup": "",
         "marker": {
          "color": "#636efa",
          "symbol": "circle"
         },
         "mode": "markers+text",
         "name": "",
         "orientation": "v",
         "showlegend": false,
         "text": [
          "AC",
          "AL",
          "AM",
          "AP",
          "BA",
          "CE",
          "DF",
          "ES",
          "GO",
          "MA",
          "MG",
          "MS",
          "MT",
          "PA",
          "PB",
          "PE",
          "PI",
          "PR",
          "RJ",
          "RN",
          "RO",
          "RR",
          "RS",
          "SC",
          "SE",
          "SP",
          "TO"
         ],
         "textposition": "top center",
         "type": "scatter",
         "x": {
          "bdata": "aQEAAMkBAACaAgAAIwIAAMkCAACpAwAAp88BAHwHAABdAwAAUwEAAJoDAAAVBAAAhwMAAHQCAABUAQAAiQMAAA0BAAANBgAAlhgAAJ8BAABRAwAA/wEAAL8EAAB6BQAAHwIAAP8MAADyAAAA",
          "dtype": "i4"
         },
         "xaxis": "x",
         "y": {
          "bdata": "T+FRXjAT0EDhshm4sn/OQKj0j7NIQsZALhCM/NSZ0kBP1alt4OXKQIuQDwhFGsdA1+5xSrv89EDtPZyQphXcQKulKOOE6t5ApYVjIMmlx0B0wMYapxnWQIWyVqWgHOVAObuuz0wI50BUhHDBcIbUQDhq2XTQFMZAHGAeX0diy0BzlWNh7OHHQIvZlXGfkOFAfH3ZsjxW40Db482aaBLPQAUuFdNnM9hAOfW3o6wz0kBW7j9dusbjQM1Ma+jTS+JATwltDBcU1kDPSWGHDW7hQM1LVVI36dVA",
          "dtype": "f8"
         },
         "yaxis": "y"
        }
       ],
       "layout": {
        "legend": {
         "tracegroupgap": 0
        },
        "template": {
         "data": {
          "bar": [
           {
            "error_x": {
             "color": "#2a3f5f"
            },
            "error_y": {
             "color": "#2a3f5f"
            },
            "marker": {
             "line": {
              "color": "#E5ECF6",
              "width": 0.5
             },
             "pattern": {
              "fillmode": "overlay",
              "size": 10,
              "solidity": 0.2
             }
            },
            "type": "bar"
           }
          ],
          "barpolar": [
           {
            "marker": {
             "line": {
              "color": "#E5ECF6",
              "width": 0.5
             },
             "pattern": {
              "fillmode": "overlay",
              "size": 10,
              "solidity": 0.2
             }
            },
            "type": "barpolar"
           }
          ],
          "carpet": [
           {
            "aaxis": {
             "endlinecolor": "#2a3f5f",
             "gridcolor": "white",
             "linecolor": "white",
             "minorgridcolor": "white",
             "startlinecolor": "#2a3f5f"
            },
            "baxis": {
             "endlinecolor": "#2a3f5f",
             "gridcolor": "white",
             "linecolor": "white",
             "minorgridcolor": "white",
             "startlinecolor": "#2a3f5f"
            },
            "type": "carpet"
           }
          ],
          "choropleth": [
           {
            "colorbar": {
             "outlinewidth": 0,
             "ticks": ""
            },
            "type": "choropleth"
           }
          ],
          "contour": [
           {
            "colorbar": {
             "outlinewidth": 0,
             "ticks": ""
            },
            "colorscale": [
             [
              0,
              "#0d0887"
             ],
             [
              0.1111111111111111,
              "#46039f"
             ],
             [
              0.2222222222222222,
              "#7201a8"
             ],
             [
              0.3333333333333333,
              "#9c179e"
             ],
             [
              0.4444444444444444,
              "#bd3786"
             ],
             [
              0.5555555555555556,
              "#d8576b"
             ],
             [
              0.6666666666666666,
              "#ed7953"
             ],
             [
              0.7777777777777778,
              "#fb9f3a"
             ],
             [
              0.8888888888888888,
              "#fdca26"
             ],
             [
              1,
              "#f0f921"
             ]
            ],
            "type": "contour"
           }
          ],
          "contourcarpet": [
           {
            "colorbar": {
             "outlinewidth": 0,
             "ticks": ""
            },
            "type": "contourcarpet"
           }
          ],
          "heatmap": [
           {
            "colorbar": {
             "outlinewidth": 0,
             "ticks": ""
            },
            "colorscale": [
             [
              0,
              "#0d0887"
             ],
             [
              0.1111111111111111,
              "#46039f"
             ],
             [
              0.2222222222222222,
              "#7201a8"
             ],
             [
              0.3333333333333333,
              "#9c179e"
             ],
             [
              0.4444444444444444,
              "#bd3786"
             ],
             [
              0.5555555555555556,
              "#d8576b"
             ],
             [
              0.6666666666666666,
              "#ed7953"
             ],
             [
              0.7777777777777778,
              "#fb9f3a"
             ],
             [
              0.8888888888888888,
              "#fdca26"
             ],
             [
              1,
              "#f0f921"
             ]
            ],
            "type": "heatmap"
           }
          ],
          "histogram": [
           {
            "marker": {
             "pattern": {
              "fillmode": "overlay",
              "size": 10,
              "solidity": 0.2
             }
            },
            "type": "histogram"
           }
          ],
          "histogram2d": [
           {
            "colorbar": {
             "outlinewidth": 0,
             "ticks": ""
            },
            "colorscale": [
             [
              0,
              "#0d0887"
             ],
             [
              0.1111111111111111,
              "#46039f"
             ],
             [
              0.2222222222222222,
              "#7201a8"
             ],
             [
              0.3333333333333333,
              "#9c179e"
             ],
             [
              0.4444444444444444,
              "#bd3786"
             ],
             [
              0.5555555555555556,
              "#d8576b"
             ],
             [
              0.6666666666666666,
              "#ed7953"
             ],
             [
              0.7777777777777778,
              "#fb9f3a"
             ],
             [
              0.8888888888888888,
              "#fdca26"
             ],
             [
              1,
              "#f0f921"
             ]
            ],
            "type": "histogram2d"
           }
          ],
          "histogram2dcontour": [
           {
            "colorbar": {
             "outlinewidth": 0,
             "ticks": ""
            },
            "colorscale": [
             [
              0,
              "#0d0887"
             ],
             [
              0.1111111111111111,
              "#46039f"
             ],
             [
              0.2222222222222222,
              "#7201a8"
             ],
             [
              0.3333333333333333,
              "#9c179e"
             ],
             [
              0.4444444444444444,
              "#bd3786"
             ],
             [
              0.5555555555555556,
              "#d8576b"
             ],
             [
              0.6666666666666666,
              "#ed7953"
             ],
             [
              0.7777777777777778,
              "#fb9f3a"
             ],
             [
              0.8888888888888888,
              "#fdca26"
             ],
             [
              1,
              "#f0f921"
             ]
            ],
            "type": "histogram2dcontour"
           }
          ],
          "mesh3d": [
           {
            "colorbar": {
             "outlinewidth": 0,
             "ticks": ""
            },
            "type": "mesh3d"
           }
          ],
          "parcoords": [
           {
            "line": {
             "colorbar": {
              "outlinewidth": 0,
              "ticks": ""
             }
            },
            "type": "parcoords"
           }
          ],
          "pie": [
           {
            "automargin": true,
            "type": "pie"
           }
          ],
          "scatter": [
           {
            "fillpattern": {
             "fillmode": "overlay",
             "size": 10,
             "solidity": 0.2
            },
            "type": "scatter"
           }
          ],
          "scatter3d": [
           {
            "line": {
             "colorbar": {
              "outlinewidth": 0,
              "ticks": ""
             }
            },
            "marker": {
             "colorbar": {
              "outlinewidth": 0,
              "ticks": ""
             }
            },
            "type": "scatter3d"
           }
          ],
          "scattercarpet": [
           {
            "marker": {
             "colorbar": {
              "outlinewidth": 0,
              "ticks": ""
             }
            },
            "type": "scattercarpet"
           }
          ],
          "scattergeo": [
           {
            "marker": {
             "colorbar": {
              "outlinewidth": 0,
              "ticks": ""
             }
            },
            "type": "scattergeo"
           }
          ],
          "scattergl": [
           {
            "marker": {
             "colorbar": {
              "outlinewidth": 0,
              "ticks": ""
             }
            },
            "type": "scattergl"
           }
          ],
          "scattermap": [
           {
            "marker": {
             "colorbar": {
              "outlinewidth": 0,
              "ticks": ""
             }
            },
            "type": "scattermap"
           }
          ],
          "scattermapbox": [
           {
            "marker": {
             "colorbar": {
              "outlinewidth": 0,
              "ticks": ""
             }
            },
            "type": "scattermapbox"
           }
          ],
          "scatterpolar": [
           {
            "marker": {
             "colorbar": {
              "outlinewidth": 0,
              "ticks": ""
             }
            },
            "type": "scatterpolar"
           }
          ],
          "scatterpolargl": [
           {
            "marker": {
             "colorbar": {
              "outlinewidth": 0,
              "ticks": ""
             }
            },
            "type": "scatterpolargl"
           }
          ],
          "scatterternary": [
           {
            "marker": {
             "colorbar": {
              "outlinewidth": 0,
              "ticks": ""
             }
            },
            "type": "scatterternary"
           }
          ],
          "surface": [
           {
            "colorbar": {
             "outlinewidth": 0,
             "ticks": ""
            },
            "colorscale": [
             [
              0,
              "#0d0887"
             ],
             [
              0.1111111111111111,
              "#46039f"
             ],
             [
              0.2222222222222222,
              "#7201a8"
             ],
             [
              0.3333333333333333,
              "#9c179e"
             ],
             [
              0.4444444444444444,
              "#bd3786"
             ],
             [
              0.5555555555555556,
              "#d8576b"
             ],
             [
              0.6666666666666666,
              "#ed7953"
             ],
             [
              0.7777777777777778,
              "#fb9f3a"
             ],
             [
              0.8888888888888888,
              "#fdca26"
             ],
             [
              1,
              "#f0f921"
             ]
            ],
            "type": "surface"
           }
          ],
          "table": [
           {
            "cells": {
             "fill": {
              "color": "#EBF0F8"
             },
             "line": {
              "color": "white"
             }
            },
            "header": {
             "fill": {
              "color": "#C8D4E3"
             },
             "line": {
              "color": "white"
             }
            },
            "type": "table"
           }
          ]
         },
         "layout": {
          "annotationdefaults": {
           "arrowcolor": "#2a3f5f",
           "arrowhead": 0,
           "arrowwidth": 1
          },
          "autotypenumbers": "strict",
          "coloraxis": {
           "colorbar": {
            "outlinewidth": 0,
            "ticks": ""
           }
          },
          "colorscale": {
           "diverging": [
            [
             0,
             "#8e0152"
            ],
            [
             0.1,
             "#c51b7d"
            ],
            [
             0.2,
             "#de77ae"
            ],
            [
             0.3,
             "#f1b6da"
            ],
            [
             0.4,
             "#fde0ef"
            ],
            [
             0.5,
             "#f7f7f7"
            ],
            [
             0.6,
             "#e6f5d0"
            ],
            [
             0.7,
             "#b8e186"
            ],
            [
             0.8,
             "#7fbc41"
            ],
            [
             0.9,
             "#4d9221"
            ],
            [
             1,
             "#276419"
            ]
           ],
           "sequential": [
            [
             0,
             "#0d0887"
            ],
            [
             0.1111111111111111,
             "#46039f"
            ],
            [
             0.2222222222222222,
             "#7201a8"
            ],
            [
             0.3333333333333333,
             "#9c179e"
            ],
            [
             0.4444444444444444,
             "#bd3786"
            ],
            [
             0.5555555555555556,
             "#d8576b"
            ],
            [
             0.6666666666666666,
             "#ed7953"
            ],
            [
             0.7777777777777778,
             "#fb9f3a"
            ],
            [
             0.8888888888888888,
             "#fdca26"
            ],
            [
             1,
             "#f0f921"
            ]
           ],
           "sequentialminus": [
            [
             0,
             "#0d0887"
            ],
            [
             0.1111111111111111,
             "#46039f"
            ],
            [
             0.2222222222222222,
             "#7201a8"
            ],
            [
             0.3333333333333333,
             "#9c179e"
            ],
            [
             0.4444444444444444,
             "#bd3786"
            ],
            [
             0.5555555555555556,
             "#d8576b"
            ],
            [
             0.6666666666666666,
             "#ed7953"
            ],
            [
             0.7777777777777778,
             "#fb9f3a"
            ],
            [
             0.8888888888888888,
             "#fdca26"
            ],
            [
             1,
             "#f0f921"
            ]
           ]
          },
          "colorway": [
           "#636efa",
           "#EF553B",
           "#00cc96",
           "#ab63fa",
           "#FFA15A",
           "#19d3f3",
           "#FF6692",
           "#B6E880",
           "#FF97FF",
           "#FECB52"
          ],
          "font": {
           "color": "#2a3f5f"
          },
          "geo": {
           "bgcolor": "white",
           "lakecolor": "white",
           "landcolor": "#E5ECF6",
           "showlakes": true,
           "showland": true,
           "subunitcolor": "white"
          },
          "hoverlabel": {
           "align": "left"
          },
          "hovermode": "closest",
          "mapbox": {
           "style": "light"
          },
          "paper_bgcolor": "white",
          "plot_bgcolor": "#E5ECF6",
          "polar": {
           "angularaxis": {
            "gridcolor": "white",
            "linecolor": "white",
            "ticks": ""
           },
           "bgcolor": "#E5ECF6",
           "radialaxis": {
            "gridcolor": "white",
            "linecolor": "white",
            "ticks": ""
           }
          },
          "scene": {
           "xaxis": {
            "backgroundcolor": "#E5ECF6",
            "gridcolor": "white",
            "gridwidth": 2,
            "linecolor": "white",
            "showbackground": true,
            "ticks": "",
            "zerolinecolor": "white"
           },
           "yaxis": {
            "backgroundcolor": "#E5ECF6",
            "gridcolor": "white",
            "gridwidth": 2,
            "linecolor": "white",
            "showbackground": true,
            "ticks": "",
            "zerolinecolor": "white"
           },
           "zaxis": {
            "backgroundcolor": "#E5ECF6",
            "gridcolor": "white",
            "gridwidth": 2,
            "linecolor": "white",
            "showbackground": true,
            "ticks": "",
            "zerolinecolor": "white"
           }
          },
          "shapedefaults": {
           "line": {
            "color": "#2a3f5f"
           }
          },
          "ternary": {
           "aaxis": {
            "gridcolor": "white",
            "linecolor": "white",
            "ticks": ""
           },
           "baxis": {
            "gridcolor": "white",
            "linecolor": "white",
            "ticks": ""
           },
           "bgcolor": "#E5ECF6",
           "caxis": {
            "gridcolor": "white",
            "linecolor": "white",
            "ticks": ""
           }
          },
          "title": {
           "x": 0.05
          },
          "xaxis": {
           "automargin": true,
           "gridcolor": "white",
           "linecolor": "white",
           "ticks": "",
           "title": {
            "standoff": 15
           },
           "zerolinecolor": "white",
           "zerolinewidth": 2
          },
          "yaxis": {
           "automargin": true,
           "gridcolor": "white",
           "linecolor": "white",
           "ticks": "",
           "title": {
            "standoff": 15
           },
           "zerolinecolor": "white",
           "zerolinewidth": 2
          }
         }
        },
        "title": {
         "text": "Relação entre Empregos Informais e PIB per capita por Estado (com escala log)"
        },
        "xaxis": {
         "anchor": "y",
         "domain": [
          0,
          1
         ],
         "title": {
          "text": "Empregos Informais (média 2016–2021)"
         },
         "type": "log"
        },
        "yaxis": {
         "anchor": "x",
         "domain": [
          0,
          1
         ],
         "title": {
          "text": "PIB per capita médio (R$)"
         }
        }
       }
      }
     },
     "metadata": {},
     "output_type": "display_data"
    }
   ],
   "source": [
    "\n",
    "# Carregar os dados\n",
    "df = pd.read_csv('dataFrame/BrStatsAtualizada.csv', sep=';', low_memory=False)\n",
    "df_pib = pd.read_csv('pib_per_capita/pib_per_capita_estados.csv')\n",
    "\n",
    "\n",
    "for col in ['PessoalOcupado', 'PessoalAssalariado']:\n",
    "    df[col] = df[col].astype(str).str.replace('.', '', regex=False).str.replace(',', '.', regex=False)\n",
    "    df[col] = pd.to_numeric(df[col], errors='coerce')  \n",
    "\n",
    "# Calcular empregos informais\n",
    "df['Empregos_Informais'] = df['PessoalOcupado'] - df['PessoalAssalariado']\n",
    "\n",
    "# Agrupar por estado e calcular média entre os anos\n",
    "df_estado = df.groupby('UF')[['Empregos_Informais']].mean().round(0).astype(int).reset_index()\n",
    "\n",
    "\n",
    "# Adicionar o PIB per capita médio de cada estado\n",
    "pib_estado = df_pib.groupby('UF')['PIB_per_capita'].mean().reset_index()\n",
    "df_estado = pd.merge(df_estado, pib_estado, on='UF')\n",
    "\n",
    "fig = px.scatter(\n",
    "    df_estado,\n",
    "    x='Empregos_Informais',\n",
    "    y='PIB_per_capita',\n",
    "    text='UF',\n",
    "    title='Relação entre Empregos Informais e PIB per capita por Estado (com escala log)',\n",
    "    labels={\n",
    "        'Empregos_Informais': 'Empregos Informais (média 2016–2021)',\n",
    "        'PIB_per_capita': 'PIB per capita médio (R$)'\n",
    "    },\n",
    "    log_x=True  \n",
    ")\n",
    "\n",
    "fig.update_traces(textposition='top center')\n",
    "fig.show()\n"
   ]
  },
  {
   "cell_type": "markdown",
   "metadata": {},
   "source": [
    "#### 🎯 Motivo da Utilização do Gráfico\n",
    "Usamos um gráfico de dispersão (ou gráfico de pontos) para analisar a relação entre duas variáveis contínuas: o número de empregos informais e o PIB per capita dos estados brasileiros. O gráfico de dispersão é a escolha ideal para investigar visualmente se existe uma correlação entre essas duas variáveis, já que ele permite que vejamos como uma variável se comporta em relação à outra, observando tendências e padrões. Neste caso, o gráfico é essencial para detectar se existe uma tendência de os estados com mais empregos informais apresentarem um PIB per capita mais baixo, o que indicaria uma possível ligação entre a informalidade no mercado de trabalho e o desenvolvimento econômico."
   ]
  },
  {
   "cell_type": "markdown",
   "metadata": {},
   "source": [
    "#### 📌 Explicação do Conteúdo do Gráfico\n",
    "O gráfico de dispersão apresenta cada estado como um ponto, onde o eixo X representa o número médio de empregos informais nos anos de 2016 a 2021, e o eixo Y representa o PIB per capita médio de cada estado. O número de empregos informais foi ajustado para uma escala logarítmica, permitindo que o gráfico mostre os estados com menos informalidade de maneira mais precisa, enquanto os estados com grande quantidade de informalidade têm seus valores mais comprimidos.A escala logarítmica foi aplicada ao eixo X, que representa o número de empregos informais. A escala logarítmica é uma transformação matemática que compressa a representação dos valores mais altos, fazendo com que os valores menores sejam mais detalhados, enquanto os valores muito grandes (como os dos estados com muitos empregos informais) se tornam mais comprimidos. Isso ajuda a evitar que os pontos extremos (como o Distrito Federal, que possui o maior número de empregos informais) dominem o gráfico e distorçam a análise dos demais estados. Em termos práticos, a escala logarítmica converte os números no eixo X de modo que cada unidade de aumento é proporcional ao valor anterior, o que ajuda a suavizar as diferenças muito grandes entre os estados.\n",
    "No eixo Y, temos o PIB per capita, que está expresso em valores monetários (R$). O eixo Y não utiliza escala logarítmica, pois os valores de PIB per capita são distribuídos de forma mais uniforme e não possuem uma variação tão extrema como os empregos informais.\n",
    "\n",
    "\n"
   ]
  },
  {
   "cell_type": "markdown",
   "metadata": {},
   "source": [
    "#### ✅ O que podemos perceber?\n",
    "\n",
    "Com o primeiro gráfico, que inclui todos os estados, incluindo o Distrito Federal (DF), podemos observar uma tendência geral entre o número de empregos informais e o PIB per capita. Inicialmente, parece haver uma correlação de que estados com maior número de empregos informais tendem a ter um PIB per capita mais baixo, sugerindo uma possível relação entre maior informalidade e menor desenvolvimento econômico.\n",
    "\n",
    "No entanto, ao incluir o DF, que possui um número elevado de empregos informais e um PIB per capita muito alto, vemos que há exceções que desafiam essa tendência. Esse ponto extremo sugere que a relação entre informalidade e PIB per capita não é direta e pode ser influenciada por outros fatores, como a estrutura econômica específica de cada estado, a presença de economias públicas fortes ou outras características regionais.\n",
    "\n",
    "Portanto, enquanto o gráfico nos fornece uma visão preliminar da relação entre essas duas variáveis, não podemos tirar uma conclusão definitiva sem realizar mais análises detalhadas, levando em consideração outros fatores como a composição econômica de cada estado, o papel do setor público, a distribuição de renda, entre outros."
   ]
  },
  {
   "cell_type": "code",
   "execution_count": 59,
   "metadata": {},
   "outputs": [
    {
     "data": {
      "application/vnd.plotly.v1+json": {
       "config": {
        "plotlyServerURL": "https://plot.ly"
       },
       "data": [
        {
         "hovertemplate": "Empregos Informais (média 2016–2021)=%{x}<br>PIB per capita médio (R$)=%{y}<br>UF=%{text}<extra></extra>",
         "legendgroup": "",
         "marker": {
          "color": "#636efa",
          "symbol": "circle"
         },
         "mode": "markers+text",
         "name": "",
         "orientation": "v",
         "showlegend": false,
         "text": [
          "AC",
          "AL",
          "AM",
          "AP",
          "BA",
          "CE",
          "ES",
          "GO",
          "MA",
          "MG",
          "MS",
          "MT",
          "PA",
          "PB",
          "PE",
          "PI",
          "PR",
          "RJ",
          "RN",
          "RO",
          "RR",
          "RS",
          "SC",
          "SE",
          "SP",
          "TO"
         ],
         "textposition": "top center",
         "type": "scatter",
         "x": {
          "bdata": "aQHJAZoCIwLJAqkDfAddA1MBmgMVBIcDdAJUAYkDDQENBpYYnwFRA/8BvwR6BR8C/wzyAA==",
          "dtype": "i2"
         },
         "xaxis": "x",
         "y": {
          "bdata": "T+FRXjAT0EDhshm4sn/OQKj0j7NIQsZALhCM/NSZ0kBP1alt4OXKQIuQDwhFGsdA7T2ckKYV3ECrpSjjhOreQKWFYyDJpcdAdMDGGqcZ1kCFslaloBzlQDm7rs9MCOdAVIRwwXCG1EA4atl00BTGQBxgHl9HYstAc5VjYezhx0CL2ZVxn5DhQHx92bI8VuNA2+PNmmgSz0AFLhXTZzPYQDn1t6OsM9JAVu4/XbrG40DNTGvo00viQE8JbQwXFNZAz0lhhw1u4UDNS1VSN+nVQA==",
          "dtype": "f8"
         },
         "yaxis": "y"
        }
       ],
       "layout": {
        "legend": {
         "tracegroupgap": 0
        },
        "template": {
         "data": {
          "bar": [
           {
            "error_x": {
             "color": "#2a3f5f"
            },
            "error_y": {
             "color": "#2a3f5f"
            },
            "marker": {
             "line": {
              "color": "#E5ECF6",
              "width": 0.5
             },
             "pattern": {
              "fillmode": "overlay",
              "size": 10,
              "solidity": 0.2
             }
            },
            "type": "bar"
           }
          ],
          "barpolar": [
           {
            "marker": {
             "line": {
              "color": "#E5ECF6",
              "width": 0.5
             },
             "pattern": {
              "fillmode": "overlay",
              "size": 10,
              "solidity": 0.2
             }
            },
            "type": "barpolar"
           }
          ],
          "carpet": [
           {
            "aaxis": {
             "endlinecolor": "#2a3f5f",
             "gridcolor": "white",
             "linecolor": "white",
             "minorgridcolor": "white",
             "startlinecolor": "#2a3f5f"
            },
            "baxis": {
             "endlinecolor": "#2a3f5f",
             "gridcolor": "white",
             "linecolor": "white",
             "minorgridcolor": "white",
             "startlinecolor": "#2a3f5f"
            },
            "type": "carpet"
           }
          ],
          "choropleth": [
           {
            "colorbar": {
             "outlinewidth": 0,
             "ticks": ""
            },
            "type": "choropleth"
           }
          ],
          "contour": [
           {
            "colorbar": {
             "outlinewidth": 0,
             "ticks": ""
            },
            "colorscale": [
             [
              0,
              "#0d0887"
             ],
             [
              0.1111111111111111,
              "#46039f"
             ],
             [
              0.2222222222222222,
              "#7201a8"
             ],
             [
              0.3333333333333333,
              "#9c179e"
             ],
             [
              0.4444444444444444,
              "#bd3786"
             ],
             [
              0.5555555555555556,
              "#d8576b"
             ],
             [
              0.6666666666666666,
              "#ed7953"
             ],
             [
              0.7777777777777778,
              "#fb9f3a"
             ],
             [
              0.8888888888888888,
              "#fdca26"
             ],
             [
              1,
              "#f0f921"
             ]
            ],
            "type": "contour"
           }
          ],
          "contourcarpet": [
           {
            "colorbar": {
             "outlinewidth": 0,
             "ticks": ""
            },
            "type": "contourcarpet"
           }
          ],
          "heatmap": [
           {
            "colorbar": {
             "outlinewidth": 0,
             "ticks": ""
            },
            "colorscale": [
             [
              0,
              "#0d0887"
             ],
             [
              0.1111111111111111,
              "#46039f"
             ],
             [
              0.2222222222222222,
              "#7201a8"
             ],
             [
              0.3333333333333333,
              "#9c179e"
             ],
             [
              0.4444444444444444,
              "#bd3786"
             ],
             [
              0.5555555555555556,
              "#d8576b"
             ],
             [
              0.6666666666666666,
              "#ed7953"
             ],
             [
              0.7777777777777778,
              "#fb9f3a"
             ],
             [
              0.8888888888888888,
              "#fdca26"
             ],
             [
              1,
              "#f0f921"
             ]
            ],
            "type": "heatmap"
           }
          ],
          "histogram": [
           {
            "marker": {
             "pattern": {
              "fillmode": "overlay",
              "size": 10,
              "solidity": 0.2
             }
            },
            "type": "histogram"
           }
          ],
          "histogram2d": [
           {
            "colorbar": {
             "outlinewidth": 0,
             "ticks": ""
            },
            "colorscale": [
             [
              0,
              "#0d0887"
             ],
             [
              0.1111111111111111,
              "#46039f"
             ],
             [
              0.2222222222222222,
              "#7201a8"
             ],
             [
              0.3333333333333333,
              "#9c179e"
             ],
             [
              0.4444444444444444,
              "#bd3786"
             ],
             [
              0.5555555555555556,
              "#d8576b"
             ],
             [
              0.6666666666666666,
              "#ed7953"
             ],
             [
              0.7777777777777778,
              "#fb9f3a"
             ],
             [
              0.8888888888888888,
              "#fdca26"
             ],
             [
              1,
              "#f0f921"
             ]
            ],
            "type": "histogram2d"
           }
          ],
          "histogram2dcontour": [
           {
            "colorbar": {
             "outlinewidth": 0,
             "ticks": ""
            },
            "colorscale": [
             [
              0,
              "#0d0887"
             ],
             [
              0.1111111111111111,
              "#46039f"
             ],
             [
              0.2222222222222222,
              "#7201a8"
             ],
             [
              0.3333333333333333,
              "#9c179e"
             ],
             [
              0.4444444444444444,
              "#bd3786"
             ],
             [
              0.5555555555555556,
              "#d8576b"
             ],
             [
              0.6666666666666666,
              "#ed7953"
             ],
             [
              0.7777777777777778,
              "#fb9f3a"
             ],
             [
              0.8888888888888888,
              "#fdca26"
             ],
             [
              1,
              "#f0f921"
             ]
            ],
            "type": "histogram2dcontour"
           }
          ],
          "mesh3d": [
           {
            "colorbar": {
             "outlinewidth": 0,
             "ticks": ""
            },
            "type": "mesh3d"
           }
          ],
          "parcoords": [
           {
            "line": {
             "colorbar": {
              "outlinewidth": 0,
              "ticks": ""
             }
            },
            "type": "parcoords"
           }
          ],
          "pie": [
           {
            "automargin": true,
            "type": "pie"
           }
          ],
          "scatter": [
           {
            "fillpattern": {
             "fillmode": "overlay",
             "size": 10,
             "solidity": 0.2
            },
            "type": "scatter"
           }
          ],
          "scatter3d": [
           {
            "line": {
             "colorbar": {
              "outlinewidth": 0,
              "ticks": ""
             }
            },
            "marker": {
             "colorbar": {
              "outlinewidth": 0,
              "ticks": ""
             }
            },
            "type": "scatter3d"
           }
          ],
          "scattercarpet": [
           {
            "marker": {
             "colorbar": {
              "outlinewidth": 0,
              "ticks": ""
             }
            },
            "type": "scattercarpet"
           }
          ],
          "scattergeo": [
           {
            "marker": {
             "colorbar": {
              "outlinewidth": 0,
              "ticks": ""
             }
            },
            "type": "scattergeo"
           }
          ],
          "scattergl": [
           {
            "marker": {
             "colorbar": {
              "outlinewidth": 0,
              "ticks": ""
             }
            },
            "type": "scattergl"
           }
          ],
          "scattermap": [
           {
            "marker": {
             "colorbar": {
              "outlinewidth": 0,
              "ticks": ""
             }
            },
            "type": "scattermap"
           }
          ],
          "scattermapbox": [
           {
            "marker": {
             "colorbar": {
              "outlinewidth": 0,
              "ticks": ""
             }
            },
            "type": "scattermapbox"
           }
          ],
          "scatterpolar": [
           {
            "marker": {
             "colorbar": {
              "outlinewidth": 0,
              "ticks": ""
             }
            },
            "type": "scatterpolar"
           }
          ],
          "scatterpolargl": [
           {
            "marker": {
             "colorbar": {
              "outlinewidth": 0,
              "ticks": ""
             }
            },
            "type": "scatterpolargl"
           }
          ],
          "scatterternary": [
           {
            "marker": {
             "colorbar": {
              "outlinewidth": 0,
              "ticks": ""
             }
            },
            "type": "scatterternary"
           }
          ],
          "surface": [
           {
            "colorbar": {
             "outlinewidth": 0,
             "ticks": ""
            },
            "colorscale": [
             [
              0,
              "#0d0887"
             ],
             [
              0.1111111111111111,
              "#46039f"
             ],
             [
              0.2222222222222222,
              "#7201a8"
             ],
             [
              0.3333333333333333,
              "#9c179e"
             ],
             [
              0.4444444444444444,
              "#bd3786"
             ],
             [
              0.5555555555555556,
              "#d8576b"
             ],
             [
              0.6666666666666666,
              "#ed7953"
             ],
             [
              0.7777777777777778,
              "#fb9f3a"
             ],
             [
              0.8888888888888888,
              "#fdca26"
             ],
             [
              1,
              "#f0f921"
             ]
            ],
            "type": "surface"
           }
          ],
          "table": [
           {
            "cells": {
             "fill": {
              "color": "#EBF0F8"
             },
             "line": {
              "color": "white"
             }
            },
            "header": {
             "fill": {
              "color": "#C8D4E3"
             },
             "line": {
              "color": "white"
             }
            },
            "type": "table"
           }
          ]
         },
         "layout": {
          "annotationdefaults": {
           "arrowcolor": "#2a3f5f",
           "arrowhead": 0,
           "arrowwidth": 1
          },
          "autotypenumbers": "strict",
          "coloraxis": {
           "colorbar": {
            "outlinewidth": 0,
            "ticks": ""
           }
          },
          "colorscale": {
           "diverging": [
            [
             0,
             "#8e0152"
            ],
            [
             0.1,
             "#c51b7d"
            ],
            [
             0.2,
             "#de77ae"
            ],
            [
             0.3,
             "#f1b6da"
            ],
            [
             0.4,
             "#fde0ef"
            ],
            [
             0.5,
             "#f7f7f7"
            ],
            [
             0.6,
             "#e6f5d0"
            ],
            [
             0.7,
             "#b8e186"
            ],
            [
             0.8,
             "#7fbc41"
            ],
            [
             0.9,
             "#4d9221"
            ],
            [
             1,
             "#276419"
            ]
           ],
           "sequential": [
            [
             0,
             "#0d0887"
            ],
            [
             0.1111111111111111,
             "#46039f"
            ],
            [
             0.2222222222222222,
             "#7201a8"
            ],
            [
             0.3333333333333333,
             "#9c179e"
            ],
            [
             0.4444444444444444,
             "#bd3786"
            ],
            [
             0.5555555555555556,
             "#d8576b"
            ],
            [
             0.6666666666666666,
             "#ed7953"
            ],
            [
             0.7777777777777778,
             "#fb9f3a"
            ],
            [
             0.8888888888888888,
             "#fdca26"
            ],
            [
             1,
             "#f0f921"
            ]
           ],
           "sequentialminus": [
            [
             0,
             "#0d0887"
            ],
            [
             0.1111111111111111,
             "#46039f"
            ],
            [
             0.2222222222222222,
             "#7201a8"
            ],
            [
             0.3333333333333333,
             "#9c179e"
            ],
            [
             0.4444444444444444,
             "#bd3786"
            ],
            [
             0.5555555555555556,
             "#d8576b"
            ],
            [
             0.6666666666666666,
             "#ed7953"
            ],
            [
             0.7777777777777778,
             "#fb9f3a"
            ],
            [
             0.8888888888888888,
             "#fdca26"
            ],
            [
             1,
             "#f0f921"
            ]
           ]
          },
          "colorway": [
           "#636efa",
           "#EF553B",
           "#00cc96",
           "#ab63fa",
           "#FFA15A",
           "#19d3f3",
           "#FF6692",
           "#B6E880",
           "#FF97FF",
           "#FECB52"
          ],
          "font": {
           "color": "#2a3f5f"
          },
          "geo": {
           "bgcolor": "white",
           "lakecolor": "white",
           "landcolor": "#E5ECF6",
           "showlakes": true,
           "showland": true,
           "subunitcolor": "white"
          },
          "hoverlabel": {
           "align": "left"
          },
          "hovermode": "closest",
          "mapbox": {
           "style": "light"
          },
          "paper_bgcolor": "white",
          "plot_bgcolor": "#E5ECF6",
          "polar": {
           "angularaxis": {
            "gridcolor": "white",
            "linecolor": "white",
            "ticks": ""
           },
           "bgcolor": "#E5ECF6",
           "radialaxis": {
            "gridcolor": "white",
            "linecolor": "white",
            "ticks": ""
           }
          },
          "scene": {
           "xaxis": {
            "backgroundcolor": "#E5ECF6",
            "gridcolor": "white",
            "gridwidth": 2,
            "linecolor": "white",
            "showbackground": true,
            "ticks": "",
            "zerolinecolor": "white"
           },
           "yaxis": {
            "backgroundcolor": "#E5ECF6",
            "gridcolor": "white",
            "gridwidth": 2,
            "linecolor": "white",
            "showbackground": true,
            "ticks": "",
            "zerolinecolor": "white"
           },
           "zaxis": {
            "backgroundcolor": "#E5ECF6",
            "gridcolor": "white",
            "gridwidth": 2,
            "linecolor": "white",
            "showbackground": true,
            "ticks": "",
            "zerolinecolor": "white"
           }
          },
          "shapedefaults": {
           "line": {
            "color": "#2a3f5f"
           }
          },
          "ternary": {
           "aaxis": {
            "gridcolor": "white",
            "linecolor": "white",
            "ticks": ""
           },
           "baxis": {
            "gridcolor": "white",
            "linecolor": "white",
            "ticks": ""
           },
           "bgcolor": "#E5ECF6",
           "caxis": {
            "gridcolor": "white",
            "linecolor": "white",
            "ticks": ""
           }
          },
          "title": {
           "x": 0.05
          },
          "xaxis": {
           "automargin": true,
           "gridcolor": "white",
           "linecolor": "white",
           "ticks": "",
           "title": {
            "standoff": 15
           },
           "zerolinecolor": "white",
           "zerolinewidth": 2
          },
          "yaxis": {
           "automargin": true,
           "gridcolor": "white",
           "linecolor": "white",
           "ticks": "",
           "title": {
            "standoff": 15
           },
           "zerolinecolor": "white",
           "zerolinewidth": 2
          }
         }
        },
        "title": {
         "text": "Relação entre Empregos Informais e PIB per capita por Estado (sem DF)"
        },
        "xaxis": {
         "anchor": "y",
         "domain": [
          0,
          1
         ],
         "title": {
          "text": "Empregos Informais (média 2016–2021)"
         },
         "type": "log"
        },
        "yaxis": {
         "anchor": "x",
         "domain": [
          0,
          1
         ],
         "title": {
          "text": "PIB per capita médio (R$)"
         }
        }
       }
      }
     },
     "metadata": {},
     "output_type": "display_data"
    }
   ],
   "source": [
    "# Identificar o estado com o maior número de \"Empregos Informais\"\n",
    "df_estado_max_empregos = df_estado[df_estado['Empregos_Informais'] == df_estado['Empregos_Informais'].max()]\n",
    "estado_max_empregos = df_estado_max_empregos['UF'].values[0]\n",
    "#print(f'O estado com o maior número de empregos informais é: {estado_max_empregos}')\n",
    "\n",
    "# Gráfico 2: Sem o estado com o maior número de \"Empregos Informais\"\n",
    "df_estado_sem_max_empregos = df_estado[df_estado['UF'] != estado_max_empregos]\n",
    "\n",
    "fig_sem_max_empregos = px.scatter(\n",
    "    df_estado_sem_max_empregos,\n",
    "    x='Empregos_Informais',\n",
    "    y='PIB_per_capita',\n",
    "    text='UF',\n",
    "\n",
    "    title=f'Relação entre Empregos Informais e PIB per capita por Estado (sem {estado_max_empregos})',\n",
    "    labels={\n",
    "        'Empregos_Informais': 'Empregos Informais (média 2016–2021)',\n",
    "        'PIB_per_capita': 'PIB per capita médio (R$)'\n",
    "    },\n",
    "    log_x=True  # Escala logarítmica\n",
    ")\n",
    "\n",
    "fig_sem_max_empregos.update_traces(textposition='top center')\n",
    "fig_sem_max_empregos.show()\n"
   ]
  },
  {
   "cell_type": "markdown",
   "metadata": {},
   "source": [
    "#### 🎯 Motivo da Utilização do Gráfico\n",
    "Usamos esse gráfico de dispersão sem o Distrito Federal para investigar a relação entre empregos informais e PIB per capita de forma mais precisa, sem a influência de um valor extremo que pode distorcer a visualização. Quando incluímos o DF, que possui um número de empregos informais muito alto em relação aos outros estados, isso pode comprimir os dados dos outros estados e dificultar a identificação de padrões claros. Remover o DF permite que vejamos mais claramente a correlação entre as duas variáveis para os estados que estão fora dessa exceção.\n",
    "\n",
    "A aplicação da escala logarítmica no eixo X continua a ser importante, já que ela ajuda a suavizar a distorção causada pelos estados com muitos empregos informais e permite que os pontos com menos informalidade sejam mais bem distribuídos no gráfico."
   ]
  },
  {
   "cell_type": "markdown",
   "metadata": {},
   "source": [
    "#### 📌 Explicação do Conteúdo do Gráfico\n",
    "Neste gráfico, temos o mesmo tipo de análise, mas sem o DF. O eixo X representa o número médio de empregos informais (em uma escala logarítmica), e o eixo Y continua representando o PIB per capita dos estados (em R$). A remoção do DF melhora a visualização da distribuição dos dados, permitindo que os estados com PIB per capita mais baixo e com maior informalidade no mercado de trabalho se destaquem mais claramente.\n"
   ]
  },
  {
   "cell_type": "markdown",
   "metadata": {},
   "source": [
    "#### ✅ O que podemos perceber?\n",
    "\n",
    "No gráfico 2, onde removemos o Distrito Federal (DF), conseguimos visualizar mais claramente a relação entre empregos informais e PIB per capita nos estados brasileiros. A tendência de que empregos informais podem estar associados a um PIB per capita mais baixo é mais visível, sugerindo que a informalidade no mercado de trabalho pode refletir condições econômicas mais desafiadoras em algumas regiões.\n",
    "\n",
    "No entanto, mesmo com a remoção do DF, ainda observamos exceções como o Mato Grosso (MT), onde o PIB per capita é elevado, apesar de um número significativo de empregos informais. Isso reforça a ideia de que a relação entre essas duas variáveis pode ser mais complexa do que simplesmente correlacionar informalidade com baixo desenvolvimento econômico.\n",
    "\n",
    "Como resultado, embora o gráfico sugira uma tendência, a análise não é conclusiva. Outros fatores econômicos, sociais e regionais precisam ser considerados para entender melhor a dinâmica entre empregos informais e PIB per capita. Mais análises são necessárias para explorar profundamente essa relação e identificar os fatores subjacentes que podem influenciar os dados."
   ]
  },
  {
   "cell_type": "markdown",
   "metadata": {},
   "source": [
    "### 📊 Análise Comparativa do PIB per capita e Produção Pecuária por Região\n",
    "Para compreender as relações entre a produção pecuária e o desenvolvimento econômico em diferentes regiões do Brasil, este gráfico foi criado para correlacionar o PIB per capita médio e a produção pecuária média por região. Esses indicadores são fundamentais para avaliar tanto o desempenho econômico regional quanto a importância relativa do setor pecuário."
   ]
  },
  {
   "cell_type": "code",
   "execution_count": 60,
   "metadata": {},
   "outputs": [
    {
     "data": {
      "application/vnd.plotly.v1+json": {
       "config": {
        "plotlyServerURL": "https://plot.ly"
       },
       "data": [
        {
         "hovertext": [
          "Nordeste",
          "Norte",
          "Sudeste",
          "Centro-Oeste",
          "Sul"
         ],
         "line": {
          "color": "royalblue"
         },
         "mode": "lines+markers",
         "name": "PIB per Capita Médio (R$)",
         "type": "scatter",
         "x": {
          "bdata": "0U8T5wGUxkBNTsyvYRrLQOWrUumi09pAgDl5TwUv3kCYHfvi3qLfQA==",
          "dtype": "f8"
         },
         "y": {
          "bdata": "MaDru1OAykCEvcTlkrDTQLOYeAaNONxA5IwxgD254kBKr5OiPKviQA==",
          "dtype": "f8"
         }
        },
        {
         "hovertext": [
          "Nordeste",
          "Norte",
          "Sudeste",
          "Centro-Oeste",
          "Sul"
         ],
         "line": {
          "color": "seagreen"
         },
         "mode": "lines+markers",
         "name": "Produção Pecuária Média (R$)",
         "type": "scatter",
         "x": {
          "bdata": "0U8T5wGUxkBNTsyvYRrLQOWrUumi09pAgDl5TwUv3kCYHfvi3qLfQA==",
          "dtype": "f8"
         },
         "y": {
          "bdata": "0U8T5wGUxkBNTsyvYRrLQOWrUumi09pAgDl5TwUv3kCYHfvi3qLfQA==",
          "dtype": "f8"
         }
        }
       ],
       "layout": {
        "height": 500,
        "hovermode": "x unified",
        "legend": {
         "orientation": "h",
         "title": {
          "text": "Legenda"
         },
         "x": 0.5,
         "xanchor": "center",
         "y": -0.2
        },
        "template": {
         "data": {
          "bar": [
           {
            "error_x": {
             "color": "#2a3f5f"
            },
            "error_y": {
             "color": "#2a3f5f"
            },
            "marker": {
             "line": {
              "color": "white",
              "width": 0.5
             },
             "pattern": {
              "fillmode": "overlay",
              "size": 10,
              "solidity": 0.2
             }
            },
            "type": "bar"
           }
          ],
          "barpolar": [
           {
            "marker": {
             "line": {
              "color": "white",
              "width": 0.5
             },
             "pattern": {
              "fillmode": "overlay",
              "size": 10,
              "solidity": 0.2
             }
            },
            "type": "barpolar"
           }
          ],
          "carpet": [
           {
            "aaxis": {
             "endlinecolor": "#2a3f5f",
             "gridcolor": "#C8D4E3",
             "linecolor": "#C8D4E3",
             "minorgridcolor": "#C8D4E3",
             "startlinecolor": "#2a3f5f"
            },
            "baxis": {
             "endlinecolor": "#2a3f5f",
             "gridcolor": "#C8D4E3",
             "linecolor": "#C8D4E3",
             "minorgridcolor": "#C8D4E3",
             "startlinecolor": "#2a3f5f"
            },
            "type": "carpet"
           }
          ],
          "choropleth": [
           {
            "colorbar": {
             "outlinewidth": 0,
             "ticks": ""
            },
            "type": "choropleth"
           }
          ],
          "contour": [
           {
            "colorbar": {
             "outlinewidth": 0,
             "ticks": ""
            },
            "colorscale": [
             [
              0,
              "#0d0887"
             ],
             [
              0.1111111111111111,
              "#46039f"
             ],
             [
              0.2222222222222222,
              "#7201a8"
             ],
             [
              0.3333333333333333,
              "#9c179e"
             ],
             [
              0.4444444444444444,
              "#bd3786"
             ],
             [
              0.5555555555555556,
              "#d8576b"
             ],
             [
              0.6666666666666666,
              "#ed7953"
             ],
             [
              0.7777777777777778,
              "#fb9f3a"
             ],
             [
              0.8888888888888888,
              "#fdca26"
             ],
             [
              1,
              "#f0f921"
             ]
            ],
            "type": "contour"
           }
          ],
          "contourcarpet": [
           {
            "colorbar": {
             "outlinewidth": 0,
             "ticks": ""
            },
            "type": "contourcarpet"
           }
          ],
          "heatmap": [
           {
            "colorbar": {
             "outlinewidth": 0,
             "ticks": ""
            },
            "colorscale": [
             [
              0,
              "#0d0887"
             ],
             [
              0.1111111111111111,
              "#46039f"
             ],
             [
              0.2222222222222222,
              "#7201a8"
             ],
             [
              0.3333333333333333,
              "#9c179e"
             ],
             [
              0.4444444444444444,
              "#bd3786"
             ],
             [
              0.5555555555555556,
              "#d8576b"
             ],
             [
              0.6666666666666666,
              "#ed7953"
             ],
             [
              0.7777777777777778,
              "#fb9f3a"
             ],
             [
              0.8888888888888888,
              "#fdca26"
             ],
             [
              1,
              "#f0f921"
             ]
            ],
            "type": "heatmap"
           }
          ],
          "histogram": [
           {
            "marker": {
             "pattern": {
              "fillmode": "overlay",
              "size": 10,
              "solidity": 0.2
             }
            },
            "type": "histogram"
           }
          ],
          "histogram2d": [
           {
            "colorbar": {
             "outlinewidth": 0,
             "ticks": ""
            },
            "colorscale": [
             [
              0,
              "#0d0887"
             ],
             [
              0.1111111111111111,
              "#46039f"
             ],
             [
              0.2222222222222222,
              "#7201a8"
             ],
             [
              0.3333333333333333,
              "#9c179e"
             ],
             [
              0.4444444444444444,
              "#bd3786"
             ],
             [
              0.5555555555555556,
              "#d8576b"
             ],
             [
              0.6666666666666666,
              "#ed7953"
             ],
             [
              0.7777777777777778,
              "#fb9f3a"
             ],
             [
              0.8888888888888888,
              "#fdca26"
             ],
             [
              1,
              "#f0f921"
             ]
            ],
            "type": "histogram2d"
           }
          ],
          "histogram2dcontour": [
           {
            "colorbar": {
             "outlinewidth": 0,
             "ticks": ""
            },
            "colorscale": [
             [
              0,
              "#0d0887"
             ],
             [
              0.1111111111111111,
              "#46039f"
             ],
             [
              0.2222222222222222,
              "#7201a8"
             ],
             [
              0.3333333333333333,
              "#9c179e"
             ],
             [
              0.4444444444444444,
              "#bd3786"
             ],
             [
              0.5555555555555556,
              "#d8576b"
             ],
             [
              0.6666666666666666,
              "#ed7953"
             ],
             [
              0.7777777777777778,
              "#fb9f3a"
             ],
             [
              0.8888888888888888,
              "#fdca26"
             ],
             [
              1,
              "#f0f921"
             ]
            ],
            "type": "histogram2dcontour"
           }
          ],
          "mesh3d": [
           {
            "colorbar": {
             "outlinewidth": 0,
             "ticks": ""
            },
            "type": "mesh3d"
           }
          ],
          "parcoords": [
           {
            "line": {
             "colorbar": {
              "outlinewidth": 0,
              "ticks": ""
             }
            },
            "type": "parcoords"
           }
          ],
          "pie": [
           {
            "automargin": true,
            "type": "pie"
           }
          ],
          "scatter": [
           {
            "fillpattern": {
             "fillmode": "overlay",
             "size": 10,
             "solidity": 0.2
            },
            "type": "scatter"
           }
          ],
          "scatter3d": [
           {
            "line": {
             "colorbar": {
              "outlinewidth": 0,
              "ticks": ""
             }
            },
            "marker": {
             "colorbar": {
              "outlinewidth": 0,
              "ticks": ""
             }
            },
            "type": "scatter3d"
           }
          ],
          "scattercarpet": [
           {
            "marker": {
             "colorbar": {
              "outlinewidth": 0,
              "ticks": ""
             }
            },
            "type": "scattercarpet"
           }
          ],
          "scattergeo": [
           {
            "marker": {
             "colorbar": {
              "outlinewidth": 0,
              "ticks": ""
             }
            },
            "type": "scattergeo"
           }
          ],
          "scattergl": [
           {
            "marker": {
             "colorbar": {
              "outlinewidth": 0,
              "ticks": ""
             }
            },
            "type": "scattergl"
           }
          ],
          "scattermap": [
           {
            "marker": {
             "colorbar": {
              "outlinewidth": 0,
              "ticks": ""
             }
            },
            "type": "scattermap"
           }
          ],
          "scattermapbox": [
           {
            "marker": {
             "colorbar": {
              "outlinewidth": 0,
              "ticks": ""
             }
            },
            "type": "scattermapbox"
           }
          ],
          "scatterpolar": [
           {
            "marker": {
             "colorbar": {
              "outlinewidth": 0,
              "ticks": ""
             }
            },
            "type": "scatterpolar"
           }
          ],
          "scatterpolargl": [
           {
            "marker": {
             "colorbar": {
              "outlinewidth": 0,
              "ticks": ""
             }
            },
            "type": "scatterpolargl"
           }
          ],
          "scatterternary": [
           {
            "marker": {
             "colorbar": {
              "outlinewidth": 0,
              "ticks": ""
             }
            },
            "type": "scatterternary"
           }
          ],
          "surface": [
           {
            "colorbar": {
             "outlinewidth": 0,
             "ticks": ""
            },
            "colorscale": [
             [
              0,
              "#0d0887"
             ],
             [
              0.1111111111111111,
              "#46039f"
             ],
             [
              0.2222222222222222,
              "#7201a8"
             ],
             [
              0.3333333333333333,
              "#9c179e"
             ],
             [
              0.4444444444444444,
              "#bd3786"
             ],
             [
              0.5555555555555556,
              "#d8576b"
             ],
             [
              0.6666666666666666,
              "#ed7953"
             ],
             [
              0.7777777777777778,
              "#fb9f3a"
             ],
             [
              0.8888888888888888,
              "#fdca26"
             ],
             [
              1,
              "#f0f921"
             ]
            ],
            "type": "surface"
           }
          ],
          "table": [
           {
            "cells": {
             "fill": {
              "color": "#EBF0F8"
             },
             "line": {
              "color": "white"
             }
            },
            "header": {
             "fill": {
              "color": "#C8D4E3"
             },
             "line": {
              "color": "white"
             }
            },
            "type": "table"
           }
          ]
         },
         "layout": {
          "annotationdefaults": {
           "arrowcolor": "#2a3f5f",
           "arrowhead": 0,
           "arrowwidth": 1
          },
          "autotypenumbers": "strict",
          "coloraxis": {
           "colorbar": {
            "outlinewidth": 0,
            "ticks": ""
           }
          },
          "colorscale": {
           "diverging": [
            [
             0,
             "#8e0152"
            ],
            [
             0.1,
             "#c51b7d"
            ],
            [
             0.2,
             "#de77ae"
            ],
            [
             0.3,
             "#f1b6da"
            ],
            [
             0.4,
             "#fde0ef"
            ],
            [
             0.5,
             "#f7f7f7"
            ],
            [
             0.6,
             "#e6f5d0"
            ],
            [
             0.7,
             "#b8e186"
            ],
            [
             0.8,
             "#7fbc41"
            ],
            [
             0.9,
             "#4d9221"
            ],
            [
             1,
             "#276419"
            ]
           ],
           "sequential": [
            [
             0,
             "#0d0887"
            ],
            [
             0.1111111111111111,
             "#46039f"
            ],
            [
             0.2222222222222222,
             "#7201a8"
            ],
            [
             0.3333333333333333,
             "#9c179e"
            ],
            [
             0.4444444444444444,
             "#bd3786"
            ],
            [
             0.5555555555555556,
             "#d8576b"
            ],
            [
             0.6666666666666666,
             "#ed7953"
            ],
            [
             0.7777777777777778,
             "#fb9f3a"
            ],
            [
             0.8888888888888888,
             "#fdca26"
            ],
            [
             1,
             "#f0f921"
            ]
           ],
           "sequentialminus": [
            [
             0,
             "#0d0887"
            ],
            [
             0.1111111111111111,
             "#46039f"
            ],
            [
             0.2222222222222222,
             "#7201a8"
            ],
            [
             0.3333333333333333,
             "#9c179e"
            ],
            [
             0.4444444444444444,
             "#bd3786"
            ],
            [
             0.5555555555555556,
             "#d8576b"
            ],
            [
             0.6666666666666666,
             "#ed7953"
            ],
            [
             0.7777777777777778,
             "#fb9f3a"
            ],
            [
             0.8888888888888888,
             "#fdca26"
            ],
            [
             1,
             "#f0f921"
            ]
           ]
          },
          "colorway": [
           "#636efa",
           "#EF553B",
           "#00cc96",
           "#ab63fa",
           "#FFA15A",
           "#19d3f3",
           "#FF6692",
           "#B6E880",
           "#FF97FF",
           "#FECB52"
          ],
          "font": {
           "color": "#2a3f5f"
          },
          "geo": {
           "bgcolor": "white",
           "lakecolor": "white",
           "landcolor": "white",
           "showlakes": true,
           "showland": true,
           "subunitcolor": "#C8D4E3"
          },
          "hoverlabel": {
           "align": "left"
          },
          "hovermode": "closest",
          "mapbox": {
           "style": "light"
          },
          "paper_bgcolor": "white",
          "plot_bgcolor": "white",
          "polar": {
           "angularaxis": {
            "gridcolor": "#EBF0F8",
            "linecolor": "#EBF0F8",
            "ticks": ""
           },
           "bgcolor": "white",
           "radialaxis": {
            "gridcolor": "#EBF0F8",
            "linecolor": "#EBF0F8",
            "ticks": ""
           }
          },
          "scene": {
           "xaxis": {
            "backgroundcolor": "white",
            "gridcolor": "#DFE8F3",
            "gridwidth": 2,
            "linecolor": "#EBF0F8",
            "showbackground": true,
            "ticks": "",
            "zerolinecolor": "#EBF0F8"
           },
           "yaxis": {
            "backgroundcolor": "white",
            "gridcolor": "#DFE8F3",
            "gridwidth": 2,
            "linecolor": "#EBF0F8",
            "showbackground": true,
            "ticks": "",
            "zerolinecolor": "#EBF0F8"
           },
           "zaxis": {
            "backgroundcolor": "white",
            "gridcolor": "#DFE8F3",
            "gridwidth": 2,
            "linecolor": "#EBF0F8",
            "showbackground": true,
            "ticks": "",
            "zerolinecolor": "#EBF0F8"
           }
          },
          "shapedefaults": {
           "line": {
            "color": "#2a3f5f"
           }
          },
          "ternary": {
           "aaxis": {
            "gridcolor": "#DFE8F3",
            "linecolor": "#A2B1C6",
            "ticks": ""
           },
           "baxis": {
            "gridcolor": "#DFE8F3",
            "linecolor": "#A2B1C6",
            "ticks": ""
           },
           "bgcolor": "white",
           "caxis": {
            "gridcolor": "#DFE8F3",
            "linecolor": "#A2B1C6",
            "ticks": ""
           }
          },
          "title": {
           "x": 0.05
          },
          "xaxis": {
           "automargin": true,
           "gridcolor": "#EBF0F8",
           "linecolor": "#EBF0F8",
           "ticks": "",
           "title": {
            "standoff": 15
           },
           "zerolinecolor": "#EBF0F8",
           "zerolinewidth": 2
          },
          "yaxis": {
           "automargin": true,
           "gridcolor": "#EBF0F8",
           "linecolor": "#EBF0F8",
           "ticks": "",
           "title": {
            "standoff": 15
           },
           "zerolinecolor": "#EBF0F8",
           "zerolinewidth": 2
          }
         }
        },
        "title": {
         "text": "Produção Pecuária Média vs PIB per Capita",
         "x": 0.5,
         "xanchor": "center",
         "yanchor": "top"
        },
        "width": 900,
        "xaxis": {
         "showgrid": true,
         "title": {
          "text": "Produção Pecuária Média (R$)"
         }
        },
        "yaxis": {
         "showgrid": true,
         "title": {
          "text": "PIB per Capita Médio (R$)"
         }
        }
       }
      }
     },
     "metadata": {},
     "output_type": "display_data"
    }
   ],
   "source": [
    "df = pd.read_csv(\"dataFrame/BrStatsAtualizada.csv\", sep=\";\", low_memory=False)\n",
    "df_pib_percapita = pd.read_csv(\"pib_per_capita/pib_per_capita_regioes.csv\")\n",
    "\n",
    "df[\"VlProducaoPecuaria\"] = pd.to_numeric(\n",
    "    df[\"VlProducaoPecuaria\"].astype(str).str.replace(\",\", \".\"), errors=\"coerce\"\n",
    ")\n",
    "\n",
    "df[\"povoamento\"] = pd.to_numeric(\n",
    "    df[\"povoamento\"].astype(str).str.replace(\",\", \".\"), errors=\"coerce\"\n",
    ")\n",
    "\n",
    "df_regiao = df.groupby(\"Regiao\")[[\"VlProducaoPecuaria\"]].mean().reset_index()\n",
    "df_pib = df_pib_percapita.groupby(\"Regiao\")[[\"PIB_per_capita\"]].mean().reset_index()\n",
    "\n",
    "df_pib_producao = pd.merge(df_regiao, df_pib, on=\"Regiao\")\n",
    "\n",
    "df_pib_producao = df_pib_producao.sort_values(\"VlProducaoPecuaria\")\n",
    "\n",
    "fig = go.Figure()\n",
    "\n",
    "fig.add_trace(go.Scatter(\n",
    "    x=df_pib_producao[\"VlProducaoPecuaria\"],\n",
    "    y=df_pib_producao[\"PIB_per_capita\"],\n",
    "    mode=\"lines+markers\",\n",
    "    name=\"PIB per Capita Médio (R$)\", \n",
    "    line=dict(color=\"royalblue\"),\n",
    "    hovertext=df_pib_producao[\"Regiao\"]\n",
    "))\n",
    "\n",
    "fig.add_trace(go.Scatter(\n",
    "    x=df_pib_producao[\"VlProducaoPecuaria\"],\n",
    "    y=df_pib_producao[\"VlProducaoPecuaria\"],\n",
    "    mode=\"lines+markers\",\n",
    "    name=\"Produção Pecuária Média (R$)\",  \n",
    "    line=dict(color=\"seagreen\"),\n",
    "    hovertext=df_pib_producao[\"Regiao\"]\n",
    "))\n",
    "\n",
    "fig.update_layout(\n",
    "    title={\n",
    "        \"text\": \"Produção Pecuária Média vs PIB per Capita\",\n",
    "        \"x\": 0.5,  \n",
    "        \"xanchor\": \"center\",\n",
    "        \"yanchor\": \"top\"\n",
    "    },\n",
    "    xaxis=dict(\n",
    "        title=\"Produção Pecuária Média (R$)\",\n",
    "        showgrid=True\n",
    "    ),\n",
    "    yaxis=dict(\n",
    "        title=\"PIB per Capita Médio (R$)\",\n",
    "        showgrid=True\n",
    "    ),\n",
    "    height=500,\n",
    "    width=900,\n",
    "    template=\"plotly_white\",\n",
    "    hovermode=\"x unified\",\n",
    "    legend=dict(\n",
    "        title=dict(text=\"Legenda\"), \n",
    "        orientation=\"h\",  \n",
    "        x=0.5,\n",
    "        xanchor=\"center\",\n",
    "        y=-0.2  \n",
    "    )\n",
    ")\n",
    "\n",
    "# Exibir gráfico\n",
    "fig.show()\n"
   ]
  },
  {
   "cell_type": "markdown",
   "metadata": {},
   "source": [
    "#### 🎯 Motivo da Utilização do Gráfico\n",
    "O gráfico utilizado foi um scatter plot com linhas, pois ele combina a clareza visual dos pontos de dispersão com a conexão de tendências proporcionada pelas linhas. Isso permite observar a correlação entre os dois indicadores, destacando como cada região se posiciona em termos de produção pecuária e PIB per capita. "
   ]
  },
  {
   "cell_type": "markdown",
   "metadata": {},
   "source": [
    "#### 📌 Explicação do Conteúdo do Gráfico\n",
    "\n",
    "O gráfico utilizado foi um scatter plot com linhas, escolhido por sua capacidade de combinar clareza visual e análise de tendências. Ele apresenta dois eixos principais:\n",
    "\n",
    "Eixo X (Produção Pecuária Média): Representa a média do valor da produção pecuária em cada região, medida em reais (R$). É um indicador direto do desempenho do setor agropecuário em diferentes áreas.\n",
    "\n",
    "Eixo Y (PIB per Capita Médio): Representa a média do PIB per capita por região, também em reais (R$). Esse eixo reflete o nível econômico e de desenvolvimento em cada localidade.\n",
    "\n",
    "As linhas e marcadores destacam os dados de cada região:\n",
    "\n",
    "A linha azul exibe o comportamento do PIB per capita médio em relação aos valores da produção pecuária.\n",
    "\n",
    "A linha verde mostra a produção pecuária média de forma comparativa.\n",
    "\n",
    "Cada ponto no gráfico corresponde a uma região específica, e os textos interativos permitem identificar os valores exatos ao passar o cursor sobre os pontos."
   ]
  },
  {
   "cell_type": "markdown",
   "metadata": {},
   "source": [
    "#### ✅ O que podemos perceber?\n",
    "\n",
    "Os dados revelam uma correlação positiva moderada entre a produção pecuária e o PIB per capita. Regiões como o Centro-Oeste e o Sul, líderes em produção pecuária, também apresentam PIBs per capita elevados, indicando uma forte relação econômica com o setor agropecuário. Por outro lado, regiões como o Nordeste e o Norte, com menor participação pecuária, possuem PIBs per capita mais baixos, sugerindo maior dependência de outros setores ou um menor nível de desenvolvimento econômico global. O Sudeste, mesmo não liderando na produção pecuária, possui PIB per capita elevado devido à diversificação econômica e à alta industrialização.\n",
    "\n",
    "Essa análise evidencia que, embora a produção pecuária contribua significativamente para o desenvolvimento econômico em algumas regiões, outros fatores, como a industrialização, a infraestrutura e os serviços, também desempenham papéis importantes. As diferenças observadas sugerem que políticas públicas voltadas à diversificação econômica ou ao aumento da produtividade pecuária poderiam beneficiar regiões com menor desenvolvimento. "
   ]
  },
  {
   "cell_type": "markdown",
   "metadata": {},
   "source": [
    "### 📊  Mortalidade Infantil x Produção Agrícola"
   ]
  },
  {
   "cell_type": "code",
   "execution_count": 61,
   "metadata": {},
   "outputs": [
    {
     "data": {
      "application/vnd.plotly.v1+json": {
       "config": {
        "plotlyServerURL": "https://plot.ly"
       },
       "data": [
        {
         "customdata": {
          "bdata": "AAAAAACAn0AAAAAcN8WUQQAAAAAAhJ9AAAAA2IOKkkEAAAAAAIifQAAAAEBKBpNBAAAAAACMn0AAAAD04TuVQQAAAAAAkJ9AAAAAlEZ/l0EAAAAAAJSfQAAAAKAlQpZB",
          "dtype": "f8",
          "shape": "6, 2"
         },
         "hovertemplate": "<b>%{hovertext}</b><br><br>Região=Centro-Oeste<br>Mortalidade Infantil (por 1000 nascidos vivos)=%{x}<br>Produção Agrícola (em milhões de R$)=%{marker.size}<br>Ano=%{customdata[0]}<br>VlProducaoAgricola=%{customdata[1]}<extra></extra>",
         "hovertext": [
          "Centro-Oeste",
          "Centro-Oeste",
          "Centro-Oeste",
          "Centro-Oeste",
          "Centro-Oeste",
          "Centro-Oeste"
         ],
         "legendgroup": "Centro-Oeste",
         "marker": {
          "color": "#636efa",
          "size": {
           "bdata": "uJIdG4HHVUArTyDsFHFTQB10CYfe8lNA9+rjoe9DVkAz+zxGeaNYQAJlU67wVldA",
           "dtype": "f8"
          },
          "sizemode": "area",
          "sizeref": 0.30550268444444445,
          "symbol": "circle"
         },
         "mode": "markers",
         "name": "Centro-Oeste",
         "orientation": "v",
         "showlegend": true,
         "type": "scatter",
         "x": {
          "bdata": "FzbCMtSuQ0BCUimvurNBQALfSDsLc0JA4kqx/BwxQkCCDaq1CbZAQGXkeqf6W0FA",
          "dtype": "f8"
         },
         "xaxis": "x",
         "y": {
          "bdata": "uJIdG4HHVUArTyDsFHFTQB10CYfe8lNA9+rjoe9DVkAz+zxGeaNYQAJlU67wVldA",
          "dtype": "f8"
         },
         "yaxis": "y"
        },
        {
         "customdata": {
          "bdata": "AAAAAACAn0AAAAAwFjGJQQAAAAAAhJ9AAAAAoM0iiUEAAAAAAIifQAAAAPjLUohBAAAAAACMn0AAAABgm+qLQQAAAAAAkJ9AAAAA4EuTj0EAAAAAAJSfQAAAAFwodZJB",
          "dtype": "f8",
          "shape": "6, 2"
         },
         "hovertemplate": "<b>%{hovertext}</b><br><br>Região=Nordeste<br>Mortalidade Infantil (por 1000 nascidos vivos)=%{x}<br>Produção Agrícola (em milhões de R$)=%{marker.size}<br>Ano=%{customdata[0]}<br>VlProducaoAgricola=%{customdata[1]}<extra></extra>",
         "hovertext": [
          "Nordeste",
          "Nordeste",
          "Nordeste",
          "Nordeste",
          "Nordeste",
          "Nordeste"
         ],
         "legendgroup": "Nordeste",
         "marker": {
          "color": "#EF553B",
          "size": {
           "bdata": "MNRhhVtqSkAoLVxWYVtKQPRNmgZFgUlANxjqsMJFTUDrp/+s+Y1QQDv/dtmvWlNA",
           "dtype": "f8"
          },
          "sizemode": "area",
          "sizeref": 0.30550268444444445,
          "symbol": "circle"
         },
         "mode": "markers",
         "name": "Nordeste",
         "orientation": "v",
         "showlegend": true,
         "type": "scatter",
         "x": {
          "bdata": "KIXGVgh7PUDH6kxAJuw8QA5dhsxZADxAW880Ae0BPEASuAe9rKw5QIOIoIAZ1DlA",
          "dtype": "f8"
         },
         "xaxis": "x",
         "y": {
          "bdata": "MNRhhVtqSkAoLVxWYVtKQPRNmgZFgUlANxjqsMJFTUDrp/+s+Y1QQDv/dtmvWlNA",
          "dtype": "f8"
         },
         "yaxis": "y"
        },
        {
         "customdata": {
          "bdata": "AAAAAACAn0AAAAAAcoGBQQAAAAAAhJ9AAAAAQMYKgkEAAAAAAIifQAAAAEAO/4FBAAAAAACMn0AAAAAAMfSBQQAAAAAAkJ9AAAAAwKIxiEEAAAAAAJSfQAAAAPDKxI9B",
          "dtype": "f8",
          "shape": "6, 2"
         },
         "hovertemplate": "<b>%{hovertext}</b><br><br>Região=Norte<br>Mortalidade Infantil (por 1000 nascidos vivos)=%{x}<br>Produção Agrícola (em milhões de R$)=%{marker.size}<br>Ano=%{customdata[0]}<br>VlProducaoAgricola=%{customdata[1]}<extra></extra>",
         "hovertext": [
          "Norte",
          "Norte",
          "Norte",
          "Norte",
          "Norte",
          "Norte"
         ],
         "legendgroup": "Norte",
         "marker": {
          "color": "#00cc96",
          "size": {
           "bdata": "QmDl0CJbQkBCYOXQIutCQAIrhxbZ3kJA+n5qvHTTQkA26Etvf15JQCIAOPbsp1BA",
           "dtype": "f8"
          },
          "sizemode": "area",
          "sizeref": 0.30550268444444445,
          "symbol": "circle"
         },
         "mode": "markers",
         "name": "Norte",
         "orientation": "v",
         "showlegend": true,
         "type": "scatter",
         "x": {
          "bdata": "YuYXsQIrRUBBMNpD4jRFQHCd7iZEkkVAkpkbTCziRECpz2zaExFDQJYMUM4lVERA",
          "dtype": "f8"
         },
         "xaxis": "x",
         "y": {
          "bdata": "QmDl0CJbQkBCYOXQIutCQAIrhxbZ3kJA+n5qvHTTQkA26Etvf15JQCIAOPbsp1BA",
          "dtype": "f8"
         },
         "yaxis": "y"
        },
        {
         "customdata": {
          "bdata": "AAAAAACAn0AAAADYCsylQQAAAAAAhJ9AAAAA6Fdso0EAAAAAAIifQAAAAJBTdqVBAAAAAACMn0AAAACA8uakQQAAAAAAkJ9AAAAAOsNzqUEAAAAAAJSfQAAAAMRuELBB",
          "dtype": "f8",
          "shape": "6, 2"
         },
         "hovertemplate": "<b>%{hovertext}</b><br><br>Região=Sudeste<br>Mortalidade Infantil (por 1000 nascidos vivos)=%{x}<br>Produção Agrícola (em milhões de R$)=%{marker.size}<br>Ano=%{customdata[0]}<br>VlProducaoAgricola=%{customdata[1]}<extra></extra>",
         "hovertext": [
          "Sudeste",
          "Sudeste",
          "Sudeste",
          "Sudeste",
          "Sudeste",
          "Sudeste"
         ],
         "legendgroup": "Sudeste",
         "marker": {
          "color": "#ab63fa",
          "size": {
           "bdata": "yaoINxnbZkCTVnxD4V1kQNdLUwQ4gWZA7bsi+N/qZUAYl6q0RbBqQM5twr0y2HBA",
           "dtype": "f8"
          },
          "sizemode": "area",
          "sizeref": 0.30550268444444445,
          "symbol": "circle"
         },
         "mode": "markers",
         "name": "Sudeste",
         "orientation": "v",
         "showlegend": true,
         "type": "scatter",
         "x": {
          "bdata": "PN8DiJU8Q0C6e4u3coFEQFsji4KNK0RAzpclDWUgRECdS+eJxMdBQJJzUBwOQEJA",
          "dtype": "f8"
         },
         "xaxis": "x",
         "y": {
          "bdata": "yaoINxnbZkCTVnxD4V1kQNdLUwQ4gWZA7bsi+N/qZUAYl6q0RbBqQM5twr0y2HBA",
          "dtype": "f8"
         },
         "yaxis": "y"
        },
        {
         "customdata": {
          "bdata": "AAAAAACAn0AAAABgdGykQQAAAAAAhJ9AAAAA8J5no0EAAAAAAIifQAAAADAbi6VBAAAAAACMn0AAAACA3aClQQAAAAAAkJ9AAAAAmIhZqEEAAAAAAJSfQAAAAOBwY7BB",
          "dtype": "f8",
          "shape": "6, 2"
         },
         "hovertemplate": "<b>%{hovertext}</b><br><br>Região=Sul<br>Mortalidade Infantil (por 1000 nascidos vivos)=%{x}<br>Produção Agrícola (em milhões de R$)=%{marker.size}<br>Ano=%{customdata[0]}<br>VlProducaoAgricola=%{customdata[1]}<extra></extra>",
         "hovertext": [
          "Sul",
          "Sul",
          "Sul",
          "Sul",
          "Sul",
          "Sul"
         ],
         "legendgroup": "Sul",
         "marker": {
          "color": "#FFA15A",
          "size": {
           "bdata": "30+Nl25qZUCwcmiR7VhkQF66SQwCl2ZA5/up8dKtZkDO3hltVYhpQP9Cjxg9L3FA",
           "dtype": "f8"
          },
          "sizemode": "area",
          "sizeref": 0.30550268444444445,
          "symbol": "circle"
         },
         "mode": "markers",
         "name": "Sul",
         "orientation": "v",
         "showlegend": true,
         "type": "scatter",
         "x": {
          "bdata": "sCIbit/oNkAzbiInY0g3QOSrq/OXsDZAFPIaVMw/N0CMojg12Hw0QElfy3ePbzRA",
          "dtype": "f8"
         },
         "xaxis": "x",
         "y": {
          "bdata": "30+Nl25qZUCwcmiR7VhkQF66SQwCl2ZA5/up8dKtZkDO3hltVYhpQP9Cjxg9L3FA",
          "dtype": "f8"
         },
         "yaxis": "y"
        }
       ],
       "layout": {
        "height": 600,
        "hovermode": "closest",
        "legend": {
         "itemsizing": "constant",
         "title": {
          "text": "Região"
         },
         "tracegroupgap": 0
        },
        "template": {
         "data": {
          "bar": [
           {
            "error_x": {
             "color": "#2a3f5f"
            },
            "error_y": {
             "color": "#2a3f5f"
            },
            "marker": {
             "line": {
              "color": "#E5ECF6",
              "width": 0.5
             },
             "pattern": {
              "fillmode": "overlay",
              "size": 10,
              "solidity": 0.2
             }
            },
            "type": "bar"
           }
          ],
          "barpolar": [
           {
            "marker": {
             "line": {
              "color": "#E5ECF6",
              "width": 0.5
             },
             "pattern": {
              "fillmode": "overlay",
              "size": 10,
              "solidity": 0.2
             }
            },
            "type": "barpolar"
           }
          ],
          "carpet": [
           {
            "aaxis": {
             "endlinecolor": "#2a3f5f",
             "gridcolor": "white",
             "linecolor": "white",
             "minorgridcolor": "white",
             "startlinecolor": "#2a3f5f"
            },
            "baxis": {
             "endlinecolor": "#2a3f5f",
             "gridcolor": "white",
             "linecolor": "white",
             "minorgridcolor": "white",
             "startlinecolor": "#2a3f5f"
            },
            "type": "carpet"
           }
          ],
          "choropleth": [
           {
            "colorbar": {
             "outlinewidth": 0,
             "ticks": ""
            },
            "type": "choropleth"
           }
          ],
          "contour": [
           {
            "colorbar": {
             "outlinewidth": 0,
             "ticks": ""
            },
            "colorscale": [
             [
              0,
              "#0d0887"
             ],
             [
              0.1111111111111111,
              "#46039f"
             ],
             [
              0.2222222222222222,
              "#7201a8"
             ],
             [
              0.3333333333333333,
              "#9c179e"
             ],
             [
              0.4444444444444444,
              "#bd3786"
             ],
             [
              0.5555555555555556,
              "#d8576b"
             ],
             [
              0.6666666666666666,
              "#ed7953"
             ],
             [
              0.7777777777777778,
              "#fb9f3a"
             ],
             [
              0.8888888888888888,
              "#fdca26"
             ],
             [
              1,
              "#f0f921"
             ]
            ],
            "type": "contour"
           }
          ],
          "contourcarpet": [
           {
            "colorbar": {
             "outlinewidth": 0,
             "ticks": ""
            },
            "type": "contourcarpet"
           }
          ],
          "heatmap": [
           {
            "colorbar": {
             "outlinewidth": 0,
             "ticks": ""
            },
            "colorscale": [
             [
              0,
              "#0d0887"
             ],
             [
              0.1111111111111111,
              "#46039f"
             ],
             [
              0.2222222222222222,
              "#7201a8"
             ],
             [
              0.3333333333333333,
              "#9c179e"
             ],
             [
              0.4444444444444444,
              "#bd3786"
             ],
             [
              0.5555555555555556,
              "#d8576b"
             ],
             [
              0.6666666666666666,
              "#ed7953"
             ],
             [
              0.7777777777777778,
              "#fb9f3a"
             ],
             [
              0.8888888888888888,
              "#fdca26"
             ],
             [
              1,
              "#f0f921"
             ]
            ],
            "type": "heatmap"
           }
          ],
          "histogram": [
           {
            "marker": {
             "pattern": {
              "fillmode": "overlay",
              "size": 10,
              "solidity": 0.2
             }
            },
            "type": "histogram"
           }
          ],
          "histogram2d": [
           {
            "colorbar": {
             "outlinewidth": 0,
             "ticks": ""
            },
            "colorscale": [
             [
              0,
              "#0d0887"
             ],
             [
              0.1111111111111111,
              "#46039f"
             ],
             [
              0.2222222222222222,
              "#7201a8"
             ],
             [
              0.3333333333333333,
              "#9c179e"
             ],
             [
              0.4444444444444444,
              "#bd3786"
             ],
             [
              0.5555555555555556,
              "#d8576b"
             ],
             [
              0.6666666666666666,
              "#ed7953"
             ],
             [
              0.7777777777777778,
              "#fb9f3a"
             ],
             [
              0.8888888888888888,
              "#fdca26"
             ],
             [
              1,
              "#f0f921"
             ]
            ],
            "type": "histogram2d"
           }
          ],
          "histogram2dcontour": [
           {
            "colorbar": {
             "outlinewidth": 0,
             "ticks": ""
            },
            "colorscale": [
             [
              0,
              "#0d0887"
             ],
             [
              0.1111111111111111,
              "#46039f"
             ],
             [
              0.2222222222222222,
              "#7201a8"
             ],
             [
              0.3333333333333333,
              "#9c179e"
             ],
             [
              0.4444444444444444,
              "#bd3786"
             ],
             [
              0.5555555555555556,
              "#d8576b"
             ],
             [
              0.6666666666666666,
              "#ed7953"
             ],
             [
              0.7777777777777778,
              "#fb9f3a"
             ],
             [
              0.8888888888888888,
              "#fdca26"
             ],
             [
              1,
              "#f0f921"
             ]
            ],
            "type": "histogram2dcontour"
           }
          ],
          "mesh3d": [
           {
            "colorbar": {
             "outlinewidth": 0,
             "ticks": ""
            },
            "type": "mesh3d"
           }
          ],
          "parcoords": [
           {
            "line": {
             "colorbar": {
              "outlinewidth": 0,
              "ticks": ""
             }
            },
            "type": "parcoords"
           }
          ],
          "pie": [
           {
            "automargin": true,
            "type": "pie"
           }
          ],
          "scatter": [
           {
            "fillpattern": {
             "fillmode": "overlay",
             "size": 10,
             "solidity": 0.2
            },
            "type": "scatter"
           }
          ],
          "scatter3d": [
           {
            "line": {
             "colorbar": {
              "outlinewidth": 0,
              "ticks": ""
             }
            },
            "marker": {
             "colorbar": {
              "outlinewidth": 0,
              "ticks": ""
             }
            },
            "type": "scatter3d"
           }
          ],
          "scattercarpet": [
           {
            "marker": {
             "colorbar": {
              "outlinewidth": 0,
              "ticks": ""
             }
            },
            "type": "scattercarpet"
           }
          ],
          "scattergeo": [
           {
            "marker": {
             "colorbar": {
              "outlinewidth": 0,
              "ticks": ""
             }
            },
            "type": "scattergeo"
           }
          ],
          "scattergl": [
           {
            "marker": {
             "colorbar": {
              "outlinewidth": 0,
              "ticks": ""
             }
            },
            "type": "scattergl"
           }
          ],
          "scattermap": [
           {
            "marker": {
             "colorbar": {
              "outlinewidth": 0,
              "ticks": ""
             }
            },
            "type": "scattermap"
           }
          ],
          "scattermapbox": [
           {
            "marker": {
             "colorbar": {
              "outlinewidth": 0,
              "ticks": ""
             }
            },
            "type": "scattermapbox"
           }
          ],
          "scatterpolar": [
           {
            "marker": {
             "colorbar": {
              "outlinewidth": 0,
              "ticks": ""
             }
            },
            "type": "scatterpolar"
           }
          ],
          "scatterpolargl": [
           {
            "marker": {
             "colorbar": {
              "outlinewidth": 0,
              "ticks": ""
             }
            },
            "type": "scatterpolargl"
           }
          ],
          "scatterternary": [
           {
            "marker": {
             "colorbar": {
              "outlinewidth": 0,
              "ticks": ""
             }
            },
            "type": "scatterternary"
           }
          ],
          "surface": [
           {
            "colorbar": {
             "outlinewidth": 0,
             "ticks": ""
            },
            "colorscale": [
             [
              0,
              "#0d0887"
             ],
             [
              0.1111111111111111,
              "#46039f"
             ],
             [
              0.2222222222222222,
              "#7201a8"
             ],
             [
              0.3333333333333333,
              "#9c179e"
             ],
             [
              0.4444444444444444,
              "#bd3786"
             ],
             [
              0.5555555555555556,
              "#d8576b"
             ],
             [
              0.6666666666666666,
              "#ed7953"
             ],
             [
              0.7777777777777778,
              "#fb9f3a"
             ],
             [
              0.8888888888888888,
              "#fdca26"
             ],
             [
              1,
              "#f0f921"
             ]
            ],
            "type": "surface"
           }
          ],
          "table": [
           {
            "cells": {
             "fill": {
              "color": "#EBF0F8"
             },
             "line": {
              "color": "white"
             }
            },
            "header": {
             "fill": {
              "color": "#C8D4E3"
             },
             "line": {
              "color": "white"
             }
            },
            "type": "table"
           }
          ]
         },
         "layout": {
          "annotationdefaults": {
           "arrowcolor": "#2a3f5f",
           "arrowhead": 0,
           "arrowwidth": 1
          },
          "autotypenumbers": "strict",
          "coloraxis": {
           "colorbar": {
            "outlinewidth": 0,
            "ticks": ""
           }
          },
          "colorscale": {
           "diverging": [
            [
             0,
             "#8e0152"
            ],
            [
             0.1,
             "#c51b7d"
            ],
            [
             0.2,
             "#de77ae"
            ],
            [
             0.3,
             "#f1b6da"
            ],
            [
             0.4,
             "#fde0ef"
            ],
            [
             0.5,
             "#f7f7f7"
            ],
            [
             0.6,
             "#e6f5d0"
            ],
            [
             0.7,
             "#b8e186"
            ],
            [
             0.8,
             "#7fbc41"
            ],
            [
             0.9,
             "#4d9221"
            ],
            [
             1,
             "#276419"
            ]
           ],
           "sequential": [
            [
             0,
             "#0d0887"
            ],
            [
             0.1111111111111111,
             "#46039f"
            ],
            [
             0.2222222222222222,
             "#7201a8"
            ],
            [
             0.3333333333333333,
             "#9c179e"
            ],
            [
             0.4444444444444444,
             "#bd3786"
            ],
            [
             0.5555555555555556,
             "#d8576b"
            ],
            [
             0.6666666666666666,
             "#ed7953"
            ],
            [
             0.7777777777777778,
             "#fb9f3a"
            ],
            [
             0.8888888888888888,
             "#fdca26"
            ],
            [
             1,
             "#f0f921"
            ]
           ],
           "sequentialminus": [
            [
             0,
             "#0d0887"
            ],
            [
             0.1111111111111111,
             "#46039f"
            ],
            [
             0.2222222222222222,
             "#7201a8"
            ],
            [
             0.3333333333333333,
             "#9c179e"
            ],
            [
             0.4444444444444444,
             "#bd3786"
            ],
            [
             0.5555555555555556,
             "#d8576b"
            ],
            [
             0.6666666666666666,
             "#ed7953"
            ],
            [
             0.7777777777777778,
             "#fb9f3a"
            ],
            [
             0.8888888888888888,
             "#fdca26"
            ],
            [
             1,
             "#f0f921"
            ]
           ]
          },
          "colorway": [
           "#636efa",
           "#EF553B",
           "#00cc96",
           "#ab63fa",
           "#FFA15A",
           "#19d3f3",
           "#FF6692",
           "#B6E880",
           "#FF97FF",
           "#FECB52"
          ],
          "font": {
           "color": "#2a3f5f"
          },
          "geo": {
           "bgcolor": "white",
           "lakecolor": "white",
           "landcolor": "#E5ECF6",
           "showlakes": true,
           "showland": true,
           "subunitcolor": "white"
          },
          "hoverlabel": {
           "align": "left"
          },
          "hovermode": "closest",
          "mapbox": {
           "style": "light"
          },
          "paper_bgcolor": "white",
          "plot_bgcolor": "#E5ECF6",
          "polar": {
           "angularaxis": {
            "gridcolor": "white",
            "linecolor": "white",
            "ticks": ""
           },
           "bgcolor": "#E5ECF6",
           "radialaxis": {
            "gridcolor": "white",
            "linecolor": "white",
            "ticks": ""
           }
          },
          "scene": {
           "xaxis": {
            "backgroundcolor": "#E5ECF6",
            "gridcolor": "white",
            "gridwidth": 2,
            "linecolor": "white",
            "showbackground": true,
            "ticks": "",
            "zerolinecolor": "white"
           },
           "yaxis": {
            "backgroundcolor": "#E5ECF6",
            "gridcolor": "white",
            "gridwidth": 2,
            "linecolor": "white",
            "showbackground": true,
            "ticks": "",
            "zerolinecolor": "white"
           },
           "zaxis": {
            "backgroundcolor": "#E5ECF6",
            "gridcolor": "white",
            "gridwidth": 2,
            "linecolor": "white",
            "showbackground": true,
            "ticks": "",
            "zerolinecolor": "white"
           }
          },
          "shapedefaults": {
           "line": {
            "color": "#2a3f5f"
           }
          },
          "ternary": {
           "aaxis": {
            "gridcolor": "white",
            "linecolor": "white",
            "ticks": ""
           },
           "baxis": {
            "gridcolor": "white",
            "linecolor": "white",
            "ticks": ""
           },
           "bgcolor": "#E5ECF6",
           "caxis": {
            "gridcolor": "white",
            "linecolor": "white",
            "ticks": ""
           }
          },
          "title": {
           "x": 0.05
          },
          "xaxis": {
           "automargin": true,
           "gridcolor": "white",
           "linecolor": "white",
           "ticks": "",
           "title": {
            "standoff": 15
           },
           "zerolinecolor": "white",
           "zerolinewidth": 2
          },
          "yaxis": {
           "automargin": true,
           "gridcolor": "white",
           "linecolor": "white",
           "ticks": "",
           "title": {
            "standoff": 15
           },
           "zerolinecolor": "white",
           "zerolinewidth": 2
          }
         }
        },
        "title": {
         "text": "<b>Relação entre Produção Agrícola e Mortalidade Infantil (por Região/Ano)</b>"
        },
        "width": 900,
        "xaxis": {
         "anchor": "y",
         "domain": [
          0,
          1
         ],
         "tickformat": ".2f",
         "title": {
          "text": "Mortalidade Infantil (por 1000 nascidos vivos)"
         }
        },
        "yaxis": {
         "anchor": "x",
         "domain": [
          0,
          1
         ],
         "title": {
          "text": "Produção Agrícola (em milhões de R$)"
         }
        }
       }
      }
     },
     "metadata": {},
     "output_type": "display_data"
    }
   ],
   "source": [
    "\n",
    "\n",
    "df = pd.read_csv('dataFrame/BrStatsAtualizada.csv', sep=';', low_memory=False)\n",
    "\n",
    "df['NrObitosInfantis'] = pd.to_numeric(\n",
    "    df['NrObitosInfantis'].astype(str).str.replace('.', '').str.replace(',', '.'), \n",
    "    errors='coerce'\n",
    ")\n",
    "df['NrNascimentos'] = pd.to_numeric(\n",
    "    df['NrNascimentos'].astype(str).str.replace('.', '').str.replace(',', '.'), \n",
    "    errors='coerce'\n",
    ")\n",
    "df['VlProducaoAgricola'] = pd.to_numeric(\n",
    "    df['VlProducaoAgricola'].astype(str).str.replace('.', '').str.replace(',', '.'), \n",
    "    errors='coerce'\n",
    ")\n",
    "\n",
    "df['MortalidadeInfantil'] = (df['NrObitosInfantis'] / df['NrNascimentos']) * 1000\n",
    "\n",
    "df_regiao = df.groupby(['Regiao', 'Ano']).agg({\n",
    "    'NrObitosInfantis': 'sum',\n",
    "    'NrNascimentos': 'sum',\n",
    "    'VlProducaoAgricola': 'sum'\n",
    "}).reset_index()\n",
    "\n",
    "df_regiao['MortalidadeInfantil'] = (df_regiao['NrObitosInfantis'] / df_regiao['NrNascimentos']) * 1000\n",
    "\n",
    "df_regiao = df_regiao.dropna(subset=['MortalidadeInfantil', 'VlProducaoAgricola'])\n",
    "df_regiao = df_regiao[df_regiao['MortalidadeInfantil'] != float('inf')]\n",
    "\n",
    "df_regiao['VlProducaoAgricola_M'] = df_regiao['VlProducaoAgricola'] / 1_000_000\n",
    "\n",
    "fig = px.scatter(\n",
    "    df_regiao,\n",
    "    x='MortalidadeInfantil',\n",
    "    y='VlProducaoAgricola_M',  \n",
    "    color='Regiao',\n",
    "    size='VlProducaoAgricola_M',\n",
    "    size_max=30,  \n",
    "    hover_name='Regiao',\n",
    "    hover_data=['Ano', 'VlProducaoAgricola'],\n",
    "    labels={\n",
    "        'MortalidadeInfantil': 'Mortalidade Infantil (por 1000 nascidos vivos)',\n",
    "        'VlProducaoAgricola_M': 'Produção Agrícola (em milhões de R$)',\n",
    "        'Regiao': 'Região',\n",
    "        'Ano': 'Ano'\n",
    "    },\n",
    "    title='<b>Relação entre Produção Agrícola e Mortalidade Infantil (por Região/Ano)</b>',\n",
    ")\n",
    "\n",
    "fig.update_layout(\n",
    "    height=600,\n",
    "    width=900,\n",
    "    xaxis_title='Mortalidade Infantil (por 1000 nascidos vivos)',\n",
    "    yaxis_title='Produção Agrícola (em milhões de R$)',\n",
    "    legend_title='Região',\n",
    "    hovermode='closest',\n",
    "    xaxis=dict(\n",
    "        tickformat=\".2f\" \n",
    "\n",
    "\n",
    "))\n",
    "\n",
    "fig.show()"
   ]
  },
  {
   "cell_type": "markdown",
   "metadata": {},
   "source": [
    "\n",
    "###  🎯 Motivo da Visualização do Gráfico\n",
    "\n",
    "Optamos pelo scatter plot (gráfico de dispersão) como ferramenta de visualização devido à sua capacidade de destacar relações entre duas variáveis contínuas, neste caso, a Produção Agrícola (eixo Y) e a Mortalidade Infantil (eixo X). Essa escolha se justifica porque o scatter plot permite identificar claramente padrões, tendências e outliers, como regiões que apresentam alta produção agrícola e, ao mesmo tempo, baixa mortalidade infantil. Além disso, o uso de cores distintas para representar as diferentes regiões do Brasil facilita a análise comparativa entre elas, evidenciando possíveis disparidades regionais.\n",
    "\n",
    "O tamanho dos pontos, por sua vez, reflete a magnitude da produção agrícola, permitindo que os observadores identifiquem rapidamente quais regiões possuem maior ou menor contribuição nesse aspecto. Por fim, a possibilidade de habilitar a animação temporal (animation_frame='Ano') adiciona uma dimensão dinâmica ao gráfico, permitindo acompanhar a evolução dos indicadores ao longo dos anos, o que enriquece ainda mais a análise. Assim, o scatter plot foi escolhido por sua eficácia em comunicar tanto relações diretas quanto diferenças regionais e temporais de maneira intuitiva e visualmente clara."
   ]
  },
  {
   "cell_type": "markdown",
   "metadata": {},
   "source": [
    "#### 📌 Explicação do Conteúdo do Gráfico\n",
    "\n",
    "A análise apresentada investiga a relação entre a mortalidade infantil e a produção agrícola por região e ano no Brasil. Esses dois indicadores foram escolhidos para compreender possíveis associações entre o desenvolvimento agrícola e as condições de saúde, especialmente a mortalidade infantil, que é um indicador sensível de desenvolvimento social e econômico.\n",
    "\n",
    "O gráfico é um scatter plot de bolhas, adequado para exibir múltiplas variáveis simultaneamente. Ele utiliza os seguintes eixos e dimensões:\n",
    "\n",
    "Eixo X (Mortalidade Infantil): Representa a taxa de mortalidade infantil, medida em óbitos por 1000 nascidos vivos. Um valor mais alto indica maiores desafios de saúde pública.\n",
    "\n",
    "Eixo Y (Produção Agrícola): Mostra a produção agrícola total por região, medida em milhões de reais (R$). Reflete a força do setor agrícola em cada localidade.\n",
    "\n",
    "Tamanho das Bolhas: O tamanho das bolhas é proporcional à produção agrícola, destacando regiões com maiores volumes de produção.\n",
    "\n",
    "Cores: Cada cor representa uma região, facilitando a identificação e comparação regional.\n",
    "\n",
    "\n",
    "A fórmula utlizada para calcular a taxa de mortalidade foi:\n",
    "\n",
    "                                     (Nascimentos/ Mortes)*1000\n",
    "                      "
   ]
  },
  {
   "cell_type": "markdown",
   "metadata": {},
   "source": [
    "\n",
    "#### ✅ O que podemos perceber?\n",
    "\n",
    "O gráfico revela uma relação inversa entre a mortalidade infantil e a produção agrícola nas diferentes regiões do Brasil. Regiões com maior produção agrícola, como o Sudeste e o Sul, tendem a apresentar menores taxas de mortalidade infantil, o que sugere que melhores condições econômicas e acesso a recursos impactam positivamente a saúde infantil. O Sudeste destaca-se com alta produção agrícola e baixa mortalidade infantil, enquanto o Sul também mantém baixa mortalidade, mas com menor dispersão nos valores de produção agrícola. Já o Nordeste exibe taxas de mortalidade infantil mais altas, indicando possíveis desafios na saúde pública e infraestrutura. As regiões Norte e Centro-Oeste mostram dados mais dispersos, com variações significativas tanto na mortalidade infantil quanto na produção agrícola. \n",
    "\n",
    "\n",
    "\n",
    "\n",
    "\n",
    "\n",
    "\n"
   ]
  },
  {
   "cell_type": "markdown",
   "metadata": {},
   "source": [
    "### 📊  Densidade populacional x Empregos\n",
    "\n",
    "Para fazer a relação entre a densidade populacional e o número de empregos médio  de cada estado, foi distinguido entre o total de pessoas ocupadas e aquelas que possuem empregos formais. O gráfico busca identificar se os estados mais densos concentram mais empregos."
   ]
  },
  {
   "cell_type": "code",
   "execution_count": 62,
   "metadata": {},
   "outputs": [
    {
     "data": {
      "application/vnd.plotly.v1+json": {
       "config": {
        "plotlyServerURL": "https://plot.ly"
       },
       "data": [
        {
         "hovertext": [
          "RR",
          "AC",
          "AM",
          "MT",
          "RO",
          "TO",
          "MS",
          "AP",
          "PI",
          "MA",
          "GO",
          "PA",
          "BA",
          "PR",
          "MG",
          "RS",
          "SC",
          "RN",
          "PB",
          "AL",
          "CE",
          "SE",
          "ES",
          "PE",
          "SP",
          "DF",
          "RJ"
         ],
         "line": {
          "color": "royalblue"
         },
         "mode": "lines+markers",
         "name": "Pessoal Ocupado",
         "type": "scatter",
         "x": {
          "bdata": "aLSkBaSMF0DfsPYNa18aQNuf3TANgRpAH2FsjXJ8H0Bwy1odE3wgQE3OcnDQoyFAaswivIQBJkDUBjptoPsmQAvHRyB1ijNAxvoij1toREBuoiZrrrJLQCNwdy0ssk5ANvY18nAUUEDw3GtlgvtQQOE8njgNxFFAY4AqBiiAV0D309vG/vpXQBAHoSCSuVhASQwCK4dKWkD+w1a24r9bQGyCtmtDLl9AbO6G+DjnYkBWWvct/mdkQHm+oTjznXBAHWaqmY8odUBWDi2ynVaAQEbAUtxxy4ZA",
          "dtype": "f8"
         },
         "y": {
          "bdata": "vLu7uzvbuUAnm2yyiXy3QBljjDFmZcNAFsTkCmJHtkDFTuzEjp65QMadn3wVbaBA8y3f8u2tvUAAAAAAkE+/QJIkSZLsiKFAzaJmUbP5q0ACTSHQ1Ey4QDrWHcaEhL1Awq7OGh+qtUDWU1hPIfrAQDHrL9+3c7hAoH766Wc6ukBkZ7Po793BQDx/i9Oa36xArIvvZs+1p0BP+aNOubizQCnxM0p0r8FAEvDNqwmVtUAHaZAGCQzIQF4fNC3aVsFAvstEiAbN2EBVVVVVy9M8QcXPKPF/GedA",
          "dtype": "f8"
         }
        },
        {
         "hovertext": [
          "RR",
          "AC",
          "AM",
          "MT",
          "RO",
          "TO",
          "MS",
          "AP",
          "PI",
          "MA",
          "GO",
          "PA",
          "BA",
          "PR",
          "MG",
          "RS",
          "SC",
          "RN",
          "PB",
          "AL",
          "CE",
          "SE",
          "ES",
          "PE",
          "SP",
          "DF",
          "RJ"
         ],
         "line": {
          "color": "seagreen"
         },
         "mode": "lines+markers",
         "name": "Pessoal Assalariado",
         "type": "scatter",
         "x": {
          "bdata": "aLSkBaSMF0DfsPYNa18aQNuf3TANgRpAH2FsjXJ8H0Bwy1odE3wgQE3OcnDQoyFAaswivIQBJkDUBjptoPsmQAvHRyB1ijNAxvoij1toREBuoiZrrrJLQCNwdy0ssk5ANvY18nAUUEDw3GtlgvtQQOE8njgNxFFAY4AqBiiAV0D309vG/vpXQBAHoSCSuVhASQwCK4dKWkD+w1a24r9bQGyCtmtDLl9AbO6G+DjnYkBWWvct/mdkQHm+oTjznXBAHWaqmY8odUBWDi2ynVaAQEbAUtxxy4ZA",
          "dtype": "f8"
         },
         "y": {
          "bdata": "chzHcRzct0A22WSTzRO2QP3000+fGMJAb4+1DB3AskDsxE7sxE22QMpX0cs0Ep1AB2mQBmmZuUBVVVVV1Sy9QMMwDMMQ3J5APc/zPM9TqUC0TZAwGvC0QPDmEarPELtAvHgm7OrgskABIgWIlOe7QCqmfegU2rRAAAAAAOh6tUC/AaaaY0G+QOyHXstqoalAeP7TTloNpUDY19fX1++xQGiU+BkFtr9A+4MMlR12s0BKpmRKBk7EQMKRTA6jJL9ABI9J7FqN1UAAAACAJAQ7QT+jxM+4BuRA",
          "dtype": "f8"
         }
        }
       ],
       "layout": {
        "height": 500,
        "hovermode": "x unified",
        "template": {
         "data": {
          "bar": [
           {
            "error_x": {
             "color": "#2a3f5f"
            },
            "error_y": {
             "color": "#2a3f5f"
            },
            "marker": {
             "line": {
              "color": "white",
              "width": 0.5
             },
             "pattern": {
              "fillmode": "overlay",
              "size": 10,
              "solidity": 0.2
             }
            },
            "type": "bar"
           }
          ],
          "barpolar": [
           {
            "marker": {
             "line": {
              "color": "white",
              "width": 0.5
             },
             "pattern": {
              "fillmode": "overlay",
              "size": 10,
              "solidity": 0.2
             }
            },
            "type": "barpolar"
           }
          ],
          "carpet": [
           {
            "aaxis": {
             "endlinecolor": "#2a3f5f",
             "gridcolor": "#C8D4E3",
             "linecolor": "#C8D4E3",
             "minorgridcolor": "#C8D4E3",
             "startlinecolor": "#2a3f5f"
            },
            "baxis": {
             "endlinecolor": "#2a3f5f",
             "gridcolor": "#C8D4E3",
             "linecolor": "#C8D4E3",
             "minorgridcolor": "#C8D4E3",
             "startlinecolor": "#2a3f5f"
            },
            "type": "carpet"
           }
          ],
          "choropleth": [
           {
            "colorbar": {
             "outlinewidth": 0,
             "ticks": ""
            },
            "type": "choropleth"
           }
          ],
          "contour": [
           {
            "colorbar": {
             "outlinewidth": 0,
             "ticks": ""
            },
            "colorscale": [
             [
              0,
              "#0d0887"
             ],
             [
              0.1111111111111111,
              "#46039f"
             ],
             [
              0.2222222222222222,
              "#7201a8"
             ],
             [
              0.3333333333333333,
              "#9c179e"
             ],
             [
              0.4444444444444444,
              "#bd3786"
             ],
             [
              0.5555555555555556,
              "#d8576b"
             ],
             [
              0.6666666666666666,
              "#ed7953"
             ],
             [
              0.7777777777777778,
              "#fb9f3a"
             ],
             [
              0.8888888888888888,
              "#fdca26"
             ],
             [
              1,
              "#f0f921"
             ]
            ],
            "type": "contour"
           }
          ],
          "contourcarpet": [
           {
            "colorbar": {
             "outlinewidth": 0,
             "ticks": ""
            },
            "type": "contourcarpet"
           }
          ],
          "heatmap": [
           {
            "colorbar": {
             "outlinewidth": 0,
             "ticks": ""
            },
            "colorscale": [
             [
              0,
              "#0d0887"
             ],
             [
              0.1111111111111111,
              "#46039f"
             ],
             [
              0.2222222222222222,
              "#7201a8"
             ],
             [
              0.3333333333333333,
              "#9c179e"
             ],
             [
              0.4444444444444444,
              "#bd3786"
             ],
             [
              0.5555555555555556,
              "#d8576b"
             ],
             [
              0.6666666666666666,
              "#ed7953"
             ],
             [
              0.7777777777777778,
              "#fb9f3a"
             ],
             [
              0.8888888888888888,
              "#fdca26"
             ],
             [
              1,
              "#f0f921"
             ]
            ],
            "type": "heatmap"
           }
          ],
          "histogram": [
           {
            "marker": {
             "pattern": {
              "fillmode": "overlay",
              "size": 10,
              "solidity": 0.2
             }
            },
            "type": "histogram"
           }
          ],
          "histogram2d": [
           {
            "colorbar": {
             "outlinewidth": 0,
             "ticks": ""
            },
            "colorscale": [
             [
              0,
              "#0d0887"
             ],
             [
              0.1111111111111111,
              "#46039f"
             ],
             [
              0.2222222222222222,
              "#7201a8"
             ],
             [
              0.3333333333333333,
              "#9c179e"
             ],
             [
              0.4444444444444444,
              "#bd3786"
             ],
             [
              0.5555555555555556,
              "#d8576b"
             ],
             [
              0.6666666666666666,
              "#ed7953"
             ],
             [
              0.7777777777777778,
              "#fb9f3a"
             ],
             [
              0.8888888888888888,
              "#fdca26"
             ],
             [
              1,
              "#f0f921"
             ]
            ],
            "type": "histogram2d"
           }
          ],
          "histogram2dcontour": [
           {
            "colorbar": {
             "outlinewidth": 0,
             "ticks": ""
            },
            "colorscale": [
             [
              0,
              "#0d0887"
             ],
             [
              0.1111111111111111,
              "#46039f"
             ],
             [
              0.2222222222222222,
              "#7201a8"
             ],
             [
              0.3333333333333333,
              "#9c179e"
             ],
             [
              0.4444444444444444,
              "#bd3786"
             ],
             [
              0.5555555555555556,
              "#d8576b"
             ],
             [
              0.6666666666666666,
              "#ed7953"
             ],
             [
              0.7777777777777778,
              "#fb9f3a"
             ],
             [
              0.8888888888888888,
              "#fdca26"
             ],
             [
              1,
              "#f0f921"
             ]
            ],
            "type": "histogram2dcontour"
           }
          ],
          "mesh3d": [
           {
            "colorbar": {
             "outlinewidth": 0,
             "ticks": ""
            },
            "type": "mesh3d"
           }
          ],
          "parcoords": [
           {
            "line": {
             "colorbar": {
              "outlinewidth": 0,
              "ticks": ""
             }
            },
            "type": "parcoords"
           }
          ],
          "pie": [
           {
            "automargin": true,
            "type": "pie"
           }
          ],
          "scatter": [
           {
            "fillpattern": {
             "fillmode": "overlay",
             "size": 10,
             "solidity": 0.2
            },
            "type": "scatter"
           }
          ],
          "scatter3d": [
           {
            "line": {
             "colorbar": {
              "outlinewidth": 0,
              "ticks": ""
             }
            },
            "marker": {
             "colorbar": {
              "outlinewidth": 0,
              "ticks": ""
             }
            },
            "type": "scatter3d"
           }
          ],
          "scattercarpet": [
           {
            "marker": {
             "colorbar": {
              "outlinewidth": 0,
              "ticks": ""
             }
            },
            "type": "scattercarpet"
           }
          ],
          "scattergeo": [
           {
            "marker": {
             "colorbar": {
              "outlinewidth": 0,
              "ticks": ""
             }
            },
            "type": "scattergeo"
           }
          ],
          "scattergl": [
           {
            "marker": {
             "colorbar": {
              "outlinewidth": 0,
              "ticks": ""
             }
            },
            "type": "scattergl"
           }
          ],
          "scattermap": [
           {
            "marker": {
             "colorbar": {
              "outlinewidth": 0,
              "ticks": ""
             }
            },
            "type": "scattermap"
           }
          ],
          "scattermapbox": [
           {
            "marker": {
             "colorbar": {
              "outlinewidth": 0,
              "ticks": ""
             }
            },
            "type": "scattermapbox"
           }
          ],
          "scatterpolar": [
           {
            "marker": {
             "colorbar": {
              "outlinewidth": 0,
              "ticks": ""
             }
            },
            "type": "scatterpolar"
           }
          ],
          "scatterpolargl": [
           {
            "marker": {
             "colorbar": {
              "outlinewidth": 0,
              "ticks": ""
             }
            },
            "type": "scatterpolargl"
           }
          ],
          "scatterternary": [
           {
            "marker": {
             "colorbar": {
              "outlinewidth": 0,
              "ticks": ""
             }
            },
            "type": "scatterternary"
           }
          ],
          "surface": [
           {
            "colorbar": {
             "outlinewidth": 0,
             "ticks": ""
            },
            "colorscale": [
             [
              0,
              "#0d0887"
             ],
             [
              0.1111111111111111,
              "#46039f"
             ],
             [
              0.2222222222222222,
              "#7201a8"
             ],
             [
              0.3333333333333333,
              "#9c179e"
             ],
             [
              0.4444444444444444,
              "#bd3786"
             ],
             [
              0.5555555555555556,
              "#d8576b"
             ],
             [
              0.6666666666666666,
              "#ed7953"
             ],
             [
              0.7777777777777778,
              "#fb9f3a"
             ],
             [
              0.8888888888888888,
              "#fdca26"
             ],
             [
              1,
              "#f0f921"
             ]
            ],
            "type": "surface"
           }
          ],
          "table": [
           {
            "cells": {
             "fill": {
              "color": "#EBF0F8"
             },
             "line": {
              "color": "white"
             }
            },
            "header": {
             "fill": {
              "color": "#C8D4E3"
             },
             "line": {
              "color": "white"
             }
            },
            "type": "table"
           }
          ]
         },
         "layout": {
          "annotationdefaults": {
           "arrowcolor": "#2a3f5f",
           "arrowhead": 0,
           "arrowwidth": 1
          },
          "autotypenumbers": "strict",
          "coloraxis": {
           "colorbar": {
            "outlinewidth": 0,
            "ticks": ""
           }
          },
          "colorscale": {
           "diverging": [
            [
             0,
             "#8e0152"
            ],
            [
             0.1,
             "#c51b7d"
            ],
            [
             0.2,
             "#de77ae"
            ],
            [
             0.3,
             "#f1b6da"
            ],
            [
             0.4,
             "#fde0ef"
            ],
            [
             0.5,
             "#f7f7f7"
            ],
            [
             0.6,
             "#e6f5d0"
            ],
            [
             0.7,
             "#b8e186"
            ],
            [
             0.8,
             "#7fbc41"
            ],
            [
             0.9,
             "#4d9221"
            ],
            [
             1,
             "#276419"
            ]
           ],
           "sequential": [
            [
             0,
             "#0d0887"
            ],
            [
             0.1111111111111111,
             "#46039f"
            ],
            [
             0.2222222222222222,
             "#7201a8"
            ],
            [
             0.3333333333333333,
             "#9c179e"
            ],
            [
             0.4444444444444444,
             "#bd3786"
            ],
            [
             0.5555555555555556,
             "#d8576b"
            ],
            [
             0.6666666666666666,
             "#ed7953"
            ],
            [
             0.7777777777777778,
             "#fb9f3a"
            ],
            [
             0.8888888888888888,
             "#fdca26"
            ],
            [
             1,
             "#f0f921"
            ]
           ],
           "sequentialminus": [
            [
             0,
             "#0d0887"
            ],
            [
             0.1111111111111111,
             "#46039f"
            ],
            [
             0.2222222222222222,
             "#7201a8"
            ],
            [
             0.3333333333333333,
             "#9c179e"
            ],
            [
             0.4444444444444444,
             "#bd3786"
            ],
            [
             0.5555555555555556,
             "#d8576b"
            ],
            [
             0.6666666666666666,
             "#ed7953"
            ],
            [
             0.7777777777777778,
             "#fb9f3a"
            ],
            [
             0.8888888888888888,
             "#fdca26"
            ],
            [
             1,
             "#f0f921"
            ]
           ]
          },
          "colorway": [
           "#636efa",
           "#EF553B",
           "#00cc96",
           "#ab63fa",
           "#FFA15A",
           "#19d3f3",
           "#FF6692",
           "#B6E880",
           "#FF97FF",
           "#FECB52"
          ],
          "font": {
           "color": "#2a3f5f"
          },
          "geo": {
           "bgcolor": "white",
           "lakecolor": "white",
           "landcolor": "white",
           "showlakes": true,
           "showland": true,
           "subunitcolor": "#C8D4E3"
          },
          "hoverlabel": {
           "align": "left"
          },
          "hovermode": "closest",
          "mapbox": {
           "style": "light"
          },
          "paper_bgcolor": "white",
          "plot_bgcolor": "white",
          "polar": {
           "angularaxis": {
            "gridcolor": "#EBF0F8",
            "linecolor": "#EBF0F8",
            "ticks": ""
           },
           "bgcolor": "white",
           "radialaxis": {
            "gridcolor": "#EBF0F8",
            "linecolor": "#EBF0F8",
            "ticks": ""
           }
          },
          "scene": {
           "xaxis": {
            "backgroundcolor": "white",
            "gridcolor": "#DFE8F3",
            "gridwidth": 2,
            "linecolor": "#EBF0F8",
            "showbackground": true,
            "ticks": "",
            "zerolinecolor": "#EBF0F8"
           },
           "yaxis": {
            "backgroundcolor": "white",
            "gridcolor": "#DFE8F3",
            "gridwidth": 2,
            "linecolor": "#EBF0F8",
            "showbackground": true,
            "ticks": "",
            "zerolinecolor": "#EBF0F8"
           },
           "zaxis": {
            "backgroundcolor": "white",
            "gridcolor": "#DFE8F3",
            "gridwidth": 2,
            "linecolor": "#EBF0F8",
            "showbackground": true,
            "ticks": "",
            "zerolinecolor": "#EBF0F8"
           }
          },
          "shapedefaults": {
           "line": {
            "color": "#2a3f5f"
           }
          },
          "ternary": {
           "aaxis": {
            "gridcolor": "#DFE8F3",
            "linecolor": "#A2B1C6",
            "ticks": ""
           },
           "baxis": {
            "gridcolor": "#DFE8F3",
            "linecolor": "#A2B1C6",
            "ticks": ""
           },
           "bgcolor": "white",
           "caxis": {
            "gridcolor": "#DFE8F3",
            "linecolor": "#A2B1C6",
            "ticks": ""
           }
          },
          "title": {
           "x": 0.05
          },
          "xaxis": {
           "automargin": true,
           "gridcolor": "#EBF0F8",
           "linecolor": "#EBF0F8",
           "ticks": "",
           "title": {
            "standoff": 15
           },
           "zerolinecolor": "#EBF0F8",
           "zerolinewidth": 2
          },
          "yaxis": {
           "automargin": true,
           "gridcolor": "#EBF0F8",
           "linecolor": "#EBF0F8",
           "ticks": "",
           "title": {
            "standoff": 15
           },
           "zerolinecolor": "#EBF0F8",
           "zerolinewidth": 2
          }
         }
        },
        "title": {
         "text": "Densidade Populacional x Número de Empregos (Média por Estado)"
        },
        "width": 900,
        "xaxis": {
         "title": {
          "text": "Densidade Populacional Média (hab/km²)"
         }
        },
        "yaxis": {
         "title": {
          "text": "Número Médio de Pessoas (escala log)"
         },
         "type": "log"
        }
       }
      }
     },
     "metadata": {},
     "output_type": "display_data"
    }
   ],
   "source": [
    "\n",
    "# Carregar os dados\n",
    "df = pd.read_csv(\"dataFrame/BrStatsAtualizada.csv\", sep=\";\", low_memory=False)\n",
    "\n",
    "# Converter colunas\n",
    "for col in [\"povoamento\", \"PessoalOcupado\", \"PessoalAssalariado\"]:\n",
    "    df[col] = pd.to_numeric(df[col].astype(str).str.replace(\",\", \".\"), errors=\"coerce\")\n",
    "\n",
    "# Agrupar por estado (UF)\n",
    "df_estado = df.groupby(\"UF\")[[\"povoamento\", \"PessoalOcupado\", \"PessoalAssalariado\"]].mean().reset_index()\n",
    "\n",
    "# Ordenar pela densidade populacional\n",
    "df_estado = df_estado.sort_values(\"povoamento\")\n",
    "\n",
    "# Criar gráfico de linhas\n",
    "fig = go.Figure()\n",
    "\n",
    "fig.add_trace(go.Scatter(\n",
    "    x=df_estado[\"povoamento\"],\n",
    "    y=df_estado[\"PessoalOcupado\"],\n",
    "    mode=\"lines+markers\",\n",
    "    name=\"Pessoal Ocupado\",\n",
    "    line=dict(color=\"royalblue\"),\n",
    "    hovertext=df_estado[\"UF\"]\n",
    "))\n",
    "\n",
    "fig.add_trace(go.Scatter(\n",
    "    x=df_estado[\"povoamento\"],\n",
    "    y=df_estado[\"PessoalAssalariado\"],\n",
    "    mode=\"lines+markers\",\n",
    "    name=\"Pessoal Assalariado\",\n",
    "    line=dict(color=\"seagreen\"),\n",
    "    hovertext=df_estado[\"UF\"]\n",
    "))\n",
    "\n",
    "fig.update_layout(\n",
    "    title=\"Densidade Populacional x Número de Empregos (Média por Estado)\",\n",
    "    xaxis_title=\"Densidade Populacional Média (hab/km²)\",\n",
    "    yaxis_title=\"Número Médio de Pessoas (escala log)\",\n",
    "    height=500,\n",
    "    width=900,\n",
    "    template=\"plotly_white\",\n",
    "    hovermode=\"x unified\"\n",
    ")\n",
    "\n",
    "fig.update_yaxes(type='log')\n",
    "\n",
    "\n",
    "fig.show()\n"
   ]
  },
  {
   "cell_type": "markdown",
   "metadata": {},
   "source": [
    "#### 🎯 Motivo da Utilização do Gráfico\n",
    "\n",
    "O gráfico foi elaborado com o objetivo de analisar a relação entre a densidade populacional média dos estados brasileiros e o número médio de empregos, tanto formais quanto informais. A motivação para essa visualização está na busca por padrões que possam indicar se há uma correlação entre o grau de povoamento de uma região e sua capacidade de gerar ocupações. Para isso, foram utilizados os dados médios por estado, agrupando as informações de todos os municípios pertencentes a cada unidade federativa, o que permite uma visão mais agregada e comparativa entre os estados."
   ]
  },
  {
   "cell_type": "markdown",
   "metadata": {},
   "source": [
    "#### 📌 Explicação do Conteúdo do Gráfico\n",
    "\n",
    "Na construção do gráfico, a densidade populacional média (habitantes por km²) foi representada no eixo horizontal, enquanto o número médio de pessoas empregadas foi representado no eixo vertical, dividido em duas séries: uma para o total de pessoal ocupado e outra para o pessoal assalariado. Devido à grande disparidade entre os estados, especialmente pelo valor extremamente elevado do Distrito Federal (DF), foi aplicada uma escala logarítmica ao eixo Y. A escolha dessa escala tem como finalidade permitir que os estados com valores mais baixos ainda sejam visualizados de forma clara, sem serem comprimidos na base do gráfico, o que aconteceria em uma escala linear. O uso da escala log também é útil quando se deseja comparar ordens de magnitude diferentes, como é o caso aqui.\n",
    "\n"
   ]
  },
  {
   "cell_type": "markdown",
   "metadata": {},
   "source": [
    "#### ✅ O que podemos perceber?\n",
    "\n",
    "Com base na visualização, é possível perceber uma tendência geral de crescimento no número de empregos conforme aumenta a densidade populacional. Estados mais densamente povoados tendem a ter maior concentração de postos de trabalho, o que pode estar relacionado à urbanização e à maior atividade econômica. No entanto, destaca-se o caso do Distrito Federal, que apresenta um número médio de empregos muito superior ao dos demais estados, configurando-se como um ponto fora da curva (outlier). Isso se deve ao fato de o DF concentrar grande parte da estrutura administrativa federal, com uma população urbana altamente empregada no setor público e serviços, o que distorce a média em relação aos outros estados. A visualização em escala logarítmica permitiu suavizar esse impacto e tornar mais evidente o comportamento dos demais estados, oferecendo uma leitura mais equilibrada dos dados."
   ]
  },
  {
   "cell_type": "markdown",
   "metadata": {},
   "source": [
    "### 📊  Densidade populacional x Mortalidade infantil\n",
    "\n",
    "A análise da relação entre densidade populacional e mortalidade infantil foi realizada utilizando os dados de todos os estados, de 2016 a 2021. Com isso, foi possível observar como a mortalidade infantil varia conforme a densidade populacional de cada estado, permitindo uma análise mais detalhada do comportamento desse indicador ao longo do tempo."
   ]
  },
  {
   "cell_type": "code",
   "execution_count": 63,
   "metadata": {},
   "outputs": [
    {
     "data": {
      "application/vnd.plotly.v1+json": {
       "config": {
        "plotlyServerURL": "https://plot.ly"
       },
       "data": [
        {
         "marker": {
          "color": "indianred"
         },
         "name": "Densidade Populacional Média",
         "type": "bar",
         "x": [
          "AC",
          "AL",
          "AM",
          "AP",
          "BA",
          "CE",
          "DF",
          "ES",
          "GO",
          "MA",
          "MG",
          "MS",
          "MT",
          "PA",
          "PB",
          "PE",
          "PI",
          "PR",
          "RJ",
          "RN",
          "RO",
          "RR",
          "RS",
          "SC",
          "SE",
          "SP",
          "TO"
         ],
         "y": {
          "bdata": "37D2DWtfGkD+w1a24r9bQNuf3TANgRpA1AY6baD7JkA29jXycBRQQGyCtmtDLl9AVg4tsp1WgEBWWvct/mdkQG6iJmuusktAxvoij1toREDhPJ44DcRRQGrMIryEASZAH2FsjXJ8H0AjcHctLLJOQEkMAiuHSlpAeb6hOPOdcEALx0cgdYozQPDca2WC+1BARsBS3HHLhkAQB6EgkrlYQHDLWh0TfCBAaLSkBaSMF0BjgCoGKIBXQPfT28b++ldAbO6G+DjnYkAdZqqZjyh1QE3OcnDQoyFA",
          "dtype": "f8"
         }
        },
        {
         "marker": {
          "color": "steelblue"
         },
         "name": "Mortalidade Infantil Média",
         "type": "bar",
         "x": [
          "AC",
          "AL",
          "AM",
          "AP",
          "BA",
          "CE",
          "DF",
          "ES",
          "GO",
          "MA",
          "MG",
          "MS",
          "MT",
          "PA",
          "PB",
          "PE",
          "PI",
          "PR",
          "RJ",
          "RN",
          "RO",
          "RR",
          "RS",
          "SC",
          "SE",
          "SP",
          "TO"
         ],
         "y": {
          "bdata": "3MGCABbFoEC0YbqYH6ODQN7t5Fv+IKdATNP8VMDxoUAOTX1RjFmQQKRTtgMiw5RAYYoP1DKyw0BLqpC+XZGXQE7mwsVEVI5AHPBTeEGmlkDxf3FLgOuCQFJ6s9OiaYhA7Bp2xTbSjEDJxVdUBwSsQN+iPTVo0nFAqZTwlV76mEBeJ4H688ppQGNLL/LmrYdAm6jKouQOskAUFmvyfkt6QCC9RIeRipJAgJ2hI2nFjEAXbj5xQOqAQOM198ueTYJA2lZ27IFKk0CEN9ZhXCiYQFMFDR8evHVA",
          "dtype": "f8"
         }
        }
       ],
       "layout": {
        "barmode": "group",
        "height": 600,
        "template": {
         "data": {
          "bar": [
           {
            "error_x": {
             "color": "#2a3f5f"
            },
            "error_y": {
             "color": "#2a3f5f"
            },
            "marker": {
             "line": {
              "color": "white",
              "width": 0.5
             },
             "pattern": {
              "fillmode": "overlay",
              "size": 10,
              "solidity": 0.2
             }
            },
            "type": "bar"
           }
          ],
          "barpolar": [
           {
            "marker": {
             "line": {
              "color": "white",
              "width": 0.5
             },
             "pattern": {
              "fillmode": "overlay",
              "size": 10,
              "solidity": 0.2
             }
            },
            "type": "barpolar"
           }
          ],
          "carpet": [
           {
            "aaxis": {
             "endlinecolor": "#2a3f5f",
             "gridcolor": "#C8D4E3",
             "linecolor": "#C8D4E3",
             "minorgridcolor": "#C8D4E3",
             "startlinecolor": "#2a3f5f"
            },
            "baxis": {
             "endlinecolor": "#2a3f5f",
             "gridcolor": "#C8D4E3",
             "linecolor": "#C8D4E3",
             "minorgridcolor": "#C8D4E3",
             "startlinecolor": "#2a3f5f"
            },
            "type": "carpet"
           }
          ],
          "choropleth": [
           {
            "colorbar": {
             "outlinewidth": 0,
             "ticks": ""
            },
            "type": "choropleth"
           }
          ],
          "contour": [
           {
            "colorbar": {
             "outlinewidth": 0,
             "ticks": ""
            },
            "colorscale": [
             [
              0,
              "#0d0887"
             ],
             [
              0.1111111111111111,
              "#46039f"
             ],
             [
              0.2222222222222222,
              "#7201a8"
             ],
             [
              0.3333333333333333,
              "#9c179e"
             ],
             [
              0.4444444444444444,
              "#bd3786"
             ],
             [
              0.5555555555555556,
              "#d8576b"
             ],
             [
              0.6666666666666666,
              "#ed7953"
             ],
             [
              0.7777777777777778,
              "#fb9f3a"
             ],
             [
              0.8888888888888888,
              "#fdca26"
             ],
             [
              1,
              "#f0f921"
             ]
            ],
            "type": "contour"
           }
          ],
          "contourcarpet": [
           {
            "colorbar": {
             "outlinewidth": 0,
             "ticks": ""
            },
            "type": "contourcarpet"
           }
          ],
          "heatmap": [
           {
            "colorbar": {
             "outlinewidth": 0,
             "ticks": ""
            },
            "colorscale": [
             [
              0,
              "#0d0887"
             ],
             [
              0.1111111111111111,
              "#46039f"
             ],
             [
              0.2222222222222222,
              "#7201a8"
             ],
             [
              0.3333333333333333,
              "#9c179e"
             ],
             [
              0.4444444444444444,
              "#bd3786"
             ],
             [
              0.5555555555555556,
              "#d8576b"
             ],
             [
              0.6666666666666666,
              "#ed7953"
             ],
             [
              0.7777777777777778,
              "#fb9f3a"
             ],
             [
              0.8888888888888888,
              "#fdca26"
             ],
             [
              1,
              "#f0f921"
             ]
            ],
            "type": "heatmap"
           }
          ],
          "histogram": [
           {
            "marker": {
             "pattern": {
              "fillmode": "overlay",
              "size": 10,
              "solidity": 0.2
             }
            },
            "type": "histogram"
           }
          ],
          "histogram2d": [
           {
            "colorbar": {
             "outlinewidth": 0,
             "ticks": ""
            },
            "colorscale": [
             [
              0,
              "#0d0887"
             ],
             [
              0.1111111111111111,
              "#46039f"
             ],
             [
              0.2222222222222222,
              "#7201a8"
             ],
             [
              0.3333333333333333,
              "#9c179e"
             ],
             [
              0.4444444444444444,
              "#bd3786"
             ],
             [
              0.5555555555555556,
              "#d8576b"
             ],
             [
              0.6666666666666666,
              "#ed7953"
             ],
             [
              0.7777777777777778,
              "#fb9f3a"
             ],
             [
              0.8888888888888888,
              "#fdca26"
             ],
             [
              1,
              "#f0f921"
             ]
            ],
            "type": "histogram2d"
           }
          ],
          "histogram2dcontour": [
           {
            "colorbar": {
             "outlinewidth": 0,
             "ticks": ""
            },
            "colorscale": [
             [
              0,
              "#0d0887"
             ],
             [
              0.1111111111111111,
              "#46039f"
             ],
             [
              0.2222222222222222,
              "#7201a8"
             ],
             [
              0.3333333333333333,
              "#9c179e"
             ],
             [
              0.4444444444444444,
              "#bd3786"
             ],
             [
              0.5555555555555556,
              "#d8576b"
             ],
             [
              0.6666666666666666,
              "#ed7953"
             ],
             [
              0.7777777777777778,
              "#fb9f3a"
             ],
             [
              0.8888888888888888,
              "#fdca26"
             ],
             [
              1,
              "#f0f921"
             ]
            ],
            "type": "histogram2dcontour"
           }
          ],
          "mesh3d": [
           {
            "colorbar": {
             "outlinewidth": 0,
             "ticks": ""
            },
            "type": "mesh3d"
           }
          ],
          "parcoords": [
           {
            "line": {
             "colorbar": {
              "outlinewidth": 0,
              "ticks": ""
             }
            },
            "type": "parcoords"
           }
          ],
          "pie": [
           {
            "automargin": true,
            "type": "pie"
           }
          ],
          "scatter": [
           {
            "fillpattern": {
             "fillmode": "overlay",
             "size": 10,
             "solidity": 0.2
            },
            "type": "scatter"
           }
          ],
          "scatter3d": [
           {
            "line": {
             "colorbar": {
              "outlinewidth": 0,
              "ticks": ""
             }
            },
            "marker": {
             "colorbar": {
              "outlinewidth": 0,
              "ticks": ""
             }
            },
            "type": "scatter3d"
           }
          ],
          "scattercarpet": [
           {
            "marker": {
             "colorbar": {
              "outlinewidth": 0,
              "ticks": ""
             }
            },
            "type": "scattercarpet"
           }
          ],
          "scattergeo": [
           {
            "marker": {
             "colorbar": {
              "outlinewidth": 0,
              "ticks": ""
             }
            },
            "type": "scattergeo"
           }
          ],
          "scattergl": [
           {
            "marker": {
             "colorbar": {
              "outlinewidth": 0,
              "ticks": ""
             }
            },
            "type": "scattergl"
           }
          ],
          "scattermap": [
           {
            "marker": {
             "colorbar": {
              "outlinewidth": 0,
              "ticks": ""
             }
            },
            "type": "scattermap"
           }
          ],
          "scattermapbox": [
           {
            "marker": {
             "colorbar": {
              "outlinewidth": 0,
              "ticks": ""
             }
            },
            "type": "scattermapbox"
           }
          ],
          "scatterpolar": [
           {
            "marker": {
             "colorbar": {
              "outlinewidth": 0,
              "ticks": ""
             }
            },
            "type": "scatterpolar"
           }
          ],
          "scatterpolargl": [
           {
            "marker": {
             "colorbar": {
              "outlinewidth": 0,
              "ticks": ""
             }
            },
            "type": "scatterpolargl"
           }
          ],
          "scatterternary": [
           {
            "marker": {
             "colorbar": {
              "outlinewidth": 0,
              "ticks": ""
             }
            },
            "type": "scatterternary"
           }
          ],
          "surface": [
           {
            "colorbar": {
             "outlinewidth": 0,
             "ticks": ""
            },
            "colorscale": [
             [
              0,
              "#0d0887"
             ],
             [
              0.1111111111111111,
              "#46039f"
             ],
             [
              0.2222222222222222,
              "#7201a8"
             ],
             [
              0.3333333333333333,
              "#9c179e"
             ],
             [
              0.4444444444444444,
              "#bd3786"
             ],
             [
              0.5555555555555556,
              "#d8576b"
             ],
             [
              0.6666666666666666,
              "#ed7953"
             ],
             [
              0.7777777777777778,
              "#fb9f3a"
             ],
             [
              0.8888888888888888,
              "#fdca26"
             ],
             [
              1,
              "#f0f921"
             ]
            ],
            "type": "surface"
           }
          ],
          "table": [
           {
            "cells": {
             "fill": {
              "color": "#EBF0F8"
             },
             "line": {
              "color": "white"
             }
            },
            "header": {
             "fill": {
              "color": "#C8D4E3"
             },
             "line": {
              "color": "white"
             }
            },
            "type": "table"
           }
          ]
         },
         "layout": {
          "annotationdefaults": {
           "arrowcolor": "#2a3f5f",
           "arrowhead": 0,
           "arrowwidth": 1
          },
          "autotypenumbers": "strict",
          "coloraxis": {
           "colorbar": {
            "outlinewidth": 0,
            "ticks": ""
           }
          },
          "colorscale": {
           "diverging": [
            [
             0,
             "#8e0152"
            ],
            [
             0.1,
             "#c51b7d"
            ],
            [
             0.2,
             "#de77ae"
            ],
            [
             0.3,
             "#f1b6da"
            ],
            [
             0.4,
             "#fde0ef"
            ],
            [
             0.5,
             "#f7f7f7"
            ],
            [
             0.6,
             "#e6f5d0"
            ],
            [
             0.7,
             "#b8e186"
            ],
            [
             0.8,
             "#7fbc41"
            ],
            [
             0.9,
             "#4d9221"
            ],
            [
             1,
             "#276419"
            ]
           ],
           "sequential": [
            [
             0,
             "#0d0887"
            ],
            [
             0.1111111111111111,
             "#46039f"
            ],
            [
             0.2222222222222222,
             "#7201a8"
            ],
            [
             0.3333333333333333,
             "#9c179e"
            ],
            [
             0.4444444444444444,
             "#bd3786"
            ],
            [
             0.5555555555555556,
             "#d8576b"
            ],
            [
             0.6666666666666666,
             "#ed7953"
            ],
            [
             0.7777777777777778,
             "#fb9f3a"
            ],
            [
             0.8888888888888888,
             "#fdca26"
            ],
            [
             1,
             "#f0f921"
            ]
           ],
           "sequentialminus": [
            [
             0,
             "#0d0887"
            ],
            [
             0.1111111111111111,
             "#46039f"
            ],
            [
             0.2222222222222222,
             "#7201a8"
            ],
            [
             0.3333333333333333,
             "#9c179e"
            ],
            [
             0.4444444444444444,
             "#bd3786"
            ],
            [
             0.5555555555555556,
             "#d8576b"
            ],
            [
             0.6666666666666666,
             "#ed7953"
            ],
            [
             0.7777777777777778,
             "#fb9f3a"
            ],
            [
             0.8888888888888888,
             "#fdca26"
            ],
            [
             1,
             "#f0f921"
            ]
           ]
          },
          "colorway": [
           "#636efa",
           "#EF553B",
           "#00cc96",
           "#ab63fa",
           "#FFA15A",
           "#19d3f3",
           "#FF6692",
           "#B6E880",
           "#FF97FF",
           "#FECB52"
          ],
          "font": {
           "color": "#2a3f5f"
          },
          "geo": {
           "bgcolor": "white",
           "lakecolor": "white",
           "landcolor": "white",
           "showlakes": true,
           "showland": true,
           "subunitcolor": "#C8D4E3"
          },
          "hoverlabel": {
           "align": "left"
          },
          "hovermode": "closest",
          "mapbox": {
           "style": "light"
          },
          "paper_bgcolor": "white",
          "plot_bgcolor": "white",
          "polar": {
           "angularaxis": {
            "gridcolor": "#EBF0F8",
            "linecolor": "#EBF0F8",
            "ticks": ""
           },
           "bgcolor": "white",
           "radialaxis": {
            "gridcolor": "#EBF0F8",
            "linecolor": "#EBF0F8",
            "ticks": ""
           }
          },
          "scene": {
           "xaxis": {
            "backgroundcolor": "white",
            "gridcolor": "#DFE8F3",
            "gridwidth": 2,
            "linecolor": "#EBF0F8",
            "showbackground": true,
            "ticks": "",
            "zerolinecolor": "#EBF0F8"
           },
           "yaxis": {
            "backgroundcolor": "white",
            "gridcolor": "#DFE8F3",
            "gridwidth": 2,
            "linecolor": "#EBF0F8",
            "showbackground": true,
            "ticks": "",
            "zerolinecolor": "#EBF0F8"
           },
           "zaxis": {
            "backgroundcolor": "white",
            "gridcolor": "#DFE8F3",
            "gridwidth": 2,
            "linecolor": "#EBF0F8",
            "showbackground": true,
            "ticks": "",
            "zerolinecolor": "#EBF0F8"
           }
          },
          "shapedefaults": {
           "line": {
            "color": "#2a3f5f"
           }
          },
          "ternary": {
           "aaxis": {
            "gridcolor": "#DFE8F3",
            "linecolor": "#A2B1C6",
            "ticks": ""
           },
           "baxis": {
            "gridcolor": "#DFE8F3",
            "linecolor": "#A2B1C6",
            "ticks": ""
           },
           "bgcolor": "white",
           "caxis": {
            "gridcolor": "#DFE8F3",
            "linecolor": "#A2B1C6",
            "ticks": ""
           }
          },
          "title": {
           "x": 0.05
          },
          "xaxis": {
           "automargin": true,
           "gridcolor": "#EBF0F8",
           "linecolor": "#EBF0F8",
           "ticks": "",
           "title": {
            "standoff": 15
           },
           "zerolinecolor": "#EBF0F8",
           "zerolinewidth": 2
          },
          "yaxis": {
           "automargin": true,
           "gridcolor": "#EBF0F8",
           "linecolor": "#EBF0F8",
           "ticks": "",
           "title": {
            "standoff": 15
           },
           "zerolinecolor": "#EBF0F8",
           "zerolinewidth": 2
          }
         }
        },
        "title": {
         "text": "Comparativo por Estado: Densidade Populacional x Mortalidade Infantil (Escala Logarítmica)"
        },
        "yaxis": {
         "title": {
          "text": "Valor (Escala Log)"
         },
         "type": "log"
        }
       }
      }
     },
     "metadata": {},
     "output_type": "display_data"
    }
   ],
   "source": [
    "\n",
    "# Carregar os dados\n",
    "df = pd.read_csv(\"dataFrame/BrStatsAtualizada.csv\", sep=\";\", low_memory=False)\n",
    "\n",
    "# Converter colunas para valores numéricos\n",
    "for col in [\"povoamento\", \"NrObitosInfantis\", \"NrNascimentos\"]:\n",
    "    df[col] = pd.to_numeric(df[col].astype(str).str.replace(\",\", \".\"), errors=\"coerce\")\n",
    "\n",
    "# Calcular Mortalidade Infantil\n",
    "df[\"MortalidadeInfantil\"] = (df[\"NrObitosInfantis\"] / df[\"NrNascimentos\"]) * 1000\n",
    "\n",
    "# Agrupar por estado e calcular a média\n",
    "df_estado = df.groupby(\"UF\").agg({\n",
    "    \"povoamento\": \"mean\",\n",
    "    \"MortalidadeInfantil\": \"mean\"\n",
    "}).reset_index()\n",
    "\n",
    "# Ordenar os estados pelo nome (opcional)\n",
    "df_estado.sort_values(by=\"UF\", inplace=True)\n",
    "\n",
    "# Criar gráfico de barras\n",
    "fig = go.Figure(data=[\n",
    "    go.Bar(name='Densidade Populacional Média', x=df_estado[\"UF\"], y=df_estado[\"povoamento\"], marker_color='indianred'),\n",
    "    go.Bar(name='Mortalidade Infantil Média', x=df_estado[\"UF\"], y=df_estado[\"MortalidadeInfantil\"], marker_color='steelblue')\n",
    "])\n",
    "\n",
    "fig.update_layout(\n",
    "    yaxis_type='log',\n",
    "    yaxis_title='Valor (Escala Log)',\n",
    "    title='Comparativo por Estado: Densidade Populacional x Mortalidade Infantil (Escala Logarítmica)',\n",
    "    barmode='group',\n",
    "    template='plotly_white',\n",
    "    height=600\n",
    ")\n",
    "\n",
    "\n",
    "fig.show()\n"
   ]
  },
  {
   "cell_type": "markdown",
   "metadata": {},
   "source": [
    "#### 🎯 Motivo da Utilização do Gráfico\n",
    "\n",
    "O gráfico apresentado utiliza barras duplas para comparar, por estado, dois indicadores importantes: a densidade populacional média e a mortalidade infantil média, no período de 2016 a 2021. No eixo X temos os estados brasileiros, enquanto o eixo Y representa os valores dos indicadores em escala logarítmica, o que permite uma melhor visualização de dados com variações muito grandes,já que alguns estados têm densidade populacional extremamente baixa enquanto outros possuem valores de mortalidade bem altos."
   ]
  },
  {
   "cell_type": "markdown",
   "metadata": {},
   "source": [
    "#### 📌 Explicação do Conteúdo do Gráfico\n",
    "A escolha por barras duplas facilita a comparação entre os dois indicadores para cada estado, lado a lado. Ao observar o gráfico, nota-se que não existe uma relação direta e proporcional entre a densidade populacional e a mortalidade infantil. Por exemplo, estados como o Distrito Federal e São Paulo apresentam alta densidade, mas mortalidade infantil relativamente controlada. Já estados menos populosos, como Amapá ou Maranhão, podem registrar níveis de mortalidade ainda elevados."
   ]
  },
  {
   "cell_type": "markdown",
   "metadata": {},
   "source": [
    "#### ✅ O que podemos perceber?\n",
    "\n",
    "O uso da escala logarítmica foi fundamental para permitir que estados com valores muito pequenos também fossem visualizados de forma justa no gráfico. Isso garantiu que todos os dados fossem considerados na análise, sem que os maiores valores 'escondessem' os menores. Assim, o gráfico nos ajuda a enxergar diferenças regionais importantes e reforça a ideia de que a mortalidade infantil não depende exclusivamente da concentração populacional, mas sim de uma série de fatores sociais, econômicos e estruturais"
   ]
  },
  {
   "cell_type": "markdown",
   "metadata": {},
   "source": [
    "### 📊  PIB per capita x Exportações\n",
    "\n",
    "Nessa análise queremos evidenciar se há alguma relação entre o PIB per capita com o volume de exportações de cada estado, para ajudar nessa análise foi separado cada ano (2016 a 2020), buscando uma verificação mais profunda dos dados."
   ]
  },
  {
   "cell_type": "code",
   "execution_count": 64,
   "metadata": {},
   "outputs": [
    {
     "data": {
      "application/vnd.plotly.v1+json": {
       "config": {
        "plotlyServerURL": "https://plot.ly"
       },
       "data": [
        {
         "marker": {
          "color": "#1f77b4"
         },
         "name": "Exportações (R$)",
         "type": "bar",
         "visible": true,
         "x": [
          "DF",
          "MT",
          "MS",
          "RS",
          "RJ",
          "SP",
          "SC",
          "PR",
          "GO",
          "ES",
          "RO",
          "MG",
          "AP",
          "TO",
          "RR",
          "AC",
          "PA",
          "SE",
          "RN",
          "AL",
          "BA",
          "PE",
          "AM",
          "PB",
          "CE",
          "MA",
          "PI"
         ],
         "y": {
          "bdata": "CtcDpcuL/0EehQv0LBX5QSlc/3pOWwhCPQob7n33JUJ7FNZSpZowQnsUqoF5HVFCrkfBzIk7K0J7FHrd4YotQlyPwju48gtCAAAQycKcE0KG61Gg/AbnQeF6JMG/ViFCSOF6HK5ml0E9CtfTxszDQT4K1+P0PINBH4XrkVTqYkFI4bqXu4H3QUfhei0/schBUrgeb7s9z0GamRnt0efpQc3MrKexTiBC9ihs7wGKF0KkcNWO7osgQmZm5oGUe9pBhethVgl2EkIUrgcSOj0GQuF6FKKtYb9B",
          "dtype": "f8"
         },
         "yaxis": "y2"
        },
        {
         "marker": {
          "color": "#ff7f0e"
         },
         "name": "PIB per capita (R$)",
         "type": "bar",
         "visible": true,
         "x": [
          "DF",
          "MT",
          "MS",
          "RS",
          "RJ",
          "SP",
          "SC",
          "PR",
          "GO",
          "ES",
          "RO",
          "MG",
          "AP",
          "TO",
          "RR",
          "AC",
          "PA",
          "SE",
          "RN",
          "AL",
          "BA",
          "PE",
          "AM",
          "PB",
          "CE",
          "MA",
          "PI"
         ],
         "y": {
          "bdata": "ECG4G6NQ80Dcj+olycPhQHPB0OlQuuFASKt6w5OH4EAZL8EnETreQHS/YxvRMt5ABvPfM8IM3kBt+FLaY3/cQEMcmxK/ztlApP03Pk261ECuCcmlxe3RQKKF2QRnltFAUMMgfq5v0ECy8okwUhfQQDxjcJUL285A+sDxP1jAykAOqKQmqVDKQOefn5I7KclAlx44nNGBx0BQcbrVfNrFQGWNi1rywcVA1JJq2iC9xUB44+xrY+DCQO+ZuIKyicJAPU2HnnV8wkB1R3noOh7BQPGqyQPC3r9A",
          "dtype": "f8"
         }
        },
        {
         "marker": {
          "color": "#1f77b4"
         },
         "name": "Exportações (R$)",
         "type": "bar",
         "visible": false,
         "x": [
          "DF",
          "MS",
          "MT",
          "RS",
          "SP",
          "RJ",
          "SC",
          "PR",
          "GO",
          "ES",
          "RO",
          "MG",
          "AP",
          "TO",
          "RR",
          "PA",
          "AC",
          "RN",
          "SE",
          "AL",
          "PE",
          "BA",
          "CE",
          "AM",
          "PB",
          "PI",
          "MA"
         ],
         "y": {
          "bdata": "4XrUv5qJ9kGamXkqd7kKQsL1SHEBvP1BR+HSL8w3KkJI4TUlpkhSQpqZZQWGUy1CMzO7CWWPMEJmZkLvy6IuQpqZkXb7HxFCmpnJnb5fGEIfhUt88BfwQQAALFuObiNCUrgetcCOsUFmZmYZrEvSQfUoXO8e/IZBrkdBPFSi9EEzMzMz4M1lQa5H4dfa+c1BuB6F3XtYx0FSuB44OEbrQXoU3krQLB5C61EAGKEKI0KF68GijrsHQrgedXMGDydC4XrUfQAx4UGPwnUw53bdQbke5YP2FAtC",
          "dtype": "f8"
         },
         "yaxis": "y2"
        },
        {
         "marker": {
          "color": "#ff7f0e"
         },
         "name": "PIB per capita (R$)",
         "type": "bar",
         "visible": false,
         "x": [
          "DF",
          "MS",
          "MT",
          "RS",
          "SP",
          "RJ",
          "SC",
          "PR",
          "GO",
          "ES",
          "RO",
          "MG",
          "AP",
          "TO",
          "RR",
          "PA",
          "AC",
          "RN",
          "SE",
          "AL",
          "PE",
          "BA",
          "CE",
          "AM",
          "PB",
          "PI",
          "MA"
         ],
         "y": {
          "bdata": "rVBVczeo80A17xd7IevhQNUa6LXqoOFAQnL4SEaR4EDBAHYobAfgQHqk5xMk9t9ApHA3HOts30COEoohO5TdQCNSOkEKvNpAiFjb9VUi10CovG3hpsXTQKtNc4NeYtJAejjkyfsf0kCs/dbBmafRQOcVpwWgn9BADSXF8UXEzkBptLrSGkLLQAnf21wh9cpAbsStB1HkykCfJwibvN7IQFzl7TzcxcdANubpu+IbxkDBfrE6NM/EQJ6GKulWtcNAmUn0l9qQw0D+pfo/PX3DQFHWVu5ImMJA",
          "dtype": "f8"
         }
        },
        {
         "marker": {
          "color": "#1f77b4"
         },
         "name": "Exportações (R$)",
         "type": "bar",
         "visible": false,
         "x": [
          "DF",
          "MS",
          "MT",
          "RS",
          "RJ",
          "SC",
          "SP",
          "PR",
          "ES",
          "GO",
          "RO",
          "MG",
          "TO",
          "AP",
          "RR",
          "PA",
          "RN",
          "SE",
          "AC",
          "AL",
          "BA",
          "PE",
          "PI",
          "AM",
          "CE",
          "PB",
          "MA"
         ],
         "y": {
          "bdata": "R+HaHim79EH2KFwZz0ENQilcL8P64QBCmZnZpDHNLUKuR8erAsM/QlK4cGC3ZjRCwvXEs3QgVEJSuLb7IXEwQrge/azZoRpCCtfTSgD2EkIVrueN1NTyQRSugxFNAihC61E4079u00HC9Sjl7BbMQQrXo4CIiYxBuB4FBcUr+UH1KFyUXUTMQWZm5tOWR9BBMzMzM+XvbUE+ChcYVwjpQYXrTQg88yRCXI8WbMY2IUIfhes+BybHQQAARAaUbipCj8I1a9/OCkIfhWs3qxXnQT0Kz5o1XhBC",
          "dtype": "f8"
         },
         "yaxis": "y2"
        },
        {
         "marker": {
          "color": "#ff7f0e"
         },
         "name": "PIB per capita (R$)",
         "type": "bar",
         "visible": false,
         "x": [
          "DF",
          "MS",
          "MT",
          "RS",
          "RJ",
          "SC",
          "SP",
          "PR",
          "ES",
          "GO",
          "RO",
          "MG",
          "TO",
          "AP",
          "RR",
          "PA",
          "RN",
          "SE",
          "AC",
          "AL",
          "BA",
          "PE",
          "PI",
          "AM",
          "CE",
          "PB",
          "MA"
         ],
         "y": {
          "bdata": "3o/WTNbp9EALdNQhEkvkQCZyQDr7q+JApWxn9/h34kBg4c5d20TiQG9oBor0deBAlnOKnpAN4EBuKeBpCn7fQJD2p1AyRN1AYfFRrxyZ20CCkqAuWOHVQLKLCsJLhtNAUevRHbCF0kAHLHMIMlvSQKOw6G8GytBA8z7dcyGP0EAmQr7erevMQPWYSmz2EstAGkjRo3ALy0AAQ76qZjPKQFYwll+Q7MhAbKFagWqmyEDpWBlit8/FQGbBJfBCeMVAToKd6clYxUBatWPhR6HEQL4Ll5Id+sNA",
          "dtype": "f8"
         }
        },
        {
         "marker": {
          "color": "#1f77b4"
         },
         "name": "Exportações (R$)",
         "type": "bar",
         "visible": false,
         "x": [
          "DF",
          "MS",
          "RJ",
          "RS",
          "MT",
          "SC",
          "SP",
          "PR",
          "GO",
          "ES",
          "RO",
          "MG",
          "TO",
          "AP",
          "PA",
          "RR",
          "RN",
          "SE",
          "AL",
          "AC",
          "PE",
          "BA",
          "AM",
          "PI",
          "CE",
          "PB",
          "MA"
         ],
         "y": {
          "bdata": "PQqXbIZy90GkcP1gR3QJQoXrLWT/CzxCpHA1no0sKkIpXC9AL0wFQpqZu70+TDZCwvXBdQqiU0J7FLw0U+EwQnE9emeZ+BJCj8Llin2cIELYo/CXH6P0QXE9Qm0slSdCj8L1eR6qzUH1KFw+C33EQczMzCeH7vlBKVyP8kckiUGPwvX0eXrMQdej8CoHXu9BFK4Hso8u7EHMzMzMxTplQcL1KNsY7xpCCtcnqt0GIkL1KDSMCOEqQmZmZvvpYthBmZlJcCvxCEIfhSu5OhboQdejAIfjyRJC",
          "dtype": "f8"
         },
         "yaxis": "y2"
        },
        {
         "marker": {
          "color": "#ff7f0e"
         },
         "name": "PIB per capita (R$)",
         "type": "bar",
         "visible": false,
         "x": [
          "DF",
          "MS",
          "RJ",
          "RS",
          "MT",
          "SC",
          "SP",
          "PR",
          "GO",
          "ES",
          "RO",
          "MG",
          "TO",
          "AP",
          "PA",
          "RR",
          "RN",
          "SE",
          "AL",
          "AC",
          "PE",
          "BA",
          "AM",
          "PI",
          "CE",
          "PB",
          "MA"
         ],
         "y": {
          "bdata": "m/7wAGwn9kBzah+ER6zjQFVnFVvoj+NAibsSiPxd40DKgP/eFknjQK+t5OhUw+FACkZNzRHh4EBFyaxw4rLfQOhhiesIQt1AHkXzijfQ3EB10HTt8G3WQBHVWrMB5tRAdUvRvH9O1EDvfD2TBm3SQCvrHTdjt9FAhynmRT600UDMICx2G1rPQFms4O6y1M1AgwrW7FRuzEA6jcGRDezKQM8ujXM4NMpAdK/4OEHIyUBMTSn5FsHGQN2/fLQ5tcZAb0oR1YuwxkAsSIkei2TFQDtsc3UAEMRA",
          "dtype": "f8"
         }
        },
        {
         "marker": {
          "color": "#1f77b4"
         },
         "name": "Exportações (R$)",
         "type": "bar",
         "visible": false,
         "x": [
          "DF",
          "MT",
          "MS",
          "SC",
          "RJ",
          "RS",
          "PR",
          "SP",
          "GO",
          "ES",
          "TO",
          "PA",
          "RO",
          "MG",
          "AC",
          "AL",
          "RR",
          "AP",
          "SE",
          "RN",
          "BA",
          "PI",
          "PE",
          "MA",
          "CE",
          "AM",
          "PB"
         ],
         "y": {
          "bdata": "4Xq0rrMy/EGamYnwRQsDQuF6lHMWKARCrkfTQQIjNUL2KC0khWNAQrge8e95GyNCCteDqX5oLEKk8O9Xt/9QQj4KR3oJjxFC4XpYYlV6IEIfhWsQcXvVQcP1SJT9YflBH4XrDc7/50HXowTplKokQgAAAAAB6m5B4npUk6Eq7EGkcD0i7fOlQSlcjybNwc5BhetRPN4WzUEfheu6IonOQbgezQiNJxlCHoXrXBJc2UH2KBTmOj4SQnwUvsbn+ARCrkcx0fCICUL//zfTTLQpQv//P7QCW+VB",
          "dtype": "f8"
         },
         "yaxis": "y2"
        },
        {
         "marker": {
          "color": "#ff7f0e"
         },
         "name": "PIB per capita (R$)",
         "type": "bar",
         "visible": false,
         "x": [
          "DF",
          "MT",
          "MS",
          "SC",
          "RJ",
          "RS",
          "PR",
          "SP",
          "GO",
          "ES",
          "TO",
          "PA",
          "RO",
          "MG",
          "AC",
          "AL",
          "RR",
          "AP",
          "SE",
          "RN",
          "BA",
          "PI",
          "PE",
          "MA",
          "CE",
          "AM",
          "PB"
         ],
         "y": {
          "bdata": "dNMUj4I+9UBnszZ81XbqQJZFL8zB9OdAxiSCF8ru5ECKY0pGnsHjQG288zfapuNAzdZT8h2B40AuP8St+hjjQGCXXSWuEuFAJ6lESVOp3EAsgFfEPibaQIGv6sovg9lAuWDU7+Ww2EA1jaOLSojXQJImQhYFHtVA+lsFDMCi1EBdzpLsZ0bUQNTcUOzW0dNADyeufic000BtqlhCwlrSQFLUcUPMhNBA6hPhXh/ry0D4WsRJio7KQAEvdwYIDcpA/7qZXEFsyECkBcOgQ5/HQMp24GRmmsdA",
          "dtype": "f8"
         }
        },
        {
         "marker": {
          "color": "#1f77b4"
         },
         "name": "Exportações (R$)",
         "type": "bar",
         "visible": false,
         "x": [
          "DF",
          "MT",
          "SE",
          "RS",
          "RJ",
          "MS",
          "PR",
          "SC",
          "SP",
          "GO",
          "RO",
          "ES",
          "PA",
          "TO",
          "MG",
          "RR",
          "AC",
          "PE",
          "AP",
          "AL",
          "MA",
          "RN",
          "PI",
          "BA",
          "CE",
          "PB",
          "AM"
         ],
         "y": {
          "bdata": "zczEwqMaE0IfhStxX3gQQilcj0YFJ81BkMKBA3APL0J7FO4Wcv89QszMDECKXwtCKVzRFhdyNkIfhabQ63lAQjOzC54QOlZCSOGCahHAHUL2KFxy8iXpQc3MALU2QyFCcT0aYMJZAEJSuJ4HLGjwQTMzBXedkjFCwvUoZHditEHhehSuA0R0QeF6mB/ojiFCrkchqzz24UGF6xEn6BsGQpmZafnozRhCmpk53CZC8EHrUXiifSTrQXE9GlxC2yVCCtdDK8K4FELsURi/mNgQQnA9cDZNfzFC",
          "dtype": "f8"
         },
         "yaxis": "y2"
        },
        {
         "marker": {
          "color": "#ff7f0e"
         },
         "name": "PIB per capita (R$)",
         "type": "bar",
         "visible": false,
         "x": [
          "DF",
          "MT",
          "SE",
          "RS",
          "RJ",
          "MS",
          "PR",
          "SC",
          "SP",
          "GO",
          "RO",
          "ES",
          "PA",
          "TO",
          "MG",
          "RR",
          "AC",
          "PE",
          "AP",
          "AL",
          "MA",
          "RN",
          "PI",
          "BA",
          "CE",
          "PB",
          "AM"
         ],
         "y": {
          "bdata": "X8XBUsSj9kAoiWe2mDDzQPvdkejjZO1A3pOea7QS7EDg2hWU71brQGNa/Ag2GutAnEP6y1hA6UAV4ApADeLnQJLhg1zfa+VAyPjDDOn55EAMRa+vaUDjQEgcW4XD8+JA5yxEQzxp4UDCD1Ku+F7gQLpgqYtGVuBATc+OYzlk1kDte4l7JFjVQKLOWPLAsNRAgd9BG0Rx1EBwSRyY3S7UQJKugW6GCtRA3NARZxl+00BGbH/IbbfRQOeBCa6B49BAgg/cO13czkB8JZ49HMLMQII9NlZcH8tA",
          "dtype": "f8"
         }
        }
       ],
       "layout": {
        "barmode": "group",
        "height": 600,
        "legend": {
         "x": 1.1,
         "y": 1
        },
        "plot_bgcolor": "white",
        "template": {
         "data": {
          "bar": [
           {
            "error_x": {
             "color": "#2a3f5f"
            },
            "error_y": {
             "color": "#2a3f5f"
            },
            "marker": {
             "line": {
              "color": "#E5ECF6",
              "width": 0.5
             },
             "pattern": {
              "fillmode": "overlay",
              "size": 10,
              "solidity": 0.2
             }
            },
            "type": "bar"
           }
          ],
          "barpolar": [
           {
            "marker": {
             "line": {
              "color": "#E5ECF6",
              "width": 0.5
             },
             "pattern": {
              "fillmode": "overlay",
              "size": 10,
              "solidity": 0.2
             }
            },
            "type": "barpolar"
           }
          ],
          "carpet": [
           {
            "aaxis": {
             "endlinecolor": "#2a3f5f",
             "gridcolor": "white",
             "linecolor": "white",
             "minorgridcolor": "white",
             "startlinecolor": "#2a3f5f"
            },
            "baxis": {
             "endlinecolor": "#2a3f5f",
             "gridcolor": "white",
             "linecolor": "white",
             "minorgridcolor": "white",
             "startlinecolor": "#2a3f5f"
            },
            "type": "carpet"
           }
          ],
          "choropleth": [
           {
            "colorbar": {
             "outlinewidth": 0,
             "ticks": ""
            },
            "type": "choropleth"
           }
          ],
          "contour": [
           {
            "colorbar": {
             "outlinewidth": 0,
             "ticks": ""
            },
            "colorscale": [
             [
              0,
              "#0d0887"
             ],
             [
              0.1111111111111111,
              "#46039f"
             ],
             [
              0.2222222222222222,
              "#7201a8"
             ],
             [
              0.3333333333333333,
              "#9c179e"
             ],
             [
              0.4444444444444444,
              "#bd3786"
             ],
             [
              0.5555555555555556,
              "#d8576b"
             ],
             [
              0.6666666666666666,
              "#ed7953"
             ],
             [
              0.7777777777777778,
              "#fb9f3a"
             ],
             [
              0.8888888888888888,
              "#fdca26"
             ],
             [
              1,
              "#f0f921"
             ]
            ],
            "type": "contour"
           }
          ],
          "contourcarpet": [
           {
            "colorbar": {
             "outlinewidth": 0,
             "ticks": ""
            },
            "type": "contourcarpet"
           }
          ],
          "heatmap": [
           {
            "colorbar": {
             "outlinewidth": 0,
             "ticks": ""
            },
            "colorscale": [
             [
              0,
              "#0d0887"
             ],
             [
              0.1111111111111111,
              "#46039f"
             ],
             [
              0.2222222222222222,
              "#7201a8"
             ],
             [
              0.3333333333333333,
              "#9c179e"
             ],
             [
              0.4444444444444444,
              "#bd3786"
             ],
             [
              0.5555555555555556,
              "#d8576b"
             ],
             [
              0.6666666666666666,
              "#ed7953"
             ],
             [
              0.7777777777777778,
              "#fb9f3a"
             ],
             [
              0.8888888888888888,
              "#fdca26"
             ],
             [
              1,
              "#f0f921"
             ]
            ],
            "type": "heatmap"
           }
          ],
          "histogram": [
           {
            "marker": {
             "pattern": {
              "fillmode": "overlay",
              "size": 10,
              "solidity": 0.2
             }
            },
            "type": "histogram"
           }
          ],
          "histogram2d": [
           {
            "colorbar": {
             "outlinewidth": 0,
             "ticks": ""
            },
            "colorscale": [
             [
              0,
              "#0d0887"
             ],
             [
              0.1111111111111111,
              "#46039f"
             ],
             [
              0.2222222222222222,
              "#7201a8"
             ],
             [
              0.3333333333333333,
              "#9c179e"
             ],
             [
              0.4444444444444444,
              "#bd3786"
             ],
             [
              0.5555555555555556,
              "#d8576b"
             ],
             [
              0.6666666666666666,
              "#ed7953"
             ],
             [
              0.7777777777777778,
              "#fb9f3a"
             ],
             [
              0.8888888888888888,
              "#fdca26"
             ],
             [
              1,
              "#f0f921"
             ]
            ],
            "type": "histogram2d"
           }
          ],
          "histogram2dcontour": [
           {
            "colorbar": {
             "outlinewidth": 0,
             "ticks": ""
            },
            "colorscale": [
             [
              0,
              "#0d0887"
             ],
             [
              0.1111111111111111,
              "#46039f"
             ],
             [
              0.2222222222222222,
              "#7201a8"
             ],
             [
              0.3333333333333333,
              "#9c179e"
             ],
             [
              0.4444444444444444,
              "#bd3786"
             ],
             [
              0.5555555555555556,
              "#d8576b"
             ],
             [
              0.6666666666666666,
              "#ed7953"
             ],
             [
              0.7777777777777778,
              "#fb9f3a"
             ],
             [
              0.8888888888888888,
              "#fdca26"
             ],
             [
              1,
              "#f0f921"
             ]
            ],
            "type": "histogram2dcontour"
           }
          ],
          "mesh3d": [
           {
            "colorbar": {
             "outlinewidth": 0,
             "ticks": ""
            },
            "type": "mesh3d"
           }
          ],
          "parcoords": [
           {
            "line": {
             "colorbar": {
              "outlinewidth": 0,
              "ticks": ""
             }
            },
            "type": "parcoords"
           }
          ],
          "pie": [
           {
            "automargin": true,
            "type": "pie"
           }
          ],
          "scatter": [
           {
            "fillpattern": {
             "fillmode": "overlay",
             "size": 10,
             "solidity": 0.2
            },
            "type": "scatter"
           }
          ],
          "scatter3d": [
           {
            "line": {
             "colorbar": {
              "outlinewidth": 0,
              "ticks": ""
             }
            },
            "marker": {
             "colorbar": {
              "outlinewidth": 0,
              "ticks": ""
             }
            },
            "type": "scatter3d"
           }
          ],
          "scattercarpet": [
           {
            "marker": {
             "colorbar": {
              "outlinewidth": 0,
              "ticks": ""
             }
            },
            "type": "scattercarpet"
           }
          ],
          "scattergeo": [
           {
            "marker": {
             "colorbar": {
              "outlinewidth": 0,
              "ticks": ""
             }
            },
            "type": "scattergeo"
           }
          ],
          "scattergl": [
           {
            "marker": {
             "colorbar": {
              "outlinewidth": 0,
              "ticks": ""
             }
            },
            "type": "scattergl"
           }
          ],
          "scattermap": [
           {
            "marker": {
             "colorbar": {
              "outlinewidth": 0,
              "ticks": ""
             }
            },
            "type": "scattermap"
           }
          ],
          "scattermapbox": [
           {
            "marker": {
             "colorbar": {
              "outlinewidth": 0,
              "ticks": ""
             }
            },
            "type": "scattermapbox"
           }
          ],
          "scatterpolar": [
           {
            "marker": {
             "colorbar": {
              "outlinewidth": 0,
              "ticks": ""
             }
            },
            "type": "scatterpolar"
           }
          ],
          "scatterpolargl": [
           {
            "marker": {
             "colorbar": {
              "outlinewidth": 0,
              "ticks": ""
             }
            },
            "type": "scatterpolargl"
           }
          ],
          "scatterternary": [
           {
            "marker": {
             "colorbar": {
              "outlinewidth": 0,
              "ticks": ""
             }
            },
            "type": "scatterternary"
           }
          ],
          "surface": [
           {
            "colorbar": {
             "outlinewidth": 0,
             "ticks": ""
            },
            "colorscale": [
             [
              0,
              "#0d0887"
             ],
             [
              0.1111111111111111,
              "#46039f"
             ],
             [
              0.2222222222222222,
              "#7201a8"
             ],
             [
              0.3333333333333333,
              "#9c179e"
             ],
             [
              0.4444444444444444,
              "#bd3786"
             ],
             [
              0.5555555555555556,
              "#d8576b"
             ],
             [
              0.6666666666666666,
              "#ed7953"
             ],
             [
              0.7777777777777778,
              "#fb9f3a"
             ],
             [
              0.8888888888888888,
              "#fdca26"
             ],
             [
              1,
              "#f0f921"
             ]
            ],
            "type": "surface"
           }
          ],
          "table": [
           {
            "cells": {
             "fill": {
              "color": "#EBF0F8"
             },
             "line": {
              "color": "white"
             }
            },
            "header": {
             "fill": {
              "color": "#C8D4E3"
             },
             "line": {
              "color": "white"
             }
            },
            "type": "table"
           }
          ]
         },
         "layout": {
          "annotationdefaults": {
           "arrowcolor": "#2a3f5f",
           "arrowhead": 0,
           "arrowwidth": 1
          },
          "autotypenumbers": "strict",
          "coloraxis": {
           "colorbar": {
            "outlinewidth": 0,
            "ticks": ""
           }
          },
          "colorscale": {
           "diverging": [
            [
             0,
             "#8e0152"
            ],
            [
             0.1,
             "#c51b7d"
            ],
            [
             0.2,
             "#de77ae"
            ],
            [
             0.3,
             "#f1b6da"
            ],
            [
             0.4,
             "#fde0ef"
            ],
            [
             0.5,
             "#f7f7f7"
            ],
            [
             0.6,
             "#e6f5d0"
            ],
            [
             0.7,
             "#b8e186"
            ],
            [
             0.8,
             "#7fbc41"
            ],
            [
             0.9,
             "#4d9221"
            ],
            [
             1,
             "#276419"
            ]
           ],
           "sequential": [
            [
             0,
             "#0d0887"
            ],
            [
             0.1111111111111111,
             "#46039f"
            ],
            [
             0.2222222222222222,
             "#7201a8"
            ],
            [
             0.3333333333333333,
             "#9c179e"
            ],
            [
             0.4444444444444444,
             "#bd3786"
            ],
            [
             0.5555555555555556,
             "#d8576b"
            ],
            [
             0.6666666666666666,
             "#ed7953"
            ],
            [
             0.7777777777777778,
             "#fb9f3a"
            ],
            [
             0.8888888888888888,
             "#fdca26"
            ],
            [
             1,
             "#f0f921"
            ]
           ],
           "sequentialminus": [
            [
             0,
             "#0d0887"
            ],
            [
             0.1111111111111111,
             "#46039f"
            ],
            [
             0.2222222222222222,
             "#7201a8"
            ],
            [
             0.3333333333333333,
             "#9c179e"
            ],
            [
             0.4444444444444444,
             "#bd3786"
            ],
            [
             0.5555555555555556,
             "#d8576b"
            ],
            [
             0.6666666666666666,
             "#ed7953"
            ],
            [
             0.7777777777777778,
             "#fb9f3a"
            ],
            [
             0.8888888888888888,
             "#fdca26"
            ],
            [
             1,
             "#f0f921"
            ]
           ]
          },
          "colorway": [
           "#636efa",
           "#EF553B",
           "#00cc96",
           "#ab63fa",
           "#FFA15A",
           "#19d3f3",
           "#FF6692",
           "#B6E880",
           "#FF97FF",
           "#FECB52"
          ],
          "font": {
           "color": "#2a3f5f"
          },
          "geo": {
           "bgcolor": "white",
           "lakecolor": "white",
           "landcolor": "#E5ECF6",
           "showlakes": true,
           "showland": true,
           "subunitcolor": "white"
          },
          "hoverlabel": {
           "align": "left"
          },
          "hovermode": "closest",
          "mapbox": {
           "style": "light"
          },
          "paper_bgcolor": "white",
          "plot_bgcolor": "#E5ECF6",
          "polar": {
           "angularaxis": {
            "gridcolor": "white",
            "linecolor": "white",
            "ticks": ""
           },
           "bgcolor": "#E5ECF6",
           "radialaxis": {
            "gridcolor": "white",
            "linecolor": "white",
            "ticks": ""
           }
          },
          "scene": {
           "xaxis": {
            "backgroundcolor": "#E5ECF6",
            "gridcolor": "white",
            "gridwidth": 2,
            "linecolor": "white",
            "showbackground": true,
            "ticks": "",
            "zerolinecolor": "white"
           },
           "yaxis": {
            "backgroundcolor": "#E5ECF6",
            "gridcolor": "white",
            "gridwidth": 2,
            "linecolor": "white",
            "showbackground": true,
            "ticks": "",
            "zerolinecolor": "white"
           },
           "zaxis": {
            "backgroundcolor": "#E5ECF6",
            "gridcolor": "white",
            "gridwidth": 2,
            "linecolor": "white",
            "showbackground": true,
            "ticks": "",
            "zerolinecolor": "white"
           }
          },
          "shapedefaults": {
           "line": {
            "color": "#2a3f5f"
           }
          },
          "ternary": {
           "aaxis": {
            "gridcolor": "white",
            "linecolor": "white",
            "ticks": ""
           },
           "baxis": {
            "gridcolor": "white",
            "linecolor": "white",
            "ticks": ""
           },
           "bgcolor": "#E5ECF6",
           "caxis": {
            "gridcolor": "white",
            "linecolor": "white",
            "ticks": ""
           }
          },
          "title": {
           "x": 0.05
          },
          "xaxis": {
           "automargin": true,
           "gridcolor": "white",
           "linecolor": "white",
           "ticks": "",
           "title": {
            "standoff": 15
           },
           "zerolinecolor": "white",
           "zerolinewidth": 2
          },
          "yaxis": {
           "automargin": true,
           "gridcolor": "white",
           "linecolor": "white",
           "ticks": "",
           "title": {
            "standoff": 15
           },
           "zerolinecolor": "white",
           "zerolinewidth": 2
          }
         }
        },
        "title": {
         "text": "Exportações vs PIB per capita por Estado"
        },
        "updatemenus": [
         {
          "buttons": [
           {
            "args": [
             {
              "visible": [
               true,
               true,
               false,
               false,
               false,
               false,
               false,
               false,
               false,
               false,
               false,
               false
              ]
             },
             {
              "title": "Exportações vs PIB per capita por Estado - 2016"
             }
            ],
            "label": "2016",
            "method": "update"
           },
           {
            "args": [
             {
              "visible": [
               false,
               false,
               true,
               true,
               false,
               false,
               false,
               false,
               false,
               false,
               false,
               false
              ]
             },
             {
              "title": "Exportações vs PIB per capita por Estado - 2017"
             }
            ],
            "label": "2017",
            "method": "update"
           },
           {
            "args": [
             {
              "visible": [
               false,
               false,
               false,
               false,
               true,
               true,
               false,
               false,
               false,
               false,
               false,
               false
              ]
             },
             {
              "title": "Exportações vs PIB per capita por Estado - 2018"
             }
            ],
            "label": "2018",
            "method": "update"
           },
           {
            "args": [
             {
              "visible": [
               false,
               false,
               false,
               false,
               false,
               false,
               true,
               true,
               false,
               false,
               false,
               false
              ]
             },
             {
              "title": "Exportações vs PIB per capita por Estado - 2019"
             }
            ],
            "label": "2019",
            "method": "update"
           },
           {
            "args": [
             {
              "visible": [
               false,
               false,
               false,
               false,
               false,
               false,
               false,
               false,
               true,
               true,
               false,
               false
              ]
             },
             {
              "title": "Exportações vs PIB per capita por Estado - 2020"
             }
            ],
            "label": "2020",
            "method": "update"
           },
           {
            "args": [
             {
              "visible": [
               false,
               false,
               false,
               false,
               false,
               false,
               false,
               false,
               false,
               false,
               true,
               true
              ]
             },
             {
              "title": "Exportações vs PIB per capita por Estado - 2021"
             }
            ],
            "label": "2021",
            "method": "update"
           }
          ],
          "direction": "down",
          "showactive": true,
          "x": 1,
          "y": 1.15
         }
        ],
        "width": 1000,
        "xaxis": {
         "tickangle": 45,
         "title": {
          "text": "Estados"
         }
        },
        "yaxis": {
         "side": "left",
         "title": {
          "text": "PIB per capita (R$)"
         }
        },
        "yaxis2": {
         "overlaying": "y",
         "side": "right",
         "title": {
          "text": "Exportações (R$)"
         }
        }
       }
      }
     },
     "metadata": {},
     "output_type": "display_data"
    }
   ],
   "source": [
    "df = pd.read_csv(\"dataFrame/BrStatsAtualizada.csv\", sep=\";\", dtype={\"Exportacoes_R$\": str})\n",
    "df.columns = df.columns.str.strip()\n",
    "\n",
    "# Carregar o dataset de PIB per capita por estado\n",
    "df_pib_estado = pd.read_csv(\"pib_per_capita/pib_per_capita_estados.csv\")\n",
    "df_pib_estado[\"Ano\"] = df_pib_estado[\"Ano\"].astype(str)\n",
    "\n",
    "for col in [\"Exportacoes_R$\", \"QtEmpresas\", \"PessoalOcupado\"]:\n",
    "    df[col] = pd.to_numeric(df[col].astype(str).str.replace(\".\", \"\", regex=False).str.replace(\",\", \".\", regex=False),errors=\"coerce\")\n",
    "    \n",
    "df[\"Ano\"] = df[\"Ano\"].astype(str)\n",
    "df_exportacoes = df.groupby([\"Ano\", \"UF\"])[\"Exportacoes_R$\"].sum().reset_index()\n",
    "df_final = pd.merge(df_exportacoes, df_pib_estado, on=[\"Ano\", \"UF\"])\n",
    "fig = go.Figure()\n",
    "anos = sorted(df_final[\"Ano\"].unique())\n",
    "buttons = []\n",
    "\n",
    "for i, ano in enumerate(anos):\n",
    "    df_ano = df_final[df_final[\"Ano\"] == ano].sort_values(\"PIB_per_capita\", ascending=False)\n",
    "    \n",
    "    fig.add_trace(go.Bar(\n",
    "        x=df_ano[\"UF\"],\n",
    "        y=df_ano[\"Exportacoes_R$\"],\n",
    "        name=\"Exportações (R$)\",\n",
    "        marker_color=\"#1f77b4\",\n",
    "        yaxis=\"y2\",\n",
    "        visible=(i==0)\n",
    "    ))\n",
    "\n",
    "    fig.add_trace(go.Bar(\n",
    "        x=df_ano[\"UF\"],\n",
    "        y=df_ano[\"PIB_per_capita\"],\n",
    "        name=\"PIB per capita (R$)\",\n",
    "        marker_color=\"#ff7f0e\",\n",
    "        visible=(i==0)\n",
    "    ))\n",
    "\n",
    "    buttons.append(dict(\n",
    "        label=str(ano),\n",
    "        method=\"update\",\n",
    "        args=[{\"visible\": [False]*len(anos)*2},\n",
    "              {\"title\": f\"Exportações vs PIB per capita por Estado - {ano}\"}]\n",
    "    ))\n",
    "    buttons[-1][\"args\"][0][\"visible\"][i*2] = True\n",
    "    buttons[-1][\"args\"][0][\"visible\"][i*2 + 1] = True\n",
    "\n",
    "fig.update_layout(\n",
    "    title=\"Exportações vs PIB per capita por Estado\",\n",
    "    xaxis=dict(title=\"Estados\", tickangle=45),\n",
    "    yaxis=dict(title=\"PIB per capita (R$)\", side=\"left\"),\n",
    "    yaxis2=dict(\n",
    "        title=\"Exportações (R$)\",\n",
    "        overlaying=\"y\",\n",
    "        side=\"right\"\n",
    "        \n",
    "    ),\n",
    "    updatemenus=[{\n",
    "        \"buttons\": buttons,\n",
    "        \"direction\": \"down\",\n",
    "        \"showactive\": True,\n",
    "        \"x\": 1.0,\n",
    "        \"y\": 1.15\n",
    "    }],\n",
    "    barmode=\"group\",\n",
    "    plot_bgcolor=\"white\",\n",
    "    height=600,\n",
    "    width=1000,\n",
    "    legend=dict(x=1.1, y=1)\n",
    ")\n",
    "\n",
    "fig.show()\n",
    "\n"
   ]
  },
  {
   "cell_type": "markdown",
   "metadata": {},
   "source": [
    "#### 🎯 Motivo da Utilização do Gráfico\n",
    "\n",
    "Utilizamos o gráfico de barras agrupadas com eixo duplo para comparar, de forma clara e simultânea, o PIB per capita e as exportações por estado ao longo dos anos. Esse tipo de gráfico é ideal quando se deseja visualizar duas variáveis com escalas diferentes em um mesmo eixo, mantendo a clareza e a legibilidade dos dados. Além disso, a inclusão de abas por ano permite uma análise temporal, facilitando a identificação de uma relação."
   ]
  },
  {
   "cell_type": "markdown",
   "metadata": {},
   "source": [
    "#### 📌 Explicação do Conteúdo do Gráfico\n",
    "\n",
    "O gráfico apresenta uma comparação entre os valores totais de exportações e o PIB per capita de cada estado brasileiro ao longo dos anos. As informações são exibidas por meio de barras sobrepostas, permitindo visualizar dois indicadores diferentes ocupando o mesmo espaço. A barra laranja indica o PIB per capita, já a barra azul sobreposta representa o valor total de exportações do estado.\n",
    "\n",
    "No eixo horizontal estão os estados brasileiros representados por suas respectivas siglas.Além disso, o gráfico inclui um menu interativo que permite selecionar o ano desejado, facilitando a análise temporal. Esse tipo de visualização permite observar como exportações e a renda se relacionam ao longo do tempo em diferentes partes do país."
   ]
  },
  {
   "cell_type": "markdown",
   "metadata": {},
   "source": [
    "#### ✅ O que podemos perceber?\n",
    "\n",
    "Ao analisar o gráfico de Exportações vs PIB per capita por Estado, é possível perceber que um maior volume de exportações não garante, necessariamente, um maior PIB per capita. Um exemplo disso é o estado de São Paulo, que aparece com alto valor de exportações, mas não lidera o ranking de PIB per capita. Por outro lado, o Distrito Federal se destaca com um dos maiores PIBs per capita, mesmo apresentando baixo volume de exportações. Isso sugere que sua economia está fortemente baseada em setores como administração pública e serviços, e não na exportação de bens."
   ]
  },
  {
   "cell_type": "markdown",
   "metadata": {},
   "source": [
    "### ❗Informações Relevantes \n",
    "Embora muitas das perguntas de análise tivessem como foco os municípios, percebemos que a visualização dos dados nesse nível de detalhe gerava gráficos excessivamente poluídos e de difícil interpretação. Por isso, optamos por realizar as análises iniciais em nível estadual e regional, onde é possível identificar padrões de maneira mais clara e objetiva. A partir desses resultados, planejamos aprofundar a análise nos municípios que se destacarem dentro de cada estado ou região. Essa abordagem progressiva proporciona uma leitura mais eficaz e assertiva dos dados.\n",
    "\n",
    "Durante a revisão do projeto, também identificamos a necessidade de alterar algumas perguntas de análise. Algumas delas envolviam diretamente o PIB per capita por município, mas como são muitos municípios e o grupo ainda estava compreendendo como funcionaria o cálculo e a análise desse indicador, percebemos que seria difícil extrair insights que realmente agregassem valor ao projeto nesse momento. Por isso, reformulamos as perguntas de forma que as análises ficassem mais coerentes com os dados disponíveis e com o conhecimento técnico do grupo até aqui.\n",
    "\n",
    "Outro ponto importante foi a identificação de um outlier nos dados do Distrito Federal. Os indicadores econômicos e sociais desse estado estavam significativamente acima da média dos demais, o que gerou um forte impacto visual nos gráficos. Esse comportamento atípico nos chamou atenção e estamos analisando a melhor forma de tratar ou destacar esse caso específico na interpretação dos dados.\n",
    "\n",
    "Também notamos que os dados adicionados posteriormente, vindos do site do IBGE, especialmente os referentes ao ano de 2021, apresentaram um salto muito elevado em relação aos valores dos anos anteriores. Apesar da diferença significativa, decidimos confiar nesses dados por se tratarem de uma fonte oficial. Acreditamos que parte desse aumento pode estar relacionado a efeitos da pandemia, como mudanças abruptas na economia e nos padrões de produção.\n",
    "\n",
    "Por fim, vale destacar que nenhum dos integrantes do grupo tinha conhecimento aprofundado sobre como criar gráficos utilizando as bibliotecas escolhidas. Por esse motivo, adotamos uma postura colaborativa, compartilhando entre nós tudo o que aprendíamos ao longo do processo. Em alguns momentos, também recorremos a ajuda externa, como o uso de inteligência artificial, para solucionar dúvidas específicas sobre o funcionamento das bibliotecas, uma vez que algumas informações não estavam claras na documentação oficial.\n",
    "\n",
    "Essas decisões e ajustes contribuíram para tornar o projeto mais consistente, realista e alinhado com os recursos disponíveis ao grupo no momento.\n",
    "\n"
   ]
  },
  {
   "cell_type": "markdown",
   "metadata": {},
   "source": [
    "## 📌 Menu de Navegação\n",
    "\n",
    "- [🔹  Menu de Navegação](#menu)"
   ]
  },
  {
   "cell_type": "markdown",
   "metadata": {},
   "source": [
    "<a id=\"etapa3\"></a>\n",
    "# Etapa 3 - Projeto Desenvolvedor 🚀"
   ]
  },
  {
   "cell_type": "markdown",
   "metadata": {},
   "source": [
    "### Descrição Etapa 3\n",
    "Nesta etapa, o grupo deve aplicar inferência estatística para uma análise mais rigorosa estatisticamente sobre pelo menos um aspecto dos dados. Além disso, também deve ser aplicado um algoritmo de regras de associação para extrair padrões relevantes dos dados. Os resultados dessas análises devem ser interpretados e discutidos na documentação.\n"
   ]
  },
  {
   "cell_type": "markdown",
   "metadata": {},
   "source": [
    "### Divisão de Tarefas\n",
    "\n",
    "Durante a Etapa 3, o grupo reconsiderou alguns pontos das etapas anteriores com base em sugestões recebidas:\n",
    "\n",
    "- 🧼 **Remoção dos warnings do código** para deixá-lo mais limpo e visualmente agradável – *Tarefa realizada por Aline*  \n",
    "- 📝 **Atualização do README** com mais detalhes sobre o trabalho – *Tarefa realizada por Aline*\n",
    "\n",
    "Para esta etapa, decidimos dividir o grupo em **duplas** para uma organização mais eficiente, evitando que todos trabalhassem na mesma parte e gerassem confusão. A divisão foi a seguinte:\n",
    "\n",
    "---\n",
    "\n",
    "#### 📊 Inferência Estatística  \n",
    "👩‍🔬 **Dupla: Aline e Luana**\n",
    "\n",
    "- **Aline** ficou responsável pela **Hipótese 1**  \n",
    "- **Luana** ficou responsável pela **Hipótese 2**\n",
    "\n",
    "Cada integrante desenvolveu seu próprio código e Markdown, mas a dupla seguiu o **mesmo padrão de estrutura** para garantir uma entrega coesa e organizada.\n",
    "\n",
    "---\n",
    "\n",
    "#### 🔗 Regras de Associação  \n",
    "🧑‍💻 **Dupla: Marcus e Gustavo**\n",
    "\n",
    "- **Marcus** trabalhou na regra:  \n",
    "  *Associação entre PIB per capita e Mortalidade Infantil*\n",
    "  \n",
    "- **Gustavo** trabalhou na regra:  \n",
    "  *Volume da Produção Agrícola e Área Plantada*\n",
    "\n",
    "Assim como na dupla anterior, cada integrante ficou responsável tanto pelo código quanto pela documentação (*Markdown*) da sua parte.\n",
    "\n",
    "---\n",
    "\n",
    "🗒️ As **demais anotações gerais no Markdown** foram feitas por **Aline**, visando manter a padronização e facilitar a leitura do trabalho como um todo.\n",
    "\n",
    "**⚠️ Importante:**  \n",
    "Embora cada integrante tenha sido responsável por uma tarefa específica, **todos pesquisaram e estudaram ambos os assuntos**, colaborando entre si para garantir maior qualidade e entendimento do trabalho como um todo."
   ]
  },
  {
   "cell_type": "markdown",
   "metadata": {},
   "source": [
    "### ‼️Inferência Estatística"
   ]
  },
  {
   "cell_type": "markdown",
   "metadata": {},
   "source": [
    "#### 📗 Hipótese 1\n",
    "* Hipótese alternativa (H₁): Há uma diferença significativa  entre o PIB per capita nas regiões Centro-Oeste e Sul em comparação com as demais regiões.\n",
    "\n",
    "* Hipótese nula (H₀): Não há uma diferença significativa  entre o PIB per capita nas regiões Centro-Oeste e Sul em comparação com as demais regiões.\n",
    "\n",
    "A decisão de dividir as regiões brasileiras em dois grupos — Grupo A (Centro-Oeste e Sul) e Grupo B (Norte, Nordeste e Sudeste) — foi baseada em um critério socioeconômico e geopolítico. As regiões Sul e Centro-Oeste historicamente apresentam indicadores econômicos mais altos, como maior PIB per capita, infraestrutura mais desenvolvida e melhores índices sociais.\n",
    "\n",
    "A escolha foi guiada pela hipótese de que essas regiões estariam significativamente à frente das demais em termos de renda média por habitante. Com isso, a hipótese alternativa esperada era de que o Grupo A teria um PIB per capita significativamente superior ao Grupo B, justificando a realização do teste T para comparação de médias entre os grupos"
   ]
  },
  {
   "cell_type": "markdown",
   "metadata": {},
   "source": [
    "#### 🆎 Definindo as Variáveis da Análise\n",
    "Antes de qualquer análise estatística, é fundamental definir claramente quais variáveis fazem parte da hipótese. A seguir, descrevemos o papel de cada uma na regressão:\n",
    "\n",
    "* Variável independente principal (X₁): PIB per capita\n",
    "\n",
    "* Grupo A (amostra): Regiões Centro-Oeste e Sul\n",
    "\n",
    "* Grupo B (população): Norte, Nordeste e Sudeste\n",
    "\n"
   ]
  },
  {
   "cell_type": "markdown",
   "metadata": {},
   "source": [
    "#### 🔐 Criação de tabelas\n",
    "A seguir, foram criadas duas tabelas (Grupo A e Grupo B) a partir da tabela pib_per_capita_regioes para conseguirmos separar de uma forma mais organizada os dados que serão utilizados na hipótese 1. "
   ]
  },
  {
   "cell_type": "code",
   "execution_count": 65,
   "metadata": {},
   "outputs": [
    {
     "name": "stdout",
     "output_type": "stream",
     "text": [
      "Grupos separados e salvos:\n",
      "Grupo A → inferência/hipóteses/hipotese 1/GrupoA.csv\n",
      "Grupo B → inferência/hipóteses/hipotese 1/GrupoB.csv\n"
     ]
    }
   ],
   "source": [
    "df_regiao = pd.read_csv(\"pib_per_capita/pib_per_capita_regioes.csv\")\n",
    "grupo_a_regioes = ['Centro-Oeste', 'Sul']\n",
    "grupo_b_regioes = ['Norte', 'Nordeste', 'Sudeste']\n",
    "\n",
    "os.makedirs('inferência', exist_ok=True)\n",
    "os.makedirs('inferência/hipóteses/hipotese 1', exist_ok=True)\n",
    "# Filtra os dados com base nas regiões\n",
    "grupo_a = df_regiao[df_regiao['Regiao'].isin(grupo_a_regioes)].copy()\n",
    "grupo_b = df_regiao[df_regiao['Regiao'].isin(grupo_b_regioes)].copy()\n",
    "\n",
    "# Salva em arquivos separados para análise\n",
    "grupo_a.to_csv('inferência/hipóteses/hipotese 1/GrupoA.csv', index=False)\n",
    "grupo_b.to_csv('inferência/hipóteses/hipotese 1/GrupoB.csv', index=False)\n",
    "\n",
    "print(\"Grupos separados e salvos:\")\n",
    "print(\"Grupo A → inferência/hipóteses/hipotese 1/GrupoA.csv\")\n",
    "print(\"Grupo B → inferência/hipóteses/hipotese 1/GrupoB.csv\")\n",
    "\n"
   ]
  },
  {
   "cell_type": "markdown",
   "metadata": {},
   "source": [
    "#### 📐Estatísticas Descritivas\n",
    "O objetivo dessa etapa é entender a distribuição dos dados antes de aplicar qualquer modelo estatístico. Vamos calcular:\n",
    "* Média: valor médio da variável\n",
    "* Desvio padrão: medida da dispersão dos dados\n",
    "* Erro padrão: estima a variabilidade da média (desvio padrão dividido pela raiz do número de observações)\n",
    "\n",
    "A variável que vamos analisar:\n",
    "* PIB_per_capita → variável independente principal\n",
    "\n",
    "\n",
    "Vale ressaltar que todos os anos estão sendo analisados juntos em cada grupo (A e B).\n",
    "\n",
    "O grupo optou por salvar as informações geradas por este código na pasta Etapa3/inferência/hipótese/hipotese 1. Essa decisão foi tomada pensando na organização do projeto. \n",
    "\n",
    "A informação foi gerada em dois arquivo.txt chamados: estatisticas_GrupoA.txt e estatisticas_GrupoB.txt."
   ]
  },
  {
   "cell_type": "code",
   "execution_count": 66,
   "metadata": {},
   "outputs": [
    {
     "name": "stdout",
     "output_type": "stream",
     "text": [
      "Estatísticas salvas em inferência/hipóteses/hipotese 1/ 'inferência/hipóteses/hipotese 1/estatisticas_Grupo A.txt'\n",
      "Estatísticas salvas em inferência/hipóteses/hipotese 1/ 'inferência/hipóteses/hipotese 1/estatisticas_Grupo B.txt'\n"
     ]
    }
   ],
   "source": [
    "grupo_a = df_regiao[df_regiao['Regiao'].isin(grupo_a_regioes)].copy()\n",
    "grupo_b = df_regiao[df_regiao['Regiao'].isin(grupo_b_regioes)].copy()\n",
    "\n",
    "\n",
    "# Função para calcular as estatísticas descritivas\n",
    "def calcular_estatisticas(grupo, nome_grupo):\n",
    "    n = len(grupo)\n",
    "    \n",
    "    # Cálculo das estatísticas\n",
    "    media_pib = grupo['PIB_per_capita'].mean()\n",
    "    desvio_pib = grupo['PIB_per_capita'].std()\n",
    "    erro_pib = desvio_pib / np.sqrt(n)\n",
    "\n",
    "   \n",
    "\n",
    "    # Conteúdo do relatório\n",
    "    conteudo = f\"\"\"\\\n",
    "Estatisticas descritivas -  {nome_grupo} (2016 a 2021)\n",
    "\n",
    "PIB per capita:\n",
    "  - Media: {media_pib:.2f}\n",
    "  - Desvio Padrao: {desvio_pib:.2f}\n",
    "  - Erro Padrao: {erro_pib:.2f}\n",
    "\n",
    "\"\"\"\n",
    "\n",
    "\n",
    "\n",
    "    # Salvando em arquivo .txt\n",
    "    arquivo_nome = f'inferência/hipóteses/hipotese 1/estatisticas_{nome_grupo}.txt'\n",
    "    with open(arquivo_nome, 'w') as f:\n",
    "        f.write(conteudo)\n",
    "\n",
    "    print(f\"Estatísticas salvas em inferência/hipóteses/hipotese 1/ '{arquivo_nome}'\")\n",
    "\n",
    "# Calculando estatísticas para o Grupo A (Centro-Oeste e Sul)\n",
    "calcular_estatisticas(grupo_a, 'Grupo A')\n",
    "\n",
    "# Calculando estatísticas para o Grupo B (Outras Regiões)\n",
    "calcular_estatisticas(grupo_b, 'Grupo B')\n"
   ]
  },
  {
   "cell_type": "markdown",
   "metadata": {},
   "source": [
    "#### 🗣️ Discussão sobre os Resultados\n",
    "**1.PIB per capita:**\n",
    "\n",
    "**Grupo A (Centro-Oeste e Sul)**\n",
    "\n",
    "💸 Média: 35.045,03\n",
    "\n",
    "📉 Desvio Padrão: 4.090,29\n",
    "\n",
    "🚫 Erro Padrão: 1.293,46\n",
    "\n",
    "\n",
    "* O PIB per capita médio nas regiões do Centro-Oeste e Sul é 35.045,03. Esse valor é consideravelmente mais alto que o PIB per capita médio do Grupo B (que veremos a seguir), indicando que essas regiões possuem uma economia mais forte em comparação com outras partes do país.\n",
    "* O desvio padrão de 4.090,29 é relativamente alto, o que significa que há uma variação significativa nos valores de PIB per capita entre os municípios dessas regiões. Ou seja, algumas áreas têm PIB per capita muito altos, enquanto outras podem ter valores mais baixos.\n",
    "* O erro padrão de 1.293,46 nos dá uma medida da precisão da média. Quanto menor o erro padrão, mais precisa é a estimativa da média. Esse valor é relativamente alto, refletindo uma certa imprecisão na estimativa da média do PIB per capita para o grupo.\n",
    "\n",
    "\n",
    "**Grupo B (Demais Regiões)**\n",
    "\n",
    "**1.PIB per capita:**\n",
    "\n",
    "💸 Média: 19084.89\n",
    "\n",
    "📉 Desvio Padrão: 6.721,66\n",
    "🚫 Erro Padrão: 1.735,52\n",
    "\n",
    "* O PIB per capita médio de 19084.89 nas outras regiões é significativamente mais baixo do que o do Grupo A. Isso sugere que essas regiões enfrentam desafios econômicos maiores em comparação com o Centro-Oeste e Sul.\n",
    "* O desvio padrão de 6.721,66 é grande, o que indica que há uma grande dispersão dos valores de PIB per capita entre as diferentes regiões dentro do Grupo B. Em algumas áreas, o PIB per capita pode ser consideravelmente mais baixo, enquanto em outras pode ser mais alto.\n",
    "* O erro padrão de 1.735,52 é ligeiramente maior que o do Grupo A, o que significa que a estimativa da média do PIB per capita é um pouco menos precisa, apesar da grande variação.\n",
    "\n"
   ]
  },
  {
   "cell_type": "markdown",
   "metadata": {},
   "source": [
    "#### 📊 Gráfico Comparativo PIB per Capita (média, erro padrão e desvio padrão)\n",
    "#### 🎯 Motivo da Utilização do Gráfico\n",
    "\n",
    "Para analisar as diferenças econômicas entre os grupos A e B, escolhemos representar as métricas de média, desvio padrão e erro padrão do PIB per capita por meio de um gráfico de barras comparativo. A opção por essas três métricas estatísticas se justifica pela necessidade de compreender não apenas o valor médio da variável entre os grupos, mas também a dispersão interna e a precisão da estimativa da média.\n",
    "\n",
    "A média permite identificar se há uma diferença substancial no nível de riqueza entre os dois grupos, sendo uma medida direta de comparação socioeconômica. Já o desvio padrão é essencial para entendermos a variação dentro de cada grupo, ou seja, se a distribuição do PIB é homogênea ou se existem grandes desigualdades internas. Por fim, o erro padrão nos informa o grau de confiança na média estimada, sendo especialmente útil em análises inferenciais, pois está relacionado ao tamanho da amostra e à variabilidade dos dados."
   ]
  },
  {
   "cell_type": "markdown",
   "metadata": {},
   "source": [
    "#### 📌 Explicação do Conteúdo do Gráfico\n",
    "\n",
    "Esse gráfico mostra a comparação entre os grupos A e B em relação à renda média por habitante.\n",
    "\n",
    "Média: O Grupo A possui um PIB per capita significativamente maior (cerca de R$ 35.045) do que o Grupo B (cerca de R$ 19.084). Isso indica uma maior riqueza média por pessoa no Grupo A.\n",
    "\n",
    "Desvio Padrão: Ambos os grupos apresentam desvios padrões elevados aproximadamente (4090) no grupo A e (6721) no B, indicando grande variação entre os dados dos estados dentro de cada grupo.\n",
    "\n",
    "Erro Padrão: O erro padrão é um pouco maior no Grupo B, o que pode estar relacionado à maior dispersão dos valores em relação à média."
   ]
  },
  {
   "cell_type": "code",
   "execution_count": 67,
   "metadata": {},
   "outputs": [
    {
     "data": {
      "image/png": "[encoded data removed]",
      "text/plain": [
       "<Figure size 800x500 with 1 Axes>"
      ]
     },
     "metadata": {},
     "output_type": "display_data"
    }
   ],
   "source": [
    "import matplotlib.pyplot as plt\n",
    "\n",
    "# Métricas que queremos comparar\n",
    "metricas = ['Média', 'Desvio Padrão', 'Erro Padrão']\n",
    "\n",
    "# Valores para cada grupo nas três métricas\n",
    "valores_A = [35045.03, 4090.29, 1293.46]\n",
    "valores_B = [19084.89, 6721.66, 1735.52]\n",
    "\n",
    "# Configuração do gráfico\n",
    "x = np.arange(len(metricas))\n",
    "largura = 0.35\n",
    "\n",
    "fig, ax = plt.subplots(figsize=(8, 5))\n",
    "ax.bar(x - largura/2, valores_A, largura, label='Grupo A', color='skyblue')\n",
    "ax.bar(x + largura/2, valores_B, largura, label='Grupo B', color='salmon')\n",
    "\n",
    "# Títulos e rótulos\n",
    "ax.set_ylabel('Valores (R$)')\n",
    "ax.set_title('PIB per capita - Comparação entre Grupo A e Grupo B')\n",
    "ax.set_xticks(x)\n",
    "ax.set_xticklabels(metricas)\n",
    "ax.legend()\n",
    "ax.grid(True, axis='y', linestyle='--', alpha=0.7)\n",
    "\n",
    "plt.tight_layout()\n",
    "plt.show()\n"
   ]
  },
  {
   "cell_type": "markdown",
   "metadata": {},
   "source": [
    "Os resultados apontaram que o Grupo A apresenta um PIB per capita médio muito superior ao do Grupo B, embora ambos tenham níveis semelhantes de dispersão. Isso sugere que, mesmo com realidades internas diversas, o Grupo A é economicamente mais favorecido. A leve diferença no erro padrão entre os grupos reforça a importância de considerar também a precisão estatística dessas médias na comparação.\n"
   ]
  },
  {
   "cell_type": "markdown",
   "metadata": {},
   "source": [
    "#### ✅ Conclusão com Teste T\n",
    "Realizou-se um teste t de Student para amostras independentes com o objetivo de verificar se havia diferença significativa no PIB per capita entre as regiões Sul e Centro-Oeste (Grupo A) e as demais regiões do país (Grupo B), considerando os dados de 2016 a 2021. O resultado apresentou uma estatística t de 5.636 e um valor-p < 0.0001, indicando uma diferença altamente significativa. Com isso, rejeita-se a hipótese nula, validando a hipótese alternativa de que as regiões Sul e Centro-Oeste possuem, em média, um PIB per capita significativamente superior às demais regiões.\n",
    "\n",
    "**Resultado:**\n",
    "- Estatística t: 5.6356\n",
    "- Valor-p: 0.0000"
   ]
  },
  {
   "cell_type": "code",
   "execution_count": 68,
   "metadata": {},
   "outputs": [
    {
     "name": "stdout",
     "output_type": "stream",
     "text": [
      "Estatística t: 5.6356\n",
      "Valor-p: 0.0000\n"
     ]
    }
   ],
   "source": [
    "from scipy.stats import ttest_ind\n",
    "\n",
    "# Teste t independente para as médias de PIB per capita\n",
    "t_stat, p_valor = ttest_ind(grupo_a['PIB_per_capita'], grupo_b['PIB_per_capita'], equal_var=False)  # Welch's t-test\n",
    "print(f\"Estatística t: {t_stat:.4f}\")\n",
    "print(f\"Valor-p: {p_valor:.4f}\")\n"
   ]
  },
  {
   "cell_type": "markdown",
   "metadata": {},
   "source": [
    "#### 📗 Hipótese 2\n",
    "* Hipótese alternativa (H₁): Há uma diferença significativa  entre a mortalidade infantil nas regiões Centro-Oeste e Sul em comparação com as demais regiões.\n",
    "\n",
    "* Hipótese nula (H₀): Não há uma diferença significativa  entre a mortalidade infantil nas regiões Centro-Oeste e Sul em comparação com as demais regiões.\n"
   ]
  },
  {
   "cell_type": "markdown",
   "metadata": {},
   "source": [
    "#### 🆎 Definindo as Variáveis da Análise\n",
    "Antes de qualquer análise estatística, é fundamental definir claramente quais variáveis fazem parte da hipótese. A seguir, descrevemos o papel de cada uma na regressão:\n",
    "\n",
    "* Variável independente principal (X₁): Número de Óbitos Infantis\n",
    "\n",
    "* Grupo A (amostra): Regiões Centro-Oeste e Sul\n",
    "\n",
    "* Grupo B (população): Norte, Nordeste e Sudeste\n",
    "\n"
   ]
  },
  {
   "cell_type": "markdown",
   "metadata": {},
   "source": [
    "#### 🔐 Merge dos Dados\n",
    "Foi preciso criar uma tabela separada com os dados (Ano,região,número de obitos) da tabela BrStatesAtualizada. Essa tabela será fundamental para o desenvolvimento da hipótese 2 da Etapa 3. Os dados foram armazenados na tabela Obitos_Regioes_Media.csv. Além disso, os dados foram divididos em dois grupos:\n",
    "\n",
    "* Grupo A: que contém exclusivamente as variáveis da amostra. \n",
    "* Grupo B: que contém exclusivamente as variáveis da população.\n",
    "\n",
    "Além disso, os integrantes consideraram viável a criação de uma tabela separada, pois isso reduz o conjunto de dados e facilita a análise, tornando o processo mais organizado e compreensível.\n",
    "\n"
   ]
  },
  {
   "cell_type": "code",
   "execution_count": 69,
   "metadata": {},
   "outputs": [
    {
     "name": "stdout",
     "output_type": "stream",
     "text": [
      "Dados salvos em: inferência/hipóteses/hipotese 2/Obitos_Regioes_Media.csv\n",
      "Grupos separados e salvos:\n",
      "Grupo A → inferência/hipóteses/hipotese 2/GrupoA.csv\n",
      "Grupo B → inferência/hipóteses/hipotese 2/GrupoB.csv\n"
     ]
    }
   ],
   "source": [
    "# Carregar o dataset principal\n",
    "df = pd.read_csv(\"dataFrame/BrStatsAtualizada.csv\", sep=\";\")\n",
    "# Limpa nomes das colunas\n",
    "df.columns = df.columns.str.strip()\n",
    "# Converte 'Ano' para string\n",
    "df['Ano'] = df['Ano'].astype(str)\n",
    "# Define colunas não numéricas\n",
    "colunas_nao_numericas = ['Regiao', 'Ano','UF','Municipio']\n",
    "# Converte colunas numéricas no formato brasileiro\n",
    "for col in df.columns:\n",
    "    if col not in colunas_nao_numericas:\n",
    "        df[col] = df[col].astype(str).str.replace('.', '', regex=False).str.replace(',', '.', regex=False)\n",
    "        try:\n",
    "            df[col] = df[col].astype(float)\n",
    "        except ValueError:\n",
    "            print(f\"⚠️ Não foi possível converter a coluna '{col}' para float.\")\n",
    "# Agrupa por Ano e Regiao e calcula a média de NrObitosInfantis\n",
    "df_resumo = df.groupby(['Ano', 'Regiao'], as_index=False)[['NrObitosInfantis']].mean()\n",
    "# Salva em CSV\n",
    "os.makedirs('inferência', exist_ok=True)\n",
    "os.makedirs('inferência/hipóteses/hipotese 2', exist_ok=True)\n",
    "df_resumo.to_csv('inferência/hipóteses/hipotese 2/Obitos_Regioes_Media.csv', index=False)\n",
    "print(\"Dados salvos em: inferência/hipóteses/hipotese 2/Obitos_Regioes_Media.csv\")\n",
    "\n",
    "grupo_a_regioes = ['Centro-Oeste', 'Sul']\n",
    "grupo_b_regioes = ['Norte', 'Nordeste', 'Sudeste']\n",
    "\n",
    "# Filtra os dados com base nas regiões\n",
    "grupo_a = df_resumo[df_resumo['Regiao'].isin(grupo_a_regioes)].copy()\n",
    "grupo_b = df_resumo[df_resumo['Regiao'].isin(grupo_b_regioes)].copy()\n",
    "\n",
    "# Salva em arquivos separados para análise\n",
    "grupo_a.to_csv('inferência/hipóteses/hipotese 2/GrupoA.csv', index=False)\n",
    "grupo_b.to_csv('inferência/hipóteses/hipotese 2/GrupoB.csv', index=False)\n",
    "\n",
    "\n",
    "print(\"Grupos separados e salvos:\")\n",
    "print(\"Grupo A → inferência/hipóteses/hipotese 2/GrupoA.csv\")\n",
    "print(\"Grupo B → inferência/hipóteses/hipotese 2/GrupoB.csv\")\n",
    "\n"
   ]
  },
  {
   "cell_type": "markdown",
   "metadata": {},
   "source": [
    "#### 📐Estatísticas Descritivas\n",
    "O objetivo dessa etapa é entender a distribuição dos dados antes de aplicar qualquer modelo estatístico. Vamos calcular:\n",
    "* Média: valor médio da variável\n",
    "* Desvio padrão: medida da dispersão dos dados\n",
    "* Erro padrão: estima a variabilidade da média (desvio padrão dividido pela raiz do número de observações)\n",
    "\n",
    "A variável que vamos analisar:\n",
    "* NrObitosInfantis → variável independente principal\n",
    "\n",
    "\n",
    "Vale ressaltar que todos os anos estão sendo analisados juntos em cada grupo (A e B).\n",
    "\n",
    "O grupo optou por salvar as informações geradas por este código na pasta Etapa3/inferência/hipóteses/hipotese 2. Essa decisão foi tomada pensando na organização do projeto. \n",
    "\n",
    "A informação foi gerada em dois arquivo.txt chamados: estatisticas_GrupoA.txt e estatisticas_GrupoB.txt."
   ]
  },
  {
   "cell_type": "code",
   "execution_count": 70,
   "metadata": {},
   "outputs": [
    {
     "name": "stdout",
     "output_type": "stream",
     "text": [
      "Estatísticas salvas em inferência/hipóteses/hipotese 2/'inferência/hipóteses/hipotese 2/estatisticas_Grupo A.txt'\n",
      "Estatísticas salvas em inferência/hipóteses/hipotese 2/'inferência/hipóteses/hipotese 2/estatisticas_Grupo B.txt'\n"
     ]
    }
   ],
   "source": [
    "\n",
    "\n",
    "grupo_a.to_csv('inferência/hipóteses/hipotese 2/GrupoA.csv', index=False)\n",
    "grupo_b.to_csv('inferência/hipóteses/hipotese 2/GrupoB.csv', index=False)\n",
    "\n",
    "def calcular_estatisticas(grupo, nome_grupo):\n",
    "    n = len(grupo)\n",
    "    \n",
    "\n",
    "\n",
    "    media_obitos = grupo['NrObitosInfantis'].mean()\n",
    "    desvio_obitos = grupo['NrObitosInfantis'].std()\n",
    "    erro_obitos = desvio_obitos / np.sqrt(n)\n",
    "\n",
    "\n",
    "\n",
    "    # Conteúdo do relatório\n",
    "    conteudo = f\"\"\"\\\n",
    "Estatisticas descritivas - {nome_grupo} (2016 a 2021)\n",
    "\n",
    "Obitos Infantis:\n",
    "  - Media: {media_obitos:.2f}\n",
    "  - Desvio Padrao: {desvio_obitos:.2f}\n",
    "  - Erro Padrao: {erro_obitos:.2f}\n",
    "\n",
    "\n",
    "\"\"\"\n",
    "\n",
    "    # Criando pasta se não existir\n",
    "    os.makedirs('inferência', exist_ok=True)\n",
    "\n",
    "    # Salvando em arquivo .txt\n",
    "    arquivo_nome = f'inferência/hipóteses/hipotese 2/estatisticas_{nome_grupo}.txt'\n",
    "    with open(arquivo_nome, 'w') as f:\n",
    "        f.write(conteudo)\n",
    "\n",
    "    print(f\"Estatísticas salvas em inferência/hipóteses/hipotese 2/'{arquivo_nome}'\")\n",
    "\n",
    "# Calculando estatísticas para o Grupo A (Centro-Oeste e Sul)\n",
    "calcular_estatisticas(grupo_a, 'Grupo A')\n",
    "\n",
    "# Calculando estatísticas para o Grupo B (Outras Regiões)\n",
    "calcular_estatisticas(grupo_b, 'Grupo B')\n"
   ]
  },
  {
   "cell_type": "markdown",
   "metadata": {},
   "source": [
    "#### 🗣️ Discussão sobre os Resultados\n",
    "\n",
    "**1.Óbitos Infantis:**\n",
    "\n",
    "**Grupo A (Centro-Oeste e Sul)**\n",
    "\n",
    "🚑 Média:  4,60\n",
    "\n",
    "📉 Desvio Padrão: 1,51\n",
    "\n",
    "🚫 Erro Padrão: 0,44\n",
    "\n",
    "* A média de óbitos infantis é 4,60, o que sugere uma taxa relativamente baixa em comparação com o Grupo B. Isso pode indicar que as regiões do Centro-Oeste e Sul têm melhores condições de saúde infantil.\n",
    "* O desvio padrão de 1,51 indica que a quantidade de óbitos infantis pode variar, mas a variação não é tão grande, já que o valor está bem abaixo da média. Ou seja, a taxa de mortalidade infantil tende a ser semelhante entre os municípios dessas regiões.\n",
    "* O erro padrão de 0,44 é um valor relativamente baixo, sugerindo que a média de óbitos infantis é estimada com uma boa precisão para o Grupo A.\n",
    "\n",
    "\n",
    "**Grupo B (Demais Regiões)**\n",
    "\n",
    "🚑 Média:  7,60\n",
    "\n",
    "📉 Desvio Padrão: 2,13\n",
    "\n",
    "🚫 Erro Padrão: 0,50\n",
    "\n",
    "* A média de óbitos infantis de 7,60 é mais alta do que no Grupo A. Isso indica que, em média, as regiões do Grupo B enfrentam mais dificuldades em termos de saúde infantil.\n",
    "* O desvio padrão de 2,13 mostra uma maior variação nos óbitos infantis nas regiões do Grupo B. Algumas áreas podem ter taxas de mortalidade muito mais altas, enquanto outras podem ser mais baixas, mas o valor é mais disperso em comparação com o Grupo A.\n",
    "* O erro padrão de 0,50 sugere que a média da mortalidade infantil é estimada com uma precisão razoável, embora haja uma maior incerteza do que no Grupo A.\n"
   ]
  },
  {
   "cell_type": "markdown",
   "metadata": {},
   "source": [
    "#### 📊 Gráfico Comparativo Mortalidade Infantil  (média, erro padrão e desvio padrão)\n",
    "#### 🎯 Motivo da Utilização do Gráfico\n",
    "Para analisar a situação de mortalidade infantil nos Grupos A e B, utilizamos um gráfico de barras que compara três estatísticas-chave: média, desvio padrão e erro padrão. Essa escolha foi feita com o objetivo de proporcionar uma análise mais completa das condições de saúde infantil em diferentes contextos regionais.\n",
    "\n",
    "A média de óbitos infantis permite identificar de forma direta qual grupo apresenta maior mortalidade infantil. No gráfico, observamos que o Grupo B tem uma média significativamente superior à do Grupo A, o que evidencia uma condição mais desfavorável no que diz respeito à saúde pública infantil nesse grupo.\n",
    "\n",
    "O desvio padrão foi incluído para mostrar a variabilidade dentro de cada grupo. O Grupo B não só apresenta maior média de mortalidade, como também uma dispersão maior, o que pode indicar desigualdades internas ou fatores estruturais variados que impactam os resultados. Já o erro padrão, apesar de pequeno para ambos os grupos, mostra que as médias são estimativas confiáveis, com pouca variação amostral."
   ]
  },
  {
   "cell_type": "markdown",
   "metadata": {},
   "source": [
    "\n",
    "#### 📌 Explicação do Conteúdo do Gráfico\n",
    "Este gráfico avalia os níveis médios de mortalidade infantil nos dois grupos.\n",
    "\n",
    "Média: O Grupo B tem uma média de mortalidade infantil mais alta (~7,6) comparado ao Grupo A (~4,6), indicando piores condições de saúde infantil no Grupo B.\n",
    "\n",
    "Desvio Padrão: Também maior no Grupo B, o que indica que há estados com situações ainda mais críticas.\n",
    "\n",
    "Erro Padrão: Ambos os grupos apresentam baixos erros padrões, o que sugere que as médias são representativas dos dados do grupo."
   ]
  },
  {
   "cell_type": "code",
   "execution_count": 71,
   "metadata": {},
   "outputs": [
    {
     "data": {
      "image/png": "[encoded data removed]",
      "text/plain": [
       "<Figure size 800x500 with 1 Axes>"
      ]
     },
     "metadata": {},
     "output_type": "display_data"
    }
   ],
   "source": [
    "\n",
    "# Métricas analisadas\n",
    "metricas = ['Média', 'Desvio Padrão', 'Erro Padrão']\n",
    "\n",
    "# Valores para Óbitos Infantis nos Grupos A e B\n",
    "valores_A = [4.60, 1.51, 0.44]\n",
    "valores_B = [7.59, 2.13, 0.50]\n",
    "\n",
    "# Configuração do gráfico\n",
    "x = np.arange(len(metricas))\n",
    "largura = 0.35\n",
    "\n",
    "fig, ax = plt.subplots(figsize=(8, 5))\n",
    "ax.bar(x - largura/2, valores_A, largura, label='Grupo A', color='skyblue')\n",
    "ax.bar(x + largura/2, valores_B, largura, label='Grupo B', color='salmon')\n",
    "\n",
    "# Personalização do gráfico\n",
    "ax.set_ylabel('Óbitos Infantis')\n",
    "ax.set_title('Óbitos Infantis - Comparação entre Grupo A e Grupo B')\n",
    "ax.set_xticks(x)\n",
    "ax.set_xticklabels(metricas)\n",
    "ax.legend()\n",
    "ax.grid(True, axis='y', linestyle='--', alpha=0.7)\n",
    "\n",
    "plt.tight_layout()\n",
    "plt.show()\n"
   ]
  },
  {
   "cell_type": "markdown",
   "metadata": {},
   "source": [
    "#### ✅ Conclusão com Teste T\n",
    "Um teste t para amostras independentes foi realizado para verificar se há diferença significativa na taxa de mortalidade infantil entre o Grupo A (regiões Sul e Centro-Oeste) e o Grupo B (demais regiões). O resultado foi uma estatística t de -4.5007 com valor-p de 0.0001. Esses resultados nos permitem rejeitar a hipótese nula com alto grau de confiança (nível de significância de 5%). Concluímos, portanto, que a mortalidade infantil nas regiões Sul e Centro-Oeste é significativamente menor em comparação às demais regiões brasileiras no período analisado (2016 a 2021).\n",
    "\n",
    "**Resultado:**\n",
    "- Estatística t: -4.5007\n",
    "- Valor-p: 0.0001"
   ]
  },
  {
   "cell_type": "code",
   "execution_count": 72,
   "metadata": {},
   "outputs": [
    {
     "name": "stdout",
     "output_type": "stream",
     "text": [
      "Estatística t: -4.5007\n",
      "Valor-p: 0.0001\n"
     ]
    }
   ],
   "source": [
    "from scipy.stats import ttest_ind\n",
    "grupo_a.to_csv('inferência/hipóteses/hipotese 2/GrupoA.csv', index=False)\n",
    "grupo_b.to_csv('inferência/hipóteses/hipotese 2/GrupoB.csv', index=False)\n",
    "\n",
    "# Teste t independente para as médias de PIB per capita\n",
    "t_stat, p_valor = ttest_ind(grupo_a['NrObitosInfantis'], grupo_b['NrObitosInfantis'], equal_var=False)  # Welch's t-test\n",
    "print(f\"Estatística t: {t_stat:.4f}\")\n",
    "print(f\"Valor-p: {p_valor:.4f}\")\n"
   ]
  },
  {
   "cell_type": "markdown",
   "metadata": {},
   "source": [
    "### ❗Conclusão sobre a Inferência Estatistica\n",
    "Os resultados das análises confirmam a hipótese de que o Grupo A (Sul e Centro-Oeste) possui um PIB per capita médio significativamente maior que o Grupo B (Norte, Nordeste e Sudeste). Esse resultado não é surpreendente, dado que o Sul e o Centro-Oeste têm uma presença econômica mais diversificada, com forte presença do agronegócio, indústria e serviços. Além disso, essas regiões possuem melhores indicadores educacionais e de infraestrutura, o que contribui para uma economia mais robusta.\n",
    "\n",
    "O fato de o erro padrão ser relativamente alto em ambos os grupos reforça que existem desigualdades internas, mas o Grupo A ainda mantém uma vantagem clara. A implicação disso vai além da economia — existe uma correlação já discutida na literatura entre maiores rendas e melhores indicadores sociais, como menor taxa de mortalidade infantil, maior expectativa de vida e acesso à saúde.\n",
    "\n",
    "Assim, o achado estatístico PIB per capita alto → menor vulnerabilidade social (como mortalidade infantil mais baixa) é coerente com a realidade empírica do Brasil. Essa interpretação será aprofundada na análise de regressão múltipla nas próximas hipóteses."
   ]
  },
  {
   "cell_type": "markdown",
   "metadata": {},
   "source": [
    "### 🔍 Regras de Associação\n",
    "Regras de associação são uma técnica de mineração de dados usada para descobrir relações entre variáveis em grandes conjuntos de dados. Elas seguem a lógica:\n",
    "\n",
    "**\"Se A ocorre, então B tende a ocorrer.\"**\n",
    "\n",
    "Essas regras são amplamente utilizadas para identificar padrões frequentes e comportamentos relacionados, sendo muito comuns em análises de mercado, mas também úteis em contextos socioeconômicos, como neste projeto.\n",
    "\n",
    "Cada regra é avaliada por métricas como:\n",
    "\n",
    "- Suporte (frequência da regra no conjunto de dados),\n",
    "\n",
    "- Confiança (probabilidade de B ocorrer dado que A ocorreu),\n",
    "\n",
    "- Lift (grau de dependência entre A e B)."
   ]
  },
  {
   "cell_type": "markdown",
   "metadata": {},
   "source": [
    "#### 💰 Associação entre PIB per Capita e Mortalidade Infantil\n",
    "\"Se o PIB per capita é alto, então a taxa de mortalidade infantil é baixa\".\n",
    "\n",
    "Verificar se o PIB per capita alto em um município tem relação com uma mortalidade infantil baixa."
   ]
  },
  {
   "cell_type": "markdown",
   "metadata": {},
   "source": [
    "##### ⚙️ Lendo e Ajustando os Dados\n",
    "Foi feito a conversão de colunas númericas para float e o cáculos dos indicadores.\n",
    "\n",
    "* PIB per capita = PIB / População\n",
    "* Taxa de mortalidade infantil = (Óbitos infantis / Nascimentos) * 1000\n",
    "\n",
    "É importante destacar que o seguinte comando listado abaixo deverá ser executado no terminal para que a instalação da biblioteca possa ser feita com êxito:\n",
    "**pip install mlxtend**"
   ]
  },
  {
   "cell_type": "code",
   "execution_count": 73,
   "metadata": {},
   "outputs": [],
   "source": [
    "from mlxtend.frequent_patterns import apriori, association_rules\n",
    "from mlxtend.preprocessing import TransactionEncoder\n",
    "\n",
    "# Carregar o arquivo\n",
    "df = pd.read_csv(\"dataFrame/BrStatsAtualizada.csv\", sep=\";\", low_memory=False)\n",
    "\n",
    "# Converter colunas numéricas com vírgula para float\n",
    "for col in ['PIB', 'Populacao', 'NrNascimentos', 'NrObitosInfantis']:\n",
    "    df[col] = df[col].astype(str).str.replace(r'\\.', '', regex=True).str.replace(',', '.').astype(float)\n",
    "\n",
    "# Calcular o PIB per capita\n",
    "df['PIB_per_capita'] = df['PIB'] / df['Populacao']\n",
    "\n",
    "# Calcular a taxa de mortalidade infantil (óbitos por 1000 nascimentos)\n",
    "df['TaxaMortalidadeInfantil'] = (df['NrObitosInfantis'] / df['NrNascimentos']) * 1000\n"
   ]
  },
  {
   "cell_type": "markdown",
   "metadata": {},
   "source": [
    "####  📊 Classificando os Dados\n",
    "Os dados foram classificados da seguinte forma:\n",
    "* O PIB per capita foi classificados em duas categorias: \"Baixo\" e \"Alto\".\n",
    "* A mortalidade infantil também em duas categorias: \"Baixa\" e \"Alta.\n",
    "\n",
    "Para a classificação foi usado como base a média dos dados, sendo assim valores acima da média foram considerados altos, e os demais, baixos."
   ]
  },
  {
   "cell_type": "code",
   "execution_count": 74,
   "metadata": {},
   "outputs": [],
   "source": [
    "# 📊 Classificar PIB per capita como 'Alto' ou 'Baixo'\n",
    "media_pib_per_capita = df['PIB_per_capita'].mean()\n",
    "df['PIB_per_capita_cat'] = df['PIB_per_capita'].apply(lambda x: 'Alto' if x > media_pib_per_capita else 'Baixo')\n",
    "\n",
    "# 📊 Classificar mortalidade infantil como 'Alta' ou 'Baixa'\n",
    "media_mortalidade = df['TaxaMortalidadeInfantil'].mean()\n",
    "df['MortalidadeInfantil_cat'] = df['TaxaMortalidadeInfantil'].apply(lambda x: 'Alta' if x > media_mortalidade else 'Baixa')"
   ]
  },
  {
   "cell_type": "markdown",
   "metadata": {},
   "source": [
    "#### 🧠 Aplicando Apriori\n",
    "O algoritmo Apriori foi utilizado com o objetivo de identificar padrões frequentes entre variáveis socioeconômicas nos dados. Para isso, foi estabelecido um suporte mínimo de 10%, o que significa que apenas os conjuntos de itens que aparecem em pelo menos 10% das observações foram considerados relevantes. Com esses conjuntos frequentes, o próximo passo foi gerar regras de associação, que são relações do tipo \"se X ocorre, então Y também ocorre\", com uma confiança mínima de 60%. A confiança representa a probabilidade de Y ocorrer dado que X ocorreu. Após gerar todas as regras possíveis dentro desses critérios, foi aplicado um filtro adicional para selecionar apenas aquelas em que o PIB per capita aparece como \"Alto\" e a mortalidade infantil como \"Baixa\", com o intuito de investigar associações positivas entre condições econômicas favoráveis e bons indicadores sociais. Esse processo permite identificar relações potencialmente úteis para análise de políticas públicas e desenvolvimento regional."
   ]
  },
  {
   "cell_type": "code",
   "execution_count": 75,
   "metadata": {},
   "outputs": [],
   "source": [
    "# Criar DataFrame para Apriori com variáveis categóricas binárias\n",
    "df_apriori = pd.get_dummies(df[['PIB_per_capita_cat', 'MortalidadeInfantil_cat']])\n",
    "frequent_itemsets = apriori(df_apriori, min_support=0.1, use_colnames=True)\n",
    "rules = association_rules(frequent_itemsets, metric='confidence', min_threshold=0.6)\n",
    "\n",
    "# Filtrar pela regra: Se PIB_per_capita_Alto então MortalidadeInfantil_Baixa\n",
    "regras_filtradas = rules[\n",
    "    (rules['antecedents'].astype(str).str.contains('PIB_per_capita_cat_Alto')) &\n",
    "    (rules['consequents'].astype(str).str.contains('MortalidadeInfantil_cat_Baixa'))\n",
    "]\n"
   ]
  },
  {
   "cell_type": "code",
   "execution_count": 76,
   "metadata": {},
   "outputs": [
    {
     "name": "stdout",
     "output_type": "stream",
     "text": [
      "Regra 1: frozenset({'PIB_per_capita_cat_Alto'}) => frozenset({'MortalidadeInfantil_cat_Baixa'})\n",
      "Suporte: 0.2822, Confiança: 0.8601, Lift: 0.9396\n",
      "--------------------------------------------------------------------------------\n",
      "Regra 2: frozenset({'PIB_per_capita_cat_Baixo'}) => frozenset({'MortalidadeInfantil_cat_Baixa'})\n",
      "Suporte: 0.6332, Confiança: 0.9423, Lift: 1.0295\n",
      "--------------------------------------------------------------------------------\n",
      "Regra 3: frozenset({'MortalidadeInfantil_cat_Baixa'}) => frozenset({'PIB_per_capita_cat_Baixo'})\n",
      "Suporte: 0.6332, Confiança: 0.6917, Lift: 1.0295\n",
      "--------------------------------------------------------------------------------\n"
     ]
    }
   ],
   "source": [
    "for index, row in rules.iterrows():\n",
    "    print(f\"Regra {index + 1}: {row['antecedents']} => {row['consequents']}\")\n",
    "    print(f\"Suporte: {row['support']:.4f}, Confiança: {row['confidence']:.4f}, Lift: {row['lift']:.4f}\")\n",
    "    print('-' * 80)\n"
   ]
  },
  {
   "cell_type": "markdown",
   "metadata": {},
   "source": [
    "#### ✅ Resultados\n",
    "\n",
    "Foram descobertas **três regras de associação relevantes** no conjunto de dados:\n",
    "\n",
    "---\n",
    "\n",
    "#### 🔹 **Regra 1**  \n",
    "**Se o PIB per capita é \"Alto\", então a Mortalidade Infantil tende a ser \"Baixa\".**  \n",
    "\n",
    "- **Suporte:** 24,89%  \n",
    "  Isso significa que aproximadamente **um quarto das observações** apresentam simultaneamente um PIB per capita alto e mortalidade infantil baixa. É uma medida de relevância geral da regra no conjunto de dados.\n",
    "\n",
    "- **Confiança:** 85,93%  \n",
    "  Essa é a probabilidade de que a mortalidade infantil seja baixa **quando o PIB per capita é alto**. Ou seja, **em 86% dos casos onde o PIB é alto, a mortalidade infantil é baixa.** Isso representa uma associação consistente.\n",
    "\n",
    "- **Lift:** 0,939  \n",
    "  O lift mede a força da regra em relação à ocorrência esperada se os dois eventos fossem estatisticamente independentes.\n",
    "\n",
    "  - Como o **lift é menor que 1**, isso sugere que, **apesar da alta confiança, a coocorrência de PIB alto com mortalidade baixa ocorre ligeiramente menos do que o esperado se fossem independentes**.  \n",
    "  - Isso indica uma correlação fraca, neutra ou que outros fatores externos podem estar influenciando essa relação.\n",
    "\n",
    "> 🔍 **Interpretação:** Apesar do lift abaixo de 1, a regra reflete uma tendência realista, condizente com a lógica socioeconômica: **regiões de PIB mais alto geralmente apresentam melhores indicadores de saúde, como baixa mortalidade infantil.**\n",
    "\n",
    "---\n",
    "\n",
    "#### 🔸 **Regra 2**  \n",
    "**Se a Mortalidade Infantil é \"Baixa\", então o PIB per capita tende a ser \"Baixo\".**  \n",
    "\n",
    "- **Suporte:** 66,64%  \n",
    "  Isso significa que **mais da metade dos registros** possuem **mortalidade infantil baixa e PIB per capita baixo** simultaneamente.\n",
    "\n",
    "- **Confiança:** 72,80%  \n",
    "  Ou seja, **quando a mortalidade infantil é baixa, há uma probabilidade de 72,8% de que o PIB per capita também seja baixo.**  \n",
    "\n",
    "- **Lift:** 1,025  \n",
    "  Como o **lift é ligeiramente maior que 1**, indica que há uma **associação positiva fraca, porém existente**, entre baixa mortalidade infantil e PIB per capita baixo.\n",
    "\n",
    "> ⚠️ **Interpretação:** Esse resultado é, à primeira vista, **contraditório ao senso comum**, pois se esperaria que a mortalidade infantil baixa estivesse associada a PIB alto. Contudo, esse padrão pode refletir características específicas do conjunto de dados, como políticas públicas eficazes em regiões de PIB menor, investimentos em saúde, ou outros fatores sociais que atenuam o impacto econômico na saúde infantil.\n",
    "\n",
    "---\n",
    "\n",
    "#### 🔹 **Regra 3**  \n",
    "**Se o PIB per capita é \"Baixo\", então a Mortalidade Infantil tende a ser \"Baixa\".**  \n",
    "\n",
    "- **Suporte:** 66,64%  \n",
    "  Mostra que essa combinação ocorre em **dois terços dos dados**.\n",
    "\n",
    "- **Confiança:** 93,81%  \n",
    "  Extremamente alta — significa que **quando o PIB per capita é baixo, em 93,81% dos casos a mortalidade infantil também é baixa.**  \n",
    "\n",
    "- **Lift:** 1,025  \n",
    "  Indica uma **associação positiva, porém fraca**, mas acima da expectativa de ocorrência aleatória.\n",
    "\n",
    "> 🔍 **Interpretação:** Assim como na Regra 2, o fato de PIB baixo estar fortemente associado à mortalidade infantil baixa é um sinal interessante. Isso pode indicar que, **neste conjunto de dados específico, fatores como acesso universal à saúde, programas sociais ou perfil demográfico estão reduzindo a mortalidade, mesmo em regiões de menor PIB.**\n",
    "\n",
    "---\n",
    "\n",
    "#### 🏁 **Conclusões gerais:**  \n",
    "- A **Regra 1** é consistente com o esperado (PIB alto associado a baixa mortalidade), embora o lift menor que 1 indique que outros fatores podem enfraquecer essa relação.  \n",
    "- As **Regras 2 e 3** são contraintuitivas, sugerindo que, **neste dataset, ter PIB baixo não necessariamente implica alta mortalidade infantil.** Pelo contrário, há uma tendência das regiões de PIB baixo também apresentarem mortalidade infantil baixa.\n"
   ]
  },
  {
   "cell_type": "markdown",
   "metadata": {},
   "source": [
    "### 🌱 Volume da Produção Agrícola e Área Plantada\n",
    "\"Se o Volume de Produção Ágricola é alto, então a área plantada também é alta\"\n",
    "\n",
    "Essa regra foi utilizada para investigar a existência de uma relação direta entre o tamanho das áreas cultivadas e o volume total de produção agrícola. A ideia central é verificar se, nos dados analisados, grandes áreas plantadas costumam resultar em altos volumes de produção, o que pode indicar uma associação proporcional entre extensão de cultivo e rendimento produtivo."
   ]
  },
  {
   "cell_type": "markdown",
   "metadata": {},
   "source": [
    "#### ⚙️ Lendo e Ajustando os Dados\n",
    "As colunas numéricas referentes ao volume de produção agrícola e à área plantada foram convertidas para o formato float, garantindo a precisão nos cálculos e evitando problemas com tipos de dados incorretos.\n",
    "\n",
    "Em seguida, os dados foram classificados em categorias qualitativas para facilitar a análise com regras de associação:\n",
    "\n",
    "- O volume de produção agrícola foi dividido em quatro faixas: Muito Baixo, Baixo, Alto e Muito Alto.\n",
    "\n",
    "- A área plantada também foi classificada em quatro categorias correspondentes: Muito Baixa, Baixa, Alta e Muito Alta.\n",
    "\n",
    "A classificação foi feita com base nos valores mínimo, máximo e nos pontos intermediários (quartis ou percentis) de cada variável. Cada valor numérico foi, então, mapeado para a categoria correspondente ao intervalo em que se encaixa.\n",
    "\n",
    "Por fim, para simplificar a análise, as categorias \"Muito Baixa\" e \"Baixa\" foram agrupadas em uma única categoria chamada \"Baixa\", reduzindo o número total de faixas e facilitando a extração de padrões mais significativos."
   ]
  },
  {
   "cell_type": "code",
   "execution_count": 77,
   "metadata": {},
   "outputs": [],
   "source": [
    "# Carregar dados\n",
    "df = pd.read_csv(\"dataFrame/BrStatsAtualizada.csv\", sep=\";\", low_memory=False)\n",
    "\n",
    "# Ajustar colunas numéricas\n",
    "for col in ['VlProducaoAgricola', 'AreaPlantada_h']:\n",
    "    df[col] = df[col].astype(str).str.replace(r'\\.', '', regex=True).str.replace(',', '.').astype(float)\n",
    "\n",
    "# Categorizar Volume Agrícola usando bins fixos\n",
    "bins_volume = [-1, 10000, 50000, 100000, df['VlProducaoAgricola'].max()]\n",
    "labels_volume = ['Muito Baixo', 'Baixo', 'Alto', 'Muito Alto']\n",
    "df['Volume_Agricola_cat'] = pd.cut(df['VlProducaoAgricola'], bins=bins_volume, labels=labels_volume)\n",
    "\n",
    "# Categorizar Área Plantada usando bins fixos\n",
    "bins_area = [-1, 1000, 5000, 15000, df['AreaPlantada_h'].max()]\n",
    "labels_area = ['Muito Baixa', 'Baixa', 'Alta', 'Muito Alta']\n",
    "df['Area_Plantada_cat'] = pd.cut(df['AreaPlantada_h'], bins=bins_area, labels=labels_area)\n",
    "\n",
    "# Fundir categoria 'Baixa' em 'Muito Baixa' nos valores da coluna\n",
    "df.loc[df['Area_Plantada_cat'] == 'Baixa', 'Area_Plantada_cat'] = 'Muito Baixa'\n",
    "\n",
    "# Remover categorias não usadas para evitar categorias duplicadas\n",
    "df['Area_Plantada_cat'] = df['Area_Plantada_cat'].cat.remove_unused_categories()\n",
    "\n",
    "# Ajustar categorias para evitar categorias vazias, usando rename_categories\n",
    "df['Area_Plantada_cat'] = df['Area_Plantada_cat'].cat.rename_categories(\n",
    "    lambda x: 'Muito Baixa' if x == 'Baixa' else x\n",
    ")\n"
   ]
  },
  {
   "cell_type": "markdown",
   "metadata": {},
   "source": [
    "#### 🧠 Preparando e utilizando Apriori\n",
    "Para aplicar o algoritmo Apriori, os dados foram inicialmente transformados utilizando o TransactionEncoder. Essa ferramenta converte os dados categóricos em uma tabela binária, na qual cada coluna indica a presença (1) ou ausência (0) de uma determinada categoria em cada observação.\n",
    "\n",
    "Em seguida, o algoritmo Apriori foi executado para identificar combinações frequentes de categorias que ocorrem juntas no conjunto de dados. Para isso, foi definido um suporte mínimo de 10%, ou seja, somente combinações presentes em pelo menos 10% das observações foram consideradas relevantes.\n",
    "\n",
    "A partir desses conjuntos frequentes, foram geradas regras de associação, que descrevem relações do tipo “se A ocorre, então B também ocorre”. Para garantir a qualidade dessas regras, foi utilizada uma confiança mínima de 60% como critério de filtragem — ou seja, apenas regras com alta probabilidade condicional foram mantidas para análise.\n"
   ]
  },
  {
   "cell_type": "code",
   "execution_count": 78,
   "metadata": {},
   "outputs": [],
   "source": [
    "# Preparar para apriori\n",
    "df_apriori = df[['Volume_Agricola_cat', 'Area_Plantada_cat']].astype(str)\n",
    "df_apriori = df_apriori.apply(lambda x: [f\"{col}_{val}\" for col, val in zip(x.index, x)], axis=1)\n",
    "\n",
    "te = TransactionEncoder()\n",
    "te_ary = te.fit(df_apriori).transform(df_apriori)\n",
    "df_bin = pd.DataFrame(te_ary, columns=te.columns_)\n",
    "\n",
    "frequent_itemsets = apriori(df_bin, min_support=0.1, use_colnames=True)\n",
    "rules = association_rules(frequent_itemsets, metric=\"confidence\", min_threshold=0.6)\n"
   ]
  },
  {
   "cell_type": "code",
   "execution_count": 79,
   "metadata": {},
   "outputs": [
    {
     "name": "stdout",
     "output_type": "stream",
     "text": [
      "Regra 1: frozenset({'Volume_Agricola_cat_Alto'}) => frozenset({'Area_Plantada_cat_Muito Alta'})\n",
      "Suporte: 0.1650, Confiança: 0.7944, Lift: 1.2220\n",
      "--------------------------------------------------------------------------------\n",
      "Regra 2: frozenset({'Volume_Agricola_cat_Baixo'}) => frozenset({'Area_Plantada_cat_Muito Alta'})\n",
      "Suporte: 0.1362, Confiança: 0.7882, Lift: 1.2124\n",
      "--------------------------------------------------------------------------------\n",
      "Regra 3: frozenset({'Volume_Agricola_cat_Muito Alto'}) => frozenset({'Area_Plantada_cat_Muito Alta'})\n",
      "Suporte: 0.1452, Confiança: 0.9617, Lift: 1.4793\n",
      "--------------------------------------------------------------------------------\n",
      "Regra 4: frozenset({'Area_Plantada_cat_Muito Baixa'}) => frozenset({'Volume_Agricola_cat_Muito Baixo'})\n",
      "Suporte: 0.2463, Confiança: 0.8063, Lift: 1.7255\n",
      "--------------------------------------------------------------------------------\n"
     ]
    }
   ],
   "source": [
    "for index, row in rules.iterrows():\n",
    "    print(f\"Regra {index + 1}: {row['antecedents']} => {row['consequents']}\")\n",
    "    print(f\"Suporte: {row['support']:.4f}, Confiança: {row['confidence']:.4f}, Lift: {row['lift']:.4f}\")\n",
    "    print('-' * 80)\n"
   ]
  },
  {
   "cell_type": "markdown",
   "metadata": {},
   "source": [
    "#### ✅ Resultados\n",
    "\n",
    "Foram descobertas **quatro regras de associação relevantes** no conjunto de dados, relacionando **Volume Agrícola** e **Área Plantada**.\n",
    "\n",
    "---\n",
    "\n",
    "#### 🔹 **Regra 1**  \n",
    "**Se o Volume Agrícola é \"Alto\", então a Área Plantada tende a ser \"Muito Alta\".**  \n",
    "\n",
    "- **Suporte:** 16,50%  \n",
    "  Isso significa que aproximadamente **16,5% das observações** apresentam simultaneamente **Volume Agrícola alto e Área Plantada muito alta.**\n",
    "\n",
    "- **Confiança:** 79,44%  \n",
    "  Isso indica que **em 79,44% dos casos em que o Volume Agrícola é alto, a Área Plantada também é muito alta.** É uma associação consistente.\n",
    "\n",
    "- **Lift:** 1,222  \n",
    "  Como o **lift é maior que 1**, há uma **associação positiva real**, ou seja, essa combinação ocorre mais frequentemente do que seria esperado por acaso.\n",
    "\n",
    "> 🔍 **Interpretação:** Essa regra reflete um padrão intuitivo: **um volume agrícola elevado está associado a uma grande extensão de área plantada.** Isso faz sentido, pois normalmente maior produção exige maior área cultivada.\n",
    "\n",
    "---\n",
    "\n",
    "#### 🔸 **Regra 2**  \n",
    "**Se o Volume Agrícola é \"Baixo\", então a Área Plantada tende a ser \"Muito Alta\".**  \n",
    "\n",
    "- **Suporte:** 13,62%  \n",
    "  Isso significa que **13,62% dos registros** possuem **Volume Agrícola baixo e Área Plantada muito alta**.\n",
    "\n",
    "- **Confiança:** 78,82%  \n",
    "  Ou seja, **em quase 79% dos casos onde o Volume Agrícola é baixo, a Área Plantada ainda é muito alta.**  \n",
    "\n",
    "- **Lift:** 1,212  \n",
    "  Com um lift maior que 1, há **uma associação positiva moderada.**\n",
    "\n",
    "> ⚠️ **Interpretação:** Esta regra é, à primeira vista, **contraintuitiva**, pois normalmente esperaríamos que uma área plantada muito alta gerasse um volume agrícola alto. Isso sugere que há outros fatores limitantes na produtividade, como clima, qualidade do solo, tecnologia, uso de insumos ou problemas na colheita.\n",
    "\n",
    "---\n",
    "\n",
    "#### 🔹 **Regra 3**  \n",
    "**Se o Volume Agrícola é \"Muito Alto\", então a Área Plantada tende a ser \"Muito Alta\".**  \n",
    "\n",
    "- **Suporte:** 14,52%  \n",
    "  Mostra que essa combinação ocorre em **14,52% dos dados.**\n",
    "\n",
    "- **Confiança:** 96,17%  \n",
    "  Altíssima — significa que **quando o Volume Agrícola é muito alto, em 96,17% dos casos a Área Plantada também é muito alta.**  \n",
    "\n",
    "- **Lift:** 1,479  \n",
    "  O lift bem acima de 1 indica uma **associação forte e relevante**, muito além do que seria esperado por acaso.\n",
    "\n",
    "> 🔥 **Interpretação:** Este é um padrão extremamente forte e esperado. **Altíssimo volume agrícola está fortemente associado a uma área plantada muito alta**, o que é coerente com a lógica agronômica e econômica.\n",
    "\n",
    "---\n",
    "\n",
    "#### 🔸 **Regra 4**  \n",
    "**Se a Área Plantada é \"Muito Baixa\", então o Volume Agrícola tende a ser \"Muito Baixo\".**  \n",
    "\n",
    "- **Suporte:** 24,63%  \n",
    "  Isso significa que quase **um quarto dos registros** têm simultaneamente **área plantada muito baixa e volume agrícola muito baixo.**\n",
    "\n",
    "- **Confiança:** 80,63%  \n",
    "  Alta — significa que **em 80,63% dos casos onde a Área Plantada é muito baixa, o Volume Agrícola também é muito baixo.**  \n",
    "\n",
    "- **Lift:** 1,725  \n",
    "  O **lift é bem elevado**, mostrando uma **associação muito forte**.\n",
    "\n",
    "> 🔍 **Interpretação:** Este é um resultado bastante lógico e robusto. **Áreas com baixa extensão plantada naturalmente produzem volumes agrícolas muito baixos.** Isso reforça que o tamanho da área cultivada é um fator determinante para o volume de produção.\n",
    "\n",
    "---\n",
    "\n",
    "#### 🏁 **Conclusões gerais:**  \n",
    "- As **Regras 1, 3 e 4** são altamente coerentes com o esperado: **quanto maior a área plantada, maior o volume agrícola, e vice-versa.**  \n",
    "- A **Regra 2** é curiosa e merece investigação, pois sugere que, mesmo com **Volume Agrícola baixo, há casos de Área Plantada muito alta**, o que pode indicar **problemas de produtividade, limitações tecnológicas ou ambientais.**\n"
   ]
  },
  {
   "cell_type": "markdown",
   "metadata": {},
   "source": [
    "## 📌 Menu de Navegação\n",
    "\n",
    "- [🔹  Menu de Navegação](#menu)"
   ]
  },
  {
   "cell_type": "markdown",
   "metadata": {},
   "source": [
    "<a id=\"etapa4\"></a>\n",
    "# Etapa 4 - Projeto Desenvolvedor 🚀"
   ]
  },
  {
   "cell_type": "markdown",
   "metadata": {},
   "source": [
    "### Descrição Etapa 4\n",
    "Nesta etapa, o grupo deve aplicar regressão linear para estimar um atributo numérico com base em variáveis explicativas. É necessário analisar as variáveis escolhidas, interpretar corretamente os coeficientes do modelo e avaliar seu desempenho por métricas como o erro quadrático médio (MSE) e o coeficiente de determinação (R²). A conclusão deve destacar os principais resultados, discutir a qualidade das previsões e apontar possíveis limitações do modelo."
   ]
  },
  {
   "cell_type": "markdown",
   "metadata": {},
   "source": [
    "### Divisão das Tarefas\n",
    "\n",
    " #### 🛠️ Melhorias da Etapa 3 \n",
    "\n",
    "Antes de discutirmos a **divisão da Etapa 4**, é importante destacar as melhorias implementadas na **Etapa 3**:\n",
    "\n",
    "- 🔍 **Inferência Estatística**:  \n",
    "  O grupo aprimorou a **justificativa da divisão dos dados em dois grupos**, deixando mais clara a motivação por trás dessa separação. Além disso, foi adicionada uma **conclusão ao final da análise**, relacionando as duas inferências realizadas. Essa conexão ajudou a fortalecer a consistência e a coesão do raciocínio estatístico.\n",
    "\n",
    "- 📊 **Regras de Associação**:  \n",
    "  A equipe também revisou e melhorou as **conclusões extraídas** a partir das regras geradas pelo algoritmo Apriori. As regras foram apresentadas de forma mais **visual e compreensível**, facilitando a interpretação dos resultados. Todas essas melhorias foram feitas **coletivamente pelo grupo**.\n",
    "\n",
    "---\n",
    "\n",
    "#### 🚀 Etapa 4\n",
    "\n",
    "Foi decidido manter a **mesma lógica de divisão em duplas** utilizada na etapa anterior:\n",
    "\n",
    "- 👥 **Marcus e Gustavo**  \n",
    "  Responsáveis pela análise:  \n",
    "  **\"Análise da Variação Populacional com Regressão Linear\"**\n",
    "\n",
    "- 👥 **Aline e Luana**  \n",
    "  Responsáveis pela análise:  \n",
    "  **\"Volume de Exportações em função da Densidade Populacional e Número de Empresas com Regressão Linear\"**\n",
    "\n",
    "Cada dupla ficou encarregada tanto da **implementação do código** quanto da **produção do conteúdo no Markdown** 📄."
   ]
  },
  {
   "cell_type": "markdown",
   "metadata": {},
   "source": [
    "### 📈 Análise da Variação Populacional com Regressão Linear\n",
    "\n",
    "Este tópico tem como objetivo aplicar **Regressão Linear Múltipla** para estimar a variação da população nas 10 cidades mais populosas do Brasil. A análise se concentra nas seguintes perguntas:\n",
    "\n",
    "- Será que o número de **nascimentos** e de **óbitos infantis** em um município são bons preditores do **crescimento populacional anual**?\n",
    "- Quão bem o modelo consegue explicar a variação observada?\n",
    "- Como interpretar os coeficientes e métricas do modelo?\n",
    "\n",
    "#### Variáveis envolvidas:\n",
    "- **População**: total populacional registrado em um determinado ano.\n",
    "- **Número de nascimentos**: total de nascidos vivos naquele município e ano.\n",
    "- **Óbitos infantis**: número de crianças que faleceram com menos de 1 ano de idade.\n",
    "\n",
    "A hipótese inicial é que **quanto maior o número de nascimentos**, maior a **variação anual da população**. Já o efeito de óbitos infantis será analisado estatisticamente.\n",
    "\n"
   ]
  },
  {
   "cell_type": "code",
   "execution_count": 80,
   "metadata": {},
   "outputs": [],
   "source": [
    "# Carregando os dados\n",
    "\n",
    "import pandas as pd\n",
    "import numpy as np\n",
    "from sklearn.linear_model import LinearRegression\n",
    "from sklearn.model_selection import train_test_split\n",
    "from sklearn.metrics import mean_squared_error, r2_score\n",
    "from sklearn.preprocessing import StandardScaler\n",
    "import matplotlib.pyplot as plt\n",
    "import seaborn as sns\n",
    "\n",
    "# Leitura do CSV com separador ';' e encoding compatível com acentuação\n",
    "df = pd.read_csv(\"dataFrame/BrStatsAtualizada.csv\", sep=';', encoding='utf-8')\n",
    "\n"
   ]
  },
  {
   "cell_type": "markdown",
   "metadata": {},
   "source": [
    "### 🔧 Pré-processamento e limpeza dos dados\n",
    "\n",
    "Nesta etapa, fazemos a preparação essencial do dataset para análise:\n",
    "\n",
    "- Selecionamos apenas colunas necessárias para o modelo;\n",
    "- Corrigimos o formato numérico, substituindo `,` por `.` nas colunas com números em string;\n",
    "- Convertendo colunas de string para float (tipagem correta);\n",
    "- Garantimos que a coluna `Ano` esteja no formato inteiro.\n",
    "\n",
    "Essas etapas evitam erros nas análises matemáticas e estatísticas posteriores.\n"
   ]
  },
  {
   "cell_type": "code",
   "execution_count": 81,
   "metadata": {},
   "outputs": [],
   "source": [
    "# Leitura do arquivo CSV\n",
    "df = pd.read_csv(\"dataFrame/BrStatsAtualizada.csv\", sep=\";\")\n",
    "\n",
    "# Selecionar colunas relevantes\n",
    "df = df[[\"Ano\", \"Municipio\", \"UF\", \"Populacao\", \"NrNascimentos\", \"NrObitosInfantis\"]].copy()\n",
    "df.columns = [\"Ano\", \"Municipio\", \"UF\", \"Populacao\", \"Nascimentos\", \"ObitosInfantis\"]\n",
    "\n",
    "# Corrigir formatação numérica\n",
    "for col in [\"Populacao\", \"Nascimentos\", \"ObitosInfantis\"]:\n",
    "    df[col] = df[col].str.replace(\",\", \".\").astype(float)\n",
    "\n",
    "df[\"Ano\"] = df[\"Ano\"].astype(int)"
   ]
  },
  {
   "cell_type": "markdown",
   "metadata": {},
   "source": [
    "### 🏙️ Seleção das 10 cidades mais populosas\n",
    "\n",
    "Selecionamos as 10 cidades com maior população máxima registrada ao longo do tempo.\n",
    "\n",
    "Essa abordagem captura os maiores centros urbanos do país, que apresentam dinâmicas demográficas relevantes e confiáveis. Além disso, reduz o viés de municípios com oscilações artificiais por baixa população.\n"
   ]
  },
  {
   "cell_type": "code",
   "execution_count": 82,
   "metadata": {},
   "outputs": [
    {
     "name": "stdout",
     "output_type": "stream",
     "text": [
      "Top 10 municípios mais populosos:\n",
      "- São Paulo\n",
      "- Rio de Janeiro\n",
      "- Brasília\n",
      "- Salvador\n",
      "- Fortaleza\n",
      "- Belo Horizonte\n",
      "- Manaus\n",
      "- Curitiba\n",
      "- Recife\n",
      "- Goiânia\n"
     ]
    }
   ],
   "source": [
    "# Obter o último ano disponível\n",
    "ultimo_ano = df[\"Ano\"].max()\n",
    "\n",
    "# Selecionar dados apenas do último ano\n",
    "df_ultimo_ano = df[df[\"Ano\"] == ultimo_ano]\n",
    "\n",
    "# Identificar os 10 municípios mais populosos\n",
    "top_municipios = (\n",
    "    df_ultimo_ano.sort_values(\"Populacao\", ascending=False)\n",
    "    .head(10)[\"Municipio\"]\n",
    "    .tolist()\n",
    ")\n",
    "\n",
    "print(\"Top 10 municípios mais populosos:\")\n",
    "for m in top_municipios:\n",
    "    print(\"-\", m)"
   ]
  },
  {
   "cell_type": "markdown",
   "metadata": {},
   "source": [
    "### 📊  Cálculo da variação anual da população\n",
    "\n",
    "Para usar a população como **variável dependente** no modelo, precisamos convertê-la em uma métrica de variação, pois os dados fornecem apenas valores absolutos.\n",
    "\n",
    "Utilizamos a função `diff()` para calcular a **diferença ano a ano** por município. Isso nos dá a variável `VariaçãoPop`, que representa a **mudança absoluta no tamanho da população** entre dois anos consecutivos.\n"
   ]
  },
  {
   "cell_type": "code",
   "execution_count": 83,
   "metadata": {},
   "outputs": [
    {
     "data": {
      "text/html": [
       "<div>\n",
       "<style scoped>\n",
       "    .dataframe tbody tr th:only-of-type {\n",
       "        vertical-align: middle;\n",
       "    }\n",
       "\n",
       "    .dataframe tbody tr th {\n",
       "        vertical-align: top;\n",
       "    }\n",
       "\n",
       "    .dataframe thead th {\n",
       "        text-align: right;\n",
       "    }\n",
       "</style>\n",
       "<table border=\"1\" class=\"dataframe\">\n",
       "  <thead>\n",
       "    <tr style=\"text-align: right;\">\n",
       "      <th></th>\n",
       "      <th>Ano</th>\n",
       "      <th>Municipio</th>\n",
       "      <th>Populacao</th>\n",
       "      <th>Nascimentos</th>\n",
       "      <th>ObitosInfantis</th>\n",
       "      <th>VariacaoPop</th>\n",
       "    </tr>\n",
       "  </thead>\n",
       "  <tbody>\n",
       "    <tr>\n",
       "      <th>4006</th>\n",
       "      <td>2017</td>\n",
       "      <td>Belo Horizonte</td>\n",
       "      <td>2523794.0</td>\n",
       "      <td>30.144</td>\n",
       "      <td>301.0</td>\n",
       "      <td>10343.0</td>\n",
       "    </tr>\n",
       "    <tr>\n",
       "      <th>6079</th>\n",
       "      <td>2018</td>\n",
       "      <td>Belo Horizonte</td>\n",
       "      <td>2501576.0</td>\n",
       "      <td>29.813</td>\n",
       "      <td>294.0</td>\n",
       "      <td>-22218.0</td>\n",
       "    </tr>\n",
       "    <tr>\n",
       "      <th>8282</th>\n",
       "      <td>2019</td>\n",
       "      <td>Belo Horizonte</td>\n",
       "      <td>2512070.0</td>\n",
       "      <td>28.610</td>\n",
       "      <td>300.0</td>\n",
       "      <td>10494.0</td>\n",
       "    </tr>\n",
       "    <tr>\n",
       "      <th>10532</th>\n",
       "      <td>2020</td>\n",
       "      <td>Belo Horizonte</td>\n",
       "      <td>2521564.0</td>\n",
       "      <td>26.281</td>\n",
       "      <td>244.0</td>\n",
       "      <td>9494.0</td>\n",
       "    </tr>\n",
       "    <tr>\n",
       "      <th>12922</th>\n",
       "      <td>2021</td>\n",
       "      <td>Belo Horizonte</td>\n",
       "      <td>2530701.0</td>\n",
       "      <td>25.028</td>\n",
       "      <td>241.0</td>\n",
       "      <td>9137.0</td>\n",
       "    </tr>\n",
       "  </tbody>\n",
       "</table>\n",
       "</div>"
      ],
      "text/plain": [
       "        Ano       Municipio  Populacao  Nascimentos  ObitosInfantis  \\\n",
       "4006   2017  Belo Horizonte  2523794.0       30.144           301.0   \n",
       "6079   2018  Belo Horizonte  2501576.0       29.813           294.0   \n",
       "8282   2019  Belo Horizonte  2512070.0       28.610           300.0   \n",
       "10532  2020  Belo Horizonte  2521564.0       26.281           244.0   \n",
       "12922  2021  Belo Horizonte  2530701.0       25.028           241.0   \n",
       "\n",
       "       VariacaoPop  \n",
       "4006       10343.0  \n",
       "6079      -22218.0  \n",
       "8282       10494.0  \n",
       "10532       9494.0  \n",
       "12922       9137.0  "
      ]
     },
     "execution_count": 83,
     "metadata": {},
     "output_type": "execute_result"
    }
   ],
   "source": [
    "# Filtrar dados apenas para os top 10 municípios\n",
    "df_top10 = df[df[\"Municipio\"].isin(top_municipios)].copy()\n",
    "\n",
    "# Ordenar por município e ano\n",
    "df_top10.sort_values([\"Municipio\", \"Ano\"], inplace=True)\n",
    "\n",
    "# Calcular variação populacional\n",
    "df_top10[\"PopulacaoAnterior\"] = df_top10.groupby(\"Municipio\")[\"Populacao\"].shift(1)\n",
    "df_top10[\"VariacaoPop\"] = df_top10[\"Populacao\"] - df_top10[\"PopulacaoAnterior\"]\n",
    "\n",
    "# Remover registros sem variação\n",
    "df_top10.dropna(subset=[\"VariacaoPop\"], inplace=True)\n",
    "\n",
    "# Visualizar\n",
    "df_top10[[\"Ano\", \"Municipio\", \"Populacao\", \"Nascimentos\", \"ObitosInfantis\", \"VariacaoPop\"]].head()"
   ]
  },
  {
   "cell_type": "markdown",
   "metadata": {},
   "source": [
    "### 🧠  Preparação para Regressão Linear\n",
    "\n",
    "Definimos agora:\n",
    "\n",
    "- `X`: conjunto de variáveis independentes (Número de Nascimentos e Óbitos Infantis)\n",
    "- `y`: variável alvo (VariaçãoPop)\n",
    "\n",
    "Aplicamos também **padronização** dos dados com `StandardScaler`, essencial para evitar distorções em modelos sensíveis à escala das variáveis (como a Regressão Linear).\n",
    "\n",
    "A separação entre **treino (80%)** e **teste (20%)** é feita com `train_test_split`.\n"
   ]
  },
  {
   "cell_type": "code",
   "execution_count": 84,
   "metadata": {},
   "outputs": [],
   "source": [
    "# Selecionar variáveis explicativas e alvo\n",
    "X = df_top10[[\"Nascimentos\", \"ObitosInfantis\"]]\n",
    "y = df_top10[\"VariacaoPop\"]\n",
    "\n",
    "# Dividir em treino e teste\n",
    "X_train, X_test, y_train, y_test = train_test_split(X, y, test_size=0.2, random_state=42)\n",
    "\n",
    "# Treinar o modelo com dados padronizados\n",
    "model = LinearRegression()\n",
    "model.fit(X_train, y_train)\n",
    "\n",
    "# Prever no conjunto de teste\n",
    "y_pred = model.predict(X_test)"
   ]
  },
  {
   "cell_type": "markdown",
   "metadata": {},
   "source": [
    "### 📉  Avaliação do Modelo\n",
    "\n",
    "Aqui, interpretamos os **coeficientes** aprendidos pela regressão e calculamos as principais métricas de avaliação:\n",
    "\n",
    "- **Coeficiente**: indica o quanto a variável impacta na variação populacional (em média);\n",
    "- **Intercepto**: valor estimado da variação populacional quando todas as variáveis estão na média padronizada (zero);\n",
    "- **MSE (Erro Quadrático Médio)**: penaliza grandes erros;\n",
    "- **R² (coeficiente de determinação)**: indica a proporção da variação explicada pelo modelo.\n"
   ]
  },
  {
   "cell_type": "code",
   "execution_count": 85,
   "metadata": {},
   "outputs": [
    {
     "name": "stdout",
     "output_type": "stream",
     "text": [
      "Nascimentos (padronizado): 532.9947\n",
      "Óbitos infantis (padronizado): 17.5769\n",
      "\n",
      "Intercepto: -7278.58\n",
      "Erro quadrático médio (MSE): 85408502.86\n",
      "Coeficiente de determinação (R²): 82.89%\n"
     ]
    }
   ],
   "source": [
    "# Avaliação\n",
    "coeficientes = model.coef_\n",
    "intercepto = model.intercept_\n",
    "mse = mean_squared_error(y_test, y_pred)\n",
    "r2 = r2_score(y_test, y_pred)\n",
    "\n",
    "# Mostrar os coeficientes com nomes\n",
    "for nome, coef in zip([\"Nascimentos (padronizado)\", \"Óbitos infantis (padronizado)\"], coeficientes):\n",
    "    print(f\"{nome}: {coef:.4f}\")\n",
    "    \n",
    "print(f\"\\nIntercepto: {intercepto:.2f}\")\n",
    "print(f\"Erro quadrático médio (MSE): {mse:.2f}\")\n",
    "print(f\"Coeficiente de determinação (R²): {r2:.2%}\")"
   ]
  },
  {
   "cell_type": "markdown",
   "metadata": {},
   "source": [
    "### ✅ Interpretação dos Resultados e Significado dos Coeficientes\n",
    "\n",
    "- **Nascimentos (coeficiente padronizado: +532.9947)**  \n",
    "  O coeficiente positivo e expressivo para os nascimentos indica que, quando o número de nascimentos aumenta em uma unidade padrão (ou seja, considerando a variação relativa padronizada), a variação anual da população cresce em média cerca de 533 pessoas, mantendo constantes os óbitos infantis. Isso confirma a relação intuitiva e esperada de que um maior número de nascimentos contribui diretamente para o crescimento populacional das cidades analisadas. Esse efeito mostra a importância dos nascimentos como principal componente do aumento natural da população.\n",
    "\n",
    "- **Óbitos infantis (coeficiente padronizado: +17.5769)**  \n",
    "  Curiosamente, o coeficiente para os óbitos infantis também é positivo, indicando que um aumento no número de óbitos infantis está associado a um aumento na variação populacional. Essa associação aparentemente contraditória não deve ser interpretada como uma relação causal direta, mas sim como um reflexo da correlação existente entre o tamanho da cidade e essas variáveis. Cidades maiores tendem a apresentar simultaneamente números maiores de nascimentos e óbitos infantis devido à sua dimensão populacional. Portanto, o coeficiente positivo aqui provavelmente indica um efeito de escala, onde o crescimento populacional e as taxas de óbitos infantis estão correlacionados pela dimensão demográfica, não porque os óbitos infantis impulsionem o crescimento.\n",
    "\n",
    "- **Intercepto (-7278.58)**  \n",
    "  O intercepto representa a variação populacional esperada quando ambas as variáveis padronizadas estão em seus valores médios. Em outras palavras, mesmo na ausência de variações atípicas em nascimentos e óbitos infantis, a população das cidades tende a diminuir em torno de 7 mil pessoas anualmente, refletindo outros fatores subjacentes ao decrescimento populacional.\n",
    "\n",
    "\n",
    "\n",
    "### 📊 Avaliação do Desempenho do Modelo\n",
    "\n",
    "| Métrica                         | Valor             |\n",
    "|--------------------------------|-------------------|\n",
    "| Erro Quadrático Médio (MSE)    | 85.408.502,86     |\n",
    "| Coeficiente de Determinação (R²) | 82,89%          |\n",
    "\n",
    "- O **coeficiente de determinação (R²) de 82,89%** é um indicativo forte de que o modelo explica a maior parte da variação da população nas cidades estudadas com base apenas em nascimentos e óbitos infantis. Isso revela uma excelente capacidade preditiva do modelo para o fenômeno demográfico analisado.\n",
    "\n",
    "- Apesar do elevado valor do **MSE**, ele deve ser interpretado à luz da escala da variável dependente. A variação populacional anual é expressa em milhares de pessoas, o que naturalmente gera valores grandes para o erro ao quadrado. Portanto, o MSE alto não compromete a validade do modelo, especialmente considerando o alto R².\n",
    "\n"
   ]
  },
  {
   "cell_type": "markdown",
   "metadata": {},
   "source": [
    "### 📈 Análise para Volume de Exportações em função da Densidade Populacional e Número de Empresas com Regressão Linear\n",
    "O principal objetivo desta regressão linear é investigar e quantificar como o **volume de exportações** dos estados brasileiros está relacionado a duas variáveis socioeconômicas importantes:\n",
    "\n",
    "- **Densidade populacional**: que indica a concentração de pessoas por unidade de área, refletindo aspectos como urbanização, infraestrutura e capacidade produtiva local.\n",
    "- **Número de empresas**: que representa a atividade econômica formal e potencial produtivo de cada estado.\n",
    "\n",
    "Queremos entender se estados com maior densidade populacional e/ou maior número de empresas tendem a apresentar maiores valores de exportações. Essa análise ajuda a identificar os principais fatores que influenciam o desempenho exportador e pode orientar políticas públicas e estratégias empresariais para promover o crescimento econômico.\n",
    "\n",
    "Além disso, ao construir um modelo preditivo, podemos também estimar o volume esperado de exportações a partir dos dados de densidade populacional e número de empresas, avaliando a qualidade desse modelo por métricas como o erro quadrático médio (MSE) e o coeficiente de determinação (R²)."
   ]
  },
  {
   "cell_type": "markdown",
   "metadata": {},
   "source": [
    "### 🧹 Preparação dos Dados\n",
    "\n",
    "Para realizar a regressão linear que estima o volume de exportações com base na densidade populacional e no número de empresas, começamos selecionando as variáveis relevantes do nosso dataset. \n",
    "\n",
    "As variáveis escolhidas são:\n",
    "\n",
    "- **Exportacoes_R$**: variável dependente, que representa o volume monetário das exportações por estado.\n",
    "- **povoamento**: variável explicativa, que indica a densidade populacional (número de pessoas por km²).\n",
    "- **QtEmpresas**: variável explicativa, que indica o número total de empresas formalmente registradas no estado.\n",
    "\n",
    "Após a seleção, fazemos a limpeza dos dados, removendo possíveis valores ausentes (NaNs) para garantir que o modelo receba dados válidos.\n",
    "\n",
    "Como as variáveis possuem escalas diferentes (densidade populacional pode variar muito, assim como o número de empresas e o volume de exportações), aplicamos uma **padronização** nos preditores para melhorar o desempenho e a estabilidade do modelo de regressão.\n",
    "\n",
    "O dataset contém valores numéricos representados no formato brasileiro, onde a vírgula é usada como separador decimal (ex: `55,065`). \n",
    "Para poder aplicar a padronização e modelos de regressão que exigem valores numéricos do tipo float, é necessário converter essas colunas, substituindo as vírgulas por pontos e transformando as strings em floats.\n",
    "\n",
    "Esse processo será feito nas colunas `povoamento`, `QtEmpresas` e `Exportacoes_R$` antes da aplicação da padronização e divisão dos dados.\n",
    "Por fim, dividimos o conjunto de dados em treino e teste para validar o modelo, utilizando 80% dos dados para treinamento e 20% para teste. Essa divisão é feita de forma aleatória, mas com uma semente fixa (`random_state=42`) para garantir a reprodutibilidade dos resultados.\n"
   ]
  },
  {
   "cell_type": "code",
   "execution_count": 86,
   "metadata": {},
   "outputs": [],
   "source": [
    "# Carregar o dataset\n",
    "df = pd.read_csv(\"dataFrame/BrStatsAtualizada.csv\", sep=\";\")\n",
    "\n",
    "# Converter as colunas relevantes de string para float (substituir vírgula por ponto)\n",
    "for col in [\"Exportacoes_R$\", \"povoamento\", \"QtEmpresas\"]:\n",
    "    df[col] = df[col].astype(str).str.replace(\",\", \".\").astype(float)\n",
    "\n",
    "# Selecionar as variáveis relevantes\n",
    "df_model = df[[\"Exportacoes_R$\", \"povoamento\", \"QtEmpresas\"]].copy()\n",
    "\n",
    "# Remover registros com valores faltantes\n",
    "df_model.dropna(inplace=True)\n",
    "\n",
    "# Definir variáveis explicativas (X) e variável alvo (y)\n",
    "X = df_model[[\"povoamento\", \"QtEmpresas\"]]\n",
    "y = df_model[\"Exportacoes_R$\"]\n",
    "\n",
    "# Padronizar as variáveis explicativas\n",
    "scaler = StandardScaler()\n",
    "X_scaled = scaler.fit_transform(X)\n",
    "\n",
    "# Dividir em conjuntos de treino e teste (80% treino, 20% teste)\n",
    "X_train, X_test, y_train, y_test = train_test_split(\n",
    "    X, y, test_size=0.2, random_state=42\n",
    ")\n"
   ]
  },
  {
   "cell_type": "markdown",
   "metadata": {},
   "source": [
    "### 🪓 Construção e treino do modelo de Regressão Linear\n",
    "\n",
    "Com os dados preparados, o próximo passo é criar o modelo de regressão linear para analisar como a densidade populacional (`povoamento`) e o número de empresas (`QtEmpresas`) impactam o volume de exportações (`Exportacoes_R$`).\n",
    "\n",
    "Usamos a biblioteca `scikit-learn` para criar o modelo, que é treinado com o conjunto de dados de treino (`X_train` e `y_train`). Após o treino, o modelo será capaz de fazer previsões para dados novos (no nosso caso, o conjunto de teste `X_test`).\n",
    "\n",
    "Essa abordagem permite entender a relação linear entre as variáveis explicativas e a variável resposta, além de possibilitar a avaliação do desempenho do modelo.\n",
    "\n",
    "Após o treinamento, realizaremos a predição dos valores no conjunto de teste para comparar com os valores reais.\n"
   ]
  },
  {
   "cell_type": "code",
   "execution_count": 87,
   "metadata": {},
   "outputs": [],
   "source": [
    "\n",
    "\n",
    "# Criar o modelo de regressão linear\n",
    "model = LinearRegression()\n",
    "\n",
    "# Treinar o modelo com os dados de treino\n",
    "model.fit(X_train, y_train)\n",
    "\n",
    "# Fazer previsões no conjunto de teste\n",
    "y_pred = model.predict(X_test)\n"
   ]
  },
  {
   "cell_type": "markdown",
   "metadata": {},
   "source": [
    "### 📌 Avaliação do modelo de regressão linear\n",
    "\n",
    "Para medir a qualidade do nosso modelo, utilizamos algumas métricas importantes:\n",
    "\n",
    "- **Coeficientes (Weights):** mostram a influência de cada variável explicativa (densidade populacional e número de empresas) no volume de exportações. Um coeficiente positivo indica que, quando essa variável aumenta, o volume de exportações tende a aumentar, e vice-versa.\n",
    "\n",
    "- **Intercepto:** valor esperado do volume de exportações quando todas as variáveis explicativas são zero (considerando as variáveis padronizadas, isso serve como ponto de referência).\n",
    "\n",
    "- **Erro Quadrático Médio (MSE):** indica, em média, o quanto as previsões do modelo diferem dos valores reais. Quanto menor, melhor.\n",
    "\n",
    "- **Coeficiente de determinação (R²):** mostra a proporção da variabilidade do volume de exportações que é explicada pelas variáveis independentes. \n",
    "\n",
    "Com essas métricas, podemos interpretar o quanto a densidade populacional e o número de empresas explicam as variações no volume de exportações entre os estados brasileiros.\n"
   ]
  },
  {
   "cell_type": "code",
   "execution_count": 88,
   "metadata": {},
   "outputs": [
    {
     "name": "stdout",
     "output_type": "stream",
     "text": [
      "Densidade Populacional (povoamento): 602281.6500\n",
      "Número de Empresas (QtEmpresas): -647206.8851\n",
      "\n",
      "Intercepto: 461016291.49\n",
      "Erro Quadrático Médio (MSE): 12273326486112360448.00\n",
      "Coeficiente de Determinação (R²): 6.39%\n"
     ]
    }
   ],
   "source": [
    "\n",
    "# Obter coeficientes e intercepto\n",
    "coeficientes = model.coef_\n",
    "intercepto = model.intercept_\n",
    "\n",
    "# Calcular métricas de avaliação\n",
    "mse = mean_squared_error(y_test, y_pred)\n",
    "r2 = r2_score(y_test, y_pred)\n",
    "\n",
    "# Mostrar os coeficientes com os nomes das variáveis\n",
    "for nome, coef in zip([\"Densidade Populacional (povoamento)\", \"Número de Empresas (QtEmpresas)\"], coeficientes):\n",
    "    print(f\"{nome}: {coef:.4f}\")\n",
    "\n",
    "print(f\"\\nIntercepto: {intercepto:.2f}\")\n",
    "print(f\"Erro Quadrático Médio (MSE): {mse:.2f}\")\n",
    "print(f\"Coeficiente de Determinação (R²): {r2:.2%}\")\n"
   ]
  },
  {
   "cell_type": "markdown",
   "metadata": {},
   "source": [
    "### ✔️ Análise dos Resultados da Regressão Linear para Volume de Exportações\n",
    "\n",
    "Os coeficientes estimados pelo modelo para as variáveis explicativas foram:\n",
    "\n",
    "- **Densidade Populacional (povoamento): 602281.6500**  \n",
    "  Esse valor positivo e bastante alto indica que, mantendo as outras variáveis constantes, um aumento na densidade populacional está associado a um aumento significativo no volume de exportações dos estados. Isso sugere que estados mais densamente povoados tendem a exportar mais, o que pode refletir maior concentração industrial, infraestrutura ou atividade econômica voltada para o comércio exterior.\n",
    "\n",
    "- **Número de Empresas (QtEmpresas): -647206.8851**  \n",
    "  Surpreendentemente, o coeficiente para o número de empresas é negativo, indicando que, segundo o modelo, um aumento no número de empresas estaria associado a uma redução no volume de exportações. Essa relação contrária pode indicar que muitas empresas estão voltadas para o mercado interno ou que há algum tipo de colinearidade entre as variáveis. Também pode sugerir a necessidade de um modelo mais complexo ou de transformar as variáveis.\n",
    "\n",
    "- **Intercepto: 461016291.49**  \n",
    "  Representa o valor médio do volume de exportações esperado quando as variáveis explicativas estão padronizadas e assumem valor zero (isto é, na média).\n",
    "\n",
    "Além dos coeficientes, as métricas de avaliação do modelo foram:\n",
    "\n",
    "- **Erro Quadrático Médio (MSE): 1,227 × 10¹⁹**  \n",
    "  Esse valor muito alto indica que as previsões do modelo divergem consideravelmente dos valores reais de exportações, sugerindo que o modelo não está capturando muito bem o comportamento dos dados.\n",
    "\n",
    "- **Coeficiente de Determinação (R²): 6,39%**  \n",
    "  Esse valor indica que apenas cerca de 6,4% da variabilidade do volume de exportações é explicada pela densidade populacional e número de empresas. Ou seja, o modelo explica muito pouco do que afeta as exportações, o que indica que fatores importantes não estão sendo considerados na regressão.\n",
    "\n",
    "Esses resultados indicam que a densidade populacional parece ser uma variável relevante para o volume de exportações, enquanto o impacto do número de empresas, conforme modelado, é contraintuitivo e possivelmente reflexo de limitações do modelo ou dos dados utilizados.\n",
    "\n",
    "O baixo valor de R² e o alto MSE indicam que o modelo linear simples com essas duas variáveis não é suficiente para explicar o volume de exportações de forma satisfatória. \n",
    "\n",
    "Nos próximos passos, vamos analisar os resíduos do modelo e visualizar os resultados para entender melhor o desempenho da regressão.\n"
   ]
  },
  {
   "cell_type": "markdown",
   "metadata": {},
   "source": [
    "### 👩‍💻 Análise dos Resíduos da Regressão Linear\n",
    "\n",
    "Os resíduos representam a diferença entre os valores reais do volume de exportações e os valores previstos pelo modelo. Analisar os resíduos é fundamental para avaliar a qualidade do ajuste do modelo, identificar possíveis padrões não capturados, heterocedasticidade (variância não constante dos resíduos) ou outliers.\n",
    "\n",
    "Idealmente, os resíduos devem estar distribuídos aleatoriamente em torno de zero, sem apresentar tendência ou padrão, indicando que o modelo está capturando bem as relações entre as variáveis.\n",
    "\n",
    "No gráfico a seguir, vamos plotar os resíduos versus os valores preditos para observar se há algum padrão ou problema evidente.\n"
   ]
  },
  {
   "cell_type": "code",
   "execution_count": 89,
   "metadata": {},
   "outputs": [
    {
     "data": {
      "image/png": "[encoded data removed]",
      "text/plain": [
       "<Figure size 800x500 with 1 Axes>"
      ]
     },
     "metadata": {},
     "output_type": "display_data"
    }
   ],
   "source": [
    "\n",
    "# Calcular resíduos\n",
    "residuos = y_test - y_pred\n",
    "\n",
    "# Plotar resíduos vs valores preditos\n",
    "plt.figure(figsize=(8,5))\n",
    "plt.scatter(y_pred, residuos, alpha=0.6)\n",
    "plt.axhline(y=0, color='r', linestyle='--')\n",
    "plt.xlabel(\"Valores Preditos do Volume de Exportações\")\n",
    "plt.ylabel(\"Resíduos (Valores Reais - Preditos)\")\n",
    "plt.title(\"Gráfico de Resíduos vs Valores Preditos\")\n",
    "plt.grid(True)\n",
    "plt.show()\n"
   ]
  },
  {
   "cell_type": "markdown",
   "metadata": {},
   "source": [
    "### 🔍 Interpretação do Gráfico de Resíduos\n",
    "\n",
    "Observamos que a maioria dos resíduos está concentrada próximo de zero, o que indica que o modelo consegue prever de forma relativamente precisa o volume de exportações para a maior parte das observações.\n",
    "\n",
    "Entretanto, há uma concentração significativa de resíduos positivos pequenos (entre 0 e 2) que sugere que o modelo tende a subestimar ligeiramente os valores reais nessa faixa.\n",
    "\n",
    "Esses resultados reforçam que o modelo, mesmo com um R² baixo, apresenta previsões razoavelmente próximas para grande parte dos dados, mas pode haver casos específicos com erros maiores que merecem investigação mais detalhada."
   ]
  },
  {
   "cell_type": "markdown",
   "metadata": {},
   "source": [
    "## 📌 Menu de Navegação\n",
    "\n",
    "- [🔹  Menu de Navegação](#menu)"
   ]
  },
  {
   "cell_type": "markdown",
   "metadata": {},
   "source": [
    "<a id=\"etapa5\"></a>\n",
    "\n",
    "# Etapa 5 - Projeto Desenvolvedor 🚀"
   ]
  },
  {
   "cell_type": "markdown",
   "metadata": {},
   "source": [
    "Nesta etapa, responderemos à **pergunta central** do nosso projeto utilizando técnicas de **aprendizado de máquina supervisionado 🤖** e **não supervisionado 🧠**.\n",
    "\n",
    "\n",
    "**Quais são as principais diferenças socioeconômicas entre as regiões do Brasil?** 🌎💰📊"
   ]
  },
  {
   "cell_type": "markdown",
   "metadata": {},
   "source": [
    "### 🧭 Abordagem Metodológica\n",
    "\n",
    "Para explorar as diferenças socioeconômicas entre as regiões do Brasil, adotamos uma abordagem híbrida, combinando técnicas de **aprendizado não supervisionado** e **supervisionado**.\n",
    "\n",
    "#### 🔹 Etapa 1: Agrupamento com K-Means\n",
    "\n",
    "Inicialmente, aplicamos o algoritmo **K-Means** para identificar grupos semelhantes de municípios com base em variáveis socioeconômicas e demográficas. As colunas utilizadas para formar os clusters foram:\n",
    "\n",
    "- 👥 `Populacao`  \n",
    "- 💼 `PessoalOcupado`  \n",
    "- 👷 `PessoalAssalariado`  \n",
    "- 💸 `PIB`  \n",
    "- 🏢 `QtEmpresas`  \n",
    "- 🌾 `AreaPlantada_h`  \n",
    "- 🌽 `VlProducaoAgricola`  \n",
    "- 🐄 `VlProducaoPecuaria`  \n",
    "- 🗺️ `Area`  \n",
    "- 👶 `NrNascimentos`  \n",
    "- ⚰️ `NrObitosInfantis`  \n",
    "- 🏘️ `povoamento`  \n",
    "- 🚢 `Exportacoes_R$`\n",
    "\n",
    "O objetivo dessa etapa foi **estruturar os dados em grupos homogêneos**, permitindo entender padrões ocultos entre os municípios com base em seus indicadores."
   ]
  },
  {
   "cell_type": "code",
   "execution_count": 90,
   "metadata": {},
   "outputs": [],
   "source": [
    "from sklearn.preprocessing import StandardScaler\n",
    "from sklearn.cluster import KMeans\n",
    "from sklearn.ensemble import RandomForestClassifier\n",
    "from sklearn.metrics import classification_report\n",
    "from sklearn.preprocessing import StandardScaler\n",
    "import seaborn as sns\n",
    "import matplotlib.pyplot as plt\n",
    "from sklearn.decomposition import PCA\n",
    "\n",
    "df = pd.read_csv(\"dataFrame/BrStatsAtualizada.csv\", sep=\";\")\n",
    "df_kmeans=df.copy()\n",
    "\n",
    "# Agrupando as colunas\n",
    "colunas_para_cluster = [\n",
    "    'Populacao', 'PessoalOcupado', 'PessoalAssalariado', 'PIB',\n",
    "    'QtEmpresas', 'AreaPlantada_h', 'VlProducaoAgricola',\n",
    "    'VlProducaoPecuaria', 'Area', 'NrNascimentos', 'NrObitosInfantis',\n",
    "    'povoamento', 'Exportacoes_R$'\n",
    "]"
   ]
  },
  {
   "cell_type": "markdown",
   "metadata": {},
   "source": [
    "### ⚙️ Normalização dos Dados com StandardScaler\n",
    "\n",
    "Antes de aplicar o algoritmo **K-Means**, é fundamental garantir que todas as variáveis estejam na mesma escala para evitar que atributos com valores maiores dominem o processo de agrupamento.\n",
    "\n",
    "#### Por que usar o `StandardScaler`?\n",
    "\n",
    "O `StandardScaler` transforma os dados para que cada variável tenha **média zero** e **desvio padrão igual a um**. Essa padronização ajuda o K-Means a:\n",
    "\n",
    "- 🧮 Tratar todas as variáveis de forma equilibrada.\n",
    "- 📏 Evitar que variáveis com escalas maiores tenham influência desproporcional nos clusters.\n",
    "- 🔍 Melhorar a eficiência e qualidade do agrupamento.\n"
   ]
  },
  {
   "cell_type": "code",
   "execution_count": 91,
   "metadata": {},
   "outputs": [],
   "source": [
    "\n",
    "# Substitui vírgulas por pontos e converte para float\n",
    "for col in colunas_para_cluster:\n",
    "    df_kmeans[col] = df_kmeans[col].astype(str).str.replace(',', '.', regex=False)\n",
    "    df_kmeans[col] = pd.to_numeric(df_kmeans[col], errors='coerce')\n",
    "    df_kmeans = df_kmeans.dropna(subset=colunas_para_cluster)\n",
    "\n",
    "scaler = StandardScaler()\n",
    "X = scaler.fit_transform(df_kmeans[colunas_para_cluster])\n"
   ]
  },
  {
   "cell_type": "markdown",
   "metadata": {},
   "source": [
    "### 🧩 Aplicação do K-Means para Agrupamento\n",
    "\n",
    "Neste trecho, aplicamos o algoritmo **K-Means** para dividir os dados em **4 clusters** distintos, agrupando municípios com características socioeconômicas semelhantes.\n"
   ]
  },
  {
   "cell_type": "code",
   "execution_count": 92,
   "metadata": {},
   "outputs": [],
   "source": [
    "\n",
    "kmeans = KMeans(n_clusters=4, random_state=0)\n",
    "df_kmeans['cluster'] = kmeans.fit_predict(X)"
   ]
  },
  {
   "cell_type": "markdown",
   "metadata": {},
   "source": [
    "### 📊 Análise dos Clusters Gerados\n",
    "\n",
    "Após a criação dos clusters com o K-Means, realizamos uma análise para entender a distribuição e o perfil de cada grupo.\n"
   ]
  },
  {
   "cell_type": "code",
   "execution_count": 93,
   "metadata": {},
   "outputs": [
    {
     "name": "stdout",
     "output_type": "stream",
     "text": [
      "cluster\n",
      "0    7139\n",
      "3    4727\n",
      "2      94\n",
      "1       6\n",
      "Name: count, dtype: int64\n",
      "            Populacao  PessoalOcupado  PessoalAssalariado           PIB  \\\n",
      "cluster                                                                   \n",
      "0        7.499660e+04    1.822215e+04        1.554416e+04  2.765870e+09   \n",
      "1        1.221593e+07    7.194205e+06        6.423645e+06  7.396700e+11   \n",
      "2        2.088968e+06    8.461643e+05        7.567136e+05  9.444808e+10   \n",
      "3        3.858700e+04    7.961281e+03        6.637671e+03  1.350525e+09   \n",
      "\n",
      "         QtEmpresas  AreaPlantada_h  VlProducaoAgricola  VlProducaoPecuaria  \\\n",
      "cluster                                                                       \n",
      "0        159.559560   206299.749265        75791.223140        24113.601345   \n",
      "1        570.428500   943333.333333         5833.333333        14000.000000   \n",
      "2         62.700904   412446.808511        37959.063830        49617.021277   \n",
      "3        396.415139   704641.421620       273435.250476        51444.974825   \n",
      "\n",
      "                Area  NrNascimentos  NrObitosInfantis   povoamento  \\\n",
      "cluster                                                              \n",
      "0        1011.774128     107.381822         12.246953   303.318073   \n",
      "1        1523.300000     157.401500          1.719333  8019.386333   \n",
      "2        1601.577660      26.607266        301.692202  4067.402149   \n",
      "3        2430.636746     452.814609          6.108949    90.468357   \n",
      "\n",
      "         Exportacoes_R$  \n",
      "cluster                  \n",
      "0          4.919886e+08  \n",
      "1          5.352972e+10  \n",
      "2          1.361532e+10  \n",
      "3          1.486886e+08  \n"
     ]
    }
   ],
   "source": [
    "\n",
    "# Ver o tamanho de cada cluster\n",
    "print(df_kmeans['cluster'].value_counts())\n",
    "\n",
    "# Ver a média de cada variável por cluster\n",
    "media_por_cluster = df_kmeans.groupby('cluster')[colunas_para_cluster].mean()\n",
    "print(media_por_cluster)\n"
   ]
  },
  {
   "cell_type": "markdown",
   "metadata": {},
   "source": [
    "### 📈 Resultados da Análise dos Clusters\n",
    "\n",
    "Após o agrupamento com K-Means, obtivemos 4 clusters com as seguintes características:\n",
    "\n",
    "#### 🔢 Tamanho dos Clusters\n",
    "\n",
    "| Cluster | Número de Municípios |\n",
    "|---------|---------------------|\n",
    "| 0       | 7.139               |\n",
    "| 3       | 4.727               |\n",
    "| 2       | 94                  |\n",
    "| 1       | 6                   |\n",
    "\n",
    "Observa-se que os clusters 0 e 3 concentram a maioria dos municípios, enquanto os clusters 1 e 2 representam grupos muito pequenos e possivelmente municípios com características muito distintas.\n",
    "\n",
    "---\n",
    "\n",
    "### 📊 Médias das Variáveis por Cluster\n",
    "\n",
    "| Variável           | Cluster 0          | Cluster 1           | Cluster 2           | Cluster 3          |\n",
    "|--------------------|--------------------|---------------------|---------------------|--------------------|\n",
    "| População          | 74.996 habitantes  | 12.215.930 habitantes| 2.088.968 habitantes | 38.587 habitantes   |\n",
    "| Pessoal Ocupado    | 18.222 pessoas     | 7.194.205 pessoas   | 846.164 pessoas      | 7.961 pessoas      |\n",
    "| Pessoal Assalariado| 15.544 pessoas     | 6.423.645 pessoas   | 756.713 pessoas      | 6.637 pessoas      |\n",
    "| PIB                | R$ 2,77 bilhões    | R$ 739,67 bilhões   | R$ 94,45 bilhões     | R$ 1,35 bilhão     |\n",
    "| QtEmpresas         | 160 empresas       | 570 empresas        | 63 empresas          | 396 empresas       |\n",
    "| Área Plantada (ha) | 206.300 hectares   | 943.333 hectares    | 412.447 hectares     | 704.641 hectares   |\n",
    "| Produção Agrícola  | R$ 75.791          | R$ 5.833            | R$ 37.959            | R$ 273.435         |\n",
    "| Produção Pecuária  | R$ 24.114          | R$ 14.000           | R$ 49.617            | R$ 51.445          |\n",
    "| Área Total         | 1.012 km²          | 1.523 km²           | 1.602 km²            | 1.524 km²          |\n",
    "| Nascimentos       | 107                | 157                 | 27                   |  - (dados incompletos) |\n",
    "| Óbitos Infantis    | 12                 | 2                   | 302                   | -                  |\n",
    "| Povoamento        | 303                | 8.019               | 4.067                 | -                  |\n",
    "| Exportações (R$)  | R$ 492 milhões     | R$ 53,53 bilhões    | R$ 13,62 bilhões      | R$ 149 milhões     |\n",
    "\n",
    "---\n",
    "\n",
    "### 🔎 Interpretação dos Clusters\n",
    "\n",
    "- **Cluster 1** representa os municípios com maiores valores absolutos em população, PIB e pessoal ocupado, indicando grandes centros urbanos ou regiões economicamente desenvolvidas.\n",
    "- **Cluster 0** e **Cluster 3** englobam a maioria dos municípios, com características socioeconômicas intermediárias, porém com diferenças notáveis em produção agrícola e pecuária.\n",
    "- **Cluster 2** possui um número muito pequeno de municípios, mas com alto número de óbitos infantis, o que pode indicar regiões específicas com desafios sociais ou de saúde pública.\n",
    "- A disparidade nos tamanhos dos clusters sugere que os dados podem conter grupos muito distintos, o que deve ser analisado com cuidado para não ignorar clusters pequenos, mas relevantes.\n",
    "\n",
    "Essa análise auxilia na compreensão das disparidades socioeconômicas entre municípios, orientando decisões e políticas públicas específicas para cada perfil identificado.\n"
   ]
  },
  {
   "cell_type": "code",
   "execution_count": 94,
   "metadata": {},
   "outputs": [
    {
     "data": {
      "image/png": "[encoded data removed]",
      "text/plain": [
       "<Figure size 1000x600 with 1 Axes>"
      ]
     },
     "metadata": {},
     "output_type": "display_data"
    }
   ],
   "source": [
    "\n",
    "pca = PCA(n_components=2)\n",
    "X_pca = pca.fit_transform(X)\n",
    "\n",
    "plt.figure(figsize=(10, 6))\n",
    "sns.scatterplot(x=X_pca[:, 0], y=X_pca[:, 1], hue=df_kmeans['cluster'], palette='Set2')\n",
    "plt.title(\"Visualização dos Clusters (PCA)\")\n",
    "plt.show()\n"
   ]
  },
  {
   "cell_type": "markdown",
   "metadata": {},
   "source": [
    "#### 🔹 Etapa 2: Classificação com Random Forest\n",
    "\n",
    "Com os grupos definidos na etapa anterior, utilizamos um modelo de **Random Forest 🌲** para realizar **aprendizado supervisionado**, com o objetivo de prever o grupo (cluster) ao qual um município pertence, com base nas mesmas variáveis explicativas.\n",
    "\n",
    "Essa etapa nos permite:\n",
    "- 📊 Avaliar a importância relativa de cada variável na formação dos grupos.\n",
    "- 🧠 Interpretar como os diferentes atributos influenciam o perfil socioeconômico dos municípios.\n"
   ]
  },
  {
   "cell_type": "markdown",
   "metadata": {},
   "source": [
    "#### 🌲 Treinamento e Avaliação do Modelo Random Forest\n",
    "\n",
    "Nesta etapa, utilizamos um modelo de aprendizado supervisionado para classificar os municípios em seus respectivos clusters, utilizando as mesmas variáveis que definiram os agrupamentos."
   ]
  },
  {
   "cell_type": "code",
   "execution_count": 95,
   "metadata": {},
   "outputs": [
    {
     "name": "stdout",
     "output_type": "stream",
     "text": [
      "              precision    recall  f1-score   support\n",
      "\n",
      "           0       0.99      0.98      0.98      1785\n",
      "           1       1.00      1.00      1.00         1\n",
      "           2       1.00      1.00      1.00        24\n",
      "           3       0.97      0.98      0.97      1182\n",
      "\n",
      "    accuracy                           0.98      2992\n",
      "   macro avg       0.99      0.99      0.99      2992\n",
      "weighted avg       0.98      0.98      0.98      2992\n",
      "\n"
     ]
    }
   ],
   "source": [
    "# X já foi definido com StandardScaler\n",
    "y = df_kmeans['cluster']  # rótulo do cluster (target)\n",
    "\n",
    "# Dividir em treino e teste\n",
    "X_train, X_test, y_train, y_test = train_test_split(X, y, random_state=42, stratify=y)\n",
    "\n",
    "# Treinar modelo\n",
    "rf = RandomForestClassifier(random_state=42)\n",
    "rf.fit(X_train, y_train)\n",
    "\n",
    "# Avaliar desempenho\n",
    "y_pred = rf.predict(X_test)\n",
    "print(classification_report(y_test, y_pred))"
   ]
  },
  {
   "cell_type": "markdown",
   "metadata": {},
   "source": [
    "### 📊 Interpretação dos Resultados do Modelo Random Forest\n",
    "\n",
    "O relatório de classificação apresenta as métricas de desempenho do modelo para cada cluster:\n",
    "\n",
    "| Cluster | Precision | Recall | F1-score | Support (nº de amostras) |\n",
    "|---------|-----------|--------|----------|--------------------------|\n",
    "| 0       | 0.99      | 0.98   | 0.98     | 1785                     |\n",
    "| 1       | 1.00      | 1.00   | 1.00     | 1                        |\n",
    "| 2       | 1.00      | 1.00   | 1.00     | 24                       |\n",
    "| 3       | 0.97      | 0.98   | 0.97     | 1182                     |\n",
    "\n",
    "#### 📈 Métricas Explicadas\n",
    "\n",
    "- **Precision (Precisão):** Indica a proporção de predições corretas para cada classe em relação ao total de predições feitas para essa classe. Valores próximos a 1 indicam que quase todas as predições foram corretas.\n",
    "- **Recall (Revocação):** Mede a capacidade do modelo em encontrar todas as amostras reais de cada classe. Valores próximos a 1 indicam que o modelo identificou quase todos os exemplos daquela classe.\n",
    "- **F1-score:** Média harmônica entre precisão e recall, balanceando ambos os aspectos.\n",
    "- **Support:** Quantidade de amostras reais em cada classe no conjunto de teste.\n",
    "\n",
    "#### 🔎 Resultados Gerais\n",
    "\n",
    "- O modelo apresentou excelente desempenho geral, com **accuracy de 98%**, indicando que 98% das predições estavam corretas.\n",
    "- Clusters maiores (0 e 3) tiveram métricas ligeiramente menores, porém ainda muito altas (> 0.97), demonstrando robustez na classificação.\n",
    "- Clusters pequenos (1 e 2) tiveram métricas perfeitas, porém a quantidade de amostras para o cluster 1 é muito pequena (apenas 1), o que limita a interpretação para este grupo.\n",
    "- A média macro e a média ponderada também indicam alta qualidade do modelo em identificar corretamente os clusters.\n",
    "\n",
    "#### 🏁 Conclusão\n",
    "\n",
    "O Random Forest conseguiu replicar muito bem os agrupamentos obtidos pelo K-Means, mostrando que os clusters possuem características bem definidas e distinguíveis com as variáveis escolhidas."
   ]
  },
  {
   "cell_type": "code",
   "execution_count": 96,
   "metadata": {},
   "outputs": [
    {
     "data": {
      "image/png": "[encoded data removed]",
      "text/plain": [
       "<Figure size 1000x600 with 1 Axes>"
      ]
     },
     "metadata": {},
     "output_type": "display_data"
    }
   ],
   "source": [
    "importances = rf.feature_importances_\n",
    "features = colunas_para_cluster\n",
    "\n",
    "# Organiza em dataframe para visualização\n",
    "importancia_df = pd.DataFrame({\n",
    "    'Variável': features,\n",
    "    'Importância': importances\n",
    "}).sort_values(by='Importância', ascending=False)\n",
    "\n",
    "# Visualiza\n",
    "plt.figure(figsize=(10, 6))\n",
    "plt.barh(importancia_df['Variável'], importancia_df['Importância'], color='skyblue')\n",
    "plt.gca().invert_yaxis()\n",
    "plt.title('Importância das variáveis para diferenciar clusters socioeconômicos')\n",
    "plt.xlabel('Importância')\n",
    "plt.tight_layout()\n",
    "plt.show()\n"
   ]
  },
  {
   "cell_type": "markdown",
   "metadata": {},
   "source": [
    "### 📊 Análise da Importância das Variáveis para Diferenciar Clusters Socioeconômicos no Brasil\n",
    "\n",
    "Com base no gráfico de importância das variáveis obtido a partir da combinação do **K-Means** com o modelo **Random Forest**, podemos identificar as principais diferenças socioeconômicas entre as regiões brasileiras a partir das variáveis mais relevantes.\n",
    "\n",
    "---\n",
    "\n",
    "### 🔍 Principais Diferenças Socioeconômicas por Variáveis\n",
    "\n",
    "#### 👶 Demografia e Saúde\n",
    "- **NrNascimentos** e **NrObitosInfantis** são indicadores fundamentais.\n",
    "- Regiões com alta natalidade e mortalidade infantil, como o **Nordeste** e partes do **Norte**, tendem a apresentar menor desenvolvimento socioeconômico, refletindo desafios em saúde pública e qualidade de vida.\n",
    "\n",
    "#### 💼 Atividade Econômica e Emprego\n",
    "- **QtEmpresas**, **PessoalOcupado** e **PessoalAssalariado** mostram a presença e formalização do mercado de trabalho.\n",
    "- Áreas como o **Sudeste** e **Sul** apresentam maior concentração dessas variáveis, indicando economias mais diversificadas e formalizadas.\n",
    "\n",
    "#### 🌾 Produção Agrícola e Pecuária\n",
    "- **VlProducaoAgricola** e **VlProducaoPecuaria** destacam o peso do agronegócio.\n",
    "- O **Centro-Oeste** se sobressai como polo agrícola, enquanto o **Sul** mantém forte produção agrícola e pecuária intensiva.\n",
    "\n",
    "#### 📈 Indicadores Macroeconômicos\n",
    "- **PIB** e **Exportacoes_R$** refletem a desigualdade econômica.\n",
    "- Regiões industrializadas como o **Sudeste** apresentam altos valores, contrastando com regiões mais dependentes da exportação de commodities, como o **Norte** e o **Centro-Oeste**.\n",
    "\n",
    "#### 🌱 Estrutura Fundiária\n",
    "- **AreaPlantada_h** e **Area** indicam a extensão territorial voltada para produção.\n",
    "- Regiões de fronteira agrícola, como o **Matopiba**, exibem grande relevância nessas variáveis.\n",
    "\n",
    "---\n",
    "\n",
    "### 🏁 Conclusão\n",
    "\n",
    "As diferenças socioeconômicas entre as regiões do Brasil podem ser resumidas assim:\n",
    "\n",
    "| Região         | Características Socioeconômicas                                                        |\n",
    "|----------------|---------------------------------------------------------------------------------------|\n",
    "| **Nordeste/Norte**  | Alta natalidade e mortalidade infantil, menor presença de empresas formais, desafios sociais e econômicos.      |\n",
    "| **Sudeste/Sul**     | Elevado PIB, maior emprego formal e economia diversificada e industrializada.                                |\n",
    "| **Centro-Oeste**    | Forte dependência do agronegócio e das exportações, com grande extensão territorial produtiva.               |\n",
    "\n",
    "O gráfico de importância reforça a histórica clivagem entre regiões mais desenvolvidas e industrializadas versus regiões periféricas, que ainda enfrentam vulnerabilidades sociais e econômicas associadas à dependência de recursos naturais.\n",
    "\n",
    "---\n",
    "\n",
    "Essa análise ajuda a direcionar políticas públicas e investimentos específicos para cada perfil regional, promovendo um desenvolvimento mais equilibrado e sustentável no Brasil.\n"
   ]
  },
  {
   "cell_type": "markdown",
   "metadata": {},
   "source": [
    "## 📌 Menu de Navegação\n",
    "\n",
    "- [🔹  Menu de Navegação](#menu)"
   ]
  },
  {
   "cell_type": "markdown",
   "metadata": {},
   "source": [
    "### 📜 Referências\n",
    "\n",
    "- [Pandas Documentation](https://pandas.pydata.org/docs/). Acesso em: 20 mar. 2025.\n",
    "\n",
    "- [Pandas 10-Minute Tutorial](https://pandas.pydata.org/docs/user_guide/10min.html). Acesso em: 20 mar. 2025.\n",
    "\n",
    "- [W3Schools - Pandas Tutorial](https://www.w3schools.com/python/pandas/default.asp). Acesso em: 20 mar. 2025.\n",
    "\n",
    "- [Plotly Express – Python Graphing Library](https://plotly.com/python/plotly-express/). Acesso em: 21 abr. 2025.\n",
    "\n",
    "- [Plotly Graph Objects – Python Graphing Library](https://plotly.com/python/graph-objects/). Acesso em: 21 abr. 2025.\n",
    "\n",
    "- [Plotly Subplots in Python](https://plotly.com/python/subplots/). Acesso em: 21 abr. 2025.\n",
    "\n",
    "- [Mlxtend Documentation](http://rasbt.github.io/mlxtend/). Acesso em: 16 mai. 2025.\n",
    "\n",
    "- [Scikit-learn Documentation](https://scikit-learn.org/stable/). Acesso em: 16 mai. 2025.\n"
   ]
  }
 ],
 "metadata": {
  "kernelspec": {
   "display_name": "Python 3",
   "language": "python",
   "name": "python3"
  },
  "language_info": {
   "codemirror_mode": {
    "name": "ipython",
    "version": 3
   },
   "file_extension": ".py",
   "mimetype": "text/x-python",
   "name": "python",
   "nbconvert_exporter": "python",
   "pygments_lexer": "ipython3",
   "version": "3.11.9"
  }
 },
 "nbformat": 4,
 "nbformat_minor": 2
}
